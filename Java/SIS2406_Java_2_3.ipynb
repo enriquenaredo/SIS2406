{
  "nbformat": 4,
  "nbformat_minor": 0,
  "metadata": {
    "colab": {
      "provenance": []
    },
    "kernelspec": {
      "name": "python3",
      "display_name": "Python 3"
    },
    "language_info": {
      "name": "python"
    }
  },
  "cells": [
    {
      "cell_type": "markdown",
      "source": [
        "#SIS2406 - Estructura de Datos y Algoritmos\n",
        "## Primavera 2024\n",
        "\n",
        "<div>\n",
        "<img src=\"https://drive.google.com/uc?export=view&id=1lnE8Nfogg-LgNdtWcnYPR4-7DE9TzcP7\" width=\"250\"/>\n",
        "</div>\n",
        "\n",
        "\n",
        "\n",
        "### SIS2406_Java_2.3\n",
        "\n",
        "**Enrique Naredo García**\n",
        "\n",
        "<font size = 2>\n",
        "©️ Todos los derechos reservados. All rights reserved.\n",
        "\n",
        "*Nota: El presente documento es una herramienta diseñada única y exclusivamente para los estudiantes de la asignatura arriba mencionada. Se recuerda no compartir esta información fuera de los integrantes registrados en este curso. La reproducción total o parcial de este documento requiere autorización por escrito del titular del copyright.*\n",
        "</font>"
      ],
      "metadata": {
        "id": "l7tkDeAaDX7i"
      }
    },
    {
      "cell_type": "markdown",
      "source": [
        "#2.3 Listas doblemente ligadas"
      ],
      "metadata": {
        "id": "1F4oAyeFgQ84"
      }
    },
    {
      "cell_type": "markdown",
      "source": [
        "<div>\n",
        "<img src=\"https://drive.google.com/uc?export=view&id=1pB4dWEoHTEJBmIhmo7264CCTA2ZdLo0r\" width=\"850\"/>\n",
        "</div>\n"
      ],
      "metadata": {
        "id": "4_tj5gjNhdq4"
      }
    },
    {
      "cell_type": "markdown",
      "source": [
        "## Introducción\n",
        "\n",
        "Es un tipo de lista enlazada que permite moverse hacia delante y hacia atrás.\n",
        "\n",
        "* Cada nodo de una lista doblemente enlazada tiene dos enlaces, ademas de los campos de datos.\n",
        "* Un enlace, el derecho, se utiliza para navegar la lista hacia delante.\n",
        "* El otro enlace, el izquierdo, se utiliza para navegar la lista hacia atrás.\n",
        "* Las Listas pueden navegarse hacia delante y hacia atrás.\n",
        "* Las Listas pueden crear, actualizar y eliminar elementos.\n",
        "* En las Listas la posición de los elementos es relevante.\n",
        "* Las Listas admiten elementos duplicados.\n",
        "* Las Listas tienen dos protocolos, uno secuencial y el otro directo."
      ],
      "metadata": {
        "id": "641MhW82_Rz1"
      }
    },
    {
      "cell_type": "markdown",
      "source": [
        "Una lista doblemente enlazada es una lista lineal en la que cada nodo tiene dos enlaces, uno al nodo siguiente, y otro al anterior.\n",
        "\n",
        "Las listas doblemente enlazadas no necesitan un nodo especial para acceder a ellas, pueden recorrerse en ambos sentidos a partir de cualquier nodo, esto es porque a partir de cualquier nodo, siempre es posible alcanzar cualquier nodo de la lista, hasta que se llega a uno de los extremos.\n",
        "\n"
      ],
      "metadata": {
        "id": "czUsDx49_Fgk"
      }
    },
    {
      "cell_type": "markdown",
      "source": [
        "El nodo típico es el mismo que para construir las listas que hemos visto, salvo que tienen otro puntero al nodo anterior:\n",
        "```\n",
        "struct nodo {\n",
        "   int dato;\n",
        "   struct nodo *siguiente;\n",
        "   struct nodo *anterior;\n",
        "};\n",
        "```\n",
        "\n",
        "\n",
        "\n",
        "\n",
        "\n",
        "\n"
      ],
      "metadata": {
        "id": "xE0jFc84_hnT"
      }
    },
    {
      "cell_type": "markdown",
      "source": [
        "##Operaciones\n",
        "\n",
        "De nuevo tenemos el mismo repertorio de operaciones sobre este tipo listas:\n",
        "\n",
        "* Añadir o insertar elementos.\n",
        "* Buscar o localizar elementos.\n",
        "* Borrar elementos.\n",
        "* Moverse a través de la lista, siguiente y anterior.\n"
      ],
      "metadata": {
        "id": "vYTrbcet_oA7"
      }
    },
    {
      "cell_type": "markdown",
      "source": [
        "## Ventajas\n",
        "\n",
        "En algunas aplicaciones podemos desear recorrer la lista hacia adelante y hacia atrás, o dado un elemento, podemos desear conocer rápidamente los elementos anterior y siguiente.\n",
        "\n",
        "* En tales situaciones podríamos desear darle a cada celda sobre una lista un puntero a las celdas siguiente y anterior en la lista.\n",
        "\n",
        "* Otra ventaja de las listas doblemente enlazadas es que podemos usar un puntero a la celda que contiene el i-ésimo elemento de una lista para representar la posición i.\n",
        "\n",
        "* Si usamos punteros podemos declarar celdas que consisten en un elemento y dos punteros.\n"
      ],
      "metadata": {
        "id": "sDI3dtcP_7ic"
      }
    },
    {
      "cell_type": "markdown",
      "source": [
        "## Desventajas\n",
        "\n",
        "* Cada nodo ocupa más espacio en memoria al estar constituido por un segundo campo puntero.\n",
        "* El doble enlace de los nodos permite recorrer la lista en cualquier dirección.\n",
        "* Agregar o eliminar un nodo en una lista doblemente enlazada requiere cambiar más enlaces.\n",
        "* La presencia de un puntero adicional en cada celda y consecuentemente procedimientos algo más largos para algunas de las operaciones básicas de listas."
      ],
      "metadata": {
        "id": "DBUzuKJOAG4c"
      }
    },
    {
      "cell_type": "markdown",
      "source": [
        "## Lista Doblemente Ligada"
      ],
      "metadata": {
        "id": "oozAZl8T7ULt"
      }
    },
    {
      "cell_type": "code",
      "execution_count": 7,
      "metadata": {
        "colab": {
          "base_uri": "https://localhost:8080/"
        },
        "id": "hmLCwQrOFT0S",
        "outputId": "53c84ce9-0587-4986-dd21-89ef1baca66c"
      },
      "outputs": [
        {
          "output_type": "stream",
          "name": "stdout",
          "text": [
            "Overwriting Main_ListaDobleLigada.java\n"
          ]
        }
      ],
      "source": [
        "# Escribe el programa Main_ListaDobleLigada.java\n",
        "%%writefile Main_ListaDobleLigada.java\n",
        "\n",
        "\n",
        "// Implementación de lista circular en Java\n",
        "\n",
        "\n",
        "\n",
        "class Nodo {\n",
        "  public int dato;\n",
        "  public Nodo sig;\n",
        "  public Nodo prev;\n",
        "\n",
        "  // constructor (inicializa)\n",
        "  public Nodo(int dato) {\n",
        "    this.dato = dato;\n",
        "    sig = null;\n",
        "    prev = null;\n",
        "  }\n",
        "}\n",
        "\n",
        "\n",
        "\n",
        "\n",
        "class ListaDobleLigada {\n",
        "  private Nodo inicio;\n",
        "\n",
        "  // constructor (inicializa)\n",
        "  public ListaDobleLigada() {\n",
        "    inicio = null;\n",
        "  }\n",
        "\n",
        "  // Inserta elemento en lista vacia\n",
        "  public void InsertaEnListaVacia(int datito) {\n",
        "    if (inicio == null) {\n",
        "      Nodo nodo_nuevo = new Nodo(datito);\n",
        "      inicio = nodo_nuevo;\n",
        "    } else {\n",
        "      System.out.println(\"La lista esta vacia.\");\n",
        "    }\n",
        "  }\n",
        "\n",
        "  // Inserta elemento al final\n",
        "  public void InsertaAlFinal(int datito) {\n",
        "    if (inicio == null) {\n",
        "      Nodo nodo_nuevo = new Nodo(datito);\n",
        "      inicio = nodo_nuevo;\n",
        "      return;\n",
        "    }\n",
        "    Nodo temp = inicio;\n",
        "    while (temp.sig != null) {\n",
        "      temp = temp.sig;\n",
        "    }\n",
        "    Nodo nodo_nuevo = new Nodo(datito);\n",
        "    temp.sig = nodo_nuevo;\n",
        "    nodo_nuevo.prev = temp;\n",
        "  }\n",
        "\n",
        "  // Elimina los elementos desde el inicio\n",
        "  public void EliminaEnInicio() {\n",
        "    if (inicio == null) {\n",
        "      System.out.println(\"La lista doblemente ligada esta vacia, no existen elementos por eliminar.\");\n",
        "      return;\n",
        "    }\n",
        "    if (inicio.sig == null) {\n",
        "      inicio = null;\n",
        "      return;\n",
        "    }\n",
        "    inicio = inicio.sig;\n",
        "  }\n",
        "\n",
        "  // Elimina los elementos desde el final\n",
        "  public void EliminaAlFinal() {\n",
        "    if (inicio == null) {\n",
        "      System.out.println(\"La lista doblemente ligada esta vacia, no existen elementos por eliminar.\");\n",
        "      return;\n",
        "    }\n",
        "    if (inicio.sig == null) {\n",
        "      inicio = null;\n",
        "      return;\n",
        "    }\n",
        "    Nodo temp = inicio;\n",
        "    while (temp.sig != null) {\n",
        "      temp = temp.sig;\n",
        "    }\n",
        "    temp.prev.sig = null;\n",
        "  }\n",
        "\n",
        "  // Recorre y muestra cada elemento de la lista\n",
        "  public void Muestra() {\n",
        "    if (inicio == null) {\n",
        "      System.out.println(\"La lista doblemente ligada esta vacia.\");\n",
        "      return;\n",
        "    } else {\n",
        "      Nodo temp = inicio;\n",
        "      int c = 0;\n",
        "      while (temp != null) {\n",
        "        System.out.println(\"El elemento \" + c + \" es: \" + temp.dato);\n",
        "        temp = temp.sig;\n",
        "        c = c+1;\n",
        "      }\n",
        "    }\n",
        "    System.out.println();\n",
        "  }\n",
        "}\n",
        "\n",
        "\n",
        "\n",
        "\n",
        "/*  Casos de uso */\n",
        "\n",
        "public class Main_ListaDobleLigada {\n",
        "  public static void main(String[] args) {\n",
        "    ListaDobleLigada L2L = new ListaDobleLigada();\n",
        "\n",
        "    // Inserta un elemento a la lista vacía\n",
        "    L2L.InsertaEnListaVacia(10);\n",
        "\n",
        "    // Muestra los elementos de la lista\n",
        "    L2L.Muestra();\n",
        "\n",
        "    // Inserta elementos al final de la lista\n",
        "    L2L.InsertaAlFinal(20);\n",
        "    L2L.InsertaAlFinal(30);\n",
        "    L2L.InsertaAlFinal(40);\n",
        "    L2L.InsertaAlFinal(50);\n",
        "    L2L.InsertaAlFinal(60);\n",
        "    L2L.Muestra();\n",
        "  }\n",
        "}\n",
        "\n"
      ]
    },
    {
      "cell_type": "code",
      "execution_count": 8,
      "metadata": {
        "id": "r9fm17AUayLP"
      },
      "outputs": [],
      "source": [
        "# Compila el programa Main_ListaDobleLigada.java\n",
        "! javac Main_ListaDobleLigada.java"
      ]
    },
    {
      "cell_type": "code",
      "execution_count": 9,
      "metadata": {
        "colab": {
          "base_uri": "https://localhost:8080/"
        },
        "outputId": "7e43546b-de52-48d2-bcc1-1a9dfb0551f2",
        "id": "sLlxS7a3ayLQ"
      },
      "outputs": [
        {
          "output_type": "stream",
          "name": "stdout",
          "text": [
            "El elemento 0 es: 10\n",
            "\n",
            "El elemento 0 es: 10\n",
            "El elemento 1 es: 20\n",
            "El elemento 2 es: 30\n",
            "El elemento 3 es: 40\n",
            "El elemento 4 es: 50\n",
            "El elemento 5 es: 60\n",
            "\n"
          ]
        }
      ],
      "source": [
        "# Ejecuta el programa Main_ListaDobleLigada\n",
        "! java Main_ListaDobleLigada"
      ]
    },
    {
      "cell_type": "markdown",
      "source": [],
      "metadata": {
        "id": "uFIiq5rZFVb3"
      }
    }
  ]
}