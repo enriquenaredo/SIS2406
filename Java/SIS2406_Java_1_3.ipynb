{
  "nbformat": 4,
  "nbformat_minor": 0,
  "metadata": {
    "colab": {
      "provenance": []
    },
    "kernelspec": {
      "name": "python3",
      "display_name": "Python 3"
    },
    "language_info": {
      "name": "python"
    }
  },
  "cells": [
    {
      "cell_type": "markdown",
      "source": [
        "#SIS2406 - Estructura de Datos y Algoritmos\n",
        "## Primavera 2024\n",
        "\n",
        "<div>\n",
        "<img src=\"https://drive.google.com/uc?export=view&id=1lnE8Nfogg-LgNdtWcnYPR4-7DE9TzcP7\" width=\"250\"/>\n",
        "</div>\n",
        "\n",
        "\n",
        "\n",
        "### SIS2406_Java_1.3\n",
        "\n",
        "**Enrique Naredo García**\n",
        "\n",
        "<font size = 2>\n",
        "©️ Todos los derechos reservados. All rights reserved.\n",
        "\n",
        "*Nota: El presente documento es una herramienta diseñada única y exclusivamente para los estudiantes de la asignatura arriba mencionada. Se recuerda no compartir esta información fuera de los integrantes registrados en este curso. La reproducción total o parcial de este documento requiere autorización por escrito del titular del copyright.*\n",
        "</font>"
      ],
      "metadata": {
        "id": "fs9IYtm_-MmA"
      }
    },
    {
      "cell_type": "markdown",
      "metadata": {
        "id": "9neXRDd6FSMU"
      },
      "source": [
        "#1.3 Apuntadores"
      ]
    },
    {
      "cell_type": "markdown",
      "metadata": {
        "id": "_IKPcOveRPlH"
      },
      "source": [
        "##Dirección de memoria\n",
        "\n",
        "Cada variable que se utiliza en una aplicación ocupa una o varias posiciones de memoria. Estas posiciones de memoria se accesan por medio de una dirección de memoria.\n",
        "\n",
        "En informática, una dirección de memoria [1], es un formato de localización de bytes de memoria con la cual un programa informático o un dispositivo de hardware accede o almacena datos para su posterior utilización.\n",
        "\n",
        "* Una forma común de describir la memoria principal de un ordenador es como una colección de celdas que almacenan datos e instrucciones.\n",
        "\n",
        "* Cada celda está identificada unívocamente por un número o dirección de memoria.\n",
        "\n",
        "* Para poder acceder a una ubicación específica de la memoria, la CPU genera señales en el bus de dirección.\n",
        "\n",
        "* Habitualmente tiene una longitud de 32 bits en la mayoría de máquinas actuales.\n",
        "\n",
        "* Un bus de dirección de 32 bits permite especificar hasta {\\displaystyle 2^{32}}= 4.294.967.296 direcciones de memoria distintas.\n",
        "\n",
        "* Las direcciones de memoria se expresan a menudo en código hexadecimal.\n",
        "\n",
        "* Por ejemplo, para expresar el valor binario 111111010100000000000010101100 se escribe 0x3F5000AC en hexadecimal."
      ]
    },
    {
      "cell_type": "markdown",
      "source": [
        "##Punteros en java\n",
        "\n",
        "Hay un par de ideas sobre java muy extendidas: Java no tiene punteros y en Java todo se pasa por referencia.\n",
        "\n",
        "* La realidad, es que Java se entiende mucho mejor si lo pensamos exactamente al revés.\n",
        "* En Java sólo hay punteros (con excepción de los tipos primitivos).\n",
        "* En Java todo se pasa por valor (por copia).\n",
        "Ejemplos:\n",
        "  * En C++    \n",
        "    * MiClase *a=NULL;\n",
        "  * En java\n",
        "    * MiClase a = null;\n",
        "    \n",
        "La única diferencia es la notación con el asterisco. Si pensamos que en java TODO son punteros, no es necesario poner el asterisco para distinguir lo que es puntero de lo que no lo es, por lo que símplemente lo han quitado."
      ],
      "metadata": {
        "id": "5u8H7aJ8ArIn"
      }
    },
    {
      "cell_type": "markdown",
      "source": [
        "## Ejemplo en Java de referencias"
      ],
      "metadata": {
        "id": "Q1RAzUD4hbO9"
      }
    },
    {
      "cell_type": "code",
      "source": [
        "# Escribe el programa JavaReferencia.java\n",
        "%%writefile JavaReferencia.java\n",
        "\n",
        "class ObjEnt {\n",
        "  public int value;\n",
        "}\n",
        "\n",
        "public class JavaReferencia {\n",
        "\n",
        "  public static void main(String[] args) {\n",
        "\n",
        "    // Asigna los apuntadores x e y\n",
        "    ObjEnt  x;\n",
        "    ObjEnt  y;\n",
        "\n",
        "    System.out.println(\"La referencia del objeto es: ObjEnt @ Hex\");\n",
        "\n",
        "    // Crea un ObjEnt y le asigna x al cual apunta\n",
        "    x = new ObjEnt();\n",
        "\n",
        "    // Desreferencia x para guardar 42\n",
        "    x.value = 42;\n",
        "    System.out.println(\"La referencia de x es: \" + x);\n",
        "\n",
        "    // Este código marcará un ERROR porque y aún no tiene adonde apuntar\n",
        "    // Descomentalo para que lo verifiques (elimina los simbolos: //)\n",
        "    //y.value = 13;\n",
        "\n",
        "    // El apuntador asigna y para apuntar a x\n",
        "    y = x;\n",
        "\n",
        "    // Desreferencia y para guardar 13\n",
        "    y.value = 13;\n",
        "    System.out.println(\"La referencia de y es: \" + y);\n",
        "\n",
        "  }\n",
        "}"
      ],
      "metadata": {
        "colab": {
          "base_uri": "https://localhost:8080/"
        },
        "outputId": "fb499ff5-4b1d-441a-b1b6-f2afcf506061",
        "id": "ySYWfVfehbO-"
      },
      "execution_count": 89,
      "outputs": [
        {
          "output_type": "stream",
          "name": "stdout",
          "text": [
            "Overwriting JavaReferencia.java\n"
          ]
        }
      ]
    },
    {
      "cell_type": "code",
      "execution_count": 90,
      "metadata": {
        "id": "mT1k5E7DhbO_"
      },
      "outputs": [],
      "source": [
        "# Compila el programa JavaReferencia.java\n",
        "! javac JavaReferencia.java"
      ]
    },
    {
      "cell_type": "code",
      "execution_count": 91,
      "metadata": {
        "colab": {
          "base_uri": "https://localhost:8080/"
        },
        "outputId": "431646e5-a9cc-4efa-a86b-d3d39e2e0d91",
        "id": "S5Ec2AEfhbPB"
      },
      "outputs": [
        {
          "output_type": "stream",
          "name": "stdout",
          "text": [
            "La referencia del objeto es: ObjEnt @ Hex\n",
            "La referencia de x es: ObjEnt@2f92e0f4\n",
            "La referencia de y es: ObjEnt@2f92e0f4\n"
          ]
        }
      ],
      "source": [
        "# Ejecuta el programa JavaReferencia\n",
        "! java JavaReferencia"
      ]
    },
    {
      "cell_type": "markdown",
      "source": [
        "## Java referencia a un arreglo\n",
        "\n",
        "Programa para sumar los elementos de un arreglo utilizando referencia al arreglo"
      ],
      "metadata": {
        "id": "aXRfUmcFP8qP"
      }
    },
    {
      "cell_type": "code",
      "source": [
        "# Escribe el programa refArreglo.java\n",
        "%%writefile refArreglo.java\n",
        "\n",
        "/* Programa para sumar los elementos de un arreglo\n",
        "   utilizando referencia al arreglo */\n",
        "\n",
        "public class refArreglo {\n",
        "\n",
        "\tpublic static int sumaElem(int[] arreglito) {\n",
        "\t\t\tint sumador = 0;\n",
        "\t\t\tfor (int i = 0; i < arreglito.length; i++) {\n",
        "\t\t\t\t\tsumador += arreglito[i];\n",
        "\t\t\t}\n",
        "\t\t\treturn sumador;\n",
        "\t}\n",
        "\n",
        "\tpublic static void main(String[] args) {\n",
        "\t\t\tint[] arreglo = {1, 2, 3, 4, 5};\n",
        "\t\t\tint suma = sumaElem(arreglo);\n",
        "\t\t\tSystem.out.println(\"La suma del arreglo es: \" + suma);\n",
        "\t}\n",
        "}"
      ],
      "metadata": {
        "colab": {
          "base_uri": "https://localhost:8080/"
        },
        "id": "CpqpKT_4qPRu",
        "outputId": "13966a0b-3585-407b-8e1e-9b935b5ef323"
      },
      "execution_count": null,
      "outputs": [
        {
          "output_type": "stream",
          "name": "stdout",
          "text": [
            "Overwriting refArreglo.java\n"
          ]
        }
      ]
    },
    {
      "cell_type": "code",
      "execution_count": null,
      "metadata": {
        "id": "29Dnse7BFXjm"
      },
      "outputs": [],
      "source": [
        "# Compila el programa refArreglo.java\n",
        "! javac refArreglo.java"
      ]
    },
    {
      "cell_type": "code",
      "execution_count": null,
      "metadata": {
        "colab": {
          "base_uri": "https://localhost:8080/"
        },
        "id": "SzIL-ozHFwWQ",
        "outputId": "85380dde-6641-41db-a8f1-351b0e720452"
      },
      "outputs": [
        {
          "output_type": "stream",
          "name": "stdout",
          "text": [
            "La suma del arreglo es: 15\n"
          ]
        }
      ],
      "source": [
        "# Ejecuta el programa refArreglo\n",
        "! java refArreglo"
      ]
    },
    {
      "cell_type": "markdown",
      "source": [
        "## Referencia a una cadena de caracteres"
      ],
      "metadata": {
        "id": "PWyTNpe0Qyt3"
      }
    },
    {
      "cell_type": "code",
      "source": [
        "# Escribe el programa refString.java\n",
        "%%writefile refString.java\n",
        "\n",
        "/* Programa para sumar las letras de una cadena de caracteres */\n",
        "\n",
        "public class refString {\n",
        "\n",
        "  public static int cuentaLetras(String str) {\n",
        "    int t = 0;\n",
        "    for (int i = 0, len = str.length(); i < len; i++) {\n",
        "      char ch = str.charAt(i);\n",
        "      if (Character.isLetter(ch)) {\n",
        "        t++;\n",
        "      }\n",
        "    }\n",
        "    return t;\n",
        "  }\n",
        "\n",
        "  public static void main(String[] args) {\n",
        "      String palabras = \"Soy estudiante de Anahuac\";\n",
        "      int suma = cuentaLetras(palabras);\n",
        "      System.out.println(\"La cantidad de letras son: \" + suma);\n",
        "  }\n",
        "\n",
        "}"
      ],
      "metadata": {
        "colab": {
          "base_uri": "https://localhost:8080/"
        },
        "outputId": "b196fa86-4095-432f-aca8-ac2b27fa751d",
        "id": "6Zj4f9cxQ1Ds"
      },
      "execution_count": null,
      "outputs": [
        {
          "output_type": "stream",
          "name": "stdout",
          "text": [
            "Overwriting refString.java\n"
          ]
        }
      ]
    },
    {
      "cell_type": "code",
      "execution_count": null,
      "metadata": {
        "id": "NL6jjr5XQ1Du"
      },
      "outputs": [],
      "source": [
        "# Compila el programa refString.java\n",
        "! javac refString.java"
      ]
    },
    {
      "cell_type": "code",
      "execution_count": null,
      "metadata": {
        "colab": {
          "base_uri": "https://localhost:8080/"
        },
        "outputId": "23c283b5-5177-4778-a927-f73be395aa34",
        "id": "vP6sByHNQ1Du"
      },
      "outputs": [
        {
          "output_type": "stream",
          "name": "stdout",
          "text": [
            "La cantidad de letras son: 22\n"
          ]
        }
      ],
      "source": [
        "# Ejecuta el programa refString\n",
        "! java refString"
      ]
    },
    {
      "cell_type": "markdown",
      "source": [
        "## Pasar un entero por valor"
      ],
      "metadata": {
        "id": "Q80ZpJpXVN90"
      }
    },
    {
      "cell_type": "code",
      "source": [
        "# Escribe el programa porValor.java\n",
        "%%writefile porValor.java\n",
        "\n",
        "/* Programa para pasar un entero por valor  */\n",
        "\n",
        "public class porValor {\n",
        "\n",
        "  public static void main(String[] args) {\n",
        "    int numero = 10;\n",
        "    System.out.println(\"Antes de llamar al método: \" + numero);\n",
        "    modificaValor(numero);\n",
        "    System.out.println(\"Despues de llamar al método: \" + numero);\n",
        "  }\n",
        "\n",
        "  public static void modificaValor(int valor) {\n",
        "    valor = 20;\n",
        "    System.out.println(\"Dentro del método: \" + valor);\n",
        "  }\n",
        "}"
      ],
      "metadata": {
        "colab": {
          "base_uri": "https://localhost:8080/"
        },
        "outputId": "fe279993-a09e-40b6-dcce-cd08982b72f5",
        "id": "hbGnx1iUVN92"
      },
      "execution_count": null,
      "outputs": [
        {
          "output_type": "stream",
          "name": "stdout",
          "text": [
            "Writing porValor.java\n"
          ]
        }
      ]
    },
    {
      "cell_type": "code",
      "execution_count": null,
      "metadata": {
        "id": "SIpKbLSHVN93"
      },
      "outputs": [],
      "source": [
        "# Compila el programa porValor.java\n",
        "! javac porValor.java"
      ]
    },
    {
      "cell_type": "code",
      "execution_count": null,
      "metadata": {
        "colab": {
          "base_uri": "https://localhost:8080/"
        },
        "outputId": "5f95b4d4-4c44-4a02-a259-f32d24181723",
        "id": "FAaag6XaVN94"
      },
      "outputs": [
        {
          "output_type": "stream",
          "name": "stdout",
          "text": [
            "Antes de llamar al método: 10\n",
            "Dentro del método: 20\n",
            "Despues de llamar al método: 10\n"
          ]
        }
      ],
      "source": [
        "# Ejecuta el programa porValor\n",
        "! java porValor"
      ]
    },
    {
      "cell_type": "markdown",
      "source": [
        "## Pasar un entero por referencia"
      ],
      "metadata": {
        "id": "C7nVFDmxYOzs"
      }
    },
    {
      "cell_type": "code",
      "source": [
        "# Escribe el programa porReferencia.java\n",
        "%%writefile porReferencia.java\n",
        "\n",
        "/* Programa para pasar un entero por referencia */\n",
        "\n",
        "public class porReferencia {\n",
        "\n",
        "  public static void main(String[] args) {\n",
        "    StringBuilder nombre = new StringBuilder(\"Universidad\");\n",
        "    System.out.println(\"Antes de llamar el método: \" + nombre);\n",
        "    modificaReferencia(nombre);\n",
        "    System.out.println(\"Después de llamar el método: \" + nombre);\n",
        "  }\n",
        "\n",
        "  public static void modificaReferencia(StringBuilder valor) {\n",
        "    valor.append(\" Anahuac\");\n",
        "    System.out.println(\"Dentro del método: \" + valor);\n",
        "    // Asigna un nuevo objeto\n",
        "    valor = new StringBuilder(\"Cancun\");\n",
        "    System.out.println(\"Dentro del método (después de reasignación): \" + valor);\n",
        "  }\n",
        "}"
      ],
      "metadata": {
        "colab": {
          "base_uri": "https://localhost:8080/"
        },
        "outputId": "0afad07a-0552-491f-d17f-37ca1936d9cb",
        "id": "Xy4wWdjsYOzt"
      },
      "execution_count": 70,
      "outputs": [
        {
          "output_type": "stream",
          "name": "stdout",
          "text": [
            "Overwriting porReferencia.java\n"
          ]
        }
      ]
    },
    {
      "cell_type": "code",
      "execution_count": 71,
      "metadata": {
        "id": "p9PKuq5xYOzu"
      },
      "outputs": [],
      "source": [
        "# Compila el programa porReferencia.java\n",
        "! javac porReferencia.java"
      ]
    },
    {
      "cell_type": "code",
      "execution_count": 72,
      "metadata": {
        "colab": {
          "base_uri": "https://localhost:8080/"
        },
        "outputId": "c471562f-ac93-462f-acba-6de47be15586",
        "id": "fqh6c4sEYOzu"
      },
      "outputs": [
        {
          "output_type": "stream",
          "name": "stdout",
          "text": [
            "Antes de llamar el método: Universidad\n",
            "Dentro del método: Universidad Anahuac\n",
            "Dentro del método (después de reasignación): Cancun\n",
            "Después de llamar el método: Universidad Anahuac\n"
          ]
        }
      ],
      "source": [
        "# Ejecuta el programa porReferencia\n",
        "! java porReferencia"
      ]
    },
    {
      "cell_type": "markdown",
      "source": [
        "## Método como argumento"
      ],
      "metadata": {
        "id": "PZle3JHiraEj"
      }
    },
    {
      "cell_type": "code",
      "source": [
        "# Escribe el programa Metodo.java\n",
        "%%writefile Metodo.java\n",
        "\n",
        "\n",
        "class Metodo {\n",
        "\n",
        "  public static void main(String[] args) {\n",
        "    // Imprime mensaje\n",
        "    MetodoEjemplo(Metodo::diHola);\n",
        "  }\n",
        "\n",
        "  // Método por pasar\n",
        "  static void diHola() {\n",
        "    System.out.println(\"Hola a todos!!\");\n",
        "  }\n",
        "\n",
        "  // Método que toma otro método como argumento\n",
        "  static void MetodoEjemplo(Runnable MetodoxPasar) {\n",
        "    MetodoxPasar.run();\n",
        "  }\n",
        "\n",
        "}"
      ],
      "metadata": {
        "colab": {
          "base_uri": "https://localhost:8080/"
        },
        "outputId": "d0d87824-be51-457d-a4e7-dfaa8a44b586",
        "id": "ybBEljQiraEj"
      },
      "execution_count": 130,
      "outputs": [
        {
          "output_type": "stream",
          "name": "stdout",
          "text": [
            "Overwriting Metodo.java\n"
          ]
        }
      ]
    },
    {
      "cell_type": "code",
      "execution_count": 131,
      "metadata": {
        "id": "ME88XR64raEk"
      },
      "outputs": [],
      "source": [
        "# Compila el programa Metodo.java\n",
        "! javac Metodo.java"
      ]
    },
    {
      "cell_type": "code",
      "execution_count": 132,
      "metadata": {
        "colab": {
          "base_uri": "https://localhost:8080/"
        },
        "outputId": "9517ab3a-2a4b-4229-a049-18b4e31dae42",
        "id": "C9K4w5TSraEl"
      },
      "outputs": [
        {
          "output_type": "stream",
          "name": "stdout",
          "text": [
            "Hola a todos!!\n"
          ]
        }
      ],
      "source": [
        "# Ejecuta el programa Metodo\n",
        "! java Metodo"
      ]
    }
  ]
}