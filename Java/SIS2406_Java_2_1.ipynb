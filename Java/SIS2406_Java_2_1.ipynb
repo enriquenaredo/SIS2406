{
  "nbformat": 4,
  "nbformat_minor": 0,
  "metadata": {
    "colab": {
      "provenance": []
    },
    "kernelspec": {
      "name": "python3",
      "display_name": "Python 3"
    },
    "language_info": {
      "name": "python"
    }
  },
  "cells": [
    {
      "cell_type": "markdown",
      "source": [
        "#SIS2406 - Estructura de Datos y Algoritmos\n",
        "## Primavera 2024\n",
        "\n",
        "<div>\n",
        "<img src=\"https://drive.google.com/uc?export=view&id=1lnE8Nfogg-LgNdtWcnYPR4-7DE9TzcP7\" width=\"250\"/>\n",
        "</div>\n",
        "\n",
        "\n",
        "\n",
        "### SIS2406_Java_2.1\n",
        "\n",
        "**Enrique Naredo García**\n",
        "\n",
        "<font size = 2>\n",
        "©️ Todos los derechos reservados. All rights reserved.\n",
        "\n",
        "*Nota: El presente documento es una herramienta diseñada única y exclusivamente para los estudiantes de la asignatura arriba mencionada. Se recuerda no compartir esta información fuera de los integrantes registrados en este curso. La reproducción total o parcial de este documento requiere autorización por escrito del titular del copyright.*\n",
        "</font>"
      ],
      "metadata": {
        "id": "l7tkDeAaDX7i"
      }
    },
    {
      "cell_type": "markdown",
      "source": [
        "#2.1 Listas simplemente ligadas"
      ],
      "metadata": {
        "id": "dbVqlNCxDlKJ"
      }
    },
    {
      "cell_type": "markdown",
      "metadata": {
        "id": "UVmsv3QprE01"
      },
      "source": [
        "<div>\n",
        "<img src=\"https://drive.google.com/uc?export=view&id=1w5h2jVdGg6FZA5Vmr26GsVqMKSnFq7H0\" width=\"850\"/>\n",
        "</div>\n",
        "\n"
      ]
    },
    {
      "cell_type": "markdown",
      "metadata": {
        "id": "8ou07PxWrhvT"
      },
      "source": [
        "Una lista enlazada es una estructura de datos que contiene elementos conectados mediante un enlace.\n",
        "\n",
        "* Una lista enlazada es una estructura de datos dinámica.\n",
        "* Una lista enlazada se crea usando objetos llamados nodos.\n",
        "* Cada nodo contiene dos atributos: uno para almacenar los datos y el otro para conectarse al siguiente nodo en la lista vinculada.\n",
        "* Cada nodo tiene un valor (datos) y una referencia al siguiente nodo.\n",
        "* La referencia es típicamente un puntero o una dirección de memoria donde se puede encontrar el siguiente valor.\n",
        "* La cantidad de nodos en una lista no es fija y puede crecer y contraerse a demanda.\n",
        "* Cualquier aplicación que tenga que tratar con un número desconocido de objetos necesitará usar una lista vinculada."
      ]
    },
    {
      "cell_type": "code",
      "source": [
        "# Escribe el programa listaLigada.java\n",
        "%%writefile listaLigada.java\n",
        "\n",
        "\n",
        "// Implementación de lista ligada en Java\n",
        "\n",
        "class listaLigada {\n",
        "  // Creación de un nodo\n",
        "  Nodote inicio;\n",
        "\n",
        "  static class Nodote {\n",
        "    int valor;\n",
        "    Nodote sig;\n",
        "\n",
        "    Nodote(int d) {\n",
        "      valor = d;\n",
        "      sig = null;\n",
        "    }\n",
        "  }\n",
        "\n",
        "\n",
        "  public static void main(String[] args) {\n",
        "\n",
        "    listaLigada LL = new listaLigada();\n",
        "\n",
        "    // Asigna valores\n",
        "    LL.inicio = new Nodote(1);\n",
        "    Nodote segundo = new Nodote(2);\n",
        "    Nodote tercero = new Nodote(3);\n",
        "\n",
        "    // Conecta los nodos\n",
        "    LL.inicio.sig = segundo;\n",
        "    segundo.sig = tercero;\n",
        "\n",
        "    // Imprime la lista\n",
        "    while (LL.inicio != null) {\n",
        "      System.out.print(LL.inicio.valor + \", \");\n",
        "      LL.inicio = LL.inicio.sig;\n",
        "    }\n",
        "  }\n",
        "}"
      ],
      "metadata": {
        "colab": {
          "base_uri": "https://localhost:8080/"
        },
        "id": "zGT8_MBbxahn",
        "outputId": "87c9bd58-b983-42e4-da7f-ba7efb0d136e"
      },
      "execution_count": 1,
      "outputs": [
        {
          "output_type": "stream",
          "name": "stdout",
          "text": [
            "Writing listaLigada.java\n"
          ]
        }
      ]
    },
    {
      "cell_type": "code",
      "execution_count": 2,
      "metadata": {
        "id": "r9fm17AUayLP"
      },
      "outputs": [],
      "source": [
        "# Compila el programa listaLigada.java\n",
        "! javac listaLigada.java"
      ]
    },
    {
      "cell_type": "code",
      "execution_count": 3,
      "metadata": {
        "colab": {
          "base_uri": "https://localhost:8080/"
        },
        "outputId": "36d57c15-a57f-4bed-f6ef-6b2c2816cf64",
        "id": "sLlxS7a3ayLQ"
      },
      "outputs": [
        {
          "output_type": "stream",
          "name": "stdout",
          "text": [
            "1, 2, 3, "
          ]
        }
      ],
      "source": [
        "# Ejecuta el programa listaLigada\n",
        "! java listaLigada"
      ]
    }
  ]
}