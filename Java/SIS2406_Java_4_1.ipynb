{
  "nbformat": 4,
  "nbformat_minor": 0,
  "metadata": {
    "colab": {
      "provenance": []
    },
    "kernelspec": {
      "name": "python3",
      "display_name": "Python 3"
    },
    "language_info": {
      "name": "python"
    }
  },
  "cells": [
    {
      "cell_type": "markdown",
      "source": [
        "## Primavera 2024\n",
        "\n",
        "<div>\n",
        "<img src=\"https://drive.google.com/uc?export=view&id=1lnE8Nfogg-LgNdtWcnYPR4-7DE9TzcP7\" width=\"250\"/>\n",
        "</div>\n",
        "\n",
        "\n",
        "\n",
        "### SIS2406_Java_4.1\n",
        "\n",
        "**Enrique Naredo García**\n",
        "\n",
        "<font size = 2>\n",
        "©️ Todos los derechos reservados. All rights reserved.\n",
        "\n",
        "*Nota: El presente documento es una herramienta diseñada única y exclusivamente para los estudiantes de la asignatura arriba mencionada. Se recuerda no compartir esta información fuera de los integrantes registrados en este curso. La reproducción total o parcial de este documento requiere autorización por escrito del titular del copyright.*\n",
        "</font>"
      ],
      "metadata": {
        "id": "raqQXnznB1yJ"
      }
    },
    {
      "cell_type": "markdown",
      "source": [
        "# Árbol Binario"
      ],
      "metadata": {
        "id": "4wZJ8fQ3jx-v"
      }
    },
    {
      "cell_type": "markdown",
      "source": [
        "Un árbol binario es un árbol donde cada nodo no puede tener más de dos subárboles.\n",
        "\n",
        "* Cada nodo puede tener uno, dos, o cero hijos o subárboles.\n",
        "* El nodo de la izquierda se dice hijo izquierdo.\n",
        "* El nodo de la derecha se dice hijo derecho."
      ],
      "metadata": {
        "id": "q2VxqS5ij0G_"
      }
    },
    {
      "cell_type": "markdown",
      "source": [
        "Los árboles se pueden representar de dos maneras:\n",
        "* Representación de matriz (representación secuencial).\n",
        "* Representación dinámica de nodos (representación vinculada).\n"
      ],
      "metadata": {
        "id": "PRDJsC8XWbfe"
      }
    },
    {
      "cell_type": "markdown",
      "source": [
        "## Representación dinámica de nodos"
      ],
      "metadata": {
        "id": "33rfKlLjXFT7"
      }
    },
    {
      "cell_type": "code",
      "execution_count": 6,
      "metadata": {
        "colab": {
          "base_uri": "https://localhost:8080/"
        },
        "id": "eCyFDQ9JBzlo",
        "outputId": "5d657925-e1cb-4e8e-bcdd-f3b687090414"
      },
      "outputs": [
        {
          "output_type": "stream",
          "name": "stdout",
          "text": [
            "Overwriting bstMain.java\n"
          ]
        }
      ],
      "source": [
        "# Escribe el programa bstMain.java\n",
        "%%writefile bstMain.java\n",
        "\n",
        "/* Librerías */\n",
        "import java.util.Scanner;\n",
        "\n",
        "\n",
        "/* Crea la clase Nodo */\n",
        "class Nodo {\n",
        "  int val;\n",
        "  Nodo izq;\n",
        "  Nodo der;\n",
        "\n",
        "  public Nodo(int val) {\n",
        "    this.val = val;\n",
        "    this.izq = null;\n",
        "    this.der = null;\n",
        "  }\n",
        "}\n",
        "\n",
        "\n",
        "\n",
        "/* Crea la clase de Árbol Binario de Búsqueda\n",
        "   Binary Search Tree (BST) */\n",
        "\n",
        "class BST {\n",
        "\n",
        "  Nodo raiz;\n",
        "\n",
        "/* Metódos Públicos  */\n",
        "\n",
        "\n",
        "  public BST() {\n",
        "      this.raiz = null;\n",
        "  }\n",
        "\n",
        "  // Inserta un nodo en el árbol\n",
        "  public void inserta(int val) {\n",
        "    if (raiz == null) {\n",
        "      raiz = new Nodo(val);\n",
        "    } else {\n",
        "      insertaAuxiliar(raiz, val);\n",
        "    }\n",
        "  }\n",
        "\n",
        "  // Obtiene el valor mínimo en el árbol\n",
        "  public String get_min() {\n",
        "    Nodo actual = raiz;\n",
        "    while (actual.izq != null) {\n",
        "        actual = actual.izq;\n",
        "    }\n",
        "    return String.valueOf(actual.val);\n",
        "  }\n",
        "\n",
        "  // Busca un valor en el árbol\n",
        "  public Nodo busca(int val) {\n",
        "      return buscaAuxiliar(raiz, val);\n",
        "  }\n",
        "\n",
        "  // Elimina un nodo en el árbol\n",
        "  public void elimina(int val) {\n",
        "    raiz = eliminaAuxiliar(raiz, val);\n",
        "  }\n",
        "\n",
        "  // Recorre el árbol en orden\n",
        "  public void enorden() {\n",
        "    enordenAuxiliar(raiz);\n",
        "    System.out.println();\n",
        "  }\n",
        "\n",
        "  // Recorre el árbol en pre-orden\n",
        "  public void preorden() {\n",
        "    preordenAuxiliar(raiz);\n",
        "    System.out.println();\n",
        "  }\n",
        "\n",
        "  // Recorre el árbol en post-orden\n",
        "  public void postorden() {\n",
        "    postordenAuxiliar(raiz);\n",
        "    System.out.println();\n",
        "  }\n",
        "\n",
        "\n",
        "/* Métodos Privados  */\n",
        "  // Método auxiliar para insertar\n",
        "  private void insertaAuxiliar(Nodo nodito, int val) {\n",
        "    if (val < nodito.val) {\n",
        "      if (nodito.izq == null) {\n",
        "        nodito.izq = new Nodo(val);\n",
        "      } else {\n",
        "        insertaAuxiliar(nodito.izq, val);\n",
        "      }\n",
        "    } else {\n",
        "      if (nodito.der == null) {\n",
        "        nodito.der = new Nodo(val);\n",
        "      } else {\n",
        "        insertaAuxiliar(nodito.der, val);\n",
        "      }\n",
        "    }\n",
        "  }\n",
        "\n",
        "  // Método auxiliar para buscar\n",
        "  private Nodo buscaAuxiliar(Nodo nodito, int val) {\n",
        "    if (nodito == null || nodito.val == val) {\n",
        "      return nodito;\n",
        "    }\n",
        "    if (nodito.val < val) {\n",
        "      return buscaAuxiliar(nodito.der, val);\n",
        "    } else {\n",
        "      return buscaAuxiliar(nodito.izq, val);\n",
        "    }\n",
        "  }\n",
        "\n",
        "  // Método auxiliar para eliminar\n",
        "  private Nodo eliminaAuxiliar(Nodo nodito, int val) {\n",
        "    if (nodito == null) {\n",
        "      return nodito;\n",
        "    }\n",
        "    if (val < nodito.val) {\n",
        "      nodito.izq = eliminaAuxiliar(nodito.izq, val);\n",
        "    } else if (val > nodito.val) {\n",
        "      nodito.der = eliminaAuxiliar(nodito.der, val);\n",
        "    } else {\n",
        "      if (nodito.izq == null) {\n",
        "        Nodo temp = nodito.der;\n",
        "        nodito = null;\n",
        "        return temp;\n",
        "      } else if (nodito.der == null) {\n",
        "        Nodo temp = nodito.izq;\n",
        "        nodito = null;\n",
        "        return temp;\n",
        "      }\n",
        "      nodito.val = minValue(nodito.der);\n",
        "      nodito.der = eliminaAuxiliar(nodito.der, nodito.val);\n",
        "    }\n",
        "    return nodito;\n",
        "  }\n",
        "\n",
        "  // Método auxiliar para obtener el mínimo\n",
        "  private int minValue(Nodo nodito) {\n",
        "    int min_val = nodito.val;\n",
        "    while (nodito.izq != null) {\n",
        "      min_val = nodito.izq.val;\n",
        "      nodito = nodito.izq;\n",
        "    }\n",
        "    return min_val;\n",
        "  }\n",
        "\n",
        "  // Método auxiliar para recorrer en orden\n",
        "  private void enordenAuxiliar(Nodo nodito) {\n",
        "    if (nodito == null) {\n",
        "      return;\n",
        "    }\n",
        "    enordenAuxiliar(nodito.izq);\n",
        "    System.out.print(nodito.val + \" \");\n",
        "    enordenAuxiliar(nodito.der);\n",
        "  }\n",
        "\n",
        "  // Método auxiliar para recorrer en pre-orden\n",
        "  private void preordenAuxiliar(Nodo nodito) {\n",
        "    if (nodito == null) {\n",
        "      return;\n",
        "    }\n",
        "    System.out.print(nodito.val + \" \");\n",
        "    preordenAuxiliar(nodito.izq);\n",
        "    preordenAuxiliar(nodito.der);\n",
        "  }\n",
        "\n",
        "  // Método auxiliar para recorrer en post-orden\n",
        "  private void postordenAuxiliar(Nodo nodito) {\n",
        "    if (nodito == null) {\n",
        "      return;\n",
        "    }\n",
        "    postordenAuxiliar(nodito.izq);\n",
        "    postordenAuxiliar(nodito.der);\n",
        "    System.out.print(nodito.val + \" \");\n",
        "  }\n",
        "}\n",
        "\n",
        "\n",
        "\n",
        "/* Casos de prueba */\n",
        "public class bstMain {\n",
        "  public static void main(String[] args) {\n",
        "    BST arbolito = new BST();\n",
        "\n",
        "    arbolito.inserta(6);\n",
        "    arbolito.inserta(4);\n",
        "    arbolito.inserta(8);\n",
        "    arbolito.inserta(2);\n",
        "    arbolito.inserta(5);\n",
        "    arbolito.inserta(7);\n",
        "    arbolito.inserta(10);\n",
        "\n",
        "    System.out.println(\"Valor mínimo: \" + arbolito.get_min());\n",
        "\n",
        "    Nodo nodito = arbolito.busca(7);\n",
        "    if (nodito != null) {\n",
        "      System.out.println(\"Encontrar el nodo con valor: \" + nodito.val);\n",
        "    } else {\n",
        "      System.out.println(\"Nodo no encontrado.\");\n",
        "    }\n",
        "\n",
        "    arbolito.enorden();\n",
        "    arbolito.preorden();\n",
        "    arbolito.postorden();\n",
        "\n",
        "    arbolito.elimina(2);\n",
        "    arbolito.elimina(8);\n",
        "\n",
        "    arbolito.enorden();\n",
        "    arbolito.preorden();\n",
        "    arbolito.postorden();\n",
        "  }\n",
        "}"
      ]
    },
    {
      "cell_type": "code",
      "execution_count": 7,
      "metadata": {
        "id": "r9fm17AUayLP"
      },
      "outputs": [],
      "source": [
        "# Compila el programa bstMain.java\n",
        "! javac bstMain.java"
      ]
    },
    {
      "cell_type": "code",
      "execution_count": 8,
      "metadata": {
        "id": "sLlxS7a3ayLQ",
        "colab": {
          "base_uri": "https://localhost:8080/"
        },
        "outputId": "907a8759-cd41-43de-8694-698624675826"
      },
      "outputs": [
        {
          "output_type": "stream",
          "name": "stdout",
          "text": [
            "Valor mínimo: 2\n",
            "Encontrar el nodo con valor: 7\n",
            "2 4 5 6 7 8 10 \n",
            "6 4 2 5 8 7 10 \n",
            "2 5 4 7 10 8 6 \n",
            "4 5 6 7 10 \n",
            "6 4 5 10 7 \n",
            "5 4 7 10 6 \n"
          ]
        }
      ],
      "source": [
        "# Ejecuta el programa bstMain\n",
        "! java bstMain"
      ]
    }
  ]
}