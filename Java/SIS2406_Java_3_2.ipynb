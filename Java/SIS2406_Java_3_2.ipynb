{
  "nbformat": 4,
  "nbformat_minor": 0,
  "metadata": {
    "colab": {
      "provenance": []
    },
    "kernelspec": {
      "name": "python3",
      "display_name": "Python 3"
    },
    "language_info": {
      "name": "python"
    }
  },
  "cells": [
    {
      "cell_type": "markdown",
      "source": [
        "## Primavera 2024\n",
        "\n",
        "<div>\n",
        "<img src=\"https://drive.google.com/uc?export=view&id=1lnE8Nfogg-LgNdtWcnYPR4-7DE9TzcP7\" width=\"250\"/>\n",
        "</div>\n",
        "\n",
        "\n",
        "\n",
        "### SIS2406_Java_3.2\n",
        "\n",
        "**Enrique Naredo García**\n",
        "\n",
        "<font size = 2>\n",
        "©️ Todos los derechos reservados. All rights reserved.\n",
        "\n",
        "*Nota: El presente documento es una herramienta diseñada única y exclusivamente para los estudiantes de la asignatura arriba mencionada. Se recuerda no compartir esta información fuera de los integrantes registrados en este curso. La reproducción total o parcial de este documento requiere autorización por escrito del titular del copyright.*\n",
        "</font>\n"
      ],
      "metadata": {
        "id": "9KOxKH9CwTLi"
      }
    },
    {
      "cell_type": "markdown",
      "source": [
        "#Cola"
      ],
      "metadata": {
        "id": "OZ-vCTFvjjg0"
      }
    },
    {
      "cell_type": "markdown",
      "source": [
        "La cola es una estructura de datos lineal que almacena elementos según el principio de primero en entrar/primero en salir (First In First Out - FIFO).\n",
        "\n",
        "En la cola, el elemento de datos que se inserte primero se eliminará primero.\n",
        "\n",
        "Las operaciones que se pueden realizar en la cola son:\n",
        "\n",
        "* Enqueue: Agrega un elemento a la cola. Si la cola está llena, se dice que es una condición de desbordamiento.\n",
        "\n",
        "* Dequeue: Elimina un elemento de la cola. Los elementos aparecen en el mismo orden en que se empujan.\n",
        "Si la cola está vacía, se dice que se trata de una condición de desbordamiento insuficiente.\n",
        "\n",
        "* Front: Proporciona el elemento frontal de la cola.\n",
        "\n",
        "* Rear: Da el último elemento de la cola."
      ],
      "metadata": {
        "id": "iFjVyI1yjRZ9"
      }
    },
    {
      "cell_type": "markdown",
      "source": [
        "La cola en Python se puede implementar de las siguientes maneras:\n",
        "\n",
        "* lista\n",
        "* colecciones.deque\n",
        "* cola.cola"
      ],
      "metadata": {
        "id": "b_iYl7_fjRCf"
      }
    },
    {
      "cell_type": "markdown",
      "source": [
        "##Cola usando lista enlazada"
      ],
      "metadata": {
        "id": "BUPS7MNiwsoS"
      }
    },
    {
      "cell_type": "code",
      "source": [
        "# Escribe el programa colaMain.java\n",
        "%%writefile colaMain.java\n",
        "\n",
        "\n",
        "// Librerías\n",
        "import java.util.LinkedList;\n",
        "\n",
        "\n",
        "\n",
        "/* Casos de uso */\n",
        "public class colaMain {\n",
        "  public static void main(String[] args) {\n",
        "    Colitax colon = new Colitax();\n",
        "\n",
        "    colon.enCola(10);\n",
        "    colon.enCola(20);\n",
        "    colon.muestraCola();\n",
        "    colon.desenCola();\n",
        "    colon.desenCola();\n",
        "    colon.muestraCola();\n",
        "    colon.enCola(30);\n",
        "    colon.enCola(40);\n",
        "    colon.enCola(50);\n",
        "    colon.muestraCola();\n",
        "    colon.desenCola();\n",
        "\n",
        "    System.out.println(\"Frente de la cola: \" + (colon.frente != null ? colon.frente.dato : \"-1\"));\n",
        "    System.out.println(\"Atrás de la cola: \" + (colon.atras != null ? colon.atras.dato : \"-1\"));\n",
        "  }\n",
        "}\n",
        "\n",
        "\n",
        "\n",
        "/* Creación de clase Nodo */\n",
        "class Nodox {\n",
        "  int dato;\n",
        "  Nodox sig;\n",
        "\n",
        "  Nodox(int dato) {\n",
        "    this.dato = dato;\n",
        "    this.sig = null;\n",
        "  }\n",
        "}\n",
        "\n",
        "\n",
        "\n",
        "/* Creación de clase Cola */\n",
        "class Colitax {\n",
        "  Nodox frente;\n",
        "  Nodox atras;\n",
        "\n",
        "  Colitax() {\n",
        "    frente = atras = null;\n",
        "  }\n",
        "\n",
        "  boolean estaVacia() {\n",
        "    return frente == null;\n",
        "  }\n",
        "\n",
        "  void enCola(int elemento) {\n",
        "    Nodox temporal = new Nodox(elemento);\n",
        "\n",
        "    if (atras == null) {\n",
        "      frente = atras = temporal;\n",
        "      return;\n",
        "    }\n",
        "\n",
        "    atras.sig = temporal;\n",
        "    atras = temporal;\n",
        "  }\n",
        "\n",
        "  void desenCola() {\n",
        "    if (estaVacia()) {\n",
        "      return;\n",
        "    }\n",
        "\n",
        "    Nodox temporal = frente;\n",
        "    frente = frente.sig;\n",
        "\n",
        "    if (frente == null) {\n",
        "      atras = null;\n",
        "    }\n",
        "  }\n",
        "\n",
        "  void muestraCola() {\n",
        "    Nodox actual = frente;\n",
        "\n",
        "    if (actual == null) {\n",
        "      System.out.println(\"La cola está vacía\");\n",
        "      return;\n",
        "    }\n",
        "\n",
        "    System.out.print(\"frente <= \");\n",
        "\n",
        "    while (actual != null) {\n",
        "      System.out.print(actual.dato + \" <= \");\n",
        "      actual = actual.sig;\n",
        "    }\n",
        "\n",
        "    System.out.println(\"atrás\");\n",
        "  }\n",
        "}"
      ],
      "metadata": {
        "colab": {
          "base_uri": "https://localhost:8080/"
        },
        "id": "Z4KwjYDUOYjO",
        "outputId": "83e3e0c0-bccf-49d3-97ff-7c4f20ddf015"
      },
      "execution_count": 14,
      "outputs": [
        {
          "output_type": "stream",
          "name": "stdout",
          "text": [
            "Overwriting colaMain.java\n"
          ]
        }
      ]
    },
    {
      "cell_type": "code",
      "execution_count": 15,
      "metadata": {
        "id": "r9fm17AUayLP"
      },
      "outputs": [],
      "source": [
        "# Compila el programa colaMain.java\n",
        "! javac colaMain.java"
      ]
    },
    {
      "cell_type": "code",
      "execution_count": 16,
      "metadata": {
        "id": "sLlxS7a3ayLQ",
        "colab": {
          "base_uri": "https://localhost:8080/"
        },
        "outputId": "29c7404c-7a06-4b6b-ea33-93ea3a3d0312"
      },
      "outputs": [
        {
          "output_type": "stream",
          "name": "stdout",
          "text": [
            "frente <= 10 <= 20 <= atrás\n",
            "La cola está vacía\n",
            "frente <= 30 <= 40 <= 50 <= atrás\n",
            "Frente de la cola: 40\n",
            "Atrás de la cola: 50\n"
          ]
        }
      ],
      "source": [
        "# Ejecuta el programa colaMain\n",
        "! java colaMain"
      ]
    }
  ]
}