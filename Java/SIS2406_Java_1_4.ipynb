{
  "nbformat": 4,
  "nbformat_minor": 0,
  "metadata": {
    "colab": {
      "provenance": []
    },
    "kernelspec": {
      "name": "python3",
      "display_name": "Python 3"
    },
    "language_info": {
      "name": "python"
    }
  },
  "cells": [
    {
      "cell_type": "markdown",
      "source": [
        "#SIS2406 - Estructura de Datos y Algoritmos\n",
        "## Primavera 2024\n",
        "\n",
        "<div>\n",
        "<img src=\"https://drive.google.com/uc?export=view&id=1lnE8Nfogg-LgNdtWcnYPR4-7DE9TzcP7\" width=\"250\"/>\n",
        "</div>\n",
        "\n",
        "\n",
        "\n",
        "### SIS2406_Java_1.4\n",
        "\n",
        "**Enrique Naredo García**\n",
        "\n",
        "<font size = 2>\n",
        "©️ Todos los derechos reservados. All rights reserved.\n",
        "\n",
        "*Nota: El presente documento es una herramienta diseñada única y exclusivamente para los estudiantes de la asignatura arriba mencionada. Se recuerda no compartir esta información fuera de los integrantes registrados en este curso. La reproducción total o parcial de este documento requiere autorización por escrito del titular del copyright.*\n",
        "</font>"
      ],
      "metadata": {
        "id": "l7tkDeAaDX7i"
      }
    },
    {
      "cell_type": "markdown",
      "source": [
        "#1.4 Estructuras"
      ],
      "metadata": {
        "id": "dbVqlNCxDlKJ"
      }
    },
    {
      "cell_type": "markdown",
      "source": [
        "##Tipos de datos en Java\n",
        "\n",
        "Los tipos de datos especifican los diferentes tamaños y valores que se pueden almacenar en la variable.\n",
        "\n",
        "Hay dos tipos de tipos de datos en Java:\n",
        "\n",
        "* Tipos de datos primitivos: los tipos de datos primitivos incluyen:\n",
        "  * booleano,\n",
        "  * char,\n",
        "  * byte,\n",
        "  * short,\n",
        "  * int,\n",
        "  * long,\n",
        "  * float y\n",
        "  * double.\n",
        "     \n",
        "* Tipos de datos no primitivos: los tipos de datos no primitivos incluyen:\n",
        "  * clases,\n",
        "  * interfaces y\n",
        "  * matrices."
      ],
      "metadata": {
        "id": "HTi_ADbCapO0"
      }
    },
    {
      "cell_type": "code",
      "source": [
        "# Escribe el programa PrimitiveData.java\n",
        "%%writefile PrimitiveData.java\n",
        "\n",
        "/**\n",
        "  * Programa en Java que muestra\n",
        "  * los tipo de datos primitivos\n",
        "  */\n",
        "\n",
        "\n",
        "// Clase\n",
        "class PrimitiveData {\n",
        "\n",
        "\t// Función principal\n",
        "\tpublic static void main(String args[])\n",
        "\t{\n",
        "\t\t// Crea e inicializa un caracter\n",
        "\t\tchar a = 'G';\n",
        "\n",
        "\t\t// Integer data type is generally\n",
        "\t\t// used for numeric values\n",
        "\t\tint b = 89;\n",
        "\n",
        "\t\t// usa byte y short\n",
        "\t\t// si la memoria es una limitante\n",
        "\t\tbyte c = 4;\n",
        "\t\tshort d = 56;\n",
        "\n",
        "\t\t// Las fracciones en Java son double por defecto\n",
        "\t\tdouble e = 4.355453532;\n",
        "\n",
        "\t\t// Para números muy grandes se usa long\n",
        "\t\tlong f = 12121;\n",
        "\n",
        "    // Los números tipo float se les agrega 'f'\n",
        "\t\tfloat g = 4.7333434f;\n",
        "\n",
        "    // Imprime los tipos de datos\n",
        "\t\tSystem.out.println(\"char: \" + a);\n",
        "\t\tSystem.out.println(\"integer: \" + b);\n",
        "\t\tSystem.out.println(\"byte: \" + c);\n",
        "\t\tSystem.out.println(\"short: \" + d);\n",
        "\t\tSystem.out.println(\"double: \" + e);\n",
        "\t\tSystem.out.println(\"long: \" + f);\n",
        "    System.out.println(\"float: \" + g);\n",
        "\t}\n",
        "}\n"
      ],
      "metadata": {
        "colab": {
          "base_uri": "https://localhost:8080/"
        },
        "id": "IZ_zbEVBaps0",
        "outputId": "a6496928-a339-4f7a-8c1e-bf8af5713605"
      },
      "execution_count": 4,
      "outputs": [
        {
          "output_type": "stream",
          "name": "stdout",
          "text": [
            "Overwriting PrimitiveData.java\n"
          ]
        }
      ]
    },
    {
      "cell_type": "code",
      "execution_count": 5,
      "metadata": {
        "id": "r9fm17AUayLP"
      },
      "outputs": [],
      "source": [
        "# Compila el programa PrimitiveData.java\n",
        "! javac PrimitiveData.java"
      ]
    },
    {
      "cell_type": "code",
      "execution_count": 6,
      "metadata": {
        "colab": {
          "base_uri": "https://localhost:8080/"
        },
        "outputId": "7fff657b-304b-4082-afec-b9a220cd96a4",
        "id": "sLlxS7a3ayLQ"
      },
      "outputs": [
        {
          "output_type": "stream",
          "name": "stdout",
          "text": [
            "char: G\n",
            "integer: 89\n",
            "byte: 4\n",
            "short: 56\n",
            "double: 4.355453532\n",
            "long: 12121\n",
            "float: 4.7333436\n"
          ]
        }
      ],
      "source": [
        "# Ejecuta el programa JavaReferencia\n",
        "! java PrimitiveData"
      ]
    },
    {
      "cell_type": "markdown",
      "source": [
        "## Tipos de variables en Java\n",
        "  * Declaración,\n",
        "  * inicialización, y\n",
        "  * definición de variables."
      ],
      "metadata": {
        "id": "R1rrgl-ZapK_"
      }
    },
    {
      "cell_type": "code",
      "source": [
        "# Escribe el programa tipoVars.java\n",
        "%%writefile tipoVars.java\n",
        "\n",
        "/** Programa que muestra algunos tipos de variables\n",
        "  * en Java, así como la declaración, inicialización\n",
        "  * y la definición de variables.\n",
        "  */\n",
        "\n",
        "\n",
        "public class tipoVars {\n",
        "\n",
        "  public static void main(String[] args) {\n",
        "    // Esta es una declaración de una variable\n",
        "    int a;\n",
        "\n",
        "    // Esta es su inicialización\n",
        "    a = 10;\n",
        "\n",
        "    // esta es su definición = declaración + inicialización\n",
        "    int b = 20;\n",
        "\n",
        "    // declaración y definición\n",
        "    char c = 'a';\n",
        "\n",
        "    // Esta también es una declaración y definición, dado que\n",
        "    // la variable esta en memoria y se le asigno un valor aleatorio\n",
        "    float d = 0.78f;\n",
        "\n",
        "    // multiple declaraciones y definiciones\n",
        "    int e = 7, f = -45;\n",
        "    double g = -95799088, h = 1067950 ;\n",
        "\n",
        "    // Imprime las variables\n",
        "    System.out.println(\"a = \" + a);\n",
        "    System.out.println(\"b = \" + b);\n",
        "    System.out.println(\"c = \" + c);\n",
        "    System.out.println(\"d = \" + d);\n",
        "    System.out.println(\"e = \" + e);\n",
        "    System.out.println(\"f = \" + f);\n",
        "    System.out.println(\"g = \" + g);\n",
        "    System.out.println(\"h = \" + h);\n",
        "  }\n",
        "}"
      ],
      "metadata": {
        "colab": {
          "base_uri": "https://localhost:8080/"
        },
        "id": "naNRKlc7ivQ5",
        "outputId": "2afc8969-38b5-45a7-df30-9fe0bbaafd95"
      },
      "execution_count": 13,
      "outputs": [
        {
          "output_type": "stream",
          "name": "stdout",
          "text": [
            "Overwriting tipoVars.java\n"
          ]
        }
      ]
    },
    {
      "cell_type": "code",
      "execution_count": 14,
      "metadata": {
        "id": "vAN0BI0CjLoU"
      },
      "outputs": [],
      "source": [
        "# Compila el programa tipoVars.java\n",
        "! javac tipoVars.java"
      ]
    },
    {
      "cell_type": "code",
      "execution_count": 15,
      "metadata": {
        "colab": {
          "base_uri": "https://localhost:8080/"
        },
        "outputId": "c5c2eaab-6d3d-4ee2-a4b2-a3ac1f853962",
        "id": "6s1VZXCyjLoV"
      },
      "outputs": [
        {
          "output_type": "stream",
          "name": "stdout",
          "text": [
            "a = 10\n",
            "b = 20\n",
            "c = a\n",
            "d = 0.78\n",
            "e = 7\n",
            "f = -45\n",
            "g = -9.5799088E7\n",
            "h = 1067950.0\n"
          ]
        }
      ],
      "source": [
        "# Ejecuta el programa tipoVars\n",
        "! java tipoVars"
      ]
    },
    {
      "cell_type": "markdown",
      "source": [
        "##Tamaño de datos en Java"
      ],
      "metadata": {
        "id": "BKnb5r4QapFh"
      }
    },
    {
      "cell_type": "code",
      "source": [
        "# Escribe el programa tamanioDatos.java\n",
        "%%writefile tamanioDatos.java\n",
        "\n",
        "/**\n",
        "  * Programa que muestra el tamaño de tipos de variables\n",
        "  */\n",
        "\n",
        "\n",
        "public class tamanioDatos {\n",
        "\n",
        "  public static void main(String[] args) {\n",
        "\n",
        "    System.out.println(\"Valor mínimo de char: \" + Character.MIN_VALUE);\n",
        "    System.out.println(\"Valor máximo de char: \" + Character.MAX_VALUE);\n",
        "\n",
        "    System.out.println(\"Valor mínimo de int: \" + Integer.MIN_VALUE);\n",
        "    System.out.println(\"Valor máximo de int: \" + Integer.MAX_VALUE);\n",
        "\n",
        "    System.out.println(\"Valor mínimo de short: \" + Short.MIN_VALUE);\n",
        "    System.out.println(\"Valor máximo de short: \" + Short.MAX_VALUE);\n",
        "\n",
        "    System.out.println(\"Valor mínimo de long: \" + Long.MIN_VALUE);\n",
        "    System.out.println(\"Valor máximo de long: \" + Long.MAX_VALUE);\n",
        "\n",
        "    System.out.println(\"Valor mínimo de float: \" + Float.MIN_VALUE);\n",
        "    System.out.println(\"Valor máximo de float: \" + Float.MAX_VALUE);\n",
        "\n",
        "    System.out.println(\"Valor mínimo de double: \" + Double.MIN_VALUE);\n",
        "    System.out.println(\"Valor máximo de double: \" + Double.MAX_VALUE);\n",
        "\n",
        "  }\n",
        "}"
      ],
      "metadata": {
        "colab": {
          "base_uri": "https://localhost:8080/"
        },
        "id": "lDlkL_vemRkP",
        "outputId": "9ae78320-fa3d-460e-b9a4-b0968c185f8b"
      },
      "execution_count": 20,
      "outputs": [
        {
          "output_type": "stream",
          "name": "stdout",
          "text": [
            "Overwriting tamanioDatos.java\n"
          ]
        }
      ]
    },
    {
      "cell_type": "code",
      "execution_count": 21,
      "metadata": {
        "id": "pstk2RChmXSz"
      },
      "outputs": [],
      "source": [
        "# Compila el programa tamanioDatos.java\n",
        "! javac tamanioDatos.java"
      ]
    },
    {
      "cell_type": "code",
      "execution_count": 22,
      "metadata": {
        "colab": {
          "base_uri": "https://localhost:8080/"
        },
        "outputId": "811a2252-985f-451d-ba42-4b8471bdc268",
        "id": "NS0_lYPumXS0"
      },
      "outputs": [
        {
          "output_type": "stream",
          "name": "stdout",
          "text": [
            "Valor mínimo de char: \u0000\n",
            "Valor máximo de char: ￿\n",
            "Valor mínimo de int: -2147483648\n",
            "Valor máximo de int: 2147483647\n",
            "Valor mínimo de short: -32768\n",
            "Valor máximo de short: 32767\n",
            "Valor mínimo de long: -9223372036854775808\n",
            "Valor máximo de long: 9223372036854775807\n",
            "Valor mínimo de float: 1.4E-45\n",
            "Valor máximo de float: 3.4028235E38\n",
            "Valor mínimo de double: 4.9E-324\n",
            "Valor máximo de double: 1.7976931348623157E308\n"
          ]
        }
      ],
      "source": [
        "# Ejecuta el programa tamanioDatos\n",
        "! java tamanioDatos"
      ]
    },
    {
      "cell_type": "markdown",
      "source": [
        "##Tipo de datos en Java"
      ],
      "metadata": {
        "id": "xF3YGLNWao8l"
      }
    },
    {
      "cell_type": "code",
      "source": [
        "# Escribe el programa tipoDatos.java\n",
        "%%writefile tipoDatos.java\n",
        "\n",
        "/**\n",
        "  * Programa que muestra el tipo de datos\n",
        "  */\n",
        "\n",
        "\n",
        "\n",
        "public class tipoDatos {\n",
        "\n",
        "  public static void main(String[] args) {\n",
        "    // Tipo de dato: integer\n",
        "    int a = 100;\n",
        "    short b = 200;\n",
        "    long c = 300;\n",
        "    long d = 400L;\n",
        "\n",
        "    System.out.println(\"Tipo de dato: integer \");\n",
        "    System.out.println(\"int: \" + a);\n",
        "    System.out.println(\"short: \" + b);\n",
        "    System.out.println(\"long: \" + c);\n",
        "    System.out.println(\"long long: \" + d);\n",
        "    System.out.println();\n",
        "\n",
        "    // Tipo de dato: floating-point\n",
        "    float e = 3.14f;\n",
        "    double f = 3.141592;\n",
        "    double g = 3.14159265358979D;\n",
        "\n",
        "    System.out.println(\"Tipo de dato: floating-point \");\n",
        "    System.out.println(\"float: \" + e);\n",
        "    System.out.println(\"double: \" + f);\n",
        "    System.out.println(\"long double: \" + g);\n",
        "    System.out.println();\n",
        "\n",
        "    // Tipo de dato: character\n",
        "    char h = 'a';\n",
        "    char i = '\\u0062';\n",
        "    char j = '\\u0063';\n",
        "    char k = '\\u0064';\n",
        "\n",
        "    System.out.println(\"Tipo de dato: character \");\n",
        "    System.out.println(\"char: \" + h);\n",
        "    System.out.println(\"wchar_t: \" + i);\n",
        "    System.out.println(\"char16_t: \" + j);\n",
        "    System.out.println(\"char32_t: \" + k);\n",
        "    System.out.println();\n",
        "\n",
        "    // Tipo de dato: Boolean\n",
        "    boolean l = true;\n",
        "    boolean m = false;\n",
        "\n",
        "    System.out.println(\"Tipo de dato: Boolean \");\n",
        "    System.out.println(\"true: \" + l);\n",
        "    System.out.println(\"false: \" + m);\n",
        "    System.out.println();\n",
        "\n",
        "    // Tipo de dato: String\n",
        "    String n = \"Hola, Cancun!\";\n",
        "\n",
        "    System.out.println(\"Tipo de dato: String \");\n",
        "    System.out.println(n);\n",
        "  }\n",
        "}"
      ],
      "metadata": {
        "colab": {
          "base_uri": "https://localhost:8080/"
        },
        "id": "5FwgzQx1oQLV",
        "outputId": "d5c345a7-43e3-4b40-df61-39aa9fe5bb57"
      },
      "execution_count": 26,
      "outputs": [
        {
          "output_type": "stream",
          "name": "stdout",
          "text": [
            "Overwriting tipoDatos.java\n"
          ]
        }
      ]
    },
    {
      "cell_type": "code",
      "execution_count": 27,
      "metadata": {
        "id": "aQtECUeiopjH"
      },
      "outputs": [],
      "source": [
        "# Compila el programa tipoDatos.java\n",
        "! javac tipoDatos.java"
      ]
    },
    {
      "cell_type": "code",
      "execution_count": 28,
      "metadata": {
        "colab": {
          "base_uri": "https://localhost:8080/"
        },
        "outputId": "982c6400-928e-4980-c1cc-32aaa117376f",
        "id": "FE8nDJTkopjI"
      },
      "outputs": [
        {
          "output_type": "stream",
          "name": "stdout",
          "text": [
            "Tipo de dato: integer \n",
            "int: 100\n",
            "short: 200\n",
            "long: 300\n",
            "long long: 400\n",
            "\n",
            "Tipo de dato: floating-point \n",
            "float: 3.14\n",
            "double: 3.141592\n",
            "long double: 3.14159265358979\n",
            "\n",
            "Tipo de dato: character \n",
            "char: a\n",
            "wchar_t: b\n",
            "char16_t: c\n",
            "char32_t: d\n",
            "\n",
            "Tipo de dato: Boolean \n",
            "true: true\n",
            "false: false\n",
            "\n",
            "Tipo de dato: String \n",
            "Hola, Cancun!\n"
          ]
        }
      ],
      "source": [
        "# Ejecuta el programa tipoDatos\n",
        "! java tipoDatos"
      ]
    },
    {
      "cell_type": "markdown",
      "source": [
        "## Ejemplo de clase en Java"
      ],
      "metadata": {
        "id": "hts1N0VSao1G"
      }
    },
    {
      "cell_type": "code",
      "source": [
        "# Escribe el programa JavaReferencia.java\n",
        "%%writefile JavaReferencia.java\n",
        "\n",
        "class ObjEnt {\n",
        "  public int value;\n",
        "}\n",
        "\n",
        "public class JavaReferencia {\n",
        "\n",
        "  public static void main(String[] args) {\n",
        "\n",
        "    // Asigna los apuntadores x e y\n",
        "    ObjEnt  x;\n",
        "    ObjEnt  y;\n",
        "\n",
        "    System.out.println(\"La referencia del objeto es: ObjEnt @ Hex\");\n",
        "\n",
        "    // Crea un ObjEnt y le asigna x al cual apunta\n",
        "    x = new ObjEnt();\n",
        "\n",
        "    // Desreferencia x para guardar 42\n",
        "    x.value = 42;\n",
        "    System.out.println(\"La referencia de x es: \" + x);\n",
        "\n",
        "    // Este código marcará un ERROR porque y aún no tiene adonde apuntar\n",
        "    // Descomentalo para que lo verifiques (elimina los simbolos: //)\n",
        "    //y.value = 13;\n",
        "\n",
        "    // El apuntador asigna y para apuntar a x\n",
        "    y = x;\n",
        "\n",
        "    // Desreferencia y para guardar 13\n",
        "    y.value = 13;\n",
        "    System.out.println(\"La referencia de y es: \" + y);\n",
        "\n",
        "  }\n",
        "}"
      ],
      "metadata": {
        "colab": {
          "base_uri": "https://localhost:8080/"
        },
        "outputId": "fb499ff5-4b1d-441a-b1b6-f2afcf506061",
        "id": "ySYWfVfehbO-"
      },
      "execution_count": null,
      "outputs": [
        {
          "output_type": "stream",
          "name": "stdout",
          "text": [
            "Overwriting JavaReferencia.java\n"
          ]
        }
      ]
    },
    {
      "cell_type": "code",
      "execution_count": null,
      "metadata": {
        "id": "mT1k5E7DhbO_"
      },
      "outputs": [],
      "source": [
        "# Compila el programa JavaReferencia.java\n",
        "! javac JavaReferencia.java"
      ]
    },
    {
      "cell_type": "code",
      "execution_count": null,
      "metadata": {
        "colab": {
          "base_uri": "https://localhost:8080/"
        },
        "outputId": "431646e5-a9cc-4efa-a86b-d3d39e2e0d91",
        "id": "S5Ec2AEfhbPB"
      },
      "outputs": [
        {
          "output_type": "stream",
          "name": "stdout",
          "text": [
            "La referencia del objeto es: ObjEnt @ Hex\n",
            "La referencia de x es: ObjEnt@2f92e0f4\n",
            "La referencia de y es: ObjEnt@2f92e0f4\n"
          ]
        }
      ],
      "source": [
        "# Ejecuta el programa JavaReferencia\n",
        "! java JavaReferencia"
      ]
    }
  ]
}