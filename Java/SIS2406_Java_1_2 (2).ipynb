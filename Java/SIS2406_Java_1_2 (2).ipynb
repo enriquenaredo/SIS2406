{
  "nbformat": 4,
  "nbformat_minor": 0,
  "metadata": {
    "colab": {
      "provenance": []
    },
    "kernelspec": {
      "name": "python3",
      "display_name": "Python 3"
    },
    "language_info": {
      "name": "python"
    }
  },
  "cells": [
    {
      "cell_type": "markdown",
      "source": [
        "#SIS2406 - Estructura de Datos y Algoritmos\n",
        "## Primavera 2024\n",
        "\n",
        "<div>\n",
        "<img src=\"https://drive.google.com/uc?export=view&id=1lnE8Nfogg-LgNdtWcnYPR4-7DE9TzcP7\" width=\"250\"/>\n",
        "</div>\n",
        "\n",
        "\n",
        "\n",
        "### SIS2406_Java_1.2\n",
        "\n",
        "**Enrique Naredo García**\n",
        "\n",
        "<font size = 2>\n",
        "©️ Todos los derechos reservados. All rights reserved.\n",
        "\n",
        "*Nota: El presente documento es una herramienta diseñada única y exclusivamente para los estudiantes de la asignatura arriba mencionada. Se recuerda no compartir esta información fuera de los integrantes registrados en este curso. La reproducción total o parcial de este documento requiere autorización por escrito del titular del copyright.*\n",
        "</font>"
      ],
      "metadata": {
        "id": "DMBUpmqti9oF"
      }
    },
    {
      "cell_type": "markdown",
      "source": [
        "#1.2 Arreglos"
      ],
      "metadata": {
        "id": "l1nP5RetjSKH"
      }
    },
    {
      "cell_type": "markdown",
      "metadata": {
        "id": "-4gyH1rl9T9o"
      },
      "source": [
        "##Ejemplo de Listas\n",
        "\n",
        "Utilizando la librería estándar de Java:"
      ]
    },
    {
      "cell_type": "markdown",
      "metadata": {
        "id": "09kpZH-8NKcX"
      },
      "source": [
        "En esta práctica se introduce los tipos de arreglos utilizados en Java.\n",
        "\n",
        "Particularmente, en este Jupyter notebook se utiliza el proceso e instrucciones similares tal como si se estuviera utilizando un entorno de desarrollo integrado (Integrated Development Environment - IDE), como es el caso de Visual Studio Code.\n",
        "\n",
        "En cada sección se da una breve explicación y posteriormente se proporciona un ejemplo en código."
      ]
    },
    {
      "cell_type": "markdown",
      "metadata": {
        "id": "BnG5rqBgNKcX"
      },
      "source": [
        "**Notas:**\n",
        "\n",
        "* En Python el símbolo #, se utiliza para agregar un comentario (el cual no se ejecuta).\n",
        "* En Java el símbolo //, se utiliza para agregar un comentario (el cual no se ejecuta).\n",
        "* Se recomienda realizar la práctica utilizando el lenguaje de programación correspondiente.\n",
        "* Se recomienda realizar modificaciones al código para verificar y comprender de manera correcta el funcionamiento del mismo."
      ]
    },
    {
      "cell_type": "markdown",
      "metadata": {
        "id": "OufEM5zbNKcY"
      },
      "source": [
        "## Java\n",
        "\n",
        "* Con el compilador se convierte el código fuente que reside en archivos cuya extensión es . java.\n",
        "* El conjunto de instrucciones recibe el nombre de bytecodes que se guardan en un archivo cuya extensión es .class.\n",
        "* Si existen errores en el código del programa, su ejecución se detiene.\n",
        "\n"
      ]
    },
    {
      "cell_type": "markdown",
      "metadata": {
        "id": "sT4O35A4NKcd"
      },
      "source": [
        "Un programa de Java es un archivo de texto plano con la extensión .java, .jar.\n",
        "\n",
        "Se puede crear un programa de Java con cualquier editor de texto plano, pero se recomienda utilizar editores de programación que incluyen herramientas que facilitan la escritura de programas, como Visual Studio Code.\n",
        "\n",
        "* Java fue diseñado para ser fácil de usar y, por lo tanto, es fácil de escribir, compilar, depurar y aprender que otros lenguajes de programación.\n",
        "* Java es fácil de aprender.\n",
        "* Java es orientado a objetos (POO).\n",
        "* Java es independiente de la plataforma.\n",
        "* Es un lenguaje de alto nivel."
      ]
    },
    {
      "cell_type": "markdown",
      "metadata": {
        "id": "M4ZlYs2YNKce"
      },
      "source": [
        "Java proporciona funciones integradas para crear, escribir y leer archivos.\n",
        "\n",
        "Hay dos tipos de archivos que se pueden manejar en Java, archivos de texto normales y archivos binarios (escritos en lenguaje binario, 0 y 1).\n",
        "\n",
        "* Archivos de texto: en este tipo de archivo, cada línea de texto termina con un carácter especial llamado EOL (Fin de línea), que es el carácter de nueva línea ('\\n') en Python de forma predeterminada.\n",
        "\n",
        "* Archivos binarios: en este tipo de archivos, no hay terminador para una línea y los datos se almacenan después de convertirlos a un lenguaje binario comprensible por máquina.\n"
      ]
    },
    {
      "cell_type": "markdown",
      "metadata": {
        "id": "gAu7Vq3fNKcl"
      },
      "source": [
        "###Funciones mágicas\n",
        "\n",
        "Tanto Jupyter como IPython tienen un conjunto de funciones predefinidas llamadas mágicas que representa una de las mejoras más importantes que aporta en relación al intérprete de Python por defecto (solo en el ámbito del IPython funcionan).\n",
        "\n",
        "Hay dos tipos de funciones mágicas:\n",
        "\n",
        "* Orientadas a líneas, llevan por delante un signo: %, trabajan en una sola línea.\n",
        "\n",
        "* Orientadas a celdas, llevan por delante dos signos: %%, trabajan en varias líneas.\n"
      ]
    },
    {
      "cell_type": "markdown",
      "metadata": {
        "id": "B62jY4cpNKcm"
      },
      "source": [
        "%%writefile le permite enviar código desarrollado en un Notebook a un módulo de Python.\n",
        "\n",
        "La biblioteca sys conecta un programa Python al sistema en el que se ejecuta."
      ]
    },
    {
      "cell_type": "markdown",
      "metadata": {
        "id": "4Fa1WXWtNKcn"
      },
      "source": [
        "###Proceso\n",
        "\n",
        "1. Escribir el código en texto en un archivo con extensión: ejemplo.py\n",
        "2. Guardar el archivo ejemplo.py en un folder\n",
        "3. Ejecutarlo con la instrucción python ejemplo.py\n",
        "\n",
        "**Notas:**\n",
        "\n",
        "* En Jupyter notebook se utilizan funciones mágicas como %%writefile\n",
        "* En Jupyter notebook para ejecutar instrucciones del sistema se agrega antes el simbolo: !. Por ejemplo: ! python ejemplo.py\n",
        "* En Google Colab si el archivo se guarda en el directorio: /content, entonces al momento de cerrar la sesión este archivo desaparecera.\n",
        "* Si se requiere mantener los archivos, entonces se recomienda montar primero el Google drive y crear un directorio para tal fin.\n",
        "\n",
        "\n",
        "\n"
      ]
    },
    {
      "cell_type": "markdown",
      "metadata": {
        "id": "RNyD1IP84N1i"
      },
      "source": [
        "##Instala Java\n",
        "\n",
        "**Nota importante:**\n",
        "\n",
        "Corre la siguiente celda de código y selecciona el kernel de Java (change runtime type): java(IJava/J!), en la parte superior derecha, donde dice RAM y DISK."
      ]
    },
    {
      "cell_type": "code",
      "execution_count": 1,
      "metadata": {
        "colab": {
          "base_uri": "https://localhost:8080/"
        },
        "id": "4mmI5rFK30Xv",
        "outputId": "c61e20f7-cd08-48a5-9334-6f8be4981d7b"
      },
      "outputs": [
        {
          "output_type": "stream",
          "name": "stdout",
          "text": [
            "Collecting jbang\n",
            "  Downloading jbang-0.4.0-py3-none-any.whl (2.6 kB)\n",
            "Installing collected packages: jbang\n",
            "Successfully installed jbang-0.4.0\n",
            "Creating /root/.local/share/jupyter/kernels\n",
            "java (IJava/j!)-tcp kernel installed to /root/.local/share/jupyter/kernels/jbang-ijava-tcp/kernel.json\n",
            "java (IJava/j!) kernel installed to /root/.local/share/jupyter/kernels/jbang-ijava/kernel.json\n",
            "Additional file: /root/.local/share/jupyter/kernels/jbang-ijava/ipc_proxy_kernel.py\n",
            "For more information on this specific kernel: https://github.com/SpencerPark/IJava\n",
            "\n",
            "Brought to you by https://github.com/jupyter-java\n",
            "\n"
          ]
        }
      ],
      "source": [
        "# Instala el kernel de Java\n",
        "!pip install jbang\n",
        "import jbang\n",
        "jbang.exec(\"trust add https://github.com/jupyter-java\")\n",
        "print(jbang.exec(\"install-kernel@jupyter-java --java 21 --enable-preview\").stdout)"
      ]
    },
    {
      "cell_type": "markdown",
      "source": [
        "\n",
        "#Lista de Enteros"
      ],
      "metadata": {
        "id": "BwDJrgj5O8_C"
      }
    },
    {
      "cell_type": "code",
      "source": [
        "# Escribe el programa Enteros.java\n",
        "%%writefile Enteros.java\n",
        "\n",
        "\n",
        "// Librerías\n",
        "import java.util.ArrayList;\n",
        "import java.util.List;\n",
        "import java.util.Map;\n",
        "import java.util.Objects;\n",
        "\n",
        "\n",
        "// Esta es la clase principal\n",
        "public class Enteros {\n",
        "\n",
        "  public static void main(String[] args) {\n",
        "\n",
        "    // Lista de enteros\n",
        "    List<Integer> enteros = new ArrayList<>();\n",
        "\n",
        "    enteros.add(1);\n",
        "    enteros.add(2);\n",
        "    enteros.add(3);\n",
        "    enteros.add(4);\n",
        "    enteros.add(5);\n",
        "\n",
        "    System.out.print(\"Lista de enteros: \\n\");\n",
        "\n",
        "    for (int i = 0; i < enteros.size(); i++) {\n",
        "      System.out.print(enteros.get(i) + \" \");\n",
        "    }\n",
        "\n",
        "    System.out.println();\n",
        "  }\n",
        "\n",
        "}"
      ],
      "metadata": {
        "colab": {
          "base_uri": "https://localhost:8080/"
        },
        "id": "CpqpKT_4qPRu",
        "outputId": "0df4f96a-7ecf-4f3e-fe8f-f798b7a60b71"
      },
      "execution_count": null,
      "outputs": [
        {
          "output_type": "stream",
          "name": "stdout",
          "text": [
            "Overwriting Enteros.java\n"
          ]
        }
      ]
    },
    {
      "cell_type": "code",
      "execution_count": null,
      "metadata": {
        "id": "29Dnse7BFXjm"
      },
      "outputs": [],
      "source": [
        "# Compila el programa Enteros.java\n",
        "! javac Enteros.java"
      ]
    },
    {
      "cell_type": "code",
      "execution_count": null,
      "metadata": {
        "colab": {
          "base_uri": "https://localhost:8080/"
        },
        "id": "SzIL-ozHFwWQ",
        "outputId": "68cb2230-bd2f-4267-869c-542a3603ef3b"
      },
      "outputs": [
        {
          "output_type": "stream",
          "name": "stdout",
          "text": [
            "Lista de enteros: 1 2 3 4 5 \n"
          ]
        }
      ],
      "source": [
        "# Ejecuta el programa Enteros\n",
        "! java Enteros"
      ]
    },
    {
      "cell_type": "markdown",
      "source": [
        "##Lista de floats"
      ],
      "metadata": {
        "id": "TlrBWvGSr9n-"
      }
    },
    {
      "cell_type": "code",
      "source": [
        "# Escribe el programa Floats.java\n",
        "%%writefile Floats.java\n",
        "\n",
        "\n",
        "// Librerías\n",
        "import java.util.ArrayList;\n",
        "import java.util.List;\n",
        "import java.util.Map;\n",
        "import java.util.Objects;\n",
        "\n",
        "\n",
        "// Esta es la clase principal\n",
        "public class Floats {\n",
        "\n",
        "  public static void main(String[] args) {\n",
        "\n",
        "    // Lista de floats\n",
        "    List<Float> floats = new ArrayList<>();\n",
        "\n",
        "    floats.add(1.1f);\n",
        "    floats.add(2.2f);\n",
        "    floats.add(3.3f);\n",
        "    floats.add(4.4f);\n",
        "    floats.add(5.5f);\n",
        "\n",
        "    System.out.print(\"Lista de floats: \\n\");\n",
        "\n",
        "    for (int i = 0; i < floats.size(); i++) {\n",
        "      System.out.print(floats.get(i) + \" \");\n",
        "    }\n",
        "\n",
        "    System.out.println();\n",
        "\n",
        "  }\n",
        "}"
      ],
      "metadata": {
        "colab": {
          "base_uri": "https://localhost:8080/"
        },
        "outputId": "4ed9423f-bd84-4556-ff0b-091dda0522c7",
        "id": "5AiSCjsnsBdp"
      },
      "execution_count": null,
      "outputs": [
        {
          "output_type": "stream",
          "name": "stdout",
          "text": [
            "Overwriting Floats.java\n"
          ]
        }
      ]
    },
    {
      "cell_type": "code",
      "execution_count": null,
      "metadata": {
        "id": "BI4lLBDLsBdw"
      },
      "outputs": [],
      "source": [
        "# Compila el programa Floats.java\n",
        "! javac Floats.java"
      ]
    },
    {
      "cell_type": "code",
      "execution_count": null,
      "metadata": {
        "colab": {
          "base_uri": "https://localhost:8080/"
        },
        "outputId": "f84b0b52-ee05-4fa8-e1f6-703598006b4e",
        "id": "E7ranPAssBdy"
      },
      "outputs": [
        {
          "output_type": "stream",
          "name": "stdout",
          "text": [
            "Lista de floats: 1.1 2.2 3.3 4.4 5.5 \n"
          ]
        }
      ],
      "source": [
        "# Ejecuta el programa Floats\n",
        "! java Floats"
      ]
    },
    {
      "cell_type": "markdown",
      "source": [
        "##Lista de strings"
      ],
      "metadata": {
        "id": "LPseziVWsvBG"
      }
    },
    {
      "cell_type": "code",
      "source": [
        "# Escribe el programa Strings.java\n",
        "%%writefile Strings.java\n",
        "\n",
        "\n",
        "// Librerías\n",
        "import java.util.ArrayList;\n",
        "import java.util.List;\n",
        "import java.util.Map;\n",
        "import java.util.Objects;\n",
        "\n",
        "\n",
        "// Esta es la clase principal\n",
        "public class Strings {\n",
        "\n",
        "  public static void main(String[] args) {\n",
        "\n",
        "    // Lista de strings\n",
        "    List<String> strings = new ArrayList<>();\n",
        "\n",
        "    strings.add(\"Hola\");\n",
        "    strings.add(\"Universidad\");\n",
        "    strings.add(\"Anahuac\");\n",
        "\n",
        "    System.out.print(\"Lista de strings: \\n\");\n",
        "\n",
        "    for (int i = 0; i < strings.size(); i++) {\n",
        "      System.out.print(strings.get(i) + \" \");\n",
        "    }\n",
        "\n",
        "    System.out.println();\n",
        "\n",
        "  }\n",
        "}"
      ],
      "metadata": {
        "colab": {
          "base_uri": "https://localhost:8080/"
        },
        "outputId": "d077406f-f9a6-4eec-a225-7f24c2d8b7bb",
        "id": "s4JdUc5rsz8g"
      },
      "execution_count": null,
      "outputs": [
        {
          "output_type": "stream",
          "name": "stdout",
          "text": [
            "Overwriting Strings.java\n"
          ]
        }
      ]
    },
    {
      "cell_type": "code",
      "execution_count": null,
      "metadata": {
        "id": "RoxqkHD8sz8p"
      },
      "outputs": [],
      "source": [
        "# Compila el programa Strings.java\n",
        "! javac Strings.java"
      ]
    },
    {
      "cell_type": "code",
      "execution_count": null,
      "metadata": {
        "colab": {
          "base_uri": "https://localhost:8080/"
        },
        "outputId": "59d077f2-6e92-4798-f647-4c3690ee6007",
        "id": "r3QMz2Qysz8q"
      },
      "outputs": [
        {
          "output_type": "stream",
          "name": "stdout",
          "text": [
            "Lista de strings: '\n",
            "Hola Universidad Anahuac \n"
          ]
        }
      ],
      "source": [
        "# Ejecuta el programa Strings\n",
        "! java Strings"
      ]
    },
    {
      "cell_type": "markdown",
      "source": [
        "##Lista de booleanos"
      ],
      "metadata": {
        "id": "GUqkaMgetuYe"
      }
    },
    {
      "cell_type": "code",
      "source": [
        "# Escribe el programa Booleanos.java\n",
        "%%writefile Booleanos.java\n",
        "\n",
        "\n",
        "// Librerías\n",
        "import java.util.ArrayList;\n",
        "import java.util.List;\n",
        "import java.util.Map;\n",
        "import java.util.Objects;\n",
        "\n",
        "\n",
        "// Esta es la clase principal\n",
        "public class Booleanos {\n",
        "\n",
        "  public static void main(String[] args) {\n",
        "\n",
        "   // Lista de booleanos\n",
        "    List<Boolean> booleans = new ArrayList<>();\n",
        "\n",
        "    booleans.add(true);\n",
        "    booleans.add(false);\n",
        "    booleans.add(true);\n",
        "    booleans.add(false);\n",
        "    booleans.add(true);\n",
        "\n",
        "    System.out.print(\"Lista de booleanos: \\n\");\n",
        "\n",
        "    for (int i = 0; i < booleans.size(); i++) {\n",
        "      System.out.print(booleans.get(i) + \" \");\n",
        "    }\n",
        "\n",
        "    System.out.println();\n",
        "\n",
        "  }\n",
        "}"
      ],
      "metadata": {
        "colab": {
          "base_uri": "https://localhost:8080/"
        },
        "outputId": "b176279a-c571-4949-ad7d-0ea1a5b21ee2",
        "id": "wr3WFZXmt13w"
      },
      "execution_count": null,
      "outputs": [
        {
          "output_type": "stream",
          "name": "stdout",
          "text": [
            "Writing Booleanos.java\n"
          ]
        }
      ]
    },
    {
      "cell_type": "code",
      "execution_count": null,
      "metadata": {
        "id": "hknrILRPt136"
      },
      "outputs": [],
      "source": [
        "# Compila el programa Booleanos.java\n",
        "! javac Booleanos.java"
      ]
    },
    {
      "cell_type": "code",
      "execution_count": null,
      "metadata": {
        "colab": {
          "base_uri": "https://localhost:8080/"
        },
        "outputId": "5cc6a2c6-bccb-41fe-8378-8cad22fa9c9e",
        "id": "_qrhzgjxt137"
      },
      "outputs": [
        {
          "output_type": "stream",
          "name": "stdout",
          "text": [
            "Lista de booleanos: true false true false true \n"
          ]
        }
      ],
      "source": [
        "# Ejecuta el programa Booleanos\n",
        "! java Booleanos"
      ]
    },
    {
      "cell_type": "markdown",
      "source": [
        "##Lista de tuplas"
      ],
      "metadata": {
        "id": "Z-Kt_KFFuOt5"
      }
    },
    {
      "cell_type": "code",
      "source": [
        "# Escribe el programa Tuplas.java\n",
        "%%writefile Tuplas.java\n",
        "\n",
        "\n",
        "// Librerías\n",
        "import java.util.Objects;\n",
        "import java.util.ArrayList;\n",
        "import java.util.List;\n",
        "import java.util.Map;\n",
        "\n",
        "\n",
        "// Esta es la clase principal\n",
        "public class Tuplas {\n",
        "\n",
        "  // Esta es una clase nueva\n",
        "  // creada para evitar usar otras librerías\n",
        "  public static class Tuple<X, Y> {\n",
        "    public final X first;\n",
        "    public final Y second;\n",
        "\n",
        "    public Tuple(X first, Y second) {\n",
        "      this.first = first;\n",
        "      this.second = second;\n",
        "    }\n",
        "\n",
        "    @Override\n",
        "    public String toString() {\n",
        "      return String.format(\"(%s, %s)\", first, second);\n",
        "    }\n",
        "\n",
        "    @Override\n",
        "    public boolean equals(Object o) {\n",
        "      if (this == o) return true;\n",
        "      if (!(o instanceof Tuple)) return false;\n",
        "      Tuple<?, ?> tuple = (Tuple<?, ?>) o;\n",
        "      return Objects.equals(first, tuple.first) && Objects.equals(second, tuple.second);\n",
        "    }\n",
        "\n",
        "    @Override\n",
        "    public int hashCode() {\n",
        "      return Objects.hash(first, second);\n",
        "    }\n",
        "  }\n",
        "\n",
        "\n",
        "\n",
        "  // Este es el código para crear la lista de tuplas\n",
        "  public static void main(String[] args) {\n",
        "\n",
        "    // Lista de tuplas (pares de enteros)\n",
        "    List<Tuple<Integer, Integer>> tuplas = new ArrayList<>();\n",
        "\n",
        "    tuplas.add(new Tuple(1, 2));\n",
        "    tuplas.add(new Tuple(3, 4));\n",
        "    tuplas.add(new Tuple(5, 6));\n",
        "\n",
        "    System.out.print(\"Lista de tuplas: \\n\");\n",
        "\n",
        "    for (int i = 0; i < tuplas.size(); i++) {\n",
        "      System.out.print(tuplas.get(i).toString() + \" \");\n",
        "    }\n",
        "\n",
        "    System.out.println();\n",
        "  }\n",
        "}"
      ],
      "metadata": {
        "colab": {
          "base_uri": "https://localhost:8080/"
        },
        "outputId": "dec0a4f7-c0d2-4406-bfd8-2e374b8f9a3d",
        "id": "Pb55ZGOAuX1z"
      },
      "execution_count": null,
      "outputs": [
        {
          "output_type": "stream",
          "name": "stdout",
          "text": [
            "Overwriting Tuplas.java\n"
          ]
        }
      ]
    },
    {
      "cell_type": "code",
      "execution_count": null,
      "metadata": {
        "colab": {
          "base_uri": "https://localhost:8080/"
        },
        "id": "qct86n09uX3j",
        "outputId": "5c7048db-9bb4-4551-bbee-dfd041b4b165"
      },
      "outputs": [
        {
          "output_type": "stream",
          "name": "stdout",
          "text": [
            "Note: Tuplas.java uses unchecked or unsafe operations.\n",
            "Note: Recompile with -Xlint:unchecked for details.\n"
          ]
        }
      ],
      "source": [
        "# Compila el programa Tuplas.java\n",
        "! javac Tuplas.java"
      ]
    },
    {
      "cell_type": "code",
      "execution_count": null,
      "metadata": {
        "colab": {
          "base_uri": "https://localhost:8080/"
        },
        "outputId": "48a7277c-741e-4800-bd31-aeb810e3e403",
        "id": "KG2ZNH49uX3r"
      },
      "outputs": [
        {
          "output_type": "stream",
          "name": "stdout",
          "text": [
            "Lista de tuplas: (1, 2) (3, 4) (5, 6) \n"
          ]
        }
      ],
      "source": [
        "# Ejecuta el programa Tuplas\n",
        "! java Tuplas"
      ]
    },
    {
      "cell_type": "markdown",
      "source": [
        "##Lista de diccionarios"
      ],
      "metadata": {
        "id": "_IWmVrtJyljT"
      }
    },
    {
      "cell_type": "code",
      "source": [
        "# Escribe el programa Diccionarios.java\n",
        "%%writefile Diccionarios.java\n",
        "\n",
        "\n",
        "// Librerías\n",
        "import java.util.Objects;\n",
        "import java.util.ArrayList;\n",
        "import java.util.List;\n",
        "import java.util.Map;\n",
        "\n",
        "\n",
        "// Esta es la clase principal\n",
        "public class Diccionarios {\n",
        "\n",
        "  // Este es el código para crear la lista de tuplas\n",
        "  public static void main(String[] args) {\n",
        "\n",
        "    // Lista de diccionarios\n",
        "    List<Map<String, Integer>> diccionarios = new ArrayList<>();\n",
        "\n",
        "    diccionarios.add(Map.of(\"nombre\", 30, \"edad\", 30));\n",
        "    diccionarios.add(Map.of(\"nombre\", 25, \"edad\", 25));\n",
        "\n",
        "    System.out.print(\"Lista de diccionarios: \" + \"\\n\");\n",
        "\n",
        "    for (int i = 0; i < diccionarios.size(); i++) {\n",
        "      for (Map.Entry<String, Integer> entry : diccionarios.get(i).entrySet()) {\n",
        "          System.out.println(entry.getKey() + \": \" + entry.getValue());\n",
        "      }\n",
        "    }\n",
        "\n",
        "  }\n",
        "}"
      ],
      "metadata": {
        "colab": {
          "base_uri": "https://localhost:8080/"
        },
        "outputId": "7dc0dad4-ae40-40dd-8e96-6abad907cb1c",
        "id": "T6b6c_cSytqK"
      },
      "execution_count": null,
      "outputs": [
        {
          "output_type": "stream",
          "name": "stdout",
          "text": [
            "Writing Diccionarios.java\n"
          ]
        }
      ]
    },
    {
      "cell_type": "code",
      "execution_count": null,
      "metadata": {
        "id": "ad_VFXj1ytqM"
      },
      "outputs": [],
      "source": [
        "# Compila el programa Diccionarios.java\n",
        "! javac Diccionarios.java"
      ]
    },
    {
      "cell_type": "code",
      "execution_count": null,
      "metadata": {
        "colab": {
          "base_uri": "https://localhost:8080/"
        },
        "outputId": "1779a77b-22a0-49c7-e7fb-5244c3756570",
        "id": "lqFWgjwKytqN"
      },
      "outputs": [
        {
          "output_type": "stream",
          "name": "stdout",
          "text": [
            "Lista de diccionarios: \n",
            "nombre: 30\n",
            "edad: 30\n",
            "nombre: 25\n",
            "edad: 25\n"
          ]
        }
      ],
      "source": [
        "# Ejecuta el programa Diccionarios\n",
        "! java Diccionarios"
      ]
    },
    {
      "cell_type": "markdown",
      "source": [
        "##Tabla con métodos para Listas\n",
        "\n",
        "A continuación, se presenta una lista de algunos métodos comunes que se pueden usar en listas/matrices en Java:\n",
        "\n",
        "| Método/Operador\t| Descripción |\n",
        "|:--------------- | :---------- |\n",
        "| list.size()\t| Devuelve el número de elementos en una lista.|\n",
        "| list.get(i)\t| Devuelve el elemento en la posición i de una lista.|\n",
        "| list.add(e)\t| Agrega el elemento e al final de una lista.|\n",
        "| list.remove(i)|\tElimina el elemento en la posición i de una lista.|\n",
        "| list.set(i, e)| \tReemplaza el elemento en la posición i de una lista con e.|\n",
        "| list.contains(e)| \tDevuelve true si la lista contiene el elemento e, y false en caso contrario.|\n",
        "| list.isEmpty()| \tDevuelve true si la lista está vacía, y false en caso contrario.|\n",
        "| matrix.length| \tDevuelve el número de filas de una matriz.|\n",
        "| matrix[i].length| \tDevuelve el número de columnas de la fila i de una matriz.|\n",
        "| matrix[i][j]| \tAccede al elemento en la fila i y columna j de una matriz.|\n",
        "| matrix = new int[filas][columnas]| \tCrea una nueva matriz de enteros con el número especificado de filas y columnas.|\n",
        "| Arrays.toString(array)| \tConvierte un array en una cadena de texto que muestra sus elementos.|\n",
        "| Arrays.sort(array)| \tOrdena los elementos de un array.|\n",
        "| Arrays.binarySearch(array, value)| \tBusca el valor especificado en un array ordenado y devuelve su índice si se encuentra, o -1 en caso contrario.|\n",
        "| Arrays.equals(array1, array2)| \tCompara dos arrays y devuelve true si son iguales, y false en caso contrario.|\n",
        "| Arrays.fill(array, value)| \tEstablece todos los elementos de un array en el valor especificado.|"
      ],
      "metadata": {
        "id": "mJTKIxvH7Ao7"
      }
    },
    {
      "cell_type": "markdown",
      "source": [
        "##Métodos integrados"
      ],
      "metadata": {
        "id": "5pBygQ-4815X"
      }
    },
    {
      "cell_type": "code",
      "source": [
        "# Escribe el programa Metodos.java\n",
        "%%writefile Metodos.java\n",
        "\n",
        "\n",
        "// Librerías\n",
        "import java.util.Objects;\n",
        "import java.util.ArrayList;\n",
        "import java.util.List;\n",
        "import java.util.Map;\n",
        "import java.util.Vector;\n",
        "\n",
        "\n",
        "public class Metodos {\n",
        "\n",
        "    public static void main(String[] args) {\n",
        "        // Crear una lista\n",
        "        Vector<Integer> miLista = new Vector<Integer>();\n",
        "        miLista.add(1);\n",
        "        miLista.add(2);\n",
        "        miLista.add(3);\n",
        "\n",
        "        // Agregar un element al final de la lista\n",
        "        miLista.add(4);\n",
        "        System.out.print(\"Lista después de agregar 4: \");\n",
        "        for (int i = 0; i < miLista.size(); i++) {\n",
        "            System.out.print(miLista.get(i) + \" \");\n",
        "        }\n",
        "        System.out.println();\n",
        "\n",
        "\n",
        "        // Insertar un elemento en la posición 1\n",
        "        miLista.add(1, 10);\n",
        "        System.out.print(\"Lista después de insertar 10 en la posición 1: \");\n",
        "        for (int i = 0; i < miLista.size(); i++) {\n",
        "            System.out.print(miLista.get(i) + \" \");\n",
        "        }\n",
        "        System.out.println();\n",
        "\n",
        "\n",
        "        // Eliminar el primer elemento que tenga el valor 10\n",
        "        miLista.remove(new Integer(10));\n",
        "        System.out.print(\"Lista después de eliminar el primer 10: \");\n",
        "        for (int i = 0; i < miLista.size(); i++) {\n",
        "            System.out.print(miLista.get(i) + \" \");\n",
        "        }\n",
        "        System.out.println();\n",
        "\n",
        "\n",
        "        // Eliminar el último elemento de la lista\n",
        "        miLista.remove(miLista.size() - 1);\n",
        "        System.out.print(\"Lista después de eliminar el último elemento: \");\n",
        "        for (int i = 0; i < miLista.size(); i++) {\n",
        "            System.out.print(miLista.get(i) + \" \");\n",
        "        }\n",
        "        System.out.println();\n",
        "\n",
        "\n",
        "        // Ordenar los elementos de la lista\n",
        "        Vector<Integer> sortedLista = new Vector<Integer>();\n",
        "        sortedLista.addAll(miLista);\n",
        "        sortedLista.sort(null);\n",
        "        System.out.print(\"Lista después de ordenar: \");\n",
        "        for (int i = 0; i < sortedLista.size(); i++) {\n",
        "            System.out.print(sortedLista.get(i) + \" \");\n",
        "        }\n",
        "        System.out.println();\n",
        "\n",
        "\n",
        "        // Invertir el orden de los elementos de la lista\n",
        "        Vector<Integer> reversedLista = new Vector<Integer>();\n",
        "        reversedLista.addAll(miLista);\n",
        "        for (int i = miLista.size() - 1; i >= 0; i--) {\n",
        "            reversedLista.add(miLista.get(i));\n",
        "        }\n",
        "        System.out.print(\"Lista después de invertir: \");\n",
        "        for (int i = 0; i < reversedLista.size(); i++) {\n",
        "            System.out.print(reversedLista.get(i) + \" \");\n",
        "        }\n",
        "        System.out.println();\n",
        "\n",
        "\n",
        "        // Contar el número de ocurrencias del valor 2 en la lista\n",
        "        int cont = 0;\n",
        "        for (int i = 0; i < miLista.size(); i++) {\n",
        "            if (miLista.get(i) == 2) {\n",
        "                cont++;\n",
        "            }\n",
        "        }\n",
        "        System.out.println(\"Número de ocurrencias de 2 en la lista: \" + cont);\n",
        "    }\n",
        "}\n"
      ],
      "metadata": {
        "id": "wo1Y71lmOVun",
        "colab": {
          "base_uri": "https://localhost:8080/"
        },
        "outputId": "39f290eb-d283-426e-f555-c1e98acd7aab"
      },
      "execution_count": null,
      "outputs": [
        {
          "output_type": "stream",
          "name": "stdout",
          "text": [
            "Overwriting Metodos.java\n"
          ]
        }
      ]
    },
    {
      "cell_type": "code",
      "execution_count": null,
      "metadata": {
        "colab": {
          "base_uri": "https://localhost:8080/"
        },
        "id": "CAYkl4t09XE1",
        "outputId": "010bc032-3e94-4bb2-9efc-c5e6cf983280"
      },
      "outputs": [
        {
          "output_type": "stream",
          "name": "stdout",
          "text": [
            "Note: Metodos.java uses or overrides a deprecated API.\n",
            "Note: Recompile with -Xlint:deprecation for details.\n"
          ]
        }
      ],
      "source": [
        "# Compila el programa Metodos.java\n",
        "! javac Metodos.java"
      ]
    },
    {
      "cell_type": "code",
      "execution_count": null,
      "metadata": {
        "colab": {
          "base_uri": "https://localhost:8080/"
        },
        "outputId": "adfe030a-7587-4812-ff6d-e7e480f43485",
        "id": "E6TiiqtV9XGV"
      },
      "outputs": [
        {
          "output_type": "stream",
          "name": "stdout",
          "text": [
            "Lista después de agregar 4: 1 2 3 4 \n",
            "Lista después de insertar 10 en la posición 1: 1 10 2 3 4 \n",
            "Lista después de eliminar el primer 10: 1 2 3 4 \n",
            "Lista después de eliminar el último elemento: 1 2 3 \n",
            "Lista después de ordenar: 1 2 3 \n",
            "Lista después de invertir: 1 2 3 3 2 1 \n",
            "Número de ocurrencias de 2 en la lista: 1\n"
          ]
        }
      ],
      "source": [
        "# Ejecuta el programa Metodos\n",
        "! java Metodos"
      ]
    },
    {
      "cell_type": "markdown",
      "source": [
        "##1. Crear un array:"
      ],
      "metadata": {
        "id": "T8Mfl63K9ujB"
      }
    },
    {
      "cell_type": "code",
      "source": [
        "# Escribe el programa Arreglo.java\n",
        "%%writefile Arreglo.java\n",
        "\n",
        "\n",
        "// Librerías\n",
        "import java.util.Vector;\n",
        "\n",
        "\n",
        "public class Arreglo {\n",
        "\n",
        "    public static void main(String[] args) {\n",
        "\n",
        "        // Crear un vector de enteros\n",
        "        Vector<Integer> miVector = new Vector<Integer>();\n",
        "        miVector.add(1);\n",
        "        miVector.add(2);\n",
        "        miVector.add(3);\n",
        "        miVector.add(4);\n",
        "        miVector.add(5);\n",
        "\n",
        "        // Imprimir el vector\n",
        "        for (int i = 0; i < miVector.size(); i++) {\n",
        "            System.out.print(miVector.get(i) + \" \");\n",
        "        }\n",
        "        System.out.println();\n",
        "\n",
        "    }\n",
        "}\n"
      ],
      "metadata": {
        "colab": {
          "base_uri": "https://localhost:8080/"
        },
        "outputId": "73d196dc-1b24-435b-8459-8d693ea27489",
        "id": "zXV-pQ-G956s"
      },
      "execution_count": null,
      "outputs": [
        {
          "output_type": "stream",
          "name": "stdout",
          "text": [
            "Writing Arreglo.java\n"
          ]
        }
      ]
    },
    {
      "cell_type": "code",
      "execution_count": null,
      "metadata": {
        "id": "pEsJYoux956u"
      },
      "outputs": [],
      "source": [
        "# Compila el programa Arreglo.java\n",
        "! javac Arreglo.java"
      ]
    },
    {
      "cell_type": "code",
      "execution_count": null,
      "metadata": {
        "colab": {
          "base_uri": "https://localhost:8080/"
        },
        "outputId": "564efd67-169b-4dc8-fe86-345421c334fe",
        "id": "My0wUACJ956v"
      },
      "outputs": [
        {
          "output_type": "stream",
          "name": "stdout",
          "text": [
            "1 2 3 4 5 \n"
          ]
        }
      ],
      "source": [
        "# Ejecuta el programa Arreglo\n",
        "! java Arreglo"
      ]
    },
    {
      "cell_type": "markdown",
      "source": [
        "##2. Obtener el tipo de datos del array:"
      ],
      "metadata": {
        "id": "RPBPyQbR-wNA"
      }
    },
    {
      "cell_type": "code",
      "source": [
        "# Escribe el programa TipoDato.java\n",
        "%%writefile TipoDato.java\n",
        "\n",
        "\n",
        "// Librerías\n",
        "import java.util.Vector;\n",
        "\n",
        "public class TipoDato {\n",
        "\n",
        "  public static void main(String[] args) {\n",
        "\n",
        "    // Crea un vector de enteros\n",
        "    Vector<Integer> miVector = new Vector<Integer>();\n",
        "    miVector.add(1);\n",
        "    miVector.add(2);\n",
        "    miVector.add(3);\n",
        "    miVector.add(4);\n",
        "    miVector.add(5);\n",
        "\n",
        "    // Imprime el tipo de dato del vector\n",
        "    System.out.println(\"Tipo de datos: \\n\" + miVector.getClass());\n",
        "\n",
        "  }\n",
        "}\n"
      ],
      "metadata": {
        "colab": {
          "base_uri": "https://localhost:8080/"
        },
        "outputId": "83df64c6-7f24-4be5-91dd-7b49b2fb30b4",
        "id": "kFHj_BSl-zDt"
      },
      "execution_count": null,
      "outputs": [
        {
          "output_type": "stream",
          "name": "stdout",
          "text": [
            "Overwriting TipoDato.java\n"
          ]
        }
      ]
    },
    {
      "cell_type": "code",
      "execution_count": null,
      "metadata": {
        "id": "nJHXMkA--zDw"
      },
      "outputs": [],
      "source": [
        "# Compila el programa TipoDato.java\n",
        "! javac TipoDato.java"
      ]
    },
    {
      "cell_type": "code",
      "execution_count": null,
      "metadata": {
        "colab": {
          "base_uri": "https://localhost:8080/"
        },
        "outputId": "7304e41c-088e-41d0-8c06-d87387a9213f",
        "id": "l3AxPxgW-zDw"
      },
      "outputs": [
        {
          "output_type": "stream",
          "name": "stdout",
          "text": [
            "Tipo de datos: \n",
            "class java.util.Vector\n"
          ]
        }
      ],
      "source": [
        "# Ejecuta el programa TipoDato\n",
        "! java TipoDato"
      ]
    },
    {
      "cell_type": "markdown",
      "source": [
        "##3. Obtener el tamaño del elemento en bytes:"
      ],
      "metadata": {
        "id": "kkKe0wkSW7Fy"
      }
    },
    {
      "cell_type": "code",
      "source": [
        "# Escribe el programa Bytes.java\n",
        "%%writefile Bytes.java\n",
        "\n",
        "\n",
        "// Librerías\n",
        "import java.util.Vector;\n",
        "\n",
        "public class Bytes {\n",
        "\n",
        "    public static void main(String[] args) {\n",
        "\n",
        "        // Crear un vector de enteros\n",
        "        Vector<Integer> miVector = new Vector<Integer>();\n",
        "        miVector.add(1);\n",
        "        miVector.add(2);\n",
        "        miVector.add(3);\n",
        "        miVector.add(4);\n",
        "        miVector.add(5);\n",
        "\n",
        "        // Imprimir el tamaño del elemento en bytes\n",
        "        // se asume que todos los elementos son \"integer\"\n",
        "        System.out.println(\"Tamaño del elemento: \" + miVector.size()* Integer.SIZE + \" bytes\");\n",
        "\n",
        "    }\n",
        "}\n"
      ],
      "metadata": {
        "colab": {
          "base_uri": "https://localhost:8080/"
        },
        "outputId": "3b361a39-213a-477d-f418-94398624c416",
        "id": "JZlLe9ZXW-UC"
      },
      "execution_count": null,
      "outputs": [
        {
          "output_type": "stream",
          "name": "stdout",
          "text": [
            "Overwriting Bytes.java\n"
          ]
        }
      ]
    },
    {
      "cell_type": "code",
      "execution_count": null,
      "metadata": {
        "id": "TwYK5_n7W-UF"
      },
      "outputs": [],
      "source": [
        "# Compila el programa Bytes.java\n",
        "! javac Bytes.java"
      ]
    },
    {
      "cell_type": "code",
      "execution_count": null,
      "metadata": {
        "colab": {
          "base_uri": "https://localhost:8080/"
        },
        "outputId": "e68430b3-3451-4395-949b-3abb17c3a6f3",
        "id": "vbBKXwQ0W-UG"
      },
      "outputs": [
        {
          "output_type": "stream",
          "name": "stdout",
          "text": [
            "Tamaño del elemento: 160 bytes\n"
          ]
        }
      ],
      "source": [
        "# Ejecuta el programa Bytes\n",
        "! java Bytes"
      ]
    },
    {
      "cell_type": "markdown",
      "source": [
        "##4. Obtener el número de elementos en el array:"
      ],
      "metadata": {
        "id": "3w_Irs1BaeKD"
      }
    },
    {
      "cell_type": "code",
      "source": [
        "# Escribe el programa Elementos.java\n",
        "%%writefile Elementos.java\n",
        "\n",
        "\n",
        "// Librerías\n",
        "import java.util.Vector;\n",
        "\n",
        "public class Elementos {\n",
        "\n",
        "    public static void main(String[] args) {\n",
        "\n",
        "        // Crear un vector de enteros\n",
        "        Vector<Integer> miVector = new Vector<Integer>();\n",
        "        miVector.add(1);\n",
        "        miVector.add(2);\n",
        "        miVector.add(3);\n",
        "        miVector.add(4);\n",
        "        miVector.add(5);\n",
        "\n",
        "        // Imprimir el número de elementos en el vector\n",
        "        System.out.println(\"Número de elementos: \" + miVector.size());\n",
        "\n",
        "    }\n",
        "}\n"
      ],
      "metadata": {
        "colab": {
          "base_uri": "https://localhost:8080/"
        },
        "outputId": "67e2599f-ac2f-4c37-f6e7-600bc8b81905",
        "id": "NmmJct8eag0V"
      },
      "execution_count": null,
      "outputs": [
        {
          "output_type": "stream",
          "name": "stdout",
          "text": [
            "Writing Elementos.java\n"
          ]
        }
      ]
    },
    {
      "cell_type": "code",
      "execution_count": null,
      "metadata": {
        "id": "1Gy49S9nag0X"
      },
      "outputs": [],
      "source": [
        "# Compila el programa Elementos.java\n",
        "! javac Elementos.java"
      ]
    },
    {
      "cell_type": "code",
      "execution_count": null,
      "metadata": {
        "colab": {
          "base_uri": "https://localhost:8080/"
        },
        "outputId": "b9452f8f-2a86-4f1a-8116-ff361cb7c205",
        "id": "qWxoOPEjag0Y"
      },
      "outputs": [
        {
          "output_type": "stream",
          "name": "stdout",
          "text": [
            "Número de elementos: 5\n"
          ]
        }
      ],
      "source": [
        "# Ejecuta el programa Elementos\n",
        "! java Elementos"
      ]
    },
    {
      "cell_type": "markdown",
      "source": [
        "##5. Agregar un elemento al final del array:"
      ],
      "metadata": {
        "id": "-KGReOclazJX"
      }
    },
    {
      "cell_type": "code",
      "source": [
        "# Escribe el programa AgregaElemento.java\n",
        "%%writefile AgregaElemento.java\n",
        "\n",
        "\n",
        "// Librerías\n",
        "import java.util.Vector;\n",
        "\n",
        "public class AgregaElemento {\n",
        "\n",
        "    public static void main(String[] args) {\n",
        "\n",
        "        // Crear un vector de enteros\n",
        "        Vector<Integer> miVector = new Vector<Integer>();\n",
        "        miVector.add(1);\n",
        "        miVector.add(2);\n",
        "        miVector.add(3);\n",
        "        miVector.add(4);\n",
        "        miVector.add(5);\n",
        "\n",
        "        // Imprimir el vector\n",
        "        System.out.println(\"Arreglo original: \");\n",
        "\n",
        "        for (int i = 0; i < miVector.size(); i++) {\n",
        "            System.out.print(miVector.get(i) + \" \");\n",
        "        }\n",
        "        System.out.println();\n",
        "\n",
        "        // Agregar un elemento al final del vector\n",
        "        miVector.add(6);\n",
        "\n",
        "        // Imprimir el vector\n",
        "        System.out.println(\"Arreglo final: \");\n",
        "\n",
        "        for (int i = 0; i < miVector.size(); i++) {\n",
        "            System.out.print(miVector.get(i) + \" \");\n",
        "        }\n",
        "\n",
        "    }\n",
        "}\n"
      ],
      "metadata": {
        "colab": {
          "base_uri": "https://localhost:8080/"
        },
        "outputId": "ca06c1a9-4e4d-4784-8c27-a50aeef2ad2d",
        "id": "7TLbWtCCa2PB"
      },
      "execution_count": null,
      "outputs": [
        {
          "output_type": "stream",
          "name": "stdout",
          "text": [
            "Overwriting AgregaElemento.java\n"
          ]
        }
      ]
    },
    {
      "cell_type": "code",
      "execution_count": null,
      "metadata": {
        "id": "CkaTUjm2a2PD"
      },
      "outputs": [],
      "source": [
        "# Compila el programa AgregaElemento.java\n",
        "! javac AgregaElemento.java"
      ]
    },
    {
      "cell_type": "code",
      "execution_count": null,
      "metadata": {
        "colab": {
          "base_uri": "https://localhost:8080/"
        },
        "outputId": "e4141b6e-d5ed-4859-a0ad-68e6898fd4a9",
        "id": "SlTheCoQa2PD"
      },
      "outputs": [
        {
          "output_type": "stream",
          "name": "stdout",
          "text": [
            "Arreglo original: \n",
            "1 2 3 4 5 \n",
            "Arreglo final: \n",
            "1 2 3 4 5 6 "
          ]
        }
      ],
      "source": [
        "# Ejecuta el programa AgregaElemento\n",
        "! java AgregaElemento"
      ]
    },
    {
      "cell_type": "markdown",
      "source": [
        "##1. Crear una matriz:"
      ],
      "metadata": {
        "id": "6COT6N0mcO4j"
      }
    },
    {
      "cell_type": "code",
      "source": [
        "# Escribe el programa Matriz.java\n",
        "%%writefile Matriz.java\n",
        "\n",
        "\n",
        "public class Matriz {\n",
        "\n",
        "  public static void main(String[] args)\n",
        "  {\n",
        "    int[][] miMatriz = {  { 1,  2,  3,  4 },\n",
        "                          { 5,  6,  7,  8 },\n",
        "                          { 9, 10, 11, 12 }\n",
        "                        };\n",
        "\n",
        "    // Imprime la matriz\n",
        "    System.out.println(\"Esta es la matriz: \");\n",
        "    for (int i = 0; i < 3; i++) {\n",
        "        for (int j = 0; j < 4; j++) {\n",
        "            System.out.print(miMatriz[i][j] + \" \");\n",
        "        }\n",
        "        System.out.println();\n",
        "    }\n",
        "  }\n",
        "}\n",
        ""
      ],
      "metadata": {
        "colab": {
          "base_uri": "https://localhost:8080/"
        },
        "id": "V1Z2F4kKJXEN",
        "outputId": "6de35e99-6a61-491b-d016-7387e862fc53"
      },
      "execution_count": 26,
      "outputs": [
        {
          "output_type": "stream",
          "name": "stdout",
          "text": [
            "Overwriting Matriz.java\n"
          ]
        }
      ]
    },
    {
      "cell_type": "code",
      "execution_count": 27,
      "metadata": {
        "id": "MDLcjnJNcTyC"
      },
      "outputs": [],
      "source": [
        "# Compila el programa Matriz.java\n",
        "! javac Matriz.java"
      ]
    },
    {
      "cell_type": "code",
      "execution_count": 28,
      "metadata": {
        "colab": {
          "base_uri": "https://localhost:8080/"
        },
        "outputId": "0a30aba5-fbe6-44e3-aa9a-1c23efc14cac",
        "id": "sfOP00bXcTyD"
      },
      "outputs": [
        {
          "output_type": "stream",
          "name": "stdout",
          "text": [
            "Esta es la matriz: \n",
            "1 2 3 4 \n",
            "5 6 7 8 \n",
            "9 10 11 12 \n"
          ]
        }
      ],
      "source": [
        "# Ejecuta el programa Matriz\n",
        "! java Matriz"
      ]
    },
    {
      "cell_type": "markdown",
      "source": [
        "##2. Acceder a un elemento por su índice:"
      ],
      "metadata": {
        "id": "cWSjw_5DK87S"
      }
    },
    {
      "cell_type": "code",
      "source": [
        "# Escribe el programa MatElemento.java\n",
        "%%writefile MatElemento.java\n",
        "\n",
        "\n",
        "public class MatElemento {\n",
        "\n",
        "  public static void main(String[] args)\n",
        "  {\n",
        "    int[][] miMatriz = {  { 1,  2,  3,  4 },\n",
        "                          { 5,  6,  7,  8 },\n",
        "                          { 9, 10, 11, 12 }\n",
        "                        };\n",
        "\n",
        "    // Acceder al elemento en la fila 1, columna 2\n",
        "    System.out.print(\"El elemento en la fila 1 y columna 2 es: \");\n",
        "    System.out.println(miMatriz[1][2]); // Imprime: 7\n",
        "\n",
        "\n",
        "  }\n",
        "}\n"
      ],
      "metadata": {
        "colab": {
          "base_uri": "https://localhost:8080/"
        },
        "outputId": "cc697bc7-8961-4e47-d6d7-933311ce3509",
        "id": "s59kFLihK-Fz"
      },
      "execution_count": 38,
      "outputs": [
        {
          "output_type": "stream",
          "name": "stdout",
          "text": [
            "Overwriting MatElemento.java\n"
          ]
        }
      ]
    },
    {
      "cell_type": "code",
      "execution_count": 39,
      "metadata": {
        "id": "8BYNlZgMK-F0"
      },
      "outputs": [],
      "source": [
        "# Compila el programa MatElemento.java\n",
        "! javac MatElemento.java"
      ]
    },
    {
      "cell_type": "code",
      "execution_count": 40,
      "metadata": {
        "colab": {
          "base_uri": "https://localhost:8080/"
        },
        "outputId": "f57c22d9-30ee-4329-f178-c80c5b63923d",
        "id": "hmS3tc_WK-F1"
      },
      "outputs": [
        {
          "output_type": "stream",
          "name": "stdout",
          "text": [
            "El elemento en la fila 1 y columna 2 es: 7\n"
          ]
        }
      ],
      "source": [
        "# Ejecuta el programa MatElemento\n",
        "! java MatElemento"
      ]
    },
    {
      "cell_type": "markdown",
      "source": [
        "##3. Modificar un elemento por su índice:"
      ],
      "metadata": {
        "id": "E-DY47IPVDOY"
      }
    },
    {
      "cell_type": "code",
      "source": [
        "# Escribe el programa MatModifica.java\n",
        "%%writefile MatModifica.java\n",
        "\n",
        "\n",
        "public class MatModifica {\n",
        "\n",
        "  public static void main(String[] args)\n",
        "  {\n",
        "    int[][] miMatriz = {  { 1,  2,  3,  4 },\n",
        "                          { 5,  6,  7,  8 },\n",
        "                          { 9, 10, 11, 12 }\n",
        "                        };\n",
        "    // Modifica el elemento en la fila 1 y columna 2\n",
        "    miMatriz[1][2] = 44;\n",
        "\n",
        "    // Imprime la matriz\n",
        "    System.out.println(\"Esta es la matriz modificada: \");\n",
        "    for (int i = 0; i < 3; i++) {\n",
        "        for (int j = 0; j < 4; j++) {\n",
        "            System.out.print(miMatriz[i][j] + \" \");\n",
        "        }\n",
        "        System.out.println();\n",
        "    }\n",
        "\n",
        "\n",
        "  }\n",
        "}\n"
      ],
      "metadata": {
        "colab": {
          "base_uri": "https://localhost:8080/"
        },
        "outputId": "99f7d0c2-5c15-44fa-940d-7c76209452ca",
        "id": "3cXESJ_TVGpd"
      },
      "execution_count": 43,
      "outputs": [
        {
          "output_type": "stream",
          "name": "stdout",
          "text": [
            "Overwriting MatModifica.java\n"
          ]
        }
      ]
    },
    {
      "cell_type": "code",
      "execution_count": 44,
      "metadata": {
        "id": "bza1uuyxVGpd"
      },
      "outputs": [],
      "source": [
        "# Compila el programa MatModifica.java\n",
        "! javac MatModifica.java"
      ]
    },
    {
      "cell_type": "code",
      "execution_count": 45,
      "metadata": {
        "colab": {
          "base_uri": "https://localhost:8080/"
        },
        "outputId": "b82c2ff7-d760-421f-9614-88be02f0dc3c",
        "id": "TuLhQISRVGpe"
      },
      "outputs": [
        {
          "output_type": "stream",
          "name": "stdout",
          "text": [
            "Esta es la matriz modificada: \n",
            "1 2 3 4 \n",
            "5 6 44 8 \n",
            "9 10 11 12 \n"
          ]
        }
      ],
      "source": [
        "# Ejecuta el programa MatModifica\n",
        "! java MatModifica"
      ]
    },
    {
      "cell_type": "markdown",
      "source": [
        "##4. Obtener el número de filas y columnas de la matriz:"
      ],
      "metadata": {
        "id": "ci6SLXG-V8Tg"
      }
    },
    {
      "cell_type": "code",
      "source": [
        "# Escribe el programa MatFilCol.java\n",
        "%%writefile MatFilCol.java\n",
        "\n",
        "\n",
        "public class MatFilCol {\n",
        "\n",
        "  public static void main(String[] args)\n",
        "  {\n",
        "    int[][] miMatriz = {  { 1,  2,  3,  4 },\n",
        "                          { 5,  6,  7,  8 },\n",
        "                          { 9, 10, 11, 12 }\n",
        "                        };\n",
        "\n",
        "    // Obtener el número de filas y columnas de la matriz\n",
        "    System.out.println(\"Filas: \" + miMatriz.length + \" y columnas: \" + miMatriz[0].length);\n",
        "\n",
        "  }\n",
        "}\n"
      ],
      "metadata": {
        "colab": {
          "base_uri": "https://localhost:8080/"
        },
        "outputId": "74efd57f-e9b7-4ff4-ca0f-20ae8699d79a",
        "id": "vIrBL6GpWEC-"
      },
      "execution_count": 53,
      "outputs": [
        {
          "output_type": "stream",
          "name": "stdout",
          "text": [
            "Overwriting MatFilCol.java\n"
          ]
        }
      ]
    },
    {
      "cell_type": "code",
      "execution_count": 54,
      "metadata": {
        "id": "dOwI4YUPWEC_"
      },
      "outputs": [],
      "source": [
        "# Compila el programa MatFilCol.java\n",
        "! javac MatFilCol.java"
      ]
    },
    {
      "cell_type": "code",
      "execution_count": 55,
      "metadata": {
        "colab": {
          "base_uri": "https://localhost:8080/"
        },
        "outputId": "02f90260-317a-4026-8846-56b16ab9535c",
        "id": "ZqmXfQ_NWEDA"
      },
      "outputs": [
        {
          "output_type": "stream",
          "name": "stdout",
          "text": [
            "Filas: 3 y columnas: 4\n"
          ]
        }
      ],
      "source": [
        "# Ejecuta el programa MatFilCol\n",
        "! java MatFilCol"
      ]
    },
    {
      "cell_type": "markdown",
      "source": [
        "##5. Sumar todos los elementos de la matriz:"
      ],
      "metadata": {
        "id": "p49jHju7X7Fx"
      }
    },
    {
      "cell_type": "code",
      "source": [
        "# Escribe el programa MatSuma.java\n",
        "%%writefile MatSuma.java\n",
        "\n",
        "\n",
        "public class MatSuma {\n",
        "\n",
        "  public static void main(String[] args)\n",
        "  {\n",
        "    int[][] miMatriz = {  { 1,  2,  3,  4 },\n",
        "                          { 5,  6,  7,  8 },\n",
        "                          { 9, 10, 11, 12 }\n",
        "                        };\n",
        "\n",
        "    int N = miMatriz.length; // filas\n",
        "    int M = miMatriz[0].length; // columnas\n",
        "\n",
        "    // Suma todos los elementos de la matriz\n",
        "    int suma = 0; // inicia en cero la suma\n",
        "    // recorre cada fila\n",
        "    for (int i = 0; i < N; i++) {\n",
        "      // recorre cada columna de la fila\n",
        "      for (int j = 0; j < M; j++) {\n",
        "        // suma cada elemento\n",
        "        suma += miMatriz[i][j];\n",
        "    }\n",
        "    }\n",
        "    System.out.println(\"La suma de todos los elementos es \" + suma);\n",
        "\n",
        "  }\n",
        "}\n"
      ],
      "metadata": {
        "colab": {
          "base_uri": "https://localhost:8080/"
        },
        "outputId": "ad94d007-44f8-4054-ed91-7a91fe6a7e5f",
        "id": "jcrvy8DcYAOa"
      },
      "execution_count": 67,
      "outputs": [
        {
          "output_type": "stream",
          "name": "stdout",
          "text": [
            "Overwriting MatSuma.java\n"
          ]
        }
      ]
    },
    {
      "cell_type": "code",
      "execution_count": 68,
      "metadata": {
        "id": "Y26A6VmAYAPG"
      },
      "outputs": [],
      "source": [
        "# Compila el programa MatSuma.java\n",
        "! javac MatSuma.java"
      ]
    },
    {
      "cell_type": "code",
      "execution_count": 69,
      "metadata": {
        "colab": {
          "base_uri": "https://localhost:8080/"
        },
        "outputId": "501966fd-d2d1-4114-d3f2-4605adf9a417",
        "id": "IuK01hD5YAPI"
      },
      "outputs": [
        {
          "output_type": "stream",
          "name": "stdout",
          "text": [
            "La suma de todos los elementos es 78\n"
          ]
        }
      ],
      "source": [
        "# Ejecuta el programa MatSuma\n",
        "! java MatSuma"
      ]
    },
    {
      "cell_type": "markdown",
      "source": [
        "##6. Encontrar el máximo y el mínimo de los elementos de la matriz:"
      ],
      "metadata": {
        "id": "omavJemEdKu4"
      }
    },
    {
      "cell_type": "code",
      "source": [
        "# Escribe el programa MatMaxMin.java\n",
        "%%writefile MatMaxMin.java\n",
        "\n",
        "\n",
        "public class MatMaxMin {\n",
        "\n",
        "  public static void main(String[] args)\n",
        "  {\n",
        "    int[][] miMatriz = {  { 1,  2,  3,  4 },\n",
        "                          { 5,  6,  7,  8 },\n",
        "                          { 9, 10, 11, 12 }\n",
        "                        };\n",
        "\n",
        "    // Número de filas y columnas\n",
        "    int N = miMatriz.length; // filas\n",
        "    int M = miMatriz[0].length; // columnas\n",
        "\n",
        "    // Define max y min iniciales\n",
        "    int min = Integer.MAX_VALUE;\n",
        "    int max = Integer.MIN_VALUE;\n",
        "\n",
        "    // Encuentra el máximo\n",
        "    for(int i = 0; i < N; i++) {\n",
        "      for(int j = 0; j < M; j++) {\n",
        "        if(max < miMatriz[i][j]) max = miMatriz[i][j];\n",
        "      }\n",
        "    }\n",
        "\n",
        "    // Encuentra el mínimo\n",
        "    for(int i = 0; i < N; i++) {\n",
        "      for(int j = 0; j < M; j++) {\n",
        "        if(min > miMatriz[i][j]) min = miMatriz[i][j];\n",
        "      }\n",
        "    }\n",
        "    System.out.println(\"El máximo es = \" + max + \", y el mínimo es = \" + min);\n",
        "\n",
        "  }\n",
        "}\n"
      ],
      "metadata": {
        "colab": {
          "base_uri": "https://localhost:8080/"
        },
        "outputId": "eab7d19b-ee0a-4781-ecca-eab35a710174",
        "id": "QZJY8igkdP7R"
      },
      "execution_count": 72,
      "outputs": [
        {
          "output_type": "stream",
          "name": "stdout",
          "text": [
            "Overwriting MatMaxMin.java\n"
          ]
        }
      ]
    },
    {
      "cell_type": "code",
      "execution_count": 73,
      "metadata": {
        "id": "9uxVg4SJdP7S"
      },
      "outputs": [],
      "source": [
        "# Compila el programa MatMaxMin.java\n",
        "! javac MatMaxMin.java"
      ]
    },
    {
      "cell_type": "markdown",
      "source": [],
      "metadata": {
        "id": "cOuzXQ9we5Sd"
      }
    },
    {
      "cell_type": "code",
      "execution_count": 74,
      "metadata": {
        "colab": {
          "base_uri": "https://localhost:8080/"
        },
        "outputId": "6d9a6619-9bc4-4a8e-f30f-b73c832491a9",
        "id": "-RtV9MLtdP7U"
      },
      "outputs": [
        {
          "output_type": "stream",
          "name": "stdout",
          "text": [
            "El máximo es = 12, y el mínimo es = 1\n"
          ]
        }
      ],
      "source": [
        "# Ejecuta el programa MatMaxMin\n",
        "! java MatMaxMin"
      ]
    },
    {
      "cell_type": "markdown",
      "source": [
        "##7. Ordenar los elementos de la matriz:"
      ],
      "metadata": {
        "id": "1uK0KPR8e8zW"
      }
    },
    {
      "cell_type": "code",
      "source": [
        "# Escribe el programa MatOrden.java\n",
        "%%writefile MatOrden.java\n",
        "\n",
        "\n",
        "import java.util.*;\n",
        "\n",
        "\n",
        "public class MatOrden {\n",
        "\n",
        "  public static void main(String[] args)\n",
        "  {\n",
        "\n",
        "    // Matriz inicial\n",
        "    List<List<Integer> > v\n",
        "        = new ArrayList<>(Arrays.asList(\n",
        "            new ArrayList<>(Arrays.asList(5, 4, 7)),\n",
        "            new ArrayList<>(Arrays.asList(1, 3, 8)),\n",
        "            new ArrayList<>(Arrays.asList(2, 9, 6)))\n",
        "          );\n",
        "\n",
        "\n",
        "    // Convertir matriz a vector\n",
        "    int n = v.size();\n",
        "    List<Integer> x = new ArrayList<>();\n",
        "    for (int i = 0; i < n; i++) {\n",
        "        for (int j = 0; j < n; j++) {\n",
        "            x.add(v.get(i).get(j));\n",
        "        }\n",
        "    }\n",
        "\n",
        "    // Ordenar vector\n",
        "    Collections.sort(x);\n",
        "    int k = 0;\n",
        "    for (int i = 0; i < n; i++) {\n",
        "        for (int j = 0; j < n; j++) {\n",
        "            v.get(i).set(j, x.get(k++));\n",
        "        }\n",
        "    }\n",
        "\n",
        "    // Imprimir matriz ordenada\n",
        "    System.out.println(\"Matriz ordenada:\");\n",
        "    for (List<Integer> row : v) {\n",
        "        for (int num : row) {\n",
        "            System.out.print(num + \" \");\n",
        "        }\n",
        "        System.out.println();\n",
        "    }\n",
        "\n",
        "  }\n",
        "}\n"
      ],
      "metadata": {
        "colab": {
          "base_uri": "https://localhost:8080/"
        },
        "outputId": "991a8bd4-f0bc-41e2-9551-4f9e03b2c871",
        "id": "B_KFVVjffA8i"
      },
      "execution_count": 80,
      "outputs": [
        {
          "output_type": "stream",
          "name": "stdout",
          "text": [
            "Overwriting MatOrden.java\n"
          ]
        }
      ]
    },
    {
      "cell_type": "code",
      "execution_count": 81,
      "metadata": {
        "id": "gZkbD96jfA9b"
      },
      "outputs": [],
      "source": [
        "# Compila el programa MatOrden.java\n",
        "! javac MatOrden.java"
      ]
    },
    {
      "cell_type": "markdown",
      "source": [],
      "metadata": {
        "id": "K_wzgLfffA9c"
      }
    },
    {
      "cell_type": "code",
      "execution_count": 82,
      "metadata": {
        "colab": {
          "base_uri": "https://localhost:8080/"
        },
        "outputId": "de29134b-5fa9-4c13-eaa5-cb1574b9d2e9",
        "id": "C6rcNnKpfA9d"
      },
      "outputs": [
        {
          "output_type": "stream",
          "name": "stdout",
          "text": [
            "Matriz ordenada:\n",
            "1 2 3 \n",
            "4 5 6 \n",
            "7 8 9 \n"
          ]
        }
      ],
      "source": [
        "# Ejecuta el programa MatOrden\n",
        "! java MatOrden"
      ]
    },
    {
      "cell_type": "markdown",
      "source": [
        "##1. Arreglo multidimensional"
      ],
      "metadata": {
        "id": "09ofjooqjwvz"
      }
    },
    {
      "cell_type": "code",
      "source": [
        "# Escribe el programa ArrMultidim.java\n",
        "%%writefile ArrMultidim.java\n",
        "\n",
        "\n",
        "import java.util.*;\n",
        "\n",
        "\n",
        "public class ArrMultidim {\n",
        "\n",
        "  public static void main(String[] args)\n",
        "  {\n",
        "\n",
        "    int[][][] arr = { { { 1, 2 }, { 3, 4 } }, { { 5, 6 }, { 7, 8 } } };\n",
        "\n",
        "      for (int i = 0; i < 2; i++)\n",
        "        for (int j = 0; j < 2; j++)\n",
        "          for (int z = 0; z < 2; z++)\n",
        "            System.out.println(\"arr[\" + i\n",
        "                            + \"][\"\n",
        "                            + j + \"][\"\n",
        "                            + z + \"] = \"\n",
        "                            + arr[i][j][z]);\n",
        "\n",
        "  }\n",
        "}\n"
      ],
      "metadata": {
        "colab": {
          "base_uri": "https://localhost:8080/"
        },
        "outputId": "1ef6db21-79cd-4005-db71-f0b65ccf8d2a",
        "id": "m3GxSyDdkpiA"
      },
      "execution_count": 83,
      "outputs": [
        {
          "output_type": "stream",
          "name": "stdout",
          "text": [
            "Writing ArrMultidim.java\n"
          ]
        }
      ]
    },
    {
      "cell_type": "code",
      "execution_count": 84,
      "metadata": {
        "id": "stAIrNQwkpiF"
      },
      "outputs": [],
      "source": [
        "# Compila el programa ArrMultidim.java\n",
        "! javac ArrMultidim.java"
      ]
    },
    {
      "cell_type": "code",
      "execution_count": 85,
      "metadata": {
        "colab": {
          "base_uri": "https://localhost:8080/"
        },
        "outputId": "ff46df1a-2142-449c-deac-97626e13c186",
        "id": "h3nzNAjNkpiG"
      },
      "outputs": [
        {
          "output_type": "stream",
          "name": "stdout",
          "text": [
            "arr[0][0][0] = 1\n",
            "arr[0][0][1] = 2\n",
            "arr[0][1][0] = 3\n",
            "arr[0][1][1] = 4\n",
            "arr[1][0][0] = 5\n",
            "arr[1][0][1] = 6\n",
            "arr[1][1][0] = 7\n",
            "arr[1][1][1] = 8\n"
          ]
        }
      ],
      "source": [
        "# Ejecuta el programa ArrMultidim\n",
        "! java ArrMultidim"
      ]
    }
  ]
}