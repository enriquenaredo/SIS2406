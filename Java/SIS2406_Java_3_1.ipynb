{
  "nbformat": 4,
  "nbformat_minor": 0,
  "metadata": {
    "colab": {
      "provenance": []
    },
    "kernelspec": {
      "name": "python3",
      "display_name": "Python 3"
    },
    "language_info": {
      "name": "python"
    }
  },
  "cells": [
    {
      "cell_type": "markdown",
      "source": [
        "## Primavera 2024\n",
        "\n",
        "<div>\n",
        "<img src=\"https://drive.google.com/uc?export=view&id=1lnE8Nfogg-LgNdtWcnYPR4-7DE9TzcP7\" width=\"250\"/>\n",
        "</div>\n",
        "\n",
        "\n",
        "\n",
        "### SIS2406_Java_3.1\n",
        "\n",
        "**Enrique Naredo García**\n",
        "\n",
        "<font size = 2>\n",
        "©️ Todos los derechos reservados. All rights reserved.\n",
        "\n",
        "*Nota: El presente documento es una herramienta diseñada única y exclusivamente para los estudiantes de la asignatura arriba mencionada. Se recuerda no compartir esta información fuera de los integrantes registrados en este curso. La reproducción total o parcial de este documento requiere autorización por escrito del titular del copyright.*\n",
        "</font>\n",
        "\n"
      ],
      "metadata": {
        "id": "sA0oqJRlYbHI"
      }
    },
    {
      "cell_type": "markdown",
      "source": [
        "# PILAS"
      ],
      "metadata": {
        "id": "gXYEg1iESDdE"
      }
    },
    {
      "cell_type": "markdown",
      "source": [
        "Son colecciones de elementos ordenados que únicamente permiten dos acciones:\n",
        "\n",
        "* Añadir un elemento a la pila.\n",
        "* Sacar un elemento de la pila.\n",
        "\n",
        "La peculiaridad es que el último elemento en entrar es el primero en salir.\n",
        "\n",
        "* En inglés se conocen como estructuras LIFO (Last In First Out).\n",
        "\n",
        "* Las podemos crear como listas normales y añadir elementos al final con el append()."
      ],
      "metadata": {
        "id": "A4UMmSW4dDc0"
      }
    },
    {
      "cell_type": "markdown",
      "source": [
        "## Pila usando lista ligada"
      ],
      "metadata": {
        "id": "eMf_bnGwW1mg"
      }
    },
    {
      "cell_type": "markdown",
      "source": [
        "Implementación de una pila utilizando una lista ligada."
      ],
      "metadata": {
        "id": "_KJZ0FvnrHma"
      }
    },
    {
      "cell_type": "code",
      "source": [
        "# Escribe el programa Pilota.java\n",
        "%%writefile Pilota.java\n",
        "\n",
        "\n",
        "\n",
        "/*  se crea una clase para los nodos */\n",
        "class Nodita {\n",
        "  public int dato;\n",
        "  public Nodita siguiente;\n",
        "\n",
        "  // constructor (inicializa)\n",
        "  public Nodita(int dato) {\n",
        "    this.dato = dato;\n",
        "    siguiente = null;\n",
        "\n",
        "  }\n",
        "}\n",
        "\n",
        "\n",
        "\n",
        "/* se crea la clase para las pilas */\n",
        "public class Pilota {\n",
        "  private Nodita fin;\n",
        "  private int tamanio;\n",
        "\n",
        "  // constructor (inicializa)\n",
        "  public Pilota() {\n",
        "    fin = null;\n",
        "  }\n",
        "\n",
        "\n",
        "  // verifica si la pila esta vacía\n",
        "  public boolean vacia() {\n",
        "    if (fin == null) {\n",
        "      //System.out.println(\"Pila Vacía\");\n",
        "      System.out.println(\"\\033[2;31mPila Vacía\\33[30m\");\n",
        "      return true;\n",
        "    } else {\n",
        "      return false;\n",
        "    }\n",
        "  }\n",
        "\n",
        "\n",
        "  // obtiene el tamaño actual de la pila\n",
        "  public int getTamanio() {\n",
        "    return tamanio;\n",
        "  }\n",
        "\n",
        "\n",
        "  // obtiene el elemento al final de la pila\n",
        "  public int getFinal() {\n",
        "    if (vacia())\n",
        "      return 0;\n",
        "    else\n",
        "      return fin.dato;\n",
        "  }\n",
        "\n",
        "\n",
        "  // agrega (push) un dato en la pila\n",
        "  public void mete(int dato) {\n",
        "    Nodita nod1t0 = new Nodita(dato);\n",
        "    nod1t0.dato = dato;\n",
        "    nod1t0.siguiente = fin;\n",
        "    fin = nod1t0;\n",
        "    tamanio++;\n",
        "  }\n",
        "\n",
        "\n",
        "  // elimina (pop) un dato de la pila\n",
        "  public void saca() {\n",
        "    if (vacia())\n",
        "      System.out.println(\"No hay nada\");\n",
        "    else {\n",
        "      Nodita quita = fin;\n",
        "      fin = fin.siguiente;\n",
        "      System.out.println(\"Elemento eliminado: \" + quita.dato);\n",
        "      tamanio--;\n",
        "    }\n",
        "  }\n",
        "\n",
        "\n",
        "  // impresión de la pila\n",
        "  public void imprime() {\n",
        "    if (vacia())\n",
        "      System.out.println(\"No hay nada\");\n",
        "    else {\n",
        "      System.out.print(\"Pila: \");\n",
        "      Nodita temporal = fin;\n",
        "      while (temporal != null) {\n",
        "        if (temporal.siguiente == null)\n",
        "          System.out.print(temporal.dato);\n",
        "        else {\n",
        "          System.out.print(temporal.dato + \"=>\");\n",
        "        }\n",
        "        temporal = temporal.siguiente;\n",
        "      }\n",
        "      System.out.println();\n",
        "    }\n",
        "  }\n",
        "\n",
        "\n",
        "  /*  Casos de uso */\n",
        "  public static void main(String[] args) {\n",
        "    Pilota pilis = new Pilota();\n",
        "\n",
        "    // agrega elementos\n",
        "    for (int i = 1; i <= 20; i += 2) {\n",
        "      pilis.mete(i);\n",
        "    }\n",
        "\n",
        "    // imprime la lista\n",
        "    pilis.imprime();\n",
        "\n",
        "    System.out.println(\"Tamaño de la Pila: \" + pilis.getTamanio());\n",
        "    System.out.println(\"Elemento al final de la Pila: \" + pilis.getFinal());\n",
        "\n",
        "    // elimina elementos\n",
        "    for (int i = 1; i <= 6; i++) {\n",
        "      pilis.saca();\n",
        "    }\n",
        "\n",
        "    // imprime la lista\n",
        "    pilis.imprime();\n",
        "\n",
        "    // elimina más elementos\n",
        "    for (int i = 1; i <= 6; i++) {\n",
        "      pilis.saca();\n",
        "    }\n",
        "\n",
        "    // imprime la lista\n",
        "    pilis.imprime();\n",
        "  }\n",
        "\n",
        "}\n"
      ],
      "metadata": {
        "colab": {
          "base_uri": "https://localhost:8080/"
        },
        "id": "Z4KwjYDUOYjO",
        "outputId": "e4451a37-8f36-409d-e280-684481c5df6c"
      },
      "execution_count": 63,
      "outputs": [
        {
          "output_type": "stream",
          "name": "stdout",
          "text": [
            "Overwriting Pilota.java\n"
          ]
        }
      ]
    },
    {
      "cell_type": "code",
      "execution_count": 65,
      "metadata": {
        "id": "r9fm17AUayLP"
      },
      "outputs": [],
      "source": [
        "# Compila el programa Pilota.java\n",
        "! javac Pilota.java"
      ]
    },
    {
      "cell_type": "code",
      "execution_count": 66,
      "metadata": {
        "id": "sLlxS7a3ayLQ",
        "colab": {
          "base_uri": "https://localhost:8080/"
        },
        "outputId": "846e2b47-102a-4e6e-a5de-1dbfae5d352f"
      },
      "outputs": [
        {
          "output_type": "stream",
          "name": "stdout",
          "text": [
            "Pila: 19=>17=>15=>13=>11=>9=>7=>5=>3=>1\n",
            "Tamaño de la Pila: 10\n",
            "Elemento al final de la Pila: 19\n",
            "Elemento eliminado: 19\n",
            "Elemento eliminado: 17\n",
            "Elemento eliminado: 15\n",
            "Elemento eliminado: 13\n",
            "Elemento eliminado: 11\n",
            "Elemento eliminado: 9\n",
            "Pila: 7=>5=>3=>1\n",
            "Elemento eliminado: 7\n",
            "Elemento eliminado: 5\n",
            "Elemento eliminado: 3\n",
            "Elemento eliminado: 1\n",
            "\u001b[2;31mPila Vacía\u001b[30m\n",
            "No hay nada\n",
            "\u001b[2;31mPila Vacía\u001b[30m\n",
            "No hay nada\n",
            "\u001b[2;31mPila Vacía\u001b[30m\n",
            "No hay nada\n"
          ]
        }
      ],
      "source": [
        "# Ejecuta el programa Pilota\n",
        "! java Pilota"
      ]
    }
  ]
}