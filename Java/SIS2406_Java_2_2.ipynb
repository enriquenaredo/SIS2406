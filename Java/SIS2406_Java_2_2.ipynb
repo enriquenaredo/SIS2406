{
  "nbformat": 4,
  "nbformat_minor": 0,
  "metadata": {
    "colab": {
      "provenance": []
    },
    "kernelspec": {
      "name": "python3",
      "display_name": "Python 3"
    },
    "language_info": {
      "name": "python"
    }
  },
  "cells": [
    {
      "cell_type": "markdown",
      "source": [
        "#SIS2406 - Estructura de Datos y Algoritmos\n",
        "## Primavera 2024\n",
        "\n",
        "<div>\n",
        "<img src=\"https://drive.google.com/uc?export=view&id=1lnE8Nfogg-LgNdtWcnYPR4-7DE9TzcP7\" width=\"250\"/>\n",
        "</div>\n",
        "\n",
        "\n",
        "\n",
        "### SIS2406_Java_2.2\n",
        "\n",
        "**Enrique Naredo García**\n",
        "\n",
        "<font size = 2>\n",
        "©️ Todos los derechos reservados. All rights reserved.\n",
        "\n",
        "*Nota: El presente documento es una herramienta diseñada única y exclusivamente para los estudiantes de la asignatura arriba mencionada. Se recuerda no compartir esta información fuera de los integrantes registrados en este curso. La reproducción total o parcial de este documento requiere autorización por escrito del titular del copyright.*\n",
        "</font>"
      ],
      "metadata": {
        "id": "l7tkDeAaDX7i"
      }
    },
    {
      "cell_type": "markdown",
      "source": [
        "#2.2 Listas circulares"
      ],
      "metadata": {
        "id": "1F4oAyeFgQ84"
      }
    },
    {
      "cell_type": "markdown",
      "source": [
        "<div>\n",
        "<img src=\"https://drive.google.com/uc?export=view&id=1YlzCKSj4vJUdO4ywJZw94QTgG6HVCkx4\" width=\"450\"/>\n",
        "</div>\n"
      ],
      "metadata": {
        "id": "4_tj5gjNhdq4"
      }
    },
    {
      "cell_type": "markdown",
      "source": [
        "##Introducción\n",
        "\n",
        "Una lista circular es una lista lineal en la que el último nodo apunta al primero.\n",
        "\n",
        "* Las listas circulares evitan excepciones en la operaciones que se realicen sobre ellas.\n",
        "* No existen casos especiales, cada nodo siempre tiene uno anterior y uno siguiente.\n",
        "* En algunas listas circulares se añade un nodo especial de cabecera, de ese modo se evita la única excepción posible, la de que la lista esté vacía.\n",
        "\n",
        "* En el caso de las circulares, apuntará a un nodo cualquiera de la lista.\n",
        "\n"
      ],
      "metadata": {
        "id": "5jDVEeq5hT99"
      }
    },
    {
      "cell_type": "markdown",
      "source": [
        "###Lista circular\n",
        "\n",
        "A pesar de que las listas circulares simplifiquen las operaciones sobre ellas, también introducen algunas complicaciones.\n",
        "\n",
        "* Por ejemplo, en un proceso de búsqueda, no es tan sencillo dar por terminada la búsqueda cuando el elemento buscado no existe.\n",
        "* Por ese motivo se suele resaltar un nodo en particular, que no tiene por qué ser siempre el mismo.\n",
        "\n",
        "* Cualquier nodo puede cumplir ese propósito, y puede variar durante la ejecución del programa.\n",
        "\n",
        "* Otra alternativa que se usa a menudo, y que simplifica en cierto modo el uso de listas circulares es crear un nodo especial de hará la función de nodo cabecera.\n",
        "\n",
        "* De este modo, la lista nunca estará vacía, y se eliminan casi todos los casos especiales."
      ],
      "metadata": {
        "id": "J-55uRPiok9H"
      }
    },
    {
      "cell_type": "markdown",
      "source": [
        "En términos de implementación, las listas enlazadas circulares son muy similares a las listas enlazadas individualmente.\n",
        "\n",
        "* La única diferencia es que puedes definir el punto de partida cuando recorre la lista.\n",
        "\n",
        "* Una de las ventajas de las listas enlazadas circulares es que puede recorrer toda la lista comenzando en cualquier nodo.\n",
        "\n",
        "* Dado que el último nodo apunta al encabezado de la lista, debe asegurarse de dejar de atravesar cuando llegue al punto de partida.\n",
        "\n",
        "* De lo contrario, terminarás en un bucle infinito."
      ],
      "metadata": {
        "id": "Lc0eINxZqPaS"
      }
    },
    {
      "cell_type": "markdown",
      "source": [
        "## Lista Circular"
      ],
      "metadata": {
        "id": "3C6AeCe7TZ85"
      }
    },
    {
      "cell_type": "code",
      "execution_count": 22,
      "metadata": {
        "id": "M748rsbxITBu",
        "colab": {
          "base_uri": "https://localhost:8080/"
        },
        "outputId": "8cae7d10-6a72-4a69-8dec-dc6ee7b71c1d"
      },
      "outputs": [
        {
          "output_type": "stream",
          "name": "stdout",
          "text": [
            "Overwriting ListaCircular.java\n"
          ]
        }
      ],
      "source": [
        "# Escribe el programa ListaCircular.java\n",
        "%%writefile ListaCircular.java\n",
        "\n",
        "\n",
        "// Implementación de lista circular en Java\n",
        "\n",
        "\n",
        "class Nodo {\n",
        "    int dato;\n",
        "    Nodo sucesor;\n",
        "\n",
        "    public Nodo(int d) {\n",
        "        dato = d;\n",
        "        sucesor = null;\n",
        "    }\n",
        "}\n",
        "\n",
        "\n",
        "\n",
        "public class ListaCircular {\n",
        "\n",
        "\n",
        "    private Nodo inicio;\n",
        "\n",
        "    public ListaCircular() {\n",
        "        inicio = null;\n",
        "    }\n",
        "\n",
        "\n",
        "\n",
        "    public void agregaNodo(int dato) {\n",
        "        Nodo nodo_nuevo = new Nodo(dato);\n",
        "        if (inicio == null) {\n",
        "            inicio = nodo_nuevo;\n",
        "            nodo_nuevo.sucesor = inicio;\n",
        "        } else {\n",
        "            Nodo actual = inicio;\n",
        "            while (actual.sucesor != inicio) {\n",
        "                actual = actual.sucesor;\n",
        "            }\n",
        "            actual.sucesor = nodo_nuevo;\n",
        "            nodo_nuevo.sucesor = inicio;\n",
        "        }\n",
        "    }\n",
        "\n",
        "\n",
        "    public void eliminaNodo(int dato) {\n",
        "        if (inicio != null) {\n",
        "            if (inicio.dato == dato) {\n",
        "                Nodo nodo_actual = inicio;\n",
        "                while (nodo_actual.sucesor != inicio) {\n",
        "                    nodo_actual = nodo_actual.sucesor;\n",
        "                }\n",
        "                if (inicio == inicio.sucesor) {\n",
        "                    inicio = null;\n",
        "                } else {\n",
        "                    nodo_actual.sucesor = inicio.sucesor;\n",
        "                    inicio = inicio.sucesor;\n",
        "                }\n",
        "            } else {\n",
        "                Nodo nodo_actual = inicio;\n",
        "                Nodo nodo_anterior = null;\n",
        "                while (nodo_actual.sucesor != inicio) {\n",
        "                    nodo_anterior = nodo_actual;\n",
        "                    nodo_actual = nodo_actual.sucesor;\n",
        "                    if (nodo_actual.dato == dato) {\n",
        "                        nodo_anterior.sucesor = nodo_actual.sucesor;\n",
        "                        nodo_actual = nodo_actual.sucesor;\n",
        "                    } else {\n",
        "                        System.out.println(\"El nodo \" + dato + \" no se encuentra en la lista!!!\");\n",
        "                    }\n",
        "                }\n",
        "            }\n",
        "        }\n",
        "    }\n",
        "\n",
        "\n",
        "\n",
        "    public void imprimeLC() {\n",
        "        if (inicio == null) {\n",
        "            System.out.println(\"La lista esta vacia.\");\n",
        "            return;\n",
        "        }\n",
        "        Nodo actual = inicio;\n",
        "        do {\n",
        "            System.out.print(actual.dato + \" => \");\n",
        "            actual = actual.sucesor;\n",
        "        } while (actual != inicio);\n",
        "        System.out.println(\"Inicio(\" + inicio.dato + \")\");\n",
        "    }\n",
        "\n",
        "\n",
        "\n",
        "    public static void main(String[] args) {\n",
        "\n",
        "        // Declara una lista circular\n",
        "        ListaCircular LC = new ListaCircular();\n",
        "\n",
        "        // Agrega algunos nodos\n",
        "        LC.agregaNodo(10);\n",
        "        LC.agregaNodo(20);\n",
        "        LC.agregaNodo(30);\n",
        "\n",
        "        // Imprime la lista\n",
        "        LC.imprimeLC();\n",
        "\n",
        "        // Elimina un nodo\n",
        "        LC.eliminaNodo(10);\n",
        "        // Imprime la lista\n",
        "        LC.imprimeLC();\n",
        "\n",
        "        // Elimina un nodo\n",
        "        LC.eliminaNodo(40);\n",
        "        // Imprime la lista\n",
        "        LC.imprimeLC();\n",
        "\n",
        "    }\n",
        "}"
      ]
    },
    {
      "cell_type": "code",
      "execution_count": 23,
      "metadata": {
        "id": "r9fm17AUayLP"
      },
      "outputs": [],
      "source": [
        "# Compila el programa ListaCircular.java\n",
        "! javac ListaCircular.java"
      ]
    },
    {
      "cell_type": "code",
      "execution_count": 24,
      "metadata": {
        "colab": {
          "base_uri": "https://localhost:8080/"
        },
        "outputId": "e540884c-e729-4b62-8425-505ef452ca7b",
        "id": "sLlxS7a3ayLQ"
      },
      "outputs": [
        {
          "output_type": "stream",
          "name": "stdout",
          "text": [
            "10 => 20 => 30 => Inicio(10)\n",
            "20 => 30 => Inicio(20)\n",
            "El nodo 40 no se encuentra en la lista!!!\n",
            "20 => 30 => Inicio(20)\n"
          ]
        }
      ],
      "source": [
        "# Ejecuta el programa ListaCircular\n",
        "! java ListaCircular"
      ]
    }
  ]
}