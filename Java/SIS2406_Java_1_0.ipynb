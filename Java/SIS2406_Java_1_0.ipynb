{
  "nbformat": 4,
  "nbformat_minor": 0,
  "metadata": {
    "colab": {
      "provenance": []
    },
    "kernelspec": {
      "name": "python3",
      "display_name": "Python 3"
    },
    "language_info": {
      "name": "python"
    }
  },
  "cells": [
    {
      "cell_type": "markdown",
      "source": [
        "#SIS2406 - Estructura de Datos y Algoritmos\n",
        "## Primavera 2024\n",
        "\n",
        "<div>\n",
        "<img src=\"https://drive.google.com/uc?export=view&id=1lnE8Nfogg-LgNdtWcnYPR4-7DE9TzcP7\" width=\"250\"/>\n",
        "</div>\n",
        "\n",
        "\n",
        "\n",
        "### SIS2406_Java_1.0\n",
        "\n",
        "**Enrique Naredo García**\n",
        "\n",
        "<font size = 2>\n",
        "©️ Todos los derechos reservados. All rights reserved.\n",
        "\n",
        "*Nota: El presente documento es una herramienta diseñada única y exclusivamente para los estudiantes de la asignatura arriba mencionada. Se recuerda no compartir esta información fuera de los integrantes registrados en este curso. La reproducción total o parcial de este documento requiere autorización por escrito del titular del copyright.*\n",
        "</font>"
      ],
      "metadata": {
        "id": "6YWAQEGL2DnK"
      }
    },
    {
      "cell_type": "markdown",
      "source": [
        "#Introducción"
      ],
      "metadata": {
        "id": "8mkZ4GUz5d1v"
      }
    },
    {
      "cell_type": "markdown",
      "source": [
        "En esta práctica se introduce los tipos de datos utilizados en Java.\n",
        "\n",
        "En cada sección se da una breve explicación y posteriormente se proporciona un ejemplo en código."
      ],
      "metadata": {
        "id": "hynKSiAG5csU"
      }
    },
    {
      "cell_type": "markdown",
      "source": [
        "**Notas:**\n",
        "\n",
        "* El código esta escrito en negrita y en color azul.\n",
        "* Los comentarios están escritos en color verde.\n",
        "* En Java el símbolo //, se utiliza para agregar un comentario (el cual no se ejecuta).\n",
        "* Se recomienda realizar la práctica utilizando el lenguaje de programación correspondiente.\n",
        "* Se recomienda realizar modificaciones al código para verificar y comprender de manera correcta el funcionamiento del mismo"
      ],
      "metadata": {
        "id": "law9jJto5Kg7"
      }
    },
    {
      "cell_type": "markdown",
      "source": [
        "##Instala Java\n",
        "\n",
        "**Nota importante:**
Corre la siguiente celda de código y selecciona el kernel de Java (change runtime type): java(IJava/J!), en la parte superior derecha, donde dice RAM y DISK."
      ],
      "metadata": {
        "id": "RNyD1IP84N1i"
      }
    },
    {
      "cell_type": "code",
      "source": [
        "# Instala el kernel de Java\n",
        "!pip install jbang\n",
        "import jbang\n",
        "jbang.exec(\"trust add https://github.com/jupyter-java\")\n",
        "print(jbang.exec(\"install-kernel@jupyter-java --java 21 --enable-preview\").stdout)"
      ],
      "metadata": {
        "colab": {
          "base_uri": "https://localhost:8080/"
        },
        "id": "4mmI5rFK30Xv",
        "outputId": "760922c8-176a-4ade-d415-f391e723e5b8"
      },
      "execution_count": null,
      "outputs": [
        {
          "output_type": "stream",
          "name": "stdout",
          "text": [
            "Collecting jbang\n",
            "  Downloading jbang-0.4.0-py3-none-any.whl (2.6 kB)\n",
            "Installing collected packages: jbang\n",
            "Successfully installed jbang-0.4.0\n",
            "Creating /root/.local/share/jupyter/kernels\n",
            "java (IJava/j!)-tcp kernel installed to /root/.local/share/jupyter/kernels/jbang-ijava-tcp/kernel.json\n",
            "java (IJava/j!) kernel installed to /root/.local/share/jupyter/kernels/jbang-ijava/kernel.json\n",
            "Additional file: /root/.local/share/jupyter/kernels/jbang-ijava/ipc_proxy_kernel.py\n",
            "For more information on this specific kernel: https://github.com/SpencerPark/IJava\n",
            "\n",
            "Brought to you by https://github.com/jupyter-java\n",
            "\n"
          ]
        }
      ]
    },
    {
      "cell_type": "markdown",
      "source": [
        "##Hola Mundo"
      ],
      "metadata": {
        "id": "Qqsv8akg8Hd_"
      }
    },
    {
      "cell_type": "code",
      "source": [
        "# Escribe el programa HolaMundo.java\n",
        "%%writefile HolaMundo.java\n",
        "\n",
        "public class HolaMundo {\n",
        "\n",
        "  public static void main(String[] args) {\n",
        "    System.out.println(\"Hola Mundo\");\n",
        "  }\n",
        "\n",
        "}"
      ],
      "metadata": {
        "colab": {
          "base_uri": "https://localhost:8080/"
        },
        "id": "JSIUvkNiB--8",
        "outputId": "8efa8530-9aca-47c5-c747-6c9250d4754a"
      },
      "execution_count": null,
      "outputs": [
        {
          "output_type": "stream",
          "name": "stdout",
          "text": [
            "Writing HolaMundo.java\n"
          ]
        }
      ]
    },
    {
      "cell_type": "code",
      "source": [
        "# Compila el programa HolaMundo.java\n",
        "! javac HolaMundo.java"
      ],
      "metadata": {
        "id": "29Dnse7BFXjm"
      },
      "execution_count": null,
      "outputs": []
    },
    {
      "cell_type": "code",
      "source": [
        "# Ejecuta el programa HolaMundo\n",
        "! java HolaMundo"
      ],
      "metadata": {
        "colab": {
          "base_uri": "https://localhost:8080/"
        },
        "id": "SzIL-ozHFwWQ",
        "outputId": "6e361ac6-a5e3-4c07-df3e-0af96ff036c1"
      },
      "execution_count": null,
      "outputs": [
        {
          "output_type": "stream",
          "name": "stdout",
          "text": [
            "Hola Mundo\n"
          ]
        }
      ]
    },
    {
      "cell_type": "markdown",
      "source": [
        "##Ejemplo\n",
        "\n",
        "Progama un poco más extenso ejemplificando los tipos de variables que definen datos en Java."
      ],
      "metadata": {
        "id": "0z8OuvJhXMSK"
      }
    },
    {
      "cell_type": "code",
      "source": [
        "# Escribe un programa más largo: Introduccion.java\n",
        "%%writefile Introduccion.java\n",
        "\n",
        "import java.io.*;\n",
        "import java.util.Scanner;\n",
        "import java.util.Arrays;\n",
        "\n",
        "// Ejemplo de enumeración\n",
        "enum DiaSemana {LUNES, MARTES, MIERCOLES, JUEVES, VIERNES, SABADO, DOMINGO};\n",
        "\n",
        "public class Introduccion {\n",
        "\n",
        "  public static void main(String[] args) {\n",
        "\n",
        "    // Ejemplo de entero (int)\n",
        "    int numeroEntero = 7; // asignamos el valor 7 al entero \"numeroEntero\"\n",
        "    System.out.println(numeroEntero + '\\n');\n",
        "\n",
        "    // Ejemplo de flotante (float)\n",
        "    float numeroFlotante = 2.5f; // asignamos el valor 2.5 al flotante \"numeroFlotante\"\n",
        "    System.out.println(numeroFlotante + '\\n');\n",
        "\n",
        "    // Ejemplo de String\n",
        "    String cadena = \"Hola, mundo!\"; // asignamos la cadena \"Hola, mundo!\" a la variable \"cadena\"\n",
        "    System.out.println(cadena);\n",
        "\n",
        "    // Ejemplo de booleano\n",
        "    boolean verdaderoFalso = true; // asignamos el valor true al booleano \"verdaderoFalso\"\n",
        "    System.out.println(verdaderoFalso);\n",
        "\n",
        "    // Ejemplo de arreglo\n",
        "    int[] arreglo = {3, 5, 7, 9, 11}; // asignamos un arreglo de enteros a la variable \"arreglo\"\n",
        "    // usando un  for\n",
        "    for (int numero: arreglo) {\n",
        "      System.out.println(numero);\n",
        "    }\n",
        "    // usando la librería de Arrays\n",
        "    System.out.println(\"Estos son los números: \" + Arrays.toString(arreglo));\n",
        "\n",
        "    // Punteros (No disponible en Java): En Java, no hay punteros como en C++.\n",
        "    // Sin embargo, se puede utilizar la clase \"Reference\" para obtener una referencia a un objeto.\n",
        "\n",
        "    // utiliza la cadena separadora de línea dependiente del sistema (de tu computadora)\n",
        "    String nuevalinea = System.getProperty(\"line.separator\");\n",
        "\n",
        "    // Ejemplo de enumeración\n",
        "    DiaSemana hoy = DiaSemana.LUNES; // asignamos el valor LUNES al tipo de datos definido por el usuario \"DiaSemana\"\n",
        "    System.out.println(\"Hoy es: \" + hoy + nuevalinea);\n",
        "\n",
        "    // Ejemplo de clase\n",
        "    class Persona {\n",
        "      String nombre;\n",
        "      int edad;\n",
        "      String ciudad;\n",
        "\n",
        "      // Constructor de la clase\n",
        "      Persona(String nombre, int edad, String ciudad) {\n",
        "        this.nombre = nombre;\n",
        "        this.edad = edad;\n",
        "        this.ciudad = ciudad;\n",
        "      }\n",
        "    }\n",
        "\n",
        "    Persona persona = new Persona(\"Juan\", 30, \"Chetumal\"); // creamos un objeto de la clase \"Persona\"\n",
        "    System.out.println(\"Mi nombre es \" + persona.nombre + \", tengo \" + persona.edad + \" años y vivo en \" + persona.ciudad + \"\\n\");\n",
        "    // otra forma de imprimir\n",
        "    System.out.printf(\"Mi nombre es %s, tengo %d años y vivo en %s\", persona.nombre, persona.edad, persona.ciudad);\n",
        "\n",
        "  }\n",
        "\n",
        "}\n"
      ],
      "metadata": {
        "id": "CUaapiVo5vvH",
        "colab": {
          "base_uri": "https://localhost:8080/"
        },
        "outputId": "9547e031-79e0-4a91-ac47-e950fd1e8d0e"
      },
      "execution_count": 78,
      "outputs": [
        {
          "output_type": "stream",
          "name": "stdout",
          "text": [
            "Overwriting Introduccion.java\n"
          ]
        }
      ]
    },
    {
      "cell_type": "code",
      "execution_count": 79,
      "metadata": {
        "id": "wgJdjENeUlSP"
      },
      "outputs": [],
      "source": [
        "# Compila el programa Introduccion.java\n",
        "! javac Introduccion.java"
      ]
    },
    {
      "cell_type": "code",
      "execution_count": 80,
      "metadata": {
        "colab": {
          "base_uri": "https://localhost:8080/"
        },
        "id": "0q3W6dCSUlSR",
        "outputId": "0c835231-93c6-4cbc-8e77-3f3f89d869ee"
      },
      "outputs": [
        {
          "output_type": "stream",
          "name": "stdout",
          "text": [
            "17\n",
            "12.5\n",
            "Hola, mundo!\n",
            "true\n",
            "3\n",
            "5\n",
            "7\n",
            "9\n",
            "11\n",
            "Estos son los números: [3, 5, 7, 9, 11]\n",
            "Hoy es: LUNES\n",
            "\n",
            "Mi nombre es Juan, tengo 30 años y vivo en Chetumal\n",
            "\n",
            "Mi nombre es Juan, tengo 30 años y vivo en Chetumal"
          ]
        }
      ],
      "source": [
        "# Ejecuta el programa: Introduccion\n",
        "! java Introduccion"
      ]
    }
  ]
}
