{
  "nbformat": 4,
  "nbformat_minor": 0,
  "metadata": {
    "colab": {
      "provenance": []
    },
    "kernelspec": {
      "name": "python3",
      "display_name": "Python 3"
    },
    "language_info": {
      "name": "python"
    }
  },
  "cells": [
    {
      "cell_type": "markdown",
      "source": [
        "#SIS2406 - Estructura de Datos y Algoritmos\n",
        "## Primavera 2024\n",
        "\n",
        "<div>\n",
        "<img src=\"https://drive.google.com/uc?export=view&id=1JUTihy2qp3E5AxVNzZ5JDXt3qlLbLUT-\" width=\"100\"/>\n",
        "</div>\n",
        "\n",
        "\n",
        "\n",
        "### SIS2406_TareaX\n",
        "\n",
        "\n",
        "\n",
        "* Ccambiar X por el número de tarea que corresponda.\n",
        "* Cambiar el nombre del archivo de acuerdo a la tarea.\n",
        "* Por ejemplo: SIS2406_Tarea-1_Enrique_Naredo\n",
        "* Eliminar estas viñetas en la versión final"
      ],
      "metadata": {
        "id": "apma8ey0HhBE"
      }
    },
    {
      "cell_type": "markdown",
      "source": [
        "**Datos del estudiante:**\n",
        "* Nombre completo:\n",
        "* Mátricula:\n",
        "\n",
        "\n",
        "Profesor: Enrique Naredo García"
      ],
      "metadata": {
        "id": "g_Ypi7GGHhBF"
      }
    },
    {
      "cell_type": "markdown",
      "source": [
        "#Introducción"
      ],
      "metadata": {
        "id": "hQRylDpxHhBG"
      }
    },
    {
      "cell_type": "markdown",
      "source": [
        "##Subtitulo"
      ],
      "metadata": {
        "id": "JihkH6OvHhBG"
      }
    },
    {
      "cell_type": "markdown",
      "source": [
        "Contenido y comentarios."
      ],
      "metadata": {
        "id": "-kgy6yj_HhBG"
      }
    },
    {
      "cell_type": "code",
      "source": [
        "# Comentario del código\n",
        "\n",
        "# código probado y sin errores"
      ],
      "metadata": {
        "id": "-jwAvMDaHhBG"
      },
      "execution_count": null,
      "outputs": []
    },
    {
      "cell_type": "markdown",
      "source": [
        "##Subtitulo"
      ],
      "metadata": {
        "id": "rL_MrfDOHhBH"
      }
    },
    {
      "cell_type": "markdown",
      "source": [
        "Contenido y comentarios."
      ],
      "metadata": {
        "id": "NK7B4ikGHhBH"
      }
    },
    {
      "cell_type": "markdown",
      "source": [
        "#Python\n",
        "<div>\n",
        "<img src=\"https://drive.google.com/uc?export=view&id=1_ZAbL21argoGVFRpHidRYf5vOKgdusal\" width=\"120\">\n",
        "</div>"
      ],
      "metadata": {
        "id": "IG4V6eAKKob9"
      }
    },
    {
      "cell_type": "markdown",
      "source": [
        "##Subtitulo"
      ],
      "metadata": {
        "id": "A52u7WFvKocY"
      }
    },
    {
      "cell_type": "markdown",
      "source": [
        "Contenido y comentarios."
      ],
      "metadata": {
        "id": "24t8uVFCKsiX"
      }
    },
    {
      "cell_type": "code",
      "source": [
        "# Comentario del código\n",
        "\n",
        "# código probado y sin errores"
      ],
      "metadata": {
        "id": "UejyE-_UK6Cw"
      },
      "execution_count": null,
      "outputs": []
    },
    {
      "cell_type": "code",
      "source": [
        "# Comentario del código\n",
        "\n",
        "# código probado y sin errores"
      ],
      "metadata": {
        "id": "iAZI0DvMMbRz"
      },
      "execution_count": null,
      "outputs": []
    },
    {
      "cell_type": "code",
      "source": [
        "# Comentario del código\n",
        "\n",
        "# código probado y sin errores"
      ],
      "metadata": {
        "id": "jmbvW3pgMb37"
      },
      "execution_count": null,
      "outputs": []
    },
    {
      "cell_type": "markdown",
      "source": [
        "#C++\n",
        "\n",
        "</div>\n",
        "<img src=\"https://drive.google.com/uc?export=view&id=1tlDc5tgvFynoP1BsqutPzZcm9TCi61rI\" width=\"50\">\n",
        "</div>"
      ],
      "metadata": {
        "id": "P1PpoN1bKszQ"
      }
    },
    {
      "cell_type": "markdown",
      "source": [
        "##Subtitulo"
      ],
      "metadata": {
        "id": "7X-SZzq4KszR"
      }
    },
    {
      "cell_type": "markdown",
      "source": [
        "Contenido y comentarios."
      ],
      "metadata": {
        "id": "KXQ1SPU2K9kn"
      }
    },
    {
      "cell_type": "code",
      "execution_count": null,
      "metadata": {
        "id": "Fp5FaZOAHhBH"
      },
      "outputs": [],
      "source": [
        "## Escritura del programa\n",
        "\n",
        "  # Comentario del código\n",
        "\n",
        "  # código probado y sin errores"
      ]
    },
    {
      "cell_type": "code",
      "source": [
        "## Compilación del programa\n",
        "\n",
        "  # Comentario del código\n",
        "\n",
        "  # código probado y sin errores"
      ],
      "metadata": {
        "id": "ji31AmJoMkg2"
      },
      "execution_count": null,
      "outputs": []
    },
    {
      "cell_type": "code",
      "source": [
        "## Ejecución (correr) del programa\n",
        "\n",
        "  # Comentario del código\n",
        "\n",
        "  # código probado y sin errores"
      ],
      "metadata": {
        "id": "sPavuTfhMnjv"
      },
      "execution_count": null,
      "outputs": []
    },
    {
      "cell_type": "markdown",
      "source": [
        "#Java\n",
        "\n",
        "</div>\n",
        "<img src=\"https://drive.google.com/uc?export=view&id=1lnE8Nfogg-LgNdtWcnYPR4-7DE9TzcP7\" width=\"100\">\n",
        "</div>"
      ],
      "metadata": {
        "id": "g0Ax8j3NLAMK"
      }
    },
    {
      "cell_type": "markdown",
      "source": [
        "##Subtitulo"
      ],
      "metadata": {
        "id": "u_6fm1nULAML"
      }
    },
    {
      "cell_type": "markdown",
      "source": [
        "Contenido y comentarios."
      ],
      "metadata": {
        "id": "W-c85_HzLAML"
      }
    },
    {
      "cell_type": "code",
      "execution_count": null,
      "metadata": {
        "id": "UygMsMMdMs66"
      },
      "outputs": [],
      "source": [
        "## Escritura del programa\n",
        "\n",
        "  # Comentario del código\n",
        "\n",
        "  # código probado y sin errores"
      ]
    },
    {
      "cell_type": "code",
      "source": [
        "## Compilación del programa\n",
        "\n",
        "  # Comentario del código\n",
        "\n",
        "  # código probado y sin errores"
      ],
      "metadata": {
        "id": "yXIjQiAhMs7R"
      },
      "execution_count": null,
      "outputs": []
    },
    {
      "cell_type": "code",
      "source": [
        "## Ejecución (correr) del programa\n",
        "\n",
        "  # Comentario del código\n",
        "\n",
        "  # código probado y sin errores"
      ],
      "metadata": {
        "id": "53jKyPFfMs7S"
      },
      "execution_count": null,
      "outputs": []
    },
    {
      "cell_type": "markdown",
      "source": [
        "##Conclusiones"
      ],
      "metadata": {
        "id": "Tfz91B1AHhBI"
      }
    },
    {
      "cell_type": "markdown",
      "source": [
        "Contenido y comentarios."
      ],
      "metadata": {
        "id": "p56PQYdbHhBI"
      }
    },
    {
      "cell_type": "markdown",
      "source": [
        "##Bibiliografía"
      ],
      "metadata": {
        "id": "Zwj2tkepHhBI"
      }
    },
    {
      "cell_type": "markdown",
      "source": [
        "[1] 1era Refeerencia en estilo APA.\n",
        "\n",
        "[2] 2da Refeerencia en estilo APA.\n",
        "\n",
        "[3] 3era Refeerencia en estilo APA."
      ],
      "metadata": {
        "id": "abSpU2lkHhBZ"
      }
    }
  ]
}