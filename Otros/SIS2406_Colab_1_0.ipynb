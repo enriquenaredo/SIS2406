{
  "nbformat": 4,
  "nbformat_minor": 0,
  "metadata": {
    "colab": {
      "provenance": []
    },
    "kernelspec": {
      "name": "python3",
      "display_name": "Python 3"
    },
    "language_info": {
      "name": "python"
    }
  },
  "cells": [
    {
      "cell_type": "markdown",
      "source": [
        "#SIS2406 - Estructura de Datos y Algoritmos\n",
        "## Primavera 2024\n",
        "\n",
        "<div>\n",
        "<img src=\"https://drive.google.com/uc?export=view&id=1_ZAbL21argoGVFRpHidRYf5vOKgdusal\" width=\"120\" vertical-align=\"bottom\">\n",
        "\n",
        "<img src=\"https://drive.google.com/uc?export=view&id=1tlDc5tgvFynoP1BsqutPzZcm9TCi61rI\" width=\"50\" vertical-align=\"bottom\">\n",
        "\n",
        "<img src=\"https://drive.google.com/uc?export=view&id=1lnE8Nfogg-LgNdtWcnYPR4-7DE9TzcP7\" width=\"100\" vertical-align=\"bottom\">\n",
        "</div>\n",
        "\n",
        "### SIS2406_Colab_1.0\n",
        "\n",
        "**Enrique Naredo García**\n",
        "\n",
        "<font size = 2>\n",
        "©️ Todos los derechos reservados. All rights reserved.\n",
        "\n",
        "*Nota: El presente documento es una herramienta diseñada única y exclusivamente para los estudiantes de la asignatura arriba mencionada. Se recuerda no compartir esta información fuera de los integrantes registrados en este curso. La reproducción total o parcial de este documento requiere autorización por escrito del titular del copyright.*\n",
        "</font>"
      ],
      "metadata": {
        "id": "6BIRZiQ-g5-8"
      }
    },
    {
      "cell_type": "markdown",
      "source": [
        "#Google Colab"
      ],
      "metadata": {
        "id": "lZqnT-TvtknJ"
      }
    },
    {
      "cell_type": "markdown",
      "source": [
        "Google Colab es un servicio gratuito de Jupyter Notebooks alojados en la nube.\n",
        "\n",
        "* Permite a los usuarios escribir y ejecutar código Python a través del navegador, sin necesidad de ninguna configuración previa.\n",
        "\n",
        "* En este enlace encontrarán una explicación acerca de Google Colab:\n",
        "\n",
        "  * https://www.geeksforgeeks.org/how-to-use-google-colab/\n",
        "\n",
        "* Los simbolos % y %% son comandos mágicos en Jupyter notebook.\n",
        "* El símbolo %, opera en una línea.\n",
        "* El símbolo %%, opera en multiple líneas.\n",
        "* El símbolo !, se utiliza para ejecutar comandos Bash."
      ],
      "metadata": {
        "id": "Sq8R4IkExbmo"
      }
    },
    {
      "cell_type": "markdown",
      "source": [
        "##Python"
      ],
      "metadata": {
        "id": "lt2OAoqNuFQd"
      }
    },
    {
      "cell_type": "markdown",
      "source": [
        "Ejecuta código de Python"
      ],
      "metadata": {
        "id": "ltZdcUwYx2_4"
      }
    },
    {
      "cell_type": "code",
      "execution_count": null,
      "metadata": {
        "colab": {
          "base_uri": "https://localhost:8080/"
        },
        "id": "FaK4x5r7g3Wx",
        "outputId": "3166b0af-b164-4a10-c9ff-6433790032af"
      },
      "outputs": [
        {
          "output_type": "stream",
          "name": "stdout",
          "text": [
            "Hola a todos !!\n"
          ]
        }
      ],
      "source": [
        "print(\"Hola a todos!!\")"
      ]
    },
    {
      "cell_type": "markdown",
      "source": [
        "Los Jupyter notebooks se puede también utilizar para crear un archivo ejecutable.\n",
        "* Noten que el archivo se guarda en el directorio actual.\n",
        "* Lo pueden observar del lado izquierdo en el ícono del folder."
      ],
      "metadata": {
        "id": "z3I_MVaAujTX"
      }
    },
    {
      "cell_type": "code",
      "execution_count": null,
      "metadata": {
        "colab": {
          "base_uri": "https://localhost:8080/"
        },
        "outputId": "d8f955d6-7cec-4623-bcdf-aa7bddbac52c",
        "id": "6QZwdrKpOcrT"
      },
      "outputs": [
        {
          "output_type": "stream",
          "name": "stdout",
          "text": [
            "Writing Asignatura.py\n"
          ]
        }
      ],
      "source": [
        "%%writefile Asignatura.py\n",
        "print(\"SIS2406 - Estructura de Datos y Algoritmos\")"
      ]
    },
    {
      "cell_type": "code",
      "source": [
        "! python Asignatura.py"
      ],
      "metadata": {
        "colab": {
          "base_uri": "https://localhost:8080/"
        },
        "outputId": "529466f6-d1f5-47e3-9df2-89f23efee711",
        "id": "KOSY5MSMOcrU"
      },
      "execution_count": null,
      "outputs": [
        {
          "output_type": "stream",
          "name": "stdout",
          "text": [
            "SIS2406 - Estructura de Datos y Algoritmos\n"
          ]
        }
      ]
    },
    {
      "cell_type": "markdown",
      "source": [
        "##C++"
      ],
      "metadata": {
        "id": "CgimthiY7Xvg"
      }
    },
    {
      "cell_type": "markdown",
      "source": [
        "**Tipos de código en C++**\n",
        "\n",
        "* Código fuente: Es el texto plano que le «dice» a la computadora cómo hacer las cosas.\n",
        "  * Es el programa que escribimos nosotros como programadores.\n",
        "\n",
        "* Código objeto: Es un archivo que es uno de los productos intermedios del proceso de compilación.\n",
        "  * Aunque si bien es binario, no puede ser ejecutado y debe continuar su proceso de compilación a la siguiente etapa, el enlace, o link.\n",
        "\n",
        "* Código binario ejecutable, en general para cualquier lenguaje compilado, y en particular para lenguaje C, es código binario (no texto) que a su vez puede ser ejecutado en la computadora."
      ],
      "metadata": {
        "id": "Gv1CE9Zp_j4T"
      }
    },
    {
      "cell_type": "markdown",
      "source": [
        "**Herramientas en el proceso de compilación**\n",
        "\n",
        "\n",
        "* Preprocesador: Procesa el código fuente (texto escrito con sintáxis de un lenguaje de programación) antes de compilarlo.\n",
        "  * Por ejemplo, veifica y reemplaza macros y archivos incluidos (#include) en tu código.\n",
        "* Compilador: Transforma tus archivos de código fuente en código ensamblador (lenguaje del procesador de bajo nivel que las personas puedan entender)\n",
        "* Ensamblador: Toma el código ensamblador y genera código objeto binario, que sólo entiende la máquina.\n",
        "* Linker: Ensambla y une objetos juntos para crear un único archivo ejecutable."
      ],
      "metadata": {
        "id": "yFe7rBDL9rke"
      }
    },
    {
      "cell_type": "markdown",
      "source": [
        "**Estructura de un programa C++:**\n",
        "\n",
        "```\n",
        "Directivas de preprocesador\n",
        "\n",
        "Declaraciones globales ( varaibles globales, funciones, …)\n",
        "\n",
        "/*\n",
        "Comentario de bloque,\n",
        "conteniendo usualmente\n",
        "varias líneas.\n",
        "*/\n",
        "\n",
        "// Comentario individual\n",
        "\n",
        "funcion main()\n",
        "{\n",
        "  secuencia de declaraciones e instrucciones\n",
        "}\n",
        "\n",
        "funcion1()\n",
        "{\n",
        "  secuencia de declaraciones e instrucciones\n",
        "}\n",
        "\n",
        "...\n",
        "\n",
        "  funcionN()\n",
        "{\n",
        "secuencia de declaraciones e instrucciones\n",
        "}\n",
        "```"
      ],
      "metadata": {
        "id": "dKrnku4z9FHc"
      }
    },
    {
      "cell_type": "markdown",
      "source": [
        "###Ejemplo del proceso de un ejemplo de código\n",
        "\n",
        "* **Escritura de código fuente**\n",
        "  * Escribe el archivo fuente\n",
        "    * operAritmet.cpp\n",
        "* **Compilación**\n",
        "  * Compila el archivo en IDE:\n",
        "    * g++ operAritmet.cpp -o operAritmet\n",
        "  * Compila el archivo en Google Colab\n",
        "    * ! g++ operAritmet.cpp -o operAritmet\n",
        "* **Ejecuta programa**\n",
        "  * Ejecuta el archivo en IDE:\n",
        "    * ./operAritmet\n",
        "  * Ejecuta el archivo en Google Colab:\n",
        "    * ! ./operAritmet"
      ],
      "metadata": {
        "id": "l3Ebsc0PEz8H"
      }
    },
    {
      "cell_type": "markdown",
      "source": [
        "###Ejemplo de código en C++ (**sin** comentarios)"
      ],
      "metadata": {
        "id": "gVnRExo7K4tj"
      }
    },
    {
      "cell_type": "code",
      "source": [
        "%%writefile operAritmet.cpp\n",
        "\n",
        "\n",
        "#include<stdio.h>\n",
        "#include <iostream>\n",
        "using namespace std;\n",
        "\n",
        "\n",
        "float suma(float, float);\n",
        "float resta(float, float);\n",
        "float multiplica(float, float);\n",
        "float divide(float, float);\n",
        "\n",
        "\n",
        "int main()\n",
        "{\n",
        "  float num1, num2;\n",
        "  cout << \"Ingresa un número: \";\n",
        "  cin >> num1;\n",
        "  cout << \"Ingresa otro número: \";\n",
        "  cin >> num2;\n",
        "\n",
        "  int opcion;\n",
        "  cout << \"Selecciona la operación:\\n \\\n",
        "          1-> suma \\n \\\n",
        "          2-> resta \\n \\\n",
        "          3-> multiplicación \\n \\\n",
        "          4-> división \\n\";\n",
        "  cin >> opcion;\n",
        "\n",
        "  cout<<endl<<\"Resultado de la \";\n",
        "\n",
        "  switch(opcion) {\n",
        "    case 1:\n",
        "      cout<<endl<<\"suma = \"<<suma(num1, num2);\n",
        "      break;\n",
        "    case 2:\n",
        "      cout<<endl<<\"resta = \"<<resta(num1, num2);\n",
        "      break;\n",
        "    case 3:\n",
        "      cout<<endl<<\"multiplicación = \"<<multiplica(num1, num2);\n",
        "      break;\n",
        "    case 4:\n",
        "      cout<<endl<<\"división = \"<<divide(num1, num2);\n",
        "      break;\n",
        "  }\n",
        "\n",
        "  return 0;\n",
        "}\n",
        "\n",
        "\n",
        "\n",
        "float suma(float a, float b)\n",
        "{\n",
        "  return a+b;\n",
        "}\n",
        "\n",
        "float resta(float a, float b)\n",
        "{\n",
        "  return a-b;\n",
        "}\n",
        "\n",
        "float multiplica(float a, float b)\n",
        "{\n",
        "  return a*b;\n",
        "}\n",
        "\n",
        "float divide(float a, float b)\n",
        "{\n",
        "  return a/b;\n",
        "}\n"
      ],
      "metadata": {
        "colab": {
          "base_uri": "https://localhost:8080/"
        },
        "id": "3ys85Tt4d8yx",
        "outputId": "3dc8062c-3ce8-4b14-b951-e989e5af8a86"
      },
      "execution_count": null,
      "outputs": [
        {
          "output_type": "stream",
          "name": "stdout",
          "text": [
            "Overwriting operAritmet.cpp\n"
          ]
        }
      ]
    },
    {
      "cell_type": "code",
      "execution_count": null,
      "metadata": {
        "id": "h90EUPYdO923"
      },
      "outputs": [],
      "source": [
        "# Compila el programa operAritmet.cpp\n",
        "! g++ operAritmet.cpp -o operAritmet"
      ]
    },
    {
      "cell_type": "code",
      "execution_count": null,
      "metadata": {
        "colab": {
          "base_uri": "https://localhost:8080/"
        },
        "outputId": "8767c1de-dfd9-43a4-9123-3c3a9cb79680",
        "id": "z_qhSXWjO924"
      },
      "outputs": [
        {
          "output_type": "stream",
          "name": "stdout",
          "text": [
            "Ingresa un número: 7\n",
            "Ingresa otro número: 3\n",
            "Selecciona la operación:\n",
            "           1-> suma \n",
            "           2-> resta \n",
            "           3-> multiplicación \n",
            "           4-> división \n",
            "4\n",
            "\n",
            "Resultado de la \n",
            "división = 2.33333"
          ]
        }
      ],
      "source": [
        "# Ejecuta el programa: operAritmet\n",
        "# repite cuantas veces quieras\n",
        "! ./operAritmet"
      ]
    },
    {
      "cell_type": "markdown",
      "source": [
        "###Ejemplo de código en C++ (**con** comentarios)"
      ],
      "metadata": {
        "id": "vTDSkNHnXQKp"
      }
    },
    {
      "cell_type": "code",
      "source": [
        "%%writefile operAritmet2.cpp\n",
        "\n",
        "/**\n",
        "  * Programa que suma o restas dos enteros\n",
        "  * ingresados por el usuario.\n",
        "  * ================================================\n",
        "  *\n",
        "  * @param num1, número entero ingresado por usuario\n",
        "  * @param num2, número entero ingresado por usuario\n",
        "  *\n",
        "  * @return resultado, operación aritmetica de ambos números\n",
        "  *\n",
        "  * @author Enrique Naredo\n",
        "  * @date 09-Feb-2024\n",
        "  * @version 1.1.02\n",
        "  */\n",
        "\n",
        "\n",
        "\n",
        "/* Directivas de preprocesador */\n",
        "\n",
        "// 'stdio' -> \"standard input-output header\" (cabecera estándar E/S)\n",
        "#include<stdio.h>\n",
        "\n",
        "// Incluye entrada y salida de un programa\n",
        "#include <iostream>\n",
        "\n",
        "// Esta directiva evita el uso de std::\n",
        "// Ejemplo: 'cout' en lugar de 'std::cout'\n",
        "using namespace std;\n",
        "\n",
        "\n",
        "\n",
        "\n",
        "\n",
        "/*\n",
        "  Declaración de funciones\n",
        "  ------------------------\n",
        "*/\n",
        "\n",
        "float suma(float, float);\n",
        "float resta(float, float);\n",
        "float multiplica(float, float);\n",
        "float divide(float, float);\n",
        "\n",
        "\n",
        "\n",
        "\n",
        "/*\n",
        "  Función principal\n",
        "  -----------------\n",
        "*/\n",
        "\n",
        "int main()\n",
        "{\n",
        "\n",
        "  /* Declaración de variables */\n",
        "\n",
        "  // al final de cada instrucción se agrega-> ;\n",
        "  float num1, num2;\n",
        "\n",
        "\n",
        "\n",
        "\n",
        "  /* Definición de variables */\n",
        "\n",
        "  // 'cout' muestra en pantalla\n",
        "  cout << \"Ingresa un número: \";\n",
        "\n",
        "  // Pide a usuario que ingrese el 1er número\n",
        "  // 'cin' permite captura desde teclado\n",
        "  cin >> num1;\n",
        "\n",
        "  // Pide a usuario que ingrese el 2do número\n",
        "  cout << \"Ingresa otro número: \";\n",
        "  cin >> num2;\n",
        "\n",
        "\n",
        "\n",
        "\n",
        "  /* Llamada de funciones */\n",
        "\n",
        "  // Define la operación aritmetica\n",
        "  int opcion;\n",
        "  cout << \"Selecciona la operación:\\n \\\n",
        "          1-> suma \\n \\\n",
        "          2-> resta \\n \\\n",
        "          3-> multiplicación \\n \\\n",
        "          4-> división \\n\";\n",
        "  cin >> opcion;\n",
        "\n",
        "  cout<<endl<<\"Resultado de la \";\n",
        "\n",
        "  // Se utiliza 'switch'\n",
        "  switch(opcion) {\n",
        "    case 1:\n",
        "      // Llama a la función suma\n",
        "      cout<<endl<<\"suma = \"<<suma(num1, num2);\n",
        "      break;\n",
        "    case 2:\n",
        "      // Llama a la función resta\n",
        "      cout<<endl<<\"resta = \"<<resta(num1, num2);\n",
        "      break;\n",
        "    case 3:\n",
        "      // Llama a la función multiplica\n",
        "      cout<<endl<<\"multiplicación = \"<<multiplica(num1, num2);\n",
        "      break;\n",
        "    case 4:\n",
        "      // Llama a la función divide\n",
        "      cout<<endl<<\"división = \"<<divide(num1, num2);\n",
        "      break;\n",
        "  }\n",
        "\n",
        "\n",
        "  /*\n",
        "    El return 0, se utiliza para indicar que el programa\n",
        "    se ha ejecutado de manera exitosa.\n",
        "    Cualquier otro valor sugiere que ha ocurrido un error.\n",
        "    Cabe notar que puedes omitir el return 0 de la función main,\n",
        "    y este aun así será el valor que se retornará por defecto.\n",
        "  */\n",
        "  return 0;\n",
        "\n",
        "}\n",
        "\n",
        "\n",
        "\n",
        "/* Definición de funciones\n",
        "-----------------------------------\n",
        "  Noten como la definición hace uso\n",
        "  de las variables 'a' y 'b', pero\n",
        "  en la llamada de las funciones\n",
        "  se utiliza 'num1' y 'num2'\n",
        "*/\n",
        "\n",
        "// Define la función de suma\n",
        "float suma(float a, float b)\n",
        "{\n",
        "  // suma a con b\n",
        "  return a+b;\n",
        "}\n",
        "\n",
        "// Define la función de resta\n",
        "float resta(float a, float b)\n",
        "{\n",
        "  // resta b de a\n",
        "  return a-b;\n",
        "}\n",
        "\n",
        "// Define la función de multiplicación\n",
        "float multiplica(float a, float b)\n",
        "{\n",
        "  // multiplica a y b\n",
        "  return a*b;\n",
        "}\n",
        "\n",
        "// Define la función de división\n",
        "float divide(float a, float b)\n",
        "{\n",
        "  // divide a con b\n",
        "  return a/b;\n",
        "}\n"
      ],
      "metadata": {
        "colab": {
          "base_uri": "https://localhost:8080/"
        },
        "id": "ivfebYV9GbDp",
        "outputId": "25cb718a-538c-4e2a-f186-0efd035a4ec2"
      },
      "execution_count": null,
      "outputs": [
        {
          "output_type": "stream",
          "name": "stdout",
          "text": [
            "Writing operAritmet2.cpp\n"
          ]
        }
      ]
    },
    {
      "cell_type": "code",
      "execution_count": null,
      "metadata": {
        "id": "QGHtkTXK9UHU"
      },
      "outputs": [],
      "source": [
        "# Compila el programa operAritmet2.cpp\n",
        "! g++ operAritmet2.cpp -o operAritmet2"
      ]
    },
    {
      "cell_type": "code",
      "execution_count": null,
      "metadata": {
        "colab": {
          "base_uri": "https://localhost:8080/"
        },
        "id": "t_Jp_UtN92Kt",
        "outputId": "7a171e70-0cb8-4f28-8393-0676d03536f0"
      },
      "outputs": [
        {
          "output_type": "stream",
          "name": "stdout",
          "text": [
            "Ingresa un número: 23\n",
            "Ingresa otro número: 5\n",
            "Selecciona la operación:\n",
            "           1-> suma \n",
            "           2-> resta \n",
            "           3-> multiplicación \n",
            "           4-> división \n",
            "3\n",
            "\n",
            "Resultado de la \n",
            "multiplicación = 115"
          ]
        }
      ],
      "source": [
        "# Ejecuta el programa: operAritmet2\n",
        "# repite cuantas veces quieras con todas las opciones\n",
        "! ./operAritmet2"
      ]
    },
    {
      "cell_type": "markdown",
      "source": [
        "##Java"
      ],
      "metadata": {
        "id": "O1KTe6_yPiFr"
      }
    },
    {
      "cell_type": "markdown",
      "source": [
        "Aquí tienen el código similar en Java.\n",
        "* Asumo que en la asignatura de POO ya tuvieron contacto con este lenguaje de programación."
      ],
      "metadata": {
        "id": "TcqObnDoPwgr"
      }
    },
    {
      "cell_type": "code",
      "source": [
        "# Escribe el programa operAritmet.java\n",
        "%%writefile operAritmet.java\n",
        "\n",
        "import java.util.Scanner;\n",
        "\n",
        "class Operaciones {\n",
        "  float suma(float a, float b) {\n",
        "    return a + b;\n",
        "  }\n",
        "\n",
        "  float resta(float a, float b) {\n",
        "    return a - b;\n",
        "  }\n",
        "\n",
        "  float multiplica(float a, float b) {\n",
        "    return a * b;\n",
        "  }\n",
        "\n",
        "  float divide(float a, float b) {\n",
        "    return a / b;\n",
        "  }\n",
        "}\n",
        "\n",
        "public class operAritmet {\n",
        "\n",
        "  public static void main(String[] args) {\n",
        "    Scanner scanner = new Scanner(System.in);\n",
        "    Operaciones operador = new Operaciones();\n",
        "    float num1, num2;\n",
        "    int opcion;\n",
        "\n",
        "    System.out.print(\"Ingresa un número: \");\n",
        "    num1 = scanner.nextFloat();\n",
        "    System.out.print(\"Ingresa otro número: \");\n",
        "    num2 = scanner.nextFloat();\n",
        "\n",
        "    System.out.println(\n",
        "      \"Selecciona la operación:\\n\" +\n",
        "      \"1-> suma\\n\" +\n",
        "      \"2-> resta\\n\" +\n",
        "      \"3-> multiplicación\\n\" +\n",
        "      \"4-> división \\n\"\n",
        "    );\n",
        "\n",
        "    opcion = scanner.nextInt();\n",
        "\n",
        "    System.out.println(\"\\nResultado de la\");\n",
        "\n",
        "    switch (opcion) {\n",
        "      case 1:\n",
        "        System.out.println(\"suma = \" + operador.suma(num1, num2));\n",
        "        break;\n",
        "      case 2:\n",
        "        System.out.println(\"resta = \" + operador.resta(num1, num2));\n",
        "        break;\n",
        "      case 3:\n",
        "        System.out.println(\"multiplicación = \" + operador.multiplica(num1, num2));\n",
        "        break;\n",
        "      case 4:\n",
        "        System.out.println(\"división = \" + operador.divide(num1, num2));\n",
        "        break;\n",
        "      default:\n",
        "        System.out.println(\"Opción inválida\");\n",
        "    }\n",
        "\n",
        "    scanner.close();\n",
        "  }\n",
        "}"
      ],
      "metadata": {
        "colab": {
          "base_uri": "https://localhost:8080/"
        },
        "outputId": "32e92796-0f2e-462f-ccdf-b1575cdca365",
        "id": "ySYWfVfehbO-"
      },
      "execution_count": null,
      "outputs": [
        {
          "output_type": "stream",
          "name": "stdout",
          "text": [
            "Overwriting operAritmet.java\n"
          ]
        }
      ]
    },
    {
      "cell_type": "code",
      "execution_count": null,
      "metadata": {
        "id": "mT1k5E7DhbO_"
      },
      "outputs": [],
      "source": [
        "# Compila el programa operAritmet.java\n",
        "! javac operAritmet.java"
      ]
    },
    {
      "cell_type": "code",
      "execution_count": null,
      "metadata": {
        "colab": {
          "base_uri": "https://localhost:8080/"
        },
        "outputId": "d8a685df-9453-4fef-bdce-e7774881088d",
        "id": "S5Ec2AEfhbPB"
      },
      "outputs": [
        {
          "output_type": "stream",
          "name": "stdout",
          "text": [
            "Ingresa un número: .094938\n",
            "Ingresa otro número: -758584\n",
            "Selecciona la operación:\n",
            "1-> suma\n",
            "2-> resta\n",
            "3-> multiplicación\n",
            "4-> división \n",
            "\n",
            "3\n",
            "\n",
            "Resultado de la\n",
            "multiplicación = -72018.45\n"
          ]
        }
      ],
      "source": [
        "# Ejecuta el programa operAritmet\n",
        "! java operAritmet"
      ]
    },
    {
      "cell_type": "markdown",
      "source": [
        "##R\n",
        "\n",
        "Finalmente, aunque no es parte de los objetivos de esta asignatura, aquí también tienen el código en R, usando Google Colab con comandos mágicos para ejecutar el código en R en cada celda de manera similar que Python.\n"
      ],
      "metadata": {
        "id": "fa48f7tMVZsb"
      }
    },
    {
      "cell_type": "code",
      "source": [
        "# Interfaz de comando mágico para trabajo interactivo con R en ipython\n",
        "%load_ext rpy2.ipython"
      ],
      "metadata": {
        "id": "GegYCAxxW2Vv"
      },
      "execution_count": null,
      "outputs": []
    },
    {
      "cell_type": "code",
      "source": [
        "# Ejecuta código en R\n",
        "%%R\n",
        "\n",
        "# Funciones aritméticas\n",
        "suma <- function(a, b) {\n",
        "  return(a + b)\n",
        "}\n",
        "\n",
        "resta <- function(a, b) {\n",
        "  return(a - b)\n",
        "}\n",
        "\n",
        "multiplica <- function(a, b) {\n",
        "  return(a * b)\n",
        "}\n",
        "\n",
        "divide <- function(a, b) {\n",
        "  return(a / b)\n",
        "}\n"
      ],
      "metadata": {
        "id": "OAKo-D9uXMlB"
      },
      "execution_count": null,
      "outputs": []
    },
    {
      "cell_type": "code",
      "source": [
        "%%R\n",
        "\n",
        "# Solicitar entrada de usuario\n",
        "cat(\"Ingresa un número: \")\n",
        "num1 <- as.numeric(readline())\n",
        "cat(\"Ingresa otro número: \")\n",
        "num2 <- as.numeric(readline())\n",
        "\n",
        "# Solicitar selección de operación\n",
        "cat(\"Selecciona la operación:\\n \\\n",
        "  1-> suma  \\\n",
        "  2-> resta  \\\n",
        "  3-> multiplicación  \\\n",
        "  4-> división\n",
        "  \")\n",
        "opcion <- as.integer(readline())"
      ],
      "metadata": {
        "colab": {
          "base_uri": "https://localhost:8080/"
        },
        "id": "ckkVKOWUafQ8",
        "outputId": "d4e34f65-9dd7-4e4e-af3c-dfa6730b8b5e"
      },
      "execution_count": null,
      "outputs": [
        {
          "name": "stdout",
          "output_type": "stream",
          "text": [
            "Ingresa un número: 3\n",
            "Ingresa otro número: 0.0\n",
            "Selecciona la operación:\n",
            " \n",
            "  1-> suma  \n",
            "  2-> resta  \n",
            "  3-> multiplicación  \n",
            "  4-> división \n",
            "  4\n"
          ]
        }
      ]
    },
    {
      "cell_type": "code",
      "source": [
        "%%R\n",
        "\n",
        "# Muestra resultado\n",
        "cat(\"\\nResultado de la \")\n",
        "resultado = switch(\n",
        "  opcion,\n",
        "  {cat(\"suma =\", suma(num1, num2))},\n",
        "  {cat(\"resta =\", resta(num1, num2))},\n",
        "  {cat(\"multiplicación =\", multiplica(num1, num2))},\n",
        "  {cat(\"división =\", divide(num1, num2))},\n",
        "  stop(\"Opción inválida\")\n",
        ")"
      ],
      "metadata": {
        "colab": {
          "base_uri": "https://localhost:8080/"
        },
        "id": "ibESxCjOX7gT",
        "outputId": "e1215f38-a8e9-4960-9441-f1f9f0132237"
      },
      "execution_count": null,
      "outputs": [
        {
          "output_type": "stream",
          "name": "stdout",
          "text": [
            "\n",
            "Resultado de la "
          ]
        },
        {
          "output_type": "stream",
          "name": "stderr",
          "text": [
            "WARNING:rpy2.rinterface_lib.callbacks:R[write to console]: Error in withVisible({ : Opción inválida\n",
            "\n"
          ]
        },
        {
          "output_type": "stream",
          "name": "stdout",
          "text": [
            "\n",
            "Error in withVisible({ : Opción inválida\n"
          ]
        }
      ]
    }
  ]
}