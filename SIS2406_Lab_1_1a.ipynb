{
  "nbformat": 4,
  "nbformat_minor": 0,
  "metadata": {
    "colab": {
      "provenance": []
    },
    "kernelspec": {
      "name": "python3",
      "display_name": "Python 3"
    },
    "language_info": {
      "name": "python"
    }
  },
  "cells": [
    {
      "cell_type": "markdown",
      "source": [
        "#SIS2406 - Estructura de Datos y Algoritmos\n",
        "## Primavera 2024\n",
        "\n",
        "<div>\n",
        "<img src=\"https://drive.google.com/uc?export=view&id=1_ZAbL21argoGVFRpHidRYf5vOKgdusal\" width=\"250\"/>\n",
        "</div>\n",
        "\n",
        "### SIS2406_Lab_1.1a\n",
        "\n",
        "**Enrique Naredo García**\n",
        "\n",
        "<font size = 2>\n",
        "©️ Todos los derechos reservados. All rights reserved.\n",
        "\n",
        "*Nota: El presente documento es una herramienta diseñada única y exclusivamente para los estudiantes de la asignatura arriba mencionada. Se recuerda no compartir esta información fuera de los integrantes registrados en este curso. La reproducción total o parcial de este documento requiere autorización por escrito del titular del copyright.*\n",
        "</font>"
      ],
      "metadata": {
        "id": "uy0kRsYo8sz5"
      }
    },
    {
      "cell_type": "markdown",
      "source": [
        "#1.1 Introducción"
      ],
      "metadata": {
        "id": "xik9bnSX9kce"
      }
    },
    {
      "cell_type": "markdown",
      "source": [
        "En esta práctica se introduce los tipos de datos utilizados en Python.\n",
        "\n",
        "\n",
        "Se utiliza Jupyter notebook para ejecutar directamente en cada celda el código generado en Python.\n",
        "\n",
        "En cada sección se da una breve explicación y posteriormente se proporciona un ejemplo en código."
      ],
      "metadata": {
        "id": "2_xPYl1Q9oEo"
      }
    },
    {
      "cell_type": "markdown",
      "source": [
        "**Notas:**\n",
        "\n",
        "* En Python el símbolo #, se utiliza para agregar un comentario (el cual no se ejecuta).\n",
        "* Se recomienda realizar la práctica utilizando el lenguaje de programación correspondiente.\n",
        "* Se recomienda realizar modificaciones al código para verificar y comprender de manera correcta el funcionamiento del mismo."
      ],
      "metadata": {
        "id": "sciDJkIj9uPI"
      }
    },
    {
      "cell_type": "markdown",
      "source": [
        "## Python\n",
        "\n",
        "Python es un lenguaje interpretado, lo cual quiere decir que no se compila.\n",
        "\n",
        "* Python ejecuta directamente el código línea por línea.\n",
        "* Si existen errores en el código del programa, su ejecución se detiene.\n",
        "\n"
      ],
      "metadata": {
        "id": "_H_TTqrjFUG-"
      }
    },
    {
      "cell_type": "markdown",
      "source": [
        "###Proceso\n",
        "\n",
        "1. Escribir el código en cada celda.\n",
        "2. Guardar el archivo ejemplo.py en un folder\n",
        "3. Ejecutarlo con la instrucción python ejemplo.py\n",
        "\n",
        "**Notas:**\n",
        "\n",
        "* En Google Colab los Jupyter notebooks usualmente se guardan en la siguiente ruta: /content/drive/MyDrive/Colab Notebooks/.\n",
        "* En Google Colab si el archivo se guarda en el directorio: /content, entonces al momento de cerrar la sesión este archivo desaparecera.\n",
        "* Si se requiere mantener los archivos, entonces se recomienda montar primero el Google drive y crear un directorio para tal fin."
      ],
      "metadata": {
        "id": "WJW97dUGHnK0"
      }
    },
    {
      "cell_type": "markdown",
      "source": [
        "##Enteros\n",
        "\n",
        "Enteros (int): números enteros sin decimales, como 4 o -12.\n"
      ],
      "metadata": {
        "id": "MSrSN7ehCJ7_"
      }
    },
    {
      "cell_type": "code",
      "source": [
        "## Ejemplo de entero (int)\n",
        "\n",
        " # asignamos el valor 7 al entero \"numero_entero\"\n",
        "numero_entero = 7\n",
        "\n",
        "# imprime \"numero_entero\"\n",
        "print(numero_entero)"
      ],
      "metadata": {
        "colab": {
          "base_uri": "https://localhost:8080/"
        },
        "id": "NIwC7OviCXKo",
        "outputId": "2548b37c-627f-48a3-f629-b2721104c39f"
      },
      "execution_count": 4,
      "outputs": [
        {
          "output_type": "stream",
          "name": "stdout",
          "text": [
            "7\n"
          ]
        }
      ]
    },
    {
      "cell_type": "markdown",
      "source": [
        "## Reales\n",
        "\n",
        "Reales (float): Números decimales, como 3,14 o -0,01."
      ],
      "metadata": {
        "id": "5FsnYAI-CbP9"
      }
    },
    {
      "cell_type": "code",
      "source": [
        "## Ejemplo de float\n",
        "\n",
        "# asignamos el valor 2.5 al float \"numero_real\"\n",
        "numero_real = 2.5\n",
        "\n",
        "# imprime \"numero_real\"\n",
        "print(numero_real)"
      ],
      "metadata": {
        "colab": {
          "base_uri": "https://localhost:8080/"
        },
        "id": "whfc8F5FChXl",
        "outputId": "5c7dcaa5-6de6-4de6-ca1d-3ed15460fab4"
      },
      "execution_count": 5,
      "outputs": [
        {
          "output_type": "stream",
          "name": "stdout",
          "text": [
            "2.5\n"
          ]
        }
      ]
    },
    {
      "cell_type": "markdown",
      "source": [
        "## Cadenas\n",
        "\n",
        "Cadenas (str): Secuencias de caracteres, como \"hola\" o \"Python\".\n"
      ],
      "metadata": {
        "id": "LJ8kjQolC_Rx"
      }
    },
    {
      "cell_type": "code",
      "source": [
        "## Ejemplo de string\n",
        "\n",
        " # asignamos la cadena \"Hola, mundo!\" a la variable \"cadena\"\n",
        "cadena = \"Hola, mundo!\"\n",
        "\n",
        "# imprime \"cadena\"\n",
        "print(cadena)"
      ],
      "metadata": {
        "colab": {
          "base_uri": "https://localhost:8080/"
        },
        "id": "4SXa7k2rDHDv",
        "outputId": "e57a68a6-91a1-4a97-f9f9-9504c836bf2e"
      },
      "execution_count": 6,
      "outputs": [
        {
          "output_type": "stream",
          "name": "stdout",
          "text": [
            "Hola, mundo!\n"
          ]
        }
      ]
    },
    {
      "cell_type": "markdown",
      "source": [
        "##Booleanos\n",
        "\n",
        "Booleanos (bool): valores lógicos que pueden ser Verdadero (True) o Falso (False).\n"
      ],
      "metadata": {
        "id": "WlglgIu4DYXU"
      }
    },
    {
      "cell_type": "code",
      "source": [
        "## Ejemplo de booleano\n",
        "\n",
        "# asignamos el valor True al booleano \"verdadero_falso\"\n",
        "verdadero_falso = True\n",
        "\n",
        "# imprime \"verdadero_falso\"\n",
        "print(verdadero_falso)"
      ],
      "metadata": {
        "colab": {
          "base_uri": "https://localhost:8080/"
        },
        "id": "biWhLR9wDeKi",
        "outputId": "fc397899-8194-4645-ea96-1ee5fdb46b4b"
      },
      "execution_count": 7,
      "outputs": [
        {
          "output_type": "stream",
          "name": "stdout",
          "text": [
            "True\n"
          ]
        }
      ]
    },
    {
      "cell_type": "markdown",
      "source": [
        "##Listas\n",
        "\n",
        "Listas (list): Colecciones ordenadas de elementos que pueden ser de diferentes tipos de datos."
      ],
      "metadata": {
        "id": "dLhKWf1XDrTb"
      }
    },
    {
      "cell_type": "code",
      "source": [
        "## Ejemplo de lista\n",
        "\n",
        "# asignamos una lista de diferentes tipos de datos a la variable \"lista\"\n",
        "lista = [3, \"manzana\", 4.5, True]\n",
        "\n",
        "# imprime \"lista\"\n",
        "print(\"Esta es mi lista: \",lista)"
      ],
      "metadata": {
        "colab": {
          "base_uri": "https://localhost:8080/"
        },
        "id": "jOsWxP_ED0Eb",
        "outputId": "7b9d28d0-6c63-46fb-d356-c8f7d2261f4a"
      },
      "execution_count": 9,
      "outputs": [
        {
          "output_type": "stream",
          "name": "stdout",
          "text": [
            "Esta es mi lista:  [3, 'manzana', 4.5, True]\n"
          ]
        }
      ]
    },
    {
      "cell_type": "markdown",
      "source": [
        "##Tuplas\n",
        "\n",
        "Tuplas (tupla): colecciones ordenadas de elementos que son inmutables, lo que significa que no se pueden cambiar una vez creadas."
      ],
      "metadata": {
        "id": "YDmVGufjEKOB"
      }
    },
    {
      "cell_type": "code",
      "source": [
        "## Ejemplo de tupla\n",
        "\n",
        "# asignamos una tupla de diferentes tipos de datos a la variable \"tupla\"\n",
        "tupla = (1, \"perro\", 3.14)\n",
        "\n",
        "# imprime \"tupla\"\n",
        "print(\"Esta es mi tupla: \",tupla)"
      ],
      "metadata": {
        "colab": {
          "base_uri": "https://localhost:8080/"
        },
        "id": "BMzUMMHJEK0V",
        "outputId": "ede69bac-bf63-4113-d2bb-06ec6bb8c4bd"
      },
      "execution_count": 10,
      "outputs": [
        {
          "output_type": "stream",
          "name": "stdout",
          "text": [
            "Esta es mi tupla:  (1, 'perro', 3.14)\n"
          ]
        }
      ]
    },
    {
      "cell_type": "markdown",
      "source": [
        "##Conjuntos\n",
        "\n",
        "Conjuntos (conjunto): colecciones desordenadas de elementos únicos que no pueden contener duplicados."
      ],
      "metadata": {
        "id": "3p_Har9nEcAl"
      }
    },
    {
      "cell_type": "code",
      "source": [
        "## Ejemplo de conjunto (set)\n",
        "\n",
        "# asignamos un set con valores únicos a la variable \"conjunto\"\n",
        "conjunto = {1, 2, 3, 3, 3, 4, 4, 5}\n",
        "\n",
        "# imprime \"conjunto\"\n",
        "print(\"Este es mi conjunto: \",conjunto)"
      ],
      "metadata": {
        "colab": {
          "base_uri": "https://localhost:8080/"
        },
        "id": "R8ME9MGrEcjA",
        "outputId": "0d9d684d-1611-4eb7-a300-40d3f889e4fc"
      },
      "execution_count": 11,
      "outputs": [
        {
          "output_type": "stream",
          "name": "stdout",
          "text": [
            "Este es mi conjunto:  {1, 2, 3, 4, 5}\n"
          ]
        }
      ]
    },
    {
      "cell_type": "markdown",
      "source": [
        "##Diccionarios\n",
        "\n",
        "Diccionarios (dict): colecciones desordenadas de pares clave-valor."
      ],
      "metadata": {
        "id": "9VwQFOVBB-Ww"
      }
    },
    {
      "cell_type": "code",
      "source": [
        "## Ejemplo de diccionario\n",
        "\n",
        "# asignamos un diccionario con claves y valores a la variable \"diccionario\"\n",
        "diccionario = {\"nombre\": \"Juan\", \"edad\": 30, \"ciudad\": \"Cancun\"}\n",
        "\n",
        "# imprime \"diccionario\"\n",
        "print(\"Estos son mis datos: \",diccionario)"
      ],
      "metadata": {
        "colab": {
          "base_uri": "https://localhost:8080/"
        },
        "id": "-4n6X4RsEyJD",
        "outputId": "2354b74f-7e9f-4cc5-8871-01d05d4e5708"
      },
      "execution_count": 13,
      "outputs": [
        {
          "output_type": "stream",
          "name": "stdout",
          "text": [
            "Estos son mis datos:  {'nombre': 'Juan', 'edad': 30, 'ciudad': 'Cancun'}\n"
          ]
        }
      ]
    }
  ]
}