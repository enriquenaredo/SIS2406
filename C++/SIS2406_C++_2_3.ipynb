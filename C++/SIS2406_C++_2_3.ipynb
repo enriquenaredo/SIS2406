{
  "nbformat": 4,
  "nbformat_minor": 0,
  "metadata": {
    "colab": {
      "provenance": []
    },
    "kernelspec": {
      "name": "python3",
      "display_name": "Python 3"
    },
    "language_info": {
      "name": "python"
    }
  },
  "cells": [
    {
      "cell_type": "markdown",
      "source": [
        "#SIS2406 - Estructura de Datos y Algoritmos\n",
        "## Primavera 2024\n",
        "\n",
        "<div>\n",
        "<img src=\"https://drive.google.com/uc?export=view&id=1tlDc5tgvFynoP1BsqutPzZcm9TCi61rI\" width=\"150\"/>\n",
        "</div>\n",
        "\n",
        "### SIS2406_C++_2.3\n",
        "\n",
        "**Enrique Naredo García**\n",
        "\n",
        "<font size = 2>\n",
        "©️ Todos los derechos reservados. All rights reserved.\n",
        "\n",
        "*Nota: El presente documento es una herramienta diseñada única y exclusivamente para los estudiantes de la asignatura arriba mencionada. Se recuerda no compartir esta información fuera de los integrantes registrados en este curso. La reproducción total o parcial de este documento requiere autorización por escrito del titular del copyright.*\n",
        "</font>"
      ],
      "metadata": {
        "id": "WAqQjOCYihN7"
      }
    },
    {
      "cell_type": "markdown",
      "source": [
        "#2.3 Listas doblemente ligadas"
      ],
      "metadata": {
        "id": "1F4oAyeFgQ84"
      }
    },
    {
      "cell_type": "markdown",
      "source": [
        "<div>\n",
        "<img src=\"https://drive.google.com/uc?export=view&id=1pB4dWEoHTEJBmIhmo7264CCTA2ZdLo0r\" width=\"850\"/>\n",
        "</div>\n"
      ],
      "metadata": {
        "id": "4_tj5gjNhdq4"
      }
    },
    {
      "cell_type": "markdown",
      "source": [
        "## Introducción\n",
        "\n",
        "Es un tipo de lista enlazada que permite moverse hacia delante y hacia atrás.\n",
        "\n",
        "* Cada nodo de una lista doblemente enlazada tiene dos enlaces, ademas de los campos de datos.\n",
        "* Un enlace, el derecho, se utiliza para navegar la lista hacia delante.\n",
        "* El otro enlace, el izquierdo, se utiliza para navegar la lista hacia atrás.\n",
        "* Las Listas pueden navegarse hacia delante y hacia atrás.\n",
        "* Las Listas pueden crear, actualizar y eliminar elementos.\n",
        "* En las Listas la posición de los elementos es relevante.\n",
        "* Las Listas admiten elementos duplicados.\n",
        "* Las Listas tienen dos protocolos, uno secuencial y el otro directo."
      ],
      "metadata": {
        "id": "641MhW82_Rz1"
      }
    },
    {
      "cell_type": "markdown",
      "source": [
        "Una lista doblemente enlazada es una lista lineal en la que cada nodo tiene dos enlaces, uno al nodo siguiente, y otro al anterior.\n",
        "\n",
        "Las listas doblemente enlazadas no necesitan un nodo especial para acceder a ellas, pueden recorrerse en ambos sentidos a partir de cualquier nodo, esto es porque a partir de cualquier nodo, siempre es posible alcanzar cualquier nodo de la lista, hasta que se llega a uno de los extremos.\n",
        "\n"
      ],
      "metadata": {
        "id": "czUsDx49_Fgk"
      }
    },
    {
      "cell_type": "markdown",
      "source": [
        "El nodo típico es el mismo que para construir las listas que hemos visto, salvo que tienen otro puntero al nodo anterior:\n",
        "```\n",
        "struct nodo {\n",
        "   int dato;\n",
        "   struct nodo *siguiente;\n",
        "   struct nodo *anterior;\n",
        "};\n",
        "```\n",
        "\n",
        "\n",
        "\n",
        "\n",
        "\n",
        "\n"
      ],
      "metadata": {
        "id": "xE0jFc84_hnT"
      }
    },
    {
      "cell_type": "markdown",
      "source": [
        "##Operaciones\n",
        "\n",
        "De nuevo tenemos el mismo repertorio de operaciones sobre este tipo listas:\n",
        "\n",
        "* Añadir o insertar elementos.\n",
        "* Buscar o localizar elementos.\n",
        "* Borrar elementos.\n",
        "* Moverse a través de la lista, siguiente y anterior.\n"
      ],
      "metadata": {
        "id": "vYTrbcet_oA7"
      }
    },
    {
      "cell_type": "markdown",
      "source": [
        "## Ventajas\n",
        "\n",
        "En algunas aplicaciones podemos desear recorrer la lista hacia adelante y hacia atrás, o dado un elemento, podemos desear conocer rápidamente los elementos anterior y siguiente.\n",
        "\n",
        "* En tales situaciones podríamos desear darle a cada celda sobre una lista un puntero a las celdas siguiente y anterior en la lista.\n",
        "\n",
        "* Otra ventaja de las listas doblemente enlazadas es que podemos usar un puntero a la celda que contiene el i-ésimo elemento de una lista para representar la posición i.\n",
        "\n",
        "* Si usamos punteros podemos declarar celdas que consisten en un elemento y dos punteros.\n"
      ],
      "metadata": {
        "id": "sDI3dtcP_7ic"
      }
    },
    {
      "cell_type": "markdown",
      "source": [
        "## Desventajas\n",
        "\n",
        "* Cada nodo ocupa más espacio en memoria al estar constituido por un segundo campo puntero.\n",
        "* El doble enlace de los nodos permite recorrer la lista en cualquier dirección.\n",
        "* Agregar o eliminar un nodo en una lista doblemente enlazada requiere cambiar más enlaces.\n",
        "* La presencia de un puntero adicional en cada celda y consecuentemente procedimientos algo más largos para algunas de las operaciones básicas de listas."
      ],
      "metadata": {
        "id": "DBUzuKJOAG4c"
      }
    },
    {
      "cell_type": "markdown",
      "source": [
        "## Lista Doblemente Ligada"
      ],
      "metadata": {
        "id": "oozAZl8T7ULt"
      }
    },
    {
      "cell_type": "code",
      "execution_count": 18,
      "metadata": {
        "colab": {
          "base_uri": "https://localhost:8080/"
        },
        "id": "sUxoG_J-GFFF",
        "outputId": "98f536f1-fef0-421f-f2a2-2ddd5fb6e1d4"
      },
      "outputs": [
        {
          "output_type": "stream",
          "name": "stdout",
          "text": [
            "Overwriting ListaDobleLigada.cpp\n"
          ]
        }
      ],
      "source": [
        "# Escribe el programa ListaDobleLigada.cpp\n",
        "%%writefile ListaDobleLigada.cpp\n",
        "\n",
        "\n",
        "#include <iostream>\n",
        "using namespace std;\n",
        "\n",
        "\n",
        "\n",
        "/* Clase Nodo */\n",
        "\n",
        "class Nodo {\n",
        "  public:\n",
        "    int dato;\n",
        "    Nodo* sig;\n",
        "    Nodo* prev;\n",
        "\n",
        "    // constructor (inicializa)\n",
        "    Nodo(int dato) {\n",
        "      this->dato = dato;\n",
        "      sig = nullptr;\n",
        "      prev = nullptr;\n",
        "    }\n",
        "};\n",
        "\n",
        "\n",
        "\n",
        "\n",
        "/* Clase para la lista doblemente ligada con métodos */\n",
        "\n",
        "class ListaDobleLigada {\n",
        "  private:\n",
        "    Nodo* inicio;\n",
        "\n",
        "  public:\n",
        "    // constructor (inicializa)\n",
        "    ListaDobleLigada() {\n",
        "      inicio = nullptr;\n",
        "    }\n",
        "\n",
        "    // Inserta elemento en lista vacia\n",
        "    void InsertaEnListaVacia(int datito) {\n",
        "      if (inicio == nullptr) {\n",
        "        Nodo* nodo_nuevo = new Nodo(datito);\n",
        "        inicio = nodo_nuevo;\n",
        "      } else {\n",
        "        cout << \"La lista esta vacia.\" << endl;\n",
        "      }\n",
        "    }\n",
        "\n",
        "    // Inserta elemento al final\n",
        "    void InsertaAlFinal(int datito) {\n",
        "      if (inicio == nullptr) {\n",
        "        Nodo* nodo_nuevo = new Nodo(datito);\n",
        "        inicio = nodo_nuevo;\n",
        "        return;\n",
        "      }\n",
        "      Nodo* temp = inicio;\n",
        "      while (temp->sig != nullptr) {\n",
        "        temp = temp->sig;\n",
        "      }\n",
        "      Nodo* nodo_nuevo = new Nodo(datito);\n",
        "      temp->sig = nodo_nuevo;\n",
        "      nodo_nuevo->prev = temp;\n",
        "    }\n",
        "\n",
        "    // Elimina los elementos desde el inicio\n",
        "    void EliminaEnInicio() {\n",
        "      if (inicio == nullptr) {\n",
        "        cout << \"La lista doblemente ligada esta vacia, \\\n",
        "                  no existen elementos por eliminar.\" << endl;\n",
        "        return;\n",
        "      }\n",
        "      if (inicio->sig == nullptr) {\n",
        "        inicio = nullptr;\n",
        "        return;\n",
        "      }\n",
        "      inicio = inicio->sig;\n",
        "    }\n",
        "\n",
        "    // Elimina los elementos desde el final\n",
        "    void EliminaAlFinal() {\n",
        "      if (inicio == nullptr) {\n",
        "        cout << \"La lista doblemente ligada esta vacia, \\\n",
        "                 no existen elementos por eliminar.\" << endl;\n",
        "        return;\n",
        "      }\n",
        "      if (inicio->sig == nullptr) {\n",
        "        inicio = nullptr;\n",
        "        return;\n",
        "      }\n",
        "      Nodo* temp = inicio;\n",
        "      while (temp->sig != nullptr) {\n",
        "        temp = temp->sig;\n",
        "      }\n",
        "      temp->prev->sig = nullptr;\n",
        "    }\n",
        "\n",
        "    // Recorre y muestra cada elemento de la lista\n",
        "    void Muestra() {\n",
        "      if (inicio == nullptr) {\n",
        "        cout << \"La lista doblemente ligada esta vacia.\" << endl;\n",
        "        return;\n",
        "      } else {\n",
        "        Nodo* temp = inicio;\n",
        "        int c = 0;\n",
        "        while (temp != nullptr) {\n",
        "          cout << \"El elemento \" << c << \" es: \" << temp->dato << endl;\n",
        "          temp = temp->sig;\n",
        "          c = c+1;\n",
        "        }\n",
        "      }\n",
        "      cout << endl;\n",
        "    }\n",
        "};\n",
        "\n",
        "\n",
        "\n",
        "\n",
        "/*  Casos de uso */\n",
        "\n",
        "int main() {\n",
        "  ListaDobleLigada L2L;\n",
        "\n",
        "  // Inserta un elemento a la lista vacía\n",
        "  L2L.InsertaEnListaVacia(10);\n",
        "\n",
        "  // Muestra los elementos de la lista\n",
        "  L2L.Muestra();\n",
        "\n",
        "  // Inserta elementos al final de la lista\n",
        "  L2L.InsertaAlFinal(20);\n",
        "  L2L.InsertaAlFinal(30);\n",
        "  L2L.InsertaAlFinal(40);\n",
        "  L2L.InsertaAlFinal(50);\n",
        "  L2L.InsertaAlFinal(60);\n",
        "  L2L.Muestra();\n",
        "\n",
        "  return 0;\n",
        "}"
      ]
    },
    {
      "cell_type": "code",
      "execution_count": 15,
      "metadata": {
        "id": "9MrA4Bw2Zj-N"
      },
      "outputs": [],
      "source": [
        "# Compila el programa ListaDobleLigada.cpp\n",
        "! g++ ListaDobleLigada.cpp -o ListaDobleLigada"
      ]
    },
    {
      "cell_type": "code",
      "execution_count": 17,
      "metadata": {
        "id": "D_eA9BI_Zj-O"
      },
      "outputs": [],
      "source": [
        "# Ejecuta el programa: ListaDobleLigada\n",
        "! ./ListaDobleLigada"
      ]
    }
  ]
}