{
  "cells": [
    {
      "cell_type": "markdown",
      "metadata": {
        "id": "0qlL50zEwoqZ"
      },
      "source": [
        "#SIS2406 - Estructura de Datos y Algoritmos\n",
        "## Primavera 2024\n",
        "\n",
        "<div>\n",
        "<img src=\"https://drive.google.com/uc?export=view&id=1tlDc5tgvFynoP1BsqutPzZcm9TCi61rI\" width=\"150\"/>\n",
        "</div>\n",
        "\n",
        "### SIS2406_C++_1.0\n",
        "\n",
        "**Enrique Naredo García**\n",
        "\n",
        "<font size = 2>\n",
        "©️ Todos los derechos reservados. All rights reserved.\n",
        "\n",
        "*Nota: El presente documento es una herramienta diseñada única y exclusivamente para los estudiantes de la asignatura arriba mencionada. Se recuerda no compartir esta información fuera de los integrantes registrados en este curso. La reproducción total o parcial de este documento requiere autorización por escrito del titular del copyright.*\n",
        "</font>"
      ]
    },
    {
      "cell_type": "markdown",
      "metadata": {
        "id": "z8JKmcsENKcW"
      },
      "source": [
        "#1.1 Introducción"
      ]
    },
    {
      "cell_type": "markdown",
      "metadata": {
        "id": "09kpZH-8NKcX"
      },
      "source": [
        "En esta práctica se introduce los tipos de datos utilizados en Python.\n",
        "\n",
        "Particularmente, en este Jupyter notebook se utiliza el proceso e instrucciones similares tal como si se estuviera utilizando un entorno de desarrollo integrado (Integrated Development Environment - IDE), como es el caso de Visual Studio Code.\n",
        "\n",
        "En cada sección se da una breve explicación y posteriormente se proporciona un ejemplo en código."
      ]
    },
    {
      "cell_type": "markdown",
      "metadata": {
        "id": "BnG5rqBgNKcX"
      },
      "source": [
        "**Notas:**\n",
        "\n",
        "* En Python el símbolo #, se utiliza para agregar un comentario (el cual no se ejecuta).\n",
        "* En C++ el símbolo //, se utiliza para agregar un comentario (el cual no se ejecuta).\n",
        "* Se recomienda realizar la práctica utilizando el lenguaje de programación correspondiente.\n",
        "* Se recomienda realizar modificaciones al código para verificar y comprender de manera correcta el funcionamiento del mismo."
      ]
    },
    {
      "cell_type": "markdown",
      "metadata": {
        "id": "OufEM5zbNKcY"
      },
      "source": [
        "## C++\n",
        "\n",
        "C++ es un lenguaje compilado que fue desarrollado en 1980 por Bjarne Stroustroup en los laboratorios At&T como una extensión orientada a objetos del lenguaje C.\n",
        "\n",
        "* C++ significaría incremento de C, aprovechando que el lenguaje C tiene el operador ++ con ese nombre.\n",
        "* Si existen errores en el código del programa, su ejecución se detiene.\n",
        "\n"
      ]
    },
    {
      "cell_type": "markdown",
      "metadata": {
        "id": "sT4O35A4NKcd"
      },
      "source": [
        "Un programa de C++ es un archivo de texto plano con la extensión .cpp, c++. En cambio los archivos .c son archivos de código c.\n",
        "\n",
        "Se puede crear un programa de C++ con cualquier editor de texto plano, pero se recomienda utilizar editores de programación que incluyen herramientas que facilitan la escritura de programas, como Visual Studio Code.\n",
        "\n",
        "* Su sintaxis es heredada del lenguaje C.\n",
        "* Programa orientado a objetos (POO).\n",
        "* Permite la agrupación de instrucciones.\n",
        "* Es portátil y tiene un gran número de compiladores en diferentes plataformas y sistemas operativos.\n",
        "* Permite la separación de un programa en módulos que admiten compilación independiente.\n",
        "* Es un lenguaje de alto nivel."
      ]
    },
    {
      "cell_type": "markdown",
      "metadata": {
        "id": "M4ZlYs2YNKce"
      },
      "source": [
        "C++ proporciona funciones integradas para crear, escribir y leer archivos.\n",
        "\n",
        "Hay dos tipos de archivos que se pueden manejar en C++, archivos de texto normales y archivos binarios (escritos en lenguaje binario, 0 y 1).\n",
        "\n",
        "* Archivos de texto: en este tipo de archivo, cada línea de texto termina con un carácter especial llamado EOL (Fin de línea), que es el carácter de nueva línea ('\\n') en Python de forma predeterminada.\n",
        "\n",
        "* Archivos binarios: en este tipo de archivos, no hay terminador para una línea y los datos se almacenan después de convertirlos a un lenguaje binario comprensible por máquina.\n"
      ]
    },
    {
      "cell_type": "markdown",
      "metadata": {
        "id": "gAu7Vq3fNKcl"
      },
      "source": [
        "###Funciones mágicas\n",
        "\n",
        "Tanto Jupyter como IPython tienen un conjunto de funciones predefinidas llamadas mágicas que representa una de las mejoras más importantes que aporta en relación al intérprete de Python por defecto (solo en el ámbito del IPython funcionan).\n",
        "\n",
        "Hay dos tipos de funciones mágicas:\n",
        "\n",
        "* Orientadas a líneas, llevan por delante un signo: %, trabajan en una sola línea.\n",
        "\n",
        "* Orientadas a celdas, llevan por delante dos signos: %%, trabajan en varias líneas.\n"
      ]
    },
    {
      "cell_type": "markdown",
      "metadata": {
        "id": "B62jY4cpNKcm"
      },
      "source": [
        "%%writefile le permite enviar código desarrollado en un Notebook a un módulo de Python.\n",
        "\n",
        "La biblioteca sys conecta un programa Python al sistema en el que se ejecuta."
      ]
    },
    {
      "cell_type": "markdown",
      "metadata": {
        "id": "4Fa1WXWtNKcn"
      },
      "source": [
        "###Proceso\n",
        "\n",
        "1. Escribir el código en texto en un archivo con extensión: ejemplo.py\n",
        "2. Guardar el archivo ejemplo.py en un folder\n",
        "3. Ejecutarlo con la instrucción python ejemplo.py\n",
        "\n",
        "**Notas:**\n",
        "\n",
        "* En Jupyter notebook se utilizan funciones mágicas como %%writefile\n",
        "* En Jupyter notebook para ejecutar instrucciones del sistema se agrega antes el simbolo: !. Por ejemplo: ! python ejemplo.py\n",
        "* En Google Colab si el archivo se guarda en el directorio: /content, entonces al momento de cerrar la sesión este archivo desaparecera.\n",
        "* Si se requiere mantener los archivos, entonces se recomienda montar primero el Google drive y crear un directorio para tal fin.\n",
        "\n",
        "\n",
        "\n"
      ]
    },
    {
      "cell_type": "markdown",
      "metadata": {
        "id": "oV6hLJjoNKco"
      },
      "source": [
        "##Hola Mundo\n",
        "\n",
        "Se crea un primer programa en C++."
      ]
    },
    {
      "cell_type": "markdown",
      "metadata": {
        "id": "Wb6cVole8h-0"
      },
      "source": [
        "##Hola Mundo"
      ]
    },
    {
      "cell_type": "code",
      "execution_count": null,
      "metadata": {
        "colab": {
          "base_uri": "https://localhost:8080/"
        },
        "id": "g3zUsqYr8hhE",
        "outputId": "cadf5698-e310-4886-d690-7235a9139b83"
      },
      "outputs": [
        {
          "name": "stdout",
          "output_type": "stream",
          "text": [
            "Writing HolaMundo.cpp\n"
          ]
        }
      ],
      "source": [
        "# Escribe el programa HolaMundo.cpp\n",
        "%%writefile HolaMundo.cpp\n",
        "\n",
        "#include<iostream>\n",
        "\n",
        "int main(){\n",
        "  std::cout<<\"Hola Mundo\";\n",
        "  return 0;\n",
        "}"
      ]
    },
    {
      "cell_type": "code",
      "execution_count": null,
      "metadata": {
        "id": "QGHtkTXK9UHU"
      },
      "outputs": [],
      "source": [
        "# Compila el programa HolaMundo.cpp\n",
        "! g++ HolaMundo.cpp -o HolaMundo"
      ]
    },
    {
      "cell_type": "code",
      "execution_count": null,
      "metadata": {
        "colab": {
          "base_uri": "https://localhost:8080/"
        },
        "id": "t_Jp_UtN92Kt",
        "outputId": "b282f72b-91f7-4494-c0d3-c47c6392ee83"
      },
      "outputs": [
        {
          "name": "stdout",
          "output_type": "stream",
          "text": [
            "Hola Mundo"
          ]
        }
      ],
      "source": [
        "# Ejecuta el programa: HolaMundo\n",
        "! ./HolaMundo"
      ]
    },
    {
      "cell_type": "markdown",
      "metadata": {
        "id": "_fvl1IcRTBml"
      },
      "source": [
        "##Ejemplo\n",
        "\n",
        "Progama un poco más extenso ejemplificando los tipos de variables que definen datos en Python."
      ]
    },
    {
      "cell_type": "code",
      "execution_count": 123,
      "metadata": {
        "colab": {
          "base_uri": "https://localhost:8080/"
        },
        "id": "CNf4LRyZTQfM",
        "outputId": "4f8cb115-064b-49f9-c542-01c46de91631"
      },
      "outputs": [
        {
          "output_type": "stream",
          "name": "stdout",
          "text": [
            "Overwriting Introduccion.cpp\n"
          ]
        }
      ],
      "source": [
        "# Escribe un programa más largo: Introduccion.cpp\n",
        "%%writefile Introduccion.cpp\n",
        "\n",
        "\n",
        "#include<iostream>\n",
        "\n",
        "int main(){\n",
        "\n",
        "  // Ejemplo de entero (int)\n",
        "  int numero_entero = 7; // asignamos el valor 7 al entero \"numero_entero\"\n",
        "  std::cout<<numero_entero<<std::endl;\n",
        "\n",
        "  // Ejemplo de flotante (float)\n",
        "  float numero_flotante = 2.5; // asignamos el valor 2.5 al flotante \"numero_flotante\"\n",
        "  std::cout<<numero_flotante<<std::endl;\n",
        "\n",
        "  // Ejemplo de string\n",
        "  std::string cadena = \"Hola, mundo!\\n\"; // asignamos la cadena \"Hola, mundo!\" a la variable \"cadena\"\n",
        "\n",
        "  // Ejemplo de booleano\n",
        "  bool verdadero_falso = true; // asignamos el valor true al booleano \"verdadero_falso\"\n",
        "  std::cout<<verdadero_falso<<\"\\n\";\n",
        "\n",
        "  // Ejemplo de arreglo\n",
        "  int arreglo[5] = {3, 5, 7, 9, 11}; // asignamos un arreglo de enteros a la variable \"arreglo\"\n",
        "  for ( int i = 0; i < 5; i++ ){\n",
        "    std::cout<< arreglo[i]<< ' ';\n",
        "  }\n",
        "  printf(\"\\n\");\n",
        "\n",
        "  // Ejemplo de puntero\n",
        "  int* puntero = &numero_entero; // asignamos la dirección de memoria de \"numero_entero\" al puntero \"puntero\"\n",
        "  std::cout<<puntero<<\"\\n\";\n",
        "\n",
        "  // Ejemplo de enumeración\n",
        "  enum DiaSemana {LUNES, MARTES, MIERCOLES, JUEVES, VIERNES, SABADO, DOMINGO};\n",
        "  DiaSemana hoy = LUNES; // asignamos el valor 0 (LUNES) al tipo de datos definido por el usuario \"DiaSemana\"\n",
        "  std::cout<<\"Hoy es el dia: \"<<hoy+1<<\"\\n\";\n",
        "\n",
        "\n",
        "  // Ejemplo de estructura\n",
        "  struct Persona {\n",
        "    char nombre[50];\n",
        "    int edad;\n",
        "    char ciudad[50];\n",
        "  };\n",
        "  Persona persona = {\"Juan\", 22, \"Tulum\"}; // asignamos una estructura con variables de diferentes tipos de datos a la variable \"persona\"\n",
        "  //std::cout<<persona;\n",
        "  printf(\"Mi nombre es: %s, tengo %d años y vivo en %s\", persona.nombre, persona.edad, persona.ciudad);\n",
        "\n",
        "  return 0;\n",
        "}"
      ]
    },
    {
      "cell_type": "code",
      "execution_count": 124,
      "metadata": {
        "id": "wgJdjENeUlSP"
      },
      "outputs": [],
      "source": [
        "# Compila el programa Introduccion.cpp\n",
        "! g++ Introduccion.cpp -o Introduccion"
      ]
    },
    {
      "cell_type": "code",
      "execution_count": 125,
      "metadata": {
        "colab": {
          "base_uri": "https://localhost:8080/"
        },
        "id": "0q3W6dCSUlSR",
        "outputId": "8909310a-56ab-4f20-ac20-a3995f9d1bf1"
      },
      "outputs": [
        {
          "output_type": "stream",
          "name": "stdout",
          "text": [
            "7\n",
            "2.5\n",
            "1\n",
            "3 5 7 9 11 \n",
            "0x7ffc5c2b8d08\n",
            "Hoy es el dia: 1\n",
            "Mi nombre es: Juan, tengo 22 años y vivo en Tulum"
          ]
        }
      ],
      "source": [
        "# Ejecuta el programa: Introduccion\n",
        "! ./Introduccion"
      ]
    }
  ],
  "metadata": {
    "colab": {
      "provenance": []
    },
    "kernelspec": {
      "display_name": "Python 3",
      "name": "python3"
    },
    "language_info": {
      "name": "python"
    }
  },
  "nbformat": 4,
  "nbformat_minor": 0
}