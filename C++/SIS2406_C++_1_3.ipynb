{
  "cells": [
    {
      "cell_type": "markdown",
      "metadata": {
        "id": "mdJ7N465DcSP"
      },
      "source": [
        "#SIS2406 - Estructura de Datos y Algoritmos\n",
        "## Primavera 2024\n",
        "\n",
        "<div>\n",
        "<img src=\"https://drive.google.com/uc?export=view&id=1tlDc5tgvFynoP1BsqutPzZcm9TCi61rI\" width=\"150\"/>\n",
        "</div>\n",
        "\n",
        "### SIS2406_C++_1.3\n",
        "\n",
        "**Enrique Naredo García**\n",
        "\n",
        "<font size = 2>\n",
        "©️ Todos los derechos reservados. All rights reserved.\n",
        "\n",
        "*Nota: El presente documento es una herramienta diseñada única y exclusivamente para los estudiantes de la asignatura arriba mencionada. Se recuerda no compartir esta información fuera de los integrantes registrados en este curso. La reproducción total o parcial de este documento requiere autorización por escrito del titular del copyright.*\n",
        "</font>"
      ]
    },
    {
      "cell_type": "markdown",
      "metadata": {
        "id": "9neXRDd6FSMU"
      },
      "source": [
        "#1.3 Apuntadores"
      ]
    },
    {
      "cell_type": "markdown",
      "metadata": {
        "id": "_IKPcOveRPlH"
      },
      "source": [
        "##Dirección de memoria\n",
        "\n",
        "Cada variable que se utiliza en una aplicación ocupa una o varias posiciones de memoria. Estas posiciones de memoria se accesan por medio de una dirección de memoria.\n",
        "\n",
        "En informática, una dirección de memoria [1], es un formato de localización de bytes de memoria con la cual un programa informático o un dispositivo de hardware accede o almacena datos para su posterior utilización.\n",
        "\n",
        "* Una forma común de describir la memoria principal de un ordenador es como una colección de celdas que almacenan datos e instrucciones.\n",
        "\n",
        "* Cada celda está identificada unívocamente por un número o dirección de memoria.\n",
        "\n",
        "* Para poder acceder a una ubicación específica de la memoria, la CPU genera señales en el bus de dirección.\n",
        "\n",
        "* Habitualmente tiene una longitud de 32 bits en la mayoría de máquinas actuales.\n",
        "\n",
        "* Un bus de dirección de 32 bits permite especificar hasta {\\displaystyle 2^{32}}= 4.294.967.296 direcciones de memoria distintas.\n",
        "\n",
        "* Las direcciones de memoria se expresan a menudo en código hexadecimal.\n",
        "\n",
        "* Por ejemplo, para expresar el valor binario 111111010100000000000010101100 se escribe 0x3F5000AC en hexadecimal."
      ]
    },
    {
      "cell_type": "markdown",
      "metadata": {
        "id": "n8ahe_HdRe4N"
      },
      "source": [
        "##Puntero\n",
        "Un puntero es una herramienta que se utiliza para hacer programas flexibles y eficientes. Una variable puntero contiene direcciones de otras variables, es decir, contiene valores que son direcciones de memoria donde se almacenan datos [1].\n",
        "\n",
        "El concepto de apuntadores tiene correspondencia con la vida cotidiana. Por ejemplo, cuando se envía una carta por correo, su información se entrega gracias a su apuntador que es la dirección de esa carta.\n",
        "\n",
        "Se le atribuye a Harold Lawson la invención del puntero en 1964. En 2000, Lawson fue presentado el Premio Pionero de Informática por la IEEE \"[por la invención de la variable puntero y la introducción de este concepto en PL /I, proporcionando así, por primera vez, la capacidad de tratar con flexibilidad las listas enlazadas en un lenguaje de alto nivel de propósito general\".\n",
        "\n",
        "Según el Diccionario inglés de Oxford, la palabra puntero apareció impresa por primera vez como un puntero de pila en un memorando técnico de la System Development Corporation (Corporación de Desarrollo de Sistemas).\n",
        "\n",
        "* Los punteros son compatibles directamente sin restricciones en lenguajes como PL/1, C, C++, Pascal, y la mayoría de los lenguajes ensambladores.\n",
        "\n",
        "* Se utilizan principalmente para la construcción de referencias, que a su vez son fundamentales para la construcción de casi todas las estructuras de datos, así como para pasar datos entre las diversas partes de un programa.\n",
        "\n",
        "* En resumen un apuntador es un tipo de dato que “apunta” a otro valor almacenado en memoria.\n",
        "\n",
        "* En C++ el uso de punteros es común para manejar memoria dinámica.\n",
        "\n",
        "* A la dirección de la variable se puede acceder por medio del operador de dirección & en C++ ."
      ]
    },
    {
      "cell_type": "markdown",
      "metadata": {
        "id": "DVrwBuJnRrpB"
      },
      "source": [
        "##Reglas\n",
        "\n",
        "Los apuntadores se rigen por las siguientes reglas:\n",
        "\n",
        "* Un apuntador es una variable como cualquier otra.\n",
        "* Una variable apuntador contiene una dirección que apunta a otra posición en memoria.\n",
        "* En esa posición se almacenan los datos a los que apunta el apuntador.\n",
        "* Un apuntador apunta a una variable de memoria"
      ]
    },
    {
      "cell_type": "markdown",
      "metadata": {
        "id": "zPu3bQKPRyJu"
      },
      "source": [
        "##Declaración de apuntadores\n",
        "\n",
        "Para declarar un apuntador se debe seguir el formato:\n",
        "\n",
        "`< tipodedatoapuntado > ∗ < identificadordelpuntero >`\n",
        "\n",
        "Apuntadores `NULL` y `void`\n",
        "\n",
        "Un apuntador nulo (`NULL`) no apunta a ningún dato valido.\n",
        "\n",
        "* Sirve a los programadores para saber cuando un apuntador no direcciona a un dato válido.\n",
        "\n",
        "* Se pueden utilizar librerías en las cuales este apuntador esta declarado (`stdio.h, stdlib.h y string.h`).\n",
        "\n",
        "* Se puede definir `NULL` en la parte superior del programa: `#define NULL 0`\n",
        "\n",
        "\n",
        "Por otro lado, existe la noción de apuntador que apunta a cualquier tipo de dato, no se asigna algún tipo de dato específico.\n",
        "\n",
        "Esto se logra mediante un apuntador `void*`, denominado apuntador genérico.\n",
        "\n",
        "`void ∗ ptr; /*declara un apuntador genérico*/`\n",
        "\n",
        "\n",
        "Los apuntadores void pueden direccionar a una variable `char`, `float` o una cadena, por nombrar algunos casos."
      ]
    },
    {
      "cell_type": "markdown",
      "metadata": {
        "id": "YaFv_SCdgdrJ"
      },
      "source": [
        "Los punteros son variables que solamente contienen direcciones de memoria de otras variables.\n",
        "\n",
        "Existen dos operadores especiales para manejar punteros:\n",
        "\n",
        "* `&` devuelve la dirección de memoria de una variable,\n",
        "* `*` devuelve el valor guardado en una dirección de memoria."
      ]
    },
    {
      "cell_type": "code",
      "execution_count": null,
      "metadata": {
        "colab": {
          "base_uri": "https://localhost:8080/"
        },
        "id": "bSMWmwU69jQ6",
        "outputId": "cc5aa780-e0c8-47a9-daae-5884c1fb7e76"
      },
      "outputs": [
        {
          "name": "stdout",
          "output_type": "stream",
          "text": [
            "Overwriting apuntador.cpp\n"
          ]
        }
      ],
      "source": [
        "# Escribe el programa apuntador.cpp\n",
        "%%writefile apuntador.cpp\n",
        "\n",
        "#include <iostream>\n",
        "#include <vector>\n",
        "\n",
        "int main(){\n",
        "\n",
        "  // Declara un apuntador y lo inicializa\n",
        "  // para que no almacene una dirección aleatoria\n",
        "  int* p = nullptr;\n",
        "\n",
        "  // declara el objeto i y le asigna el valor de 5\n",
        "  int i = 5;\n",
        "\n",
        "  // asigna el apuntador a la dirección del objeto\n",
        "  p = &i;\n",
        "\n",
        "  // desreferenciación de p to recuperar el valor\n",
        "  int j = *p;\n",
        "\n",
        "  // Imprime apuntador\n",
        "  std::cout << \"Objeto i con valor de: \" << i << std::endl;\n",
        "  std::cout << \"Dirección de memoria: \" << p;\n",
        "\n",
        "  //Después de operar con punteros es necesario liberar la memoria\n",
        "  p = NULL;\n",
        "  delete p;\n",
        "\n",
        "  return 0;\n",
        "}"
      ]
    },
    {
      "cell_type": "code",
      "execution_count": null,
      "metadata": {
        "id": "QGHtkTXK9UHU"
      },
      "outputs": [],
      "source": [
        "# Compila el programa apuntador.cpp\n",
        "! g++ apuntador.cpp -o apuntador"
      ]
    },
    {
      "cell_type": "code",
      "execution_count": null,
      "metadata": {
        "colab": {
          "base_uri": "https://localhost:8080/"
        },
        "id": "t_Jp_UtN92Kt",
        "outputId": "d6c9cdcf-7ca7-4934-9eca-c895a9e4b702"
      },
      "outputs": [
        {
          "name": "stdout",
          "output_type": "stream",
          "text": [
            "Objeto i con valor de: 5\n",
            "Dirección de memoria: 0x7ffc034648e8"
          ]
        }
      ],
      "source": [
        "# Ejecuta el programa: apuntador\n",
        "! ./apuntador"
      ]
    },
    {
      "cell_type": "markdown",
      "metadata": {
        "id": "17DvmFXVxLMV"
      },
      "source": [
        "##Programa para demostrar el uso de apuntadores en C++"
      ]
    },
    {
      "cell_type": "code",
      "execution_count": null,
      "metadata": {
        "colab": {
          "background_save": true,
          "base_uri": "https://localhost:8080/"
        },
        "id": "m87Barh6wnjX",
        "outputId": "5791b47d-7bce-4a43-da9b-5667b8da6378"
      },
      "outputs": [
        {
          "name": "stdout",
          "output_type": "stream",
          "text": [
            "Writing miapuntador.cpp\n"
          ]
        }
      ],
      "source": [
        "## Programa para demostrar el uso de apuntadores en C++\n",
        "# Escribe el programa miapuntador.cpp\n",
        "%%writefile miapuntador.cpp\n",
        "\n",
        "#include <iostream>\n",
        "using namespace std;\n",
        "\n",
        "int main()\n",
        "{\n",
        "    // declaración de variable\n",
        "    int x = 10;\n",
        "    // apuntador variable\n",
        "    int* miapuntador;\n",
        "    // guarda dirección de x en el apuntador 'miapuntador'\n",
        "    miapuntador = &x;\n",
        "\n",
        "    // imprime el valor de x\n",
        "    cout << \"El valor de x es: \";\n",
        "    cout << x << endl;\n",
        "\n",
        "    // imprime la dirección guardada en 'miapuntador'\n",
        "    cout << \"La dirección de 'miapuntador' es: \";\n",
        "    cout << miapuntador << endl;\n",
        "\n",
        "    // imprime el valor de la variable en la dirección de 'miapuntador'\n",
        "    cout << \"Valor de x en la dirección guardada en *miapuntador es: \";\n",
        "    cout << *miapuntador << endl;\n",
        "\n",
        "    return 0;\n",
        "}"
      ]
    },
    {
      "cell_type": "code",
      "execution_count": null,
      "metadata": {
        "colab": {
          "background_save": true
        },
        "id": "PcsnYYvKwsLO"
      },
      "outputs": [],
      "source": [
        "# Compila el programa miapuntador.cpp\n",
        "! g++ miapuntador.cpp -o miapuntador"
      ]
    },
    {
      "cell_type": "code",
      "execution_count": null,
      "metadata": {
        "colab": {
          "base_uri": "https://localhost:8080/"
        },
        "id": "u4tpECP4wsLO",
        "outputId": "bf294e1b-bd1f-40b7-f50d-e7864875a4b4"
      },
      "outputs": [
        {
          "name": "stdout",
          "output_type": "stream",
          "text": [
            "Value of x is: 10\n",
            "La dirección de 'miapuntador' es: 0x7ffd656ea7cc\n",
            "Vaor de x en la dirección guardada en *miapuntador es: 10\n"
          ]
        }
      ],
      "source": [
        "# Ejecuta el programa: miapuntador\n",
        "! ./miapuntador"
      ]
    },
    {
      "cell_type": "markdown",
      "metadata": {
        "id": "V3ZjYRYVxPpv"
      },
      "source": [
        "##Programa para demostrar el uso de referencias en C++"
      ]
    },
    {
      "cell_type": "code",
      "execution_count": null,
      "metadata": {
        "colab": {
          "base_uri": "https://localhost:8080/"
        },
        "id": "1YEKq4fnxccP",
        "outputId": "d996390a-8449-4355-f082-03b9ec163491"
      },
      "outputs": [
        {
          "name": "stdout",
          "output_type": "stream",
          "text": [
            "Overwriting referencia.cpp\n"
          ]
        }
      ],
      "source": [
        "## Programa para demostrar el uso de referencias en C++\n",
        "# Escribe el programa referencia.cpp\n",
        "%%writefile referencia.cpp\n",
        "\n",
        "\n",
        "#include <iostream>\n",
        "using namespace std;\n",
        "\n",
        "int main()\n",
        "{\n",
        "\t// declaración de variable\n",
        "\tint y = 10;\n",
        "\tcout << \"El valor inicial de 'y' es \" << y << endl;\n",
        "\n",
        "\t// la variable 'mireferencia' es una referencia a x.\n",
        "\tint& mireferencia = y;\n",
        "\tcout << \"El valor inicial de 'mireferencia' es \" << mireferencia << endl;\n",
        "\n",
        "\t// cambia el valor de y a 30\n",
        "\ty = 30;\n",
        "\tcout << \"El valor actual de 'y' es \" << y << endl;\n",
        "\n",
        "\tcout << \"El valor actual de 'mireferencia' es: \"\n",
        "\t\t<< mireferencia << '\\n';\n",
        "\n",
        "\treturn 0;\n",
        "}\n"
      ]
    },
    {
      "cell_type": "code",
      "execution_count": null,
      "metadata": {
        "id": "2EnTN11BxRs1"
      },
      "outputs": [],
      "source": [
        "# Compila el programa referencia.cpp\n",
        "! g++ referencia.cpp -o referencia"
      ]
    },
    {
      "cell_type": "code",
      "execution_count": null,
      "metadata": {
        "colab": {
          "base_uri": "https://localhost:8080/"
        },
        "id": "ti3n-HuGxRs1",
        "outputId": "0edcfbd0-dbb1-4974-e400-08fea968fbf8"
      },
      "outputs": [
        {
          "name": "stdout",
          "output_type": "stream",
          "text": [
            "El valor inicial de 'y' es 10\n",
            "El valor inicial de 'mireferencia' es 10\n",
            "El valor actual de 'y' es 30\n",
            "El valor actual de 'mireferencia' es: 30\n"
          ]
        }
      ],
      "source": [
        "# Ejecuta el programa: referencia\n",
        "! ./referencia"
      ]
    },
    {
      "cell_type": "markdown",
      "metadata": {
        "id": "KrlzTs_XtX6G"
      },
      "source": [
        "Hay 3 formas de pasar argumentos de C++ a una función:\n",
        "\n",
        "* Llamada por valor\n",
        "* Llamada por referencia con un argumento de puntero\n",
        "* Llamada por referencia con un argumento de referencia"
      ]
    },
    {
      "cell_type": "code",
      "execution_count": null,
      "metadata": {
        "colab": {
          "base_uri": "https://localhost:8080/"
        },
        "id": "pmmwTlgEtYfL",
        "outputId": "f58d7dc8-9107-468a-eec2-3f67baaf30a9"
      },
      "outputs": [
        {
          "name": "stdout",
          "output_type": "stream",
          "text": [
            "Overwriting metodos.cpp\n"
          ]
        }
      ],
      "source": [
        "# Escribe el programa metodos.cpp\n",
        "%%writefile metodos.cpp\n",
        "\n",
        "/* Programa para calcular el cuadrado de un número\n",
        "utilizando apuntadores con tres métodos diferentes */\n",
        "\n",
        "\n",
        "#include <bits/stdc++.h>\n",
        "using namespace std;\n",
        "\n",
        "\n",
        "/* Método para pasar por valor (pass-by-value) */\n",
        "\n",
        "int cuadrado1(int n)\n",
        "{\n",
        "\tn *= n;\n",
        "\treturn n;\n",
        "}\n",
        "\n",
        "\n",
        "/* Método para pasar por referencia (pass-by-reference) */\n",
        "// con argumentos del apuntador\n",
        "\n",
        "void cuadrado2(int* n)\n",
        "{\n",
        "\t*n *= *n;\n",
        "}\n",
        "\n",
        "\n",
        "/* Método para pasar por referencia (pass-by-reference) */\n",
        "// con argumentos de la referencia\n",
        "\n",
        "void cuadrado3(int& n)\n",
        "{\n",
        "\tn *= n;\n",
        "}\n",
        "\n",
        "\n",
        "\n",
        "void ejemplo()\n",
        "{\n",
        "\t// Llamada por valor (call-by-Value)\n",
        "\t// se define 'n1'\n",
        "\tint n1 = 8;\n",
        "\tint res1 = cuadrado1(n1);\n",
        "\tcout << \"El cuadrado de n1 = \" << n1 << \", es: \" << res1 << \"\\n\";\n",
        "\n",
        "\n",
        "\t// Llamada por referencia (call-by-reference)\n",
        "  // con argumentos de apuntador\n",
        "\t// se define 'n2'\n",
        "\tint n2 = 8;\n",
        "\tcout << \"El cuadrado de n2 = \" << n2;\n",
        "\tcuadrado2(&n2);\n",
        "\tcout << \", es: \" << n2 << \"\\n\";\n",
        "\n",
        "\n",
        "\t// Llamada por referencia (call-by-reference)\n",
        "  // con argumentos de referencia\n",
        "\t// se define 'n3'\n",
        "\tint n3 = 8;\n",
        "\tcout << \"El cuadrado de n3 = \" << n3;\n",
        "\tcuadrado3(n3);\n",
        "\tcout << \", es: \" << n3 << \"\\n\";\n",
        "}\n",
        "\n",
        "\n",
        "// Programa de ejecución\n",
        "int main() {\n",
        "  ejemplo();\n",
        "}\n"
      ]
    },
    {
      "cell_type": "code",
      "execution_count": null,
      "metadata": {
        "id": "XuVdQ0VntnWm"
      },
      "outputs": [],
      "source": [
        "# Compila el programa metodos.cpp\n",
        "! g++ metodos.cpp -o metodos"
      ]
    },
    {
      "cell_type": "code",
      "execution_count": null,
      "metadata": {
        "colab": {
          "base_uri": "https://localhost:8080/"
        },
        "id": "vCeSy356tnWy",
        "outputId": "d5fb7278-01c5-4907-a207-6fd0725aef32"
      },
      "outputs": [
        {
          "name": "stdout",
          "output_type": "stream",
          "text": [
            "El cuadrado de n1 = 8, es: 64\n",
            "El cuadrado de n2 = 8, es: 64\n",
            "El cuadrado de n3 = 8, es: 64\n"
          ]
        }
      ],
      "source": [
        "# Ejecuta el programa: metodos\n",
        "! ./metodos"
      ]
    },
    {
      "cell_type": "markdown",
      "metadata": {
        "id": "_90htxyLSep0"
      },
      "source": [
        "## Apuntadores a apuntadores\n",
        "\n",
        "Un apuntador puede apuntar a otro apuntador, esto se hace precediendo a la variable con dos asteriscos.\n"
      ]
    },
    {
      "cell_type": "code",
      "execution_count": null,
      "metadata": {
        "colab": {
          "base_uri": "https://localhost:8080/"
        },
        "id": "Blz4_CsIiyJY",
        "outputId": "4a50bff8-1715-4f63-c372-0a425798b583"
      },
      "outputs": [
        {
          "name": "stdout",
          "output_type": "stream",
          "text": [
            "Overwriting dobleApuntador.cpp\n"
          ]
        }
      ],
      "source": [
        "# Escribe el programa dobleApuntador.cpp\n",
        "%%writefile dobleApuntador.cpp\n",
        "\n",
        "\n",
        "#include <iostream>\n",
        "using namespace std;\n",
        "\n",
        "int main () {\n",
        "\n",
        "  // definición de variables y apuntadores\n",
        "  int  var = 2024;\n",
        "  int  *ptr;\n",
        "  int  **pptr;\n",
        "\n",
        "  // toma la dirección de la variable 'var'\n",
        "  ptr = &var;\n",
        "\n",
        "  // toma la dirección del apuntador 'ptr'\n",
        "  // utilizando la dirección del operador &\n",
        "  pptr = &ptr;\n",
        "\n",
        "  // toma el valor utilizando 'pptr'\n",
        "  cout << \"El valor de 'var' es: \" << var << endl;\n",
        "  cout << \"El valor disponible en '*ptr' es: \" << *ptr << endl;\n",
        "  cout << \"El valor disponible en '**pptr' es: \" << **pptr << endl;\n",
        "}"
      ]
    },
    {
      "cell_type": "code",
      "execution_count": null,
      "metadata": {
        "id": "XRaSaMw4jXCx"
      },
      "outputs": [],
      "source": [
        "# Compila el programa dobleApuntador.cpp\n",
        "! g++ dobleApuntador.cpp -o dobleApuntador"
      ]
    },
    {
      "cell_type": "code",
      "execution_count": null,
      "metadata": {
        "colab": {
          "base_uri": "https://localhost:8080/"
        },
        "id": "qI8l08Y_jXCy",
        "outputId": "16e51ef6-c105-471a-a970-a4597a0dabd9"
      },
      "outputs": [
        {
          "name": "stdout",
          "output_type": "stream",
          "text": [
            "El valor de 'var' es: 2024\n",
            "El valor disponible en '*ptr' es: 2024\n",
            "El valor disponible en '**pptr' es: 2024\n"
          ]
        }
      ],
      "source": [
        "# Ejecuta el programa: dobleApuntador\n",
        "! ./dobleApuntador"
      ]
    },
    {
      "cell_type": "markdown",
      "metadata": {
        "id": "HAzwF2ngi8sE"
      },
      "source": [
        "## Arreglos y Apuntadores\n",
        "\n",
        "Se pueden direccionar arreglos como si fueran apuntadores y apuntadores como si fueran arreglos.\n",
        "\n",
        "Esto implica que se pueden almacenar cadenas de datos en elementos de arreglos.\n",
        "\n",
        "Sin apuntadores esto no es posible, ya que no existe el tipo de dato cadena (`string`) en C.\n",
        "\n",
        "Nombres de arreglos como apuntadores\n",
        "\n",
        "Un nombre de un arreglo es simplemente un apuntador.\n",
        "\n",
        "Supóngase la siguiente declaración de un arreglo:\n",
        "`int lista[5] = {10, 20, 30};`\n",
        "\n",
        "Si se manda visualizar lista[0] se verá 10. De igual forma si se manda a visualizar *lista, también se verá 10.\n",
        "\n",
        "Esto significa que:\n",
        "* `lista + 0 apunta a lista[0]`\n",
        "* `lista + 1 apunta a lista[1]`\n",
        "* `lista + 2 apunta a lista[2]`"
      ]
    },
    {
      "cell_type": "code",
      "execution_count": null,
      "metadata": {
        "colab": {
          "base_uri": "https://localhost:8080/"
        },
        "id": "Mb7dtEWHmacl",
        "outputId": "6cad22c9-0918-4685-d056-357b91ba0f94"
      },
      "outputs": [
        {
          "name": "stdout",
          "output_type": "stream",
          "text": [
            "Writing listaApuntador.cpp\n"
          ]
        }
      ],
      "source": [
        "# Escribe el programa listaApuntador.cpp\n",
        "%%writefile listaApuntador.cpp\n",
        "\n",
        "\n",
        "#include <iostream>\n",
        "using namespace std;\n",
        "\n",
        "int main () {\n",
        "\n",
        "  // declaración de un arreglo\n",
        "  int lista[5] = {10, 20, 30};\n",
        "\n",
        "  // visualiza lista[0]\n",
        "  cout << \"El primer valor de la lista es: \" << lista[0] << endl;\n",
        "\n",
        "  // visualiza *lista\n",
        "  cout << \"El primer valor de la lista es: \" << *lista << endl;\n",
        "\n",
        "}"
      ]
    },
    {
      "cell_type": "code",
      "execution_count": null,
      "metadata": {
        "id": "mVPXsRWRmacn"
      },
      "outputs": [],
      "source": [
        "# Compila el programa listaApuntador.cpp\n",
        "! g++ listaApuntador.cpp -o listaApuntador"
      ]
    },
    {
      "cell_type": "code",
      "execution_count": null,
      "metadata": {
        "colab": {
          "base_uri": "https://localhost:8080/"
        },
        "id": "hftrKUQAmaco",
        "outputId": "f5636e83-8f94-4a7b-add8-8b4c93f12214"
      },
      "outputs": [
        {
          "name": "stdout",
          "output_type": "stream",
          "text": [
            "El primer valor de la lista es: 10\n",
            "El primer valor de la lista es: 10\n"
          ]
        }
      ],
      "source": [
        "# Ejecuta el programa: listaApuntador\n",
        "! ./listaApuntador"
      ]
    },
    {
      "cell_type": "markdown",
      "metadata": {
        "id": "e7VPon3WS6GN"
      },
      "source": [
        "##Arreglos de apuntadores\n",
        "\n",
        "Un arreglo de apuntadores es un arreglo que contiene como elementos apuntadores, cada uno de ellos apunta aun tipo de dato específico.\n",
        "\n",
        "Cada elemento contiene una dirección que apunta a otros valores de\n",
        "la memoria.\n",
        "\n",
        "Por ejemplo:\n",
        "`int *ptr[10]` /* reserva un array de 10 apuntadores enteros */\n",
        "\n",
        "Se puede asignar un elemento de ptr una dirección, por ejemplo:\n",
        "\n",
        "`ptr[5] = &edad /* ptr[5]` apunta a la dirección edad */\n",
        "\n",
        "`ptr [4] = NULL; /* ptr[4]` no contiene dirección alguna*/"
      ]
    },
    {
      "cell_type": "code",
      "execution_count": null,
      "metadata": {
        "colab": {
          "base_uri": "https://localhost:8080/"
        },
        "id": "qzmONcJ6nuvR",
        "outputId": "3339c7d1-ce87-4c18-e863-cd7ee05a0053"
      },
      "outputs": [
        {
          "name": "stdout",
          "output_type": "stream",
          "text": [
            "Overwriting arregloApuntadores.cpp\n"
          ]
        }
      ],
      "source": [
        "# Escribe el programa arregloApuntadores.cpp\n",
        "%%writefile arregloApuntadores.cpp\n",
        "\n",
        "\n",
        "#include <iostream>\n",
        "using namespace std;\n",
        "// constante global\n",
        "const int MAX = 3;\n",
        "\n",
        "\n",
        "int main () {\n",
        "\n",
        "  // Crea un arreglo de 3 enteros\n",
        "  int  arreglo[MAX] = {10, 100, 200};\n",
        "\n",
        "  // Crea un arreglo de 3 apuntadores\n",
        "  int *ptr[MAX];\n",
        "\n",
        "  // Asigna la dirección de cada entero a los apuntadores\n",
        "  for (int i = 0; i < MAX; i++) {\n",
        "    ptr[i] = &arreglo[i];\n",
        "  }\n",
        "\n",
        "  // Imprime los valores\n",
        "  for (int i = 0; i < MAX; i++) {\n",
        "    cout << \"Valor en el arreglo[\" << i << \"] = \";\n",
        "    cout << *ptr[i] << endl;\n",
        "  }\n",
        "\n",
        "  return 0;\n",
        "}"
      ]
    },
    {
      "cell_type": "code",
      "execution_count": null,
      "metadata": {
        "id": "2RRjSSWqnuvS"
      },
      "outputs": [],
      "source": [
        "# Compila el programa arregloApuntadores.cpp\n",
        "! g++ arregloApuntadores.cpp -o arregloApuntadores"
      ]
    },
    {
      "cell_type": "code",
      "execution_count": null,
      "metadata": {
        "colab": {
          "base_uri": "https://localhost:8080/"
        },
        "id": "2JkEaculnuvT",
        "outputId": "430c19be-4bfd-4864-a6b9-9eca9cb11b62"
      },
      "outputs": [
        {
          "name": "stdout",
          "output_type": "stream",
          "text": [
            "Valr en el arreglo[0] = 10\n",
            "Valr en el arreglo[1] = 100\n",
            "Valr en el arreglo[2] = 200\n"
          ]
        }
      ],
      "source": [
        "# Ejecuta el programa: arregloApuntadores\n",
        "! ./arregloApuntadores"
      ]
    },
    {
      "cell_type": "markdown",
      "metadata": {
        "id": "vIb_ZTjvTEmS"
      },
      "source": [
        "## Aritmética de apuntadores\n",
        "\n",
        "Una variable apuntador es una variable que se puede modificar.\n",
        "\n",
        "* A un apuntador se le puede sumar o restar un entero n; esto hace que apunte n posiciones adelante o atrás del valor actual.\n",
        "\n",
        "* También se les puede aplicar el operador ++ o el operador –. Haciendo que contenga la dirección siguiente o anterior del elemento.\n",
        "\n",
        "* Por el contrario no tiene sentido, sumar o restar una constante de coma flotante."
      ]
    },
    {
      "cell_type": "code",
      "execution_count": null,
      "metadata": {
        "colab": {
          "base_uri": "https://localhost:8080/"
        },
        "id": "NdaNGlmOxMbE",
        "outputId": "01f279b6-030a-4eed-d23a-f598b9bacb8d"
      },
      "outputs": [
        {
          "name": "stdout",
          "output_type": "stream",
          "text": [
            "Writing incDecApuntadores.cpp\n"
          ]
        }
      ],
      "source": [
        "# Escribe el programa incDecApuntadores.cpp\n",
        "%%writefile incDecApuntadores.cpp\n",
        "\n",
        "#include <iostream>\n",
        "using namespace std;\n",
        "\n",
        "int main()\n",
        "{\n",
        "\n",
        "    // Se declara un número entero\n",
        "    int numero = 369;\n",
        "\n",
        "    // Almacena la dirección del número en 'num_pointer'\n",
        "    int* num_pointer = &numero;\n",
        "\n",
        "    // Imprime el tamaño de 'int'\n",
        "    cout << \"Tamaño de 'int': \" << sizeof(int) << endl;\n",
        "\n",
        "    // Imprime la dirección almacenada en 'num_pointer'\n",
        "    cout << \"Antes del incremento: \" << num_pointer << endl;\n",
        "\n",
        "    // Incrementa el apuntador\n",
        "    num_pointer++;\n",
        "\n",
        "   // Imprime la dirección almacenada en 'num_pointer'\n",
        "    cout << \"Después del incremento: \" << num_pointer << endl;\n",
        "\n",
        "    // Imprime la dirección almacenada en 'num_pointer'\n",
        "    cout << \"Antes del decremento: \" << num_pointer << endl;\n",
        "\n",
        "    // Decrementa el apuntador\n",
        "    num_pointer--;\n",
        "\n",
        "    // Imprime la dirección almacenada en 'num_pointer'\n",
        "    cout << \"Después del decremento: \" << num_pointer << endl;\n",
        "\n",
        "    return 0;\n",
        "}\n"
      ]
    },
    {
      "cell_type": "code",
      "execution_count": null,
      "metadata": {
        "id": "9IMPBgoHxMbH"
      },
      "outputs": [],
      "source": [
        "# Compila el programa incDecApuntadores.cpp\n",
        "! g++ incDecApuntadores.cpp -o incDecApuntadores"
      ]
    },
    {
      "cell_type": "code",
      "execution_count": null,
      "metadata": {
        "colab": {
          "base_uri": "https://localhost:8080/"
        },
        "id": "vWxgwIW0xMbI",
        "outputId": "186357ef-7b2a-41ed-9c35-078f46081c4b"
      },
      "outputs": [
        {
          "name": "stdout",
          "output_type": "stream",
          "text": [
            "Tamaño de 'int': 4\n",
            "Antes del incremento: 0x7ffc4db0fabc\n",
            "Después del incremento: 0x7ffc4db0fac0\n",
            "Antes del decremento: 0x7ffc4db0fac0\n",
            "Después del decremento: 0x7ffc4db0fabc\n"
          ]
        }
      ],
      "source": [
        "# Ejecuta el programa: incDecApuntadores\n",
        "! ./incDecApuntadores"
      ]
    },
    {
      "cell_type": "code",
      "execution_count": null,
      "metadata": {
        "colab": {
          "base_uri": "https://localhost:8080/"
        },
        "id": "Ao-bZr0H1I9O",
        "outputId": "47ec42ec-0bbc-446b-aecf-1aebb70f82cc"
      },
      "outputs": [
        {
          "name": "stdout",
          "output_type": "stream",
          "text": [
            "Overwriting adicApuntadores.cpp\n"
          ]
        }
      ],
      "source": [
        "# Escribe el programa adicApuntadores.cpp\n",
        "%%writefile adicApuntadores.cpp\n",
        "\n",
        "\n",
        "#include <iostream>\n",
        "using namespace std;\n",
        "\n",
        "\n",
        "int main()\n",
        "{\n",
        "\n",
        "  // Define un número entero\n",
        "  int num = 2024;\n",
        "  // Define un apuntador al número\n",
        "  int* ptr = &num;\n",
        "\n",
        "  cout << \"Valor de la variable num: \" << num << endl;\n",
        "  cout << \"Dirección de num almacenada en ptr: \" << ptr << endl;\n",
        "\n",
        "  // El tamaño de cada 'int' es de 4 bytes\n",
        "  cout << \"La dirección se modifica en 4 bytes.\" << endl;\n",
        "\n",
        "  // Suma uno al apuntador ptr\n",
        "  ptr = ptr + 1;\n",
        "  cout << \"Suma 1 al apuntador ptr: \" << ptr << endl;\n",
        "\n",
        "\n",
        "\n",
        "  // Suma dos al apuntador ptr\n",
        "  ptr = ptr + 2;\n",
        "  cout << \"Suma 2 al apuntador ptr: \" << ptr << endl;\n",
        "\n",
        "  // Resta uno al apuntador ptr\n",
        "  ptr = ptr - 1;\n",
        "  cout << \"Resta 1 al apuntador ptr: \" << ptr << endl;\n",
        "\n",
        "  return 0;\n",
        "}\n"
      ]
    },
    {
      "cell_type": "code",
      "execution_count": null,
      "metadata": {
        "id": "My9ERMvm1Vql"
      },
      "outputs": [],
      "source": [
        "# Compila el programa adicApuntadores.cpp\n",
        "! g++ adicApuntadores.cpp -o adicApuntadores"
      ]
    },
    {
      "cell_type": "code",
      "execution_count": null,
      "metadata": {
        "colab": {
          "base_uri": "https://localhost:8080/"
        },
        "id": "U8v0r-Nq1Vql",
        "outputId": "8fae81a6-a32c-4165-ba69-c1ac5b19b6f5"
      },
      "outputs": [
        {
          "name": "stdout",
          "output_type": "stream",
          "text": [
            "Valor de la variable num: 2024\n",
            "Dirección de num almacenada en ptr: 0x7fff03426a8c\n",
            "La dirección se modifica en 4 bytes.\n",
            "Suma 1 al apuntador ptr: 0x7fff03426a90\n",
            "Suma 2 al apuntador ptr: 0x7fff03426a98\n",
            "Resta 1 al apuntador ptr: 0x7fff03426a94\n"
          ]
        }
      ],
      "source": [
        "# Ejecuta el programa: adicApuntadores\n",
        "! ./adicApuntadores"
      ]
    },
    {
      "cell_type": "markdown",
      "metadata": {
        "id": "WjbFLg3yTHUS"
      },
      "source": [
        "## Apuntadores como argumentos de funciones\n",
        "\n",
        "Cuando se pasa un argumento por valor no se puede cambiar el valor de esa variable.\n",
        "\n",
        "Pero si se pasa un apuntador de una variable a una función (por referencia), se puede modificar el valor de dicha variable.\n",
        "\n",
        "* Una variable local a una función se puede hacer visible a otra función pasándola como argumento, si se desea cambiar el valor de dicha variable se utilizan los apuntadores.\n",
        "\n",
        "\n",
        "Ejemplo:\n",
        "\n",
        "`void Incrementar(int *i){`\n",
        "\n",
        "  `*i +=5 ;`\n",
        "\n",
        "`}`\n",
        "\n",
        "\n",
        "Para llamar a la función es necesario el paso de una dirección de memoria:\n",
        "\n",
        "`int i = 10 ;`\n",
        "\n",
        "`Incrementar(&i) ;`\n",
        "\n",
        "\n",
        "También es posible que los apuntadores se utilicen para direccionar funciones, estos apuntan al código ejecutable, debido que las funciones también radican en algún espacio en memoria.\n",
        "\n",
        "Sintaxis\n",
        "La sintaxis general es la siguiente: Tipo de retorno\n",
        "(*PunteroFuncion) (lista de parámetros);\n",
        "\n",
        "\n",
        "Por ejemplo:\n",
        "\n",
        "`int f(int) ;` /* Declara la función f */\n",
        "\n",
        "`int (*pf) (int) ;` /* Define puntero pf a función int con argumento int */\n",
        "\n",
        "`pf = f ; ` /* asigna la dirección de f a pf*/"
      ]
    },
    {
      "cell_type": "code",
      "execution_count": 4,
      "metadata": {
        "colab": {
          "base_uri": "https://localhost:8080/"
        },
        "id": "ljw6HRJx2jXQ",
        "outputId": "7e3cf953-044b-40dc-a2d7-8b156b9a787d"
      },
      "outputs": [
        {
          "output_type": "stream",
          "name": "stdout",
          "text": [
            "Overwriting funcApuntador.cpp\n"
          ]
        }
      ],
      "source": [
        "# Escribe el programa funcApuntador.cpp\n",
        "%%writefile funcApuntador.cpp\n",
        "\n",
        "\n",
        "#include <iostream>\n",
        "using namespace std;\n",
        "\n",
        "\n",
        "// Función que multiplica dos números enteros\n",
        "int multiplica(int a, int b) { return a * b; }\n",
        "\n",
        "\n",
        "int main()\n",
        "{\n",
        "\n",
        "  // Declara apuntador a función con dos argumentos\n",
        "  int (*func)(int, int);\n",
        "\n",
        "  // El apuntador apunta a la función\n",
        "  func = multiplica;\n",
        "\n",
        "  // Declara una variable que guarda el resultado de la función\n",
        "  int prod = func(15, 2);\n",
        "  cout << \"El producto de 15x2 es: \" << prod << endl;\n",
        "\n",
        "  return 0;\n",
        "}\n"
      ]
    },
    {
      "cell_type": "code",
      "execution_count": 5,
      "metadata": {
        "id": "7EUpVyrp2jXc"
      },
      "outputs": [],
      "source": [
        "# Compila el programa funcApuntador.cpp\n",
        "! g++ funcApuntador.cpp -o funcApuntador"
      ]
    },
    {
      "cell_type": "code",
      "execution_count": 6,
      "metadata": {
        "colab": {
          "base_uri": "https://localhost:8080/"
        },
        "id": "ORBlAJmO2jXc",
        "outputId": "e9a9ed00-90f5-48b1-b2db-62a9b0b7eb83"
      },
      "outputs": [
        {
          "output_type": "stream",
          "name": "stdout",
          "text": [
            "El producto de 15x2 es: 30\n"
          ]
        }
      ],
      "source": [
        "# Ejecuta el programa: funcApuntador\n",
        "! ./funcApuntador"
      ]
    },
    {
      "cell_type": "markdown",
      "metadata": {
        "id": "steaSjMeST2S"
      },
      "source": [
        "\n",
        "\n",
        "\n",
        "##Asignación dinámica\n",
        "\n",
        "La asignación dinámica de memoria es necesaria cuando no es posible conocer cuanta memoria se debe asignar a una variable, ya que aveces se reserva más espacio del necesario, lo cual conlleva a problemas de eficiencia.\n",
        "\n",
        "Para asignar memoria en tiempo de ejecución se hace mediante las funciones `malloc()`, `calloc()` y `free ()`.\n",
        "\n",
        "\n",
        "**Malloc ()**\n",
        "Malloc() asigna un bloque de memoria, es decir, el número de bytes pasados como argumento a la función `malloc()`.\n",
        "\n",
        "Esta función a su vez devuelve un apuntador `(void* )` a dicho bloque de memoria.\n",
        "\n",
        "La sintaxis para el uso de esta función es la siguiente:\n",
        "`apuntador = malloc (tamaño en bytes);`\n",
        "\n",
        "Ejemplo:\n",
        "\n",
        "`long *p;`\n",
        "\n",
        "`p = (long *) malloc (32*sizeof(long) ;`\n",
        "\n",
        "Si no existe un espacio de almacenamiento suficiente, la función `malloc()` devuelve `NULL`, la escritura de un programa totalmente seguro exige comprobar el valor devuelto por `malloc()` para asegurar que no sea `NULL`.\n",
        "\n",
        "**Calloc**\n",
        "La función calloc devuelve un puntero al espacio asignado. El espacio de almacenamiento al que apunta el valor devuelto se alinea adecuadamente para el almacenamiento de cualquier tipo de objeto. Para obtener un puntero a un tipo distinto de void, use una conversión de tipo en el valor devuelto.\n",
        "\n",
        "\n",
        "**Free ()**\n",
        "Para liberar el espacio de memoria previamente creado por la función `malloc()` se utiliza la función `free()`.\n",
        "\n",
        "Esto con el fin de garantizar que siempre existirá memoria disponible para asignar otros bloques de memoria.\n",
        "\n",
        "El formato es el siguiente:\n",
        "`free (apuntador)`\n",
        "\n",
        "Ejemplo:\n",
        "\n",
        "`int *ad;`\n",
        "\n",
        "`ad = (int*) malloc(sizeof(int)) ;`\n",
        "\n",
        "Para liberar el espacio de memoria se utilizaría\n",
        "\n",
        "`free (ad) ;`\n"
      ]
    },
    {
      "cell_type": "markdown",
      "metadata": {
        "id": "xGDGrUQR4Pa9"
      },
      "source": [
        "##Malloc\n",
        "\n",
        "Asigna un bloque de memoria."
      ]
    },
    {
      "cell_type": "code",
      "execution_count": 1,
      "metadata": {
        "colab": {
          "base_uri": "https://localhost:8080/"
        },
        "id": "aDQNT4Oz3hGq",
        "outputId": "59b1fb9b-5e63-420a-d79c-15c1a3e90c2a"
      },
      "outputs": [
        {
          "output_type": "stream",
          "name": "stdout",
          "text": [
            "Writing mallocApunt.cpp\n"
          ]
        }
      ],
      "source": [
        "# Escribe el programa mallocApunt.cpp\n",
        "%%writefile mallocApunt.cpp\n",
        "\n",
        "#include <stdio.h>\n",
        "#include <stdlib.h>\n",
        "\n",
        "int main()\n",
        "{\n",
        "\n",
        "\t// Declara variables y apuntador\n",
        "\tint n, i;\n",
        "\tint* ptr;\n",
        "\n",
        "\t// Solicita al usuario ingrese la cantidad de elementos del arreglo\n",
        "\tprintf(\"Ingresa la cantidad de elementos del arreglo y después teclea enter.\\n\");\n",
        "\tprintf(\"Aquí ->\");\n",
        "\tscanf(\"%d\",&n);\n",
        "\tprintf(\"La cantidad de elementos ingresada es: %d\\n\", n);\n",
        "\n",
        "\t// Asigna memoria dinámicamente utilizando malloc()\n",
        "\t// multiplica n por el tamaño de cada int (4 bytes)\n",
        "\tptr = (int*)malloc(n * sizeof(int));\n",
        "\n",
        "\t// Si la memoria no fue correctamente asignada\n",
        "\tif (ptr == NULL) {\n",
        "\t\tprintf(\"La memoria no fue asignada.\\n\");\n",
        "\t\texit(0);\n",
        "\t}\n",
        "\telse {\n",
        "\t\t// En caso de que si fue correctamente asignada\n",
        "\t\tprintf(\"La memoria fue correctamente asignada utilizando malloc().\\n\");\n",
        "\n",
        "\t\t// Obtiene los elementos del arreglo\n",
        "\t\tfor (i = 0; i < n; ++i) {\n",
        "\t\t\tptr[i] = i + 1;\n",
        "\t\t}\n",
        "\n",
        "\t\t// Imprime los elementos del arreglo\n",
        "\t\tprintf(\"Los elementos del arreglo son: \");\n",
        "\t\tfor (i = 0; i < n; ++i) {\n",
        "\t\t\tprintf(\"%d, \", ptr[i]);\n",
        "\t\t}\n",
        "\t}\n",
        "\n",
        "\treturn 0;\n",
        "}\n"
      ]
    },
    {
      "cell_type": "code",
      "execution_count": 2,
      "metadata": {
        "id": "vVGZ9q7M3hGs"
      },
      "outputs": [],
      "source": [
        "# Compila el programa mallocApunt.cpp\n",
        "! g++ mallocApunt.cpp -o mallocApunt"
      ]
    },
    {
      "cell_type": "code",
      "execution_count": 3,
      "metadata": {
        "colab": {
          "base_uri": "https://localhost:8080/"
        },
        "id": "yHZDKxvU3hGs",
        "outputId": "5b7a65ae-ea77-428e-d939-30cb46de6e6e"
      },
      "outputs": [
        {
          "output_type": "stream",
          "name": "stdout",
          "text": [
            "Ingresa la cantidad de elementos del arreglo y después teclea enter.\n",
            "Aquí ->4\n",
            "La cantidad de elementos ingresada es: 4\n",
            "La memoria fue correctamente asignada utilizando malloc().\n",
            "Los elementos del arreglo son: 1, 2, 3, 4, "
          ]
        }
      ],
      "source": [
        "# Ejecuta el programa: mallocApunt\n",
        "! ./mallocApunt"
      ]
    },
    {
      "cell_type": "markdown",
      "metadata": {
        "id": "mjHrAVFI4JBK"
      },
      "source": [
        "##Calloc\n",
        "\n",
        "Devuelve un puntero al espacio asignado."
      ]
    },
    {
      "cell_type": "code",
      "execution_count": 11,
      "metadata": {
        "colab": {
          "base_uri": "https://localhost:8080/"
        },
        "id": "RMlUVyh34Ts9",
        "outputId": "4d4892af-ccb2-4f0f-b1b5-5ce70a184ded"
      },
      "outputs": [
        {
          "output_type": "stream",
          "name": "stdout",
          "text": [
            "Overwriting callocApunt.cpp\n"
          ]
        }
      ],
      "source": [
        "# Escribe el programa callocApunt.cpp\n",
        "%%writefile callocApunt.cpp\n",
        "\n",
        "#include <stdio.h>\n",
        "#include <stdlib.h>\n",
        "\n",
        "int main()\n",
        "{\n",
        "\n",
        "\t// Declara variables y apuntador\n",
        "\tint n, i;\n",
        "\tint* ptr;\n",
        "\n",
        "\t// Número de elementos en el arreglo\n",
        "\tn = 10;\n",
        "\tprintf(\"Número de elementos en el arreglo: %d\\n\", n);\n",
        "\n",
        "\t// Asigna memoria dinámicamente utilizando calloc()\n",
        "\t// multiplica n por el tamaño de cada int (4 bytes)\n",
        "\tptr = (int*)calloc(n, sizeof(int));\n",
        "\n",
        "\t// Si la memoria no fue correctamente asignada\n",
        "\tif (ptr == NULL) {\n",
        "\t\tprintf(\"La memoria no fue asignada.\\n\");\n",
        "\t\texit(0);\n",
        "\t}\n",
        "\telse {\n",
        "\t\t// En caso de que si fue correctamente asignada\n",
        "\t\tprintf(\"La memoria fue correctamente asignada utilizando calloc().\\n\");\n",
        "\n",
        "\t\t// Obtiene los elementos del arreglo\n",
        "\t\tfor (i = 0; i < n; ++i) {\n",
        "\t\t\tptr[i] = i + 1;\n",
        "\t\t}\n",
        "\n",
        "\t\t// Imprime los elementos del arreglo\n",
        "\t\tprintf(\"Los elementos del arreglo son: \");\n",
        "\t\tfor (i = 0; i < n; ++i) {\n",
        "\t\t\tprintf(\"%d, \", ptr[i]);\n",
        "\t\t}\n",
        "\t}\n",
        "\n",
        "\treturn 0;\n",
        "}\n",
        "\n"
      ]
    },
    {
      "cell_type": "code",
      "execution_count": 12,
      "metadata": {
        "id": "wGmA6MO84Ts-"
      },
      "outputs": [],
      "source": [
        "# Compila el programa callocApunt.cpp\n",
        "! g++ callocApunt.cpp -o callocApunt"
      ]
    },
    {
      "cell_type": "code",
      "execution_count": 13,
      "metadata": {
        "colab": {
          "base_uri": "https://localhost:8080/"
        },
        "id": "B3sfxOoy4Ts_",
        "outputId": "567be175-fd45-4977-84db-f6a754cd2759"
      },
      "outputs": [
        {
          "output_type": "stream",
          "name": "stdout",
          "text": [
            "Número de elementos en el arreglo: 10\n",
            "La memoria fue correctamente asignada utilizando calloc().\n",
            "Los elementos del arreglo son: 1, 2, 3, 4, 5, 6, 7, 8, 9, 10, "
          ]
        }
      ],
      "source": [
        "# Ejecuta el programa: callocApunt\n",
        "! ./callocApunt"
      ]
    },
    {
      "cell_type": "markdown",
      "metadata": {
        "id": "21MHCfOq4Wyg"
      },
      "source": [
        "##Free\n",
        "\n",
        "Libera el espacio de memoria previamente creado."
      ]
    },
    {
      "cell_type": "code",
      "execution_count": 25,
      "metadata": {
        "colab": {
          "base_uri": "https://localhost:8080/"
        },
        "id": "s06_J3dV4pBD",
        "outputId": "622c8568-8528-4c42-cf9d-ed719908b346"
      },
      "outputs": [
        {
          "output_type": "stream",
          "name": "stdout",
          "text": [
            "Overwriting freeApunt.cpp\n"
          ]
        }
      ],
      "source": [
        "# Escribe el programa freeApunt.cpp\n",
        "%%writefile freeApunt.cpp\n",
        "\n",
        "#include <stdio.h>\n",
        "#include <stdlib.h>\n",
        "\n",
        "int main()\n",
        "{\n",
        "\t// Declara variables y apuntador\n",
        "\tint n;\n",
        "\tint *ptr1, *ptr2;\n",
        "\n",
        "\t// Número de elementos en el arreglo\n",
        "\tn = 12;\n",
        "\tprintf(\"Número de elementos en el arreglo: %d\\n\\n\", n);\n",
        "\n",
        "\t// Asigna memoria dinámicamente utilizando malloc()\n",
        "\t// multiplica n por el tamaño de cada int (4 bytes)\n",
        "\tptr1 = (int*)malloc(n * sizeof(int));\n",
        "\n",
        "\t// Asigna memoria dinámicamente utilizando calloc()\n",
        "\tptr2 = (int*)calloc(n, sizeof(int));\n",
        "\n",
        "\n",
        "\t// Si la memoria no fue correctamente asignada\n",
        "\tif (ptr1 == NULL || ptr2 == NULL) {\n",
        "\t\tprintf(\"La memoria no fue correctamente asignada.\\n\");\n",
        "\t\texit(0);\n",
        "\t}\n",
        "\telse {\n",
        "\t\t// En caso de que si fue correctamente asignada utilizando malloc\n",
        "\t\tprintf(\"La memoria fue correctamente asignada utilizando malloc().\\n\");\n",
        "\t\t// Libera la memoria malloc\n",
        "\t\tfree(ptr1);\n",
        "\t\tprintf(\"La memoria malloc fue liberada exitosamente.\\n\\n\");\n",
        "\n",
        "\t\t// En caso de que si fue correctamente asignada utilizando calloc\n",
        "\t\tprintf(\"La memoria fue correctamente asignada utilizando calloc().\\n\");\n",
        "\t\t// Libera la memoria calloc\n",
        "\t\tfree(ptr2);\n",
        "\t\tprintf(\"La memoria calloc fue liberada exitosamente.\\n\");\n",
        "\n",
        "\t}\n",
        "\n",
        "\treturn 0;\n",
        "}\n",
        "\n"
      ]
    },
    {
      "cell_type": "code",
      "execution_count": 26,
      "metadata": {
        "id": "T6HblPWr4pBh"
      },
      "outputs": [],
      "source": [
        "# Compila el programa freeApunt.cpp\n",
        "! g++ freeApunt.cpp -o freeApunt"
      ]
    },
    {
      "cell_type": "code",
      "execution_count": 27,
      "metadata": {
        "colab": {
          "base_uri": "https://localhost:8080/"
        },
        "id": "qoZpcBOe4pBi",
        "outputId": "0a53a138-190f-4474-a32b-1414fce7da54"
      },
      "outputs": [
        {
          "output_type": "stream",
          "name": "stdout",
          "text": [
            "Número de elementos en el arreglo: 12\n",
            "\n",
            "La memoria fue correctamente asignada utilizando malloc().\n",
            "La memoria malloc fue liberada exitosamente.\n",
            "\n",
            "La memoria fue correctamente asignada utilizando calloc().\n",
            "La memoria calloc fue liberada exitosamente.\n"
          ]
        }
      ],
      "source": [
        "# Ejecuta el programa: freeApunt\n",
        "! ./freeApunt"
      ]
    }
  ],
  "metadata": {
    "colab": {
      "provenance": []
    },
    "kernelspec": {
      "display_name": "Python 3",
      "name": "python3"
    },
    "language_info": {
      "name": "python"
    }
  },
  "nbformat": 4,
  "nbformat_minor": 0
}