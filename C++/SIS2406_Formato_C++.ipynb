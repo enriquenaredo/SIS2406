{
  "nbformat": 4,
  "nbformat_minor": 0,
  "metadata": {
    "colab": {
      "provenance": []
    },
    "kernelspec": {
      "name": "python3",
      "display_name": "Python 3"
    },
    "language_info": {
      "name": "python"
    }
  },
  "cells": [
    {
      "cell_type": "markdown",
      "source": [
        "#SIS2406 - Estructura de Datos y Algoritmos\n",
        "## Primavera 2024\n",
        "\n",
        "<div>\n",
        "<img src=\"https://drive.google.com/uc?export=view&id=1tlDc5tgvFynoP1BsqutPzZcm9TCi61rI\" width=\"150\"/>\n",
        "</div>\n",
        "\n",
        "### SIS2406_Formato-C++\n",
        "\n",
        "* Cambiar el nombre de acuerdo a la tarea.\n",
        "* Por ejemplo: SIS2406_C++_Nombre_Tarea-1\n",
        "* En mi caso: SIS2406_C++_Enrique_Tarea-1\n",
        "* Eliminar estas 4 viñetas en la versión final"
      ],
      "metadata": {
        "id": "8kb1mW-PiaKX"
      }
    },
    {
      "cell_type": "markdown",
      "source": [
        "**Datos del estudiante:**\n",
        "* Nombre completo:\n",
        "* Mátricula:\n",
        "\n",
        "\n",
        "Profesor: Enrique Naredo García"
      ],
      "metadata": {
        "id": "xu_6B1B8iwLE"
      }
    },
    {
      "cell_type": "markdown",
      "source": [
        "#Titulo"
      ],
      "metadata": {
        "id": "a7iJRGDBjLEl"
      }
    },
    {
      "cell_type": "markdown",
      "source": [
        "##Subtitulo"
      ],
      "metadata": {
        "id": "X8MGQ3JkjNyH"
      }
    },
    {
      "cell_type": "markdown",
      "source": [
        "Contenido y comentarios."
      ],
      "metadata": {
        "id": "Ch8u6uZIjQgl"
      }
    },
    {
      "cell_type": "code",
      "source": [
        "# Comentario del código\n",
        "\n",
        "# código probado y sin errores"
      ],
      "metadata": {
        "id": "QwYQlSWFjmsm"
      },
      "execution_count": null,
      "outputs": []
    },
    {
      "cell_type": "markdown",
      "source": [
        "##Subtitulo"
      ],
      "metadata": {
        "id": "7Wf1uL8vjTy7"
      }
    },
    {
      "cell_type": "markdown",
      "source": [
        "Contenido y comentarios."
      ],
      "metadata": {
        "id": "e8ORN09WjTy9"
      }
    },
    {
      "cell_type": "code",
      "execution_count": null,
      "metadata": {
        "id": "dBofkPT_iW3n"
      },
      "outputs": [],
      "source": [
        "# Comentario del código\n",
        "\n",
        "# código probado y sin errores"
      ]
    },
    {
      "cell_type": "markdown",
      "source": [
        "##Conclusiones"
      ],
      "metadata": {
        "id": "7UYpuHsFjoX5"
      }
    },
    {
      "cell_type": "markdown",
      "source": [
        "Contenido y comentarios."
      ],
      "metadata": {
        "id": "fF7xeKcWjrwc"
      }
    },
    {
      "cell_type": "markdown",
      "source": [
        "##Bibiliografía"
      ],
      "metadata": {
        "id": "gzU77USojsh-"
      }
    },
    {
      "cell_type": "markdown",
      "source": [
        "[1] 1era Refeerencia en estilo APA.\n",
        "\n",
        "[2] 2da Refeerencia en estilo APA.\n",
        "\n",
        "[3] 3era Refeerencia en estilo APA."
      ],
      "metadata": {
        "id": "QG3087JLjvDf"
      }
    }
  ]
}