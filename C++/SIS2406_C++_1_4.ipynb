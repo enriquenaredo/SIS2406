{
  "nbformat": 4,
  "nbformat_minor": 0,
  "metadata": {
    "colab": {
      "provenance": []
    },
    "kernelspec": {
      "name": "python3",
      "display_name": "Python 3"
    },
    "language_info": {
      "name": "python"
    }
  },
  "cells": [
    {
      "cell_type": "markdown",
      "source": [
        "#SIS2406 - Estructura de Datos y Algoritmos\n",
        "## Primavera 2024\n",
        "\n",
        "<div>\n",
        "<img src=\"https://drive.google.com/uc?export=view&id=1tlDc5tgvFynoP1BsqutPzZcm9TCi61rI\" width=\"150\"/>\n",
        "</div>\n",
        "\n",
        "### SIS2406_C++_1.4\n",
        "\n",
        "**Enrique Naredo García**\n",
        "\n",
        "<font size = 2>\n",
        "©️ Todos los derechos reservados. All rights reserved.\n",
        "\n",
        "*Nota: El presente documento es una herramienta diseñada única y exclusivamente para los estudiantes de la asignatura arriba mencionada. Se recuerda no compartir esta información fuera de los integrantes registrados en este curso. La reproducción total o parcial de este documento requiere autorización por escrito del titular del copyright.*\n",
        "</font>"
      ],
      "metadata": {
        "id": "WAqQjOCYihN7"
      }
    },
    {
      "cell_type": "markdown",
      "source": [
        "#1.4 Estructuras"
      ],
      "metadata": {
        "id": "cQGn6h1mipbP"
      }
    },
    {
      "cell_type": "markdown",
      "source": [
        "Los tipos de datos en C++ se dividen principalmente en 3 tipos:\n",
        "\n",
        "1. **Tipos de datos primitivos:**\n",
        "\n",
        "  Estos tipos de datos son tipos de datos integrados o predefinidos y el usuario puede usarlos directamente para declarar variables. ejemplo: int, char, float, bool, etc. Los tipos de datos primitivos disponibles en C++ son:\n",
        "\n",
        "  * Integer\n",
        "  * Character\n",
        "  * Boolean\n",
        "  * Floating Point\n",
        "  * Double Floating Point\n",
        "  * Valueless or Void\n",
        "  * Wide Character\n",
        "\n",
        "2. **Tipos de datos derivados: **\n",
        "\n",
        "  Los tipos de datos derivados que se derivan de los tipos de datos primitivos o integrados se denominan tipos de datos derivados. Estos pueden ser de cuatro tipos a saber:\n",
        "\n",
        "  * Function\n",
        "  * Array\n",
        "  * Pointer\n",
        "  * Reference\n",
        "\n",
        "3. **Tipos de datos abstractos o definidos por el usuario:**\n",
        "\n",
        " Los tipos de datos abstractos o definidos por el usuario los define el propio usuario. Como definir una clase en C++ o una estructura. C++ proporciona los siguientes tipos de datos definidos por el usuario:\n",
        "\n",
        "  * Class\n",
        "  * Structure\n",
        "  * Union\n",
        "  * Enumeration\n",
        "  * Typedef defined Datatype"
      ],
      "metadata": {
        "id": "D7C6SKlaeh93"
      }
    },
    {
      "cell_type": "markdown",
      "source": [
        "##Tipos de variables en C++"
      ],
      "metadata": {
        "id": "2oXVFZ67gpNa"
      }
    },
    {
      "cell_type": "markdown",
      "source": [
        "Las variables en C++ son el nombre que se le da a una ubicación de memoria.\n",
        "\n",
        "* Es la unidad básica de almacenamiento en un programa.\n",
        "\n",
        "* El valor almacenado en una variable se puede cambiar durante la ejecución del programa.\n",
        "\n",
        "* Una variable es solo un nombre dado a una ubicación de memoria, todas las operaciones realizadas en la variable afectan esa ubicación de memoria.\n",
        "\n",
        "* En C++, todas las variables deben declararse antes de su uso."
      ],
      "metadata": {
        "id": "qyevMODxd5zO"
      }
    },
    {
      "cell_type": "code",
      "source": [
        "# Escribe el programa tipoVars.cpp\n",
        "%%writefile tipoVars.cpp\n",
        "\n",
        "/** Programa que muestra algunos tipos de variables\n",
        "  * en C++, así como la declaración, inicialización\n",
        "  * y la definción de variables.\n",
        "  */\n",
        "\n",
        "\n",
        "#include <iostream>\n",
        "using namespace std;\n",
        "\n",
        "\n",
        "int main()\n",
        "{\n",
        "\t// Esta es una declaración de una variable\n",
        "\tint a;\n",
        "\n",
        "\t// Esta es su inicialización\n",
        "\ta = 10;\n",
        "\n",
        "\t// esta es su definición = declaración + inicialización\n",
        "\tint b = 20;\n",
        "\n",
        "\t// declaración y definición\n",
        "\tchar a123 = 'a';\n",
        "\n",
        "\t// Esta también es una declaración y definición, dado que\n",
        "\t// la variable esta en memoria y se le asigno un valor aleatorio\n",
        "\tfloat c;\n",
        "\n",
        "\t// multiple declaraciones y definiciones\n",
        "\tint d = 7, e = -45;\n",
        "  float f = 0.78, g = -9.35;\n",
        "\n",
        "\t// Imprime las variables\n",
        "\tcout << \"a = \" << a << endl;\n",
        "\tcout << \"b = \" << b << endl;\n",
        "\tcout << \"c = \" << c << endl;\n",
        "\tcout << \"d = \" << d << endl;\n",
        "\tcout << \"e = \" << e << endl;\n",
        "\tcout << \"f = \" << f << endl;\n",
        "\tcout << \"g = \" << g << endl;\n",
        "\n",
        "\treturn 0;\n",
        "}\n"
      ],
      "metadata": {
        "colab": {
          "base_uri": "https://localhost:8080/"
        },
        "id": "fUMN8UT0gpmk",
        "outputId": "f61db96e-a087-4a4d-b80e-eea0a2f1a9f2"
      },
      "execution_count": 10,
      "outputs": [
        {
          "output_type": "stream",
          "name": "stdout",
          "text": [
            "Writing tipoVars.cpp\n"
          ]
        }
      ]
    },
    {
      "cell_type": "code",
      "execution_count": 11,
      "metadata": {
        "id": "ErcMeNrLgxPT"
      },
      "outputs": [],
      "source": [
        "# Compila el programa tipoVars.cpp\n",
        "! g++ tipoVars.cpp -o tipoVars"
      ]
    },
    {
      "cell_type": "code",
      "execution_count": 12,
      "metadata": {
        "colab": {
          "base_uri": "https://localhost:8080/"
        },
        "outputId": "25c3d648-e624-4f79-f08c-61af4e12b24c",
        "id": "Wgc_wiFagxPU"
      },
      "outputs": [
        {
          "output_type": "stream",
          "name": "stdout",
          "text": [
            "a = 10\n",
            "b = 20\n",
            "c = 0\n",
            "d = 7\n",
            "e = -45\n",
            "f = 0.78\n",
            "g = -9.35\n"
          ]
        }
      ],
      "source": [
        "# Ejecuta el programa: tipoVars\n",
        "! ./tipoVars"
      ]
    },
    {
      "cell_type": "markdown",
      "source": [
        "##Tamaño de tipos de variables"
      ],
      "metadata": {
        "id": "jp70IHVRgw2Q"
      }
    },
    {
      "cell_type": "code",
      "source": [
        "# Escribe el programa tamanioDatos.cpp\n",
        "%%writefile tamanioDatos.cpp\n",
        "\n",
        "/**\n",
        "  * Programa que muestra el tamaño de tipos de variables\n",
        "  */\n",
        "\n",
        "\n",
        "#include <iostream>\n",
        "#include <limits.h>\n",
        "using namespace std;\n",
        "\n",
        "\n",
        "int main()\n",
        "{\n",
        "\tcout << \"Tamaño de char : \" << sizeof(char) << \" byte\"\n",
        "\t\t<< endl;\n",
        "\n",
        "\tcout << \"Valor mínimo de char: \" << CHAR_MIN << endl;\n",
        "\n",
        "\tcout << \"Valor máximo de : \" << CHAR_MAX << endl;\n",
        "\n",
        "\tcout << \"Tamaño de int : \" << sizeof(int) << \" bytes\"\n",
        "\t\t<< endl;\n",
        "\n",
        "\tcout << \"Tamaño de short int : \" << sizeof(short int)\n",
        "\t\t<< \" bytes\" << endl;\n",
        "\n",
        "\tcout << \"Tamaño de long int : \" << sizeof(long int)\n",
        "\t\t<< \" bytes\" << endl;\n",
        "\n",
        "\tcout << \"Tamaño de signed long int : \"\n",
        "\t\t<< sizeof(signed long int) << \" bytes\" << endl;\n",
        "\n",
        "\tcout << \"Tamaño de unsigned long int : \"\n",
        "\t\t<< sizeof(unsigned long int) << \" bytes\" << endl;\n",
        "\n",
        "\tcout << \"Tamaño de float : \" << sizeof(float) << \" bytes\"\n",
        "\t\t<< endl;\n",
        "\n",
        "\tcout << \"Tamaño de double : \" << sizeof(double)\n",
        "\t\t<< \" bytes\" << endl;\n",
        "\n",
        "\tcout << \"Tamaño de wchar_t : \" << sizeof(wchar_t)\n",
        "\t\t<< \" bytes\" << endl;\n",
        "\n",
        "\treturn 0;\n",
        "}"
      ],
      "metadata": {
        "colab": {
          "base_uri": "https://localhost:8080/"
        },
        "outputId": "08d2bff3-d60d-4b6d-e72e-738578450382",
        "id": "F93GD8Y-WtEH"
      },
      "execution_count": 13,
      "outputs": [
        {
          "output_type": "stream",
          "name": "stdout",
          "text": [
            "Overwriting tamanioDatos.cpp\n"
          ]
        }
      ]
    },
    {
      "cell_type": "code",
      "execution_count": 14,
      "metadata": {
        "id": "G1p94ZiuWtEI"
      },
      "outputs": [],
      "source": [
        "# Compila el programa tamanioDatos.cpp\n",
        "! g++ tamanioDatos.cpp -o tamanioDatos"
      ]
    },
    {
      "cell_type": "code",
      "execution_count": 15,
      "metadata": {
        "colab": {
          "base_uri": "https://localhost:8080/"
        },
        "outputId": "e2264470-049f-40d5-be70-7e490ce5ce91",
        "id": "6-ayBkvdWtEJ"
      },
      "outputs": [
        {
          "output_type": "stream",
          "name": "stdout",
          "text": [
            "Tamaño de char : 1 byte\n",
            "Valor mínimo de char: -128\n",
            "Valor máximo de : 127\n",
            "Tamaño de int : 4 bytes\n",
            "Tamaño de short int : 2 bytes\n",
            "Tamaño de long int : 8 bytes\n",
            "Tamaño de signed long int : 8 bytes\n",
            "Tamaño de unsigned long int : 8 bytes\n",
            "Tamaño de float : 4 bytes\n",
            "Tamaño de double : 8 bytes\n",
            "Tamaño de wchar_t : 4 bytes\n"
          ]
        }
      ],
      "source": [
        "# Ejecuta el programa: tamanioDatos\n",
        "! ./tamanioDatos"
      ]
    },
    {
      "cell_type": "markdown",
      "source": [
        "##Tipo  de datos"
      ],
      "metadata": {
        "id": "el7nRYYMWuH3"
      }
    },
    {
      "cell_type": "code",
      "source": [
        "# Escribe el programa tipoDatos.cpp\n",
        "%%writefile tipoDatos.cpp\n",
        "\n",
        "\n",
        "#include <iostream>\n",
        "#include <string>\n",
        "using namespace std;\n",
        "\n",
        "\n",
        "int main() {\n",
        "\n",
        "  // Tipo de dato: integer\n",
        "  int a = 100;\n",
        "  short b = 200;\n",
        "  long c = 300;\n",
        "  long long d = 400;\n",
        "  cout << \"Tipo de dato: integer \" << endl;\n",
        "  cout << \"int: \" << a << endl;\n",
        "  cout << \"short: \" << b << endl;\n",
        "  cout << \"long: \" << c << endl;\n",
        "  cout << \"long long: \" << d << endl << endl;\n",
        "\n",
        "  // Tipo de dato: floating-point\n",
        "  float e = 3.14f;\n",
        "  double f = 3.141592;\n",
        "  long double g = 3.14159265358979L;\n",
        "  cout << \"Tipo de dato: floating-point \" << endl;\n",
        "  cout << \"float: \" << e << endl;\n",
        "  cout << \"double: \" << f << endl;\n",
        "  cout << \"long double: \" << g << endl << endl;\n",
        "\n",
        "  // Tipo de dato: character\n",
        "  char h = 'a';\n",
        "  wchar_t i = L'b';\n",
        "  char16_t j = u'c';\n",
        "  char32_t k = U'd';\n",
        "  cout << \"Tipo de dato: character \" << endl;\n",
        "  cout << \"char: \" << h << endl;\n",
        "  wcout << \"wchar_t: \" << i << endl;\n",
        "  cout << \"char16_t: \" << j << endl;\n",
        "  cout << \"char32_t: \" << k << endl << endl;\n",
        "\n",
        "  // Tipo de dato: Boolean\n",
        "  bool l = true;\n",
        "  bool m = false;\n",
        "  cout << \"Tipo de dato: Boolean \" << endl;\n",
        "  cout << \"true: \" << l << endl;\n",
        "  cout << \"false: \" << m << endl << endl;\n",
        "\n",
        "  // Tipo de dato: String\n",
        "  string n = \"Hola, Cancun!\";\n",
        "  cout << \"Tipo de dato: String \" << endl;\n",
        "  cout << n << endl;\n",
        "\n",
        "  return 0;\n",
        "}\n"
      ],
      "metadata": {
        "colab": {
          "base_uri": "https://localhost:8080/"
        },
        "id": "glYBH5-YWF4g",
        "outputId": "ff73d2bf-11f1-4585-d558-3c3a19bca144"
      },
      "execution_count": 22,
      "outputs": [
        {
          "output_type": "stream",
          "name": "stdout",
          "text": [
            "Overwriting tipoDatos.cpp\n"
          ]
        }
      ]
    },
    {
      "cell_type": "code",
      "execution_count": 23,
      "metadata": {
        "id": "sNSrgn4bWKBc"
      },
      "outputs": [],
      "source": [
        "# Compila el programa tipoDatos.cpp\n",
        "! g++ tipoDatos.cpp -o tipoDatos"
      ]
    },
    {
      "cell_type": "code",
      "execution_count": 24,
      "metadata": {
        "colab": {
          "base_uri": "https://localhost:8080/"
        },
        "outputId": "21198fd6-9aca-4bb7-9ebf-c9ada1da9e91",
        "id": "XpS8H7ZRWKBd"
      },
      "outputs": [
        {
          "output_type": "stream",
          "name": "stdout",
          "text": [
            "Tipo de dato: integer \n",
            "int: 100\n",
            "short: 200\n",
            "long: 300\n",
            "long long: 400\n",
            "\n",
            "Tipo de dato: floating-point \n",
            "float: 3.14\n",
            "double: 3.14159\n",
            "long double: 3.14159\n",
            "\n",
            "Tipo de dato: character \n",
            "char: a\n",
            "wchar_t: b\n",
            "char16_t: 99\n",
            "char32_t: 100\n",
            "\n",
            "Tipo de dato: Boolean \n",
            "true: 1\n",
            "false: 0\n",
            "\n",
            "Tipo de dato: String \n",
            "Hola, Cancun!\n"
          ]
        }
      ],
      "source": [
        "# Ejecuta el programa: tipoDatos\n",
        "! ./tipoDatos"
      ]
    },
    {
      "cell_type": "markdown",
      "source": [
        "##C++ Estructuras\n",
        "\n",
        "###Estructura anónima.\n",
        "\n",
        "De acuerdo con la sintaxis general de la orden struct es posible crear estructuras de datos anónimas.\n",
        "Solamente hay que tener en cuenta que en una declaración anónima se debe definir al menos una variable al final de la declaración.\n",
        "\n",
        "Por ejemplo, con el siguiente fragmento de código:\n",
        "* Se declara y define la variable estructurada p1.\n",
        "* Se compone por los miembros a y b; ambos del tipo int."
      ],
      "metadata": {
        "id": "koLT1vkzjo1g"
      }
    },
    {
      "cell_type": "markdown",
      "source": [
        "En C/C++ se forma una estructura utilizando la palabra reservada struct, seguida por un campo etiqueta opcional, y luego una lista de miembros dentro de la estructura.\n",
        "\n",
        "La etiqueta opcional se utiliza para crear otras variables del tipo particular de la estructura:\n",
        "\n",
        "```\n",
        "struct [ <nombre tipo de estructura > ] {\n",
        "  [<tipo> <nombre-variable[,nombre-variable,...]>];\n",
        "  [<tipo> <nombre-variable[,nombre-variable,...]>];\n",
        "...\n",
        "} [ <variables de estructura> ] ;\n",
        "```\n",
        "\n",
        "Un punto y coma finaliza la definición de una estructura puesto que ésta es realmente una sentencia C/C++."
      ],
      "metadata": {
        "id": "ZzYTPc1li8Mj"
      }
    },
    {
      "cell_type": "markdown",
      "source": [
        "\n",
        "La sintaxis mostrada anteriormente, no es tan común ni conveniente, ya que con la misma solamente se esta creando una variable estructurada pero no un nuevo tipo.\n",
        "\n",
        "En otra palabras, si queremos definir otra variable con las mismas características que p1, entonces tendríamos que escribir exactamente el mismo código con la única modificación del cambio del nombre de la variable.\n",
        "\n",
        "Por ejemplo:\n",
        "\n",
        "`struct { int a, b; } p2;`"
      ],
      "metadata": {
        "id": "9YuFN4-SkJSo"
      }
    },
    {
      "cell_type": "markdown",
      "source": [
        "###Estructura con nombre\n",
        "\n",
        "Observa que, la sintaxis para declarar estructuras con nombre es bastante parecida a la sintaxis para declarar estructuras anónimas.\n",
        "\n",
        "* Salvo que una declaración de estructura con nombre se debe\n",
        "especificar el nombre deseado para la misma.\n",
        "\n",
        "* Además, en una declaración de estructura con nombre la o las variables definidas al final de la misma son opcionales.\n",
        "* En el mismo ejemplo, se define la variable\n",
        "p1; la cual es una variable estructurada de tipo Punto."
      ],
      "metadata": {
        "id": "vU6ZPf9KA768"
      }
    },
    {
      "cell_type": "code",
      "source": [
        "# Escribe el programa estructura.cpp\n",
        "%%writefile estructura.cpp\n",
        "\n",
        "\n",
        "#include<stdio.h>\n",
        "\n",
        "// Estructura con nombre\n",
        "struct Punto\n",
        "{\n",
        "  int x, y;\n",
        "};\n",
        "\n",
        "\n",
        "int main()\n",
        "{\n",
        "  struct Punto p1 = {4, 3};\n",
        "\n",
        "  // Imprime los miembros del punto p1\n",
        "  printf (\"x = %d, y = %d\", p1.x, p1.y);\n",
        "\n",
        "  return 0;\n",
        "}\n"
      ],
      "metadata": {
        "colab": {
          "base_uri": "https://localhost:8080/"
        },
        "id": "ivfebYV9GbDp",
        "outputId": "c0a04b91-f41a-444c-84bc-857846fde468"
      },
      "execution_count": null,
      "outputs": [
        {
          "output_type": "stream",
          "name": "stdout",
          "text": [
            "Overwriting estructura.cpp\n"
          ]
        }
      ]
    },
    {
      "cell_type": "code",
      "execution_count": null,
      "metadata": {
        "id": "QGHtkTXK9UHU"
      },
      "outputs": [],
      "source": [
        "# Compila el programa estructura.cpp\n",
        "! g++ estructura.cpp -o estructura"
      ]
    },
    {
      "cell_type": "code",
      "execution_count": null,
      "metadata": {
        "colab": {
          "base_uri": "https://localhost:8080/"
        },
        "id": "t_Jp_UtN92Kt",
        "outputId": "f58c99c5-ca6e-47b5-a273-232168ef998d"
      },
      "outputs": [
        {
          "output_type": "stream",
          "name": "stdout",
          "text": [
            "x = 4, y = 3"
          ]
        }
      ],
      "source": [
        "# Ejecuta el programa: estructura\n",
        "! ./estructura"
      ]
    },
    {
      "cell_type": "markdown",
      "source": [
        "Las estructuras en C++ pueden contener dos tipos de miembros:\n",
        "\n",
        "* Miembro de datos:\n",
        "  * Estos miembros son variables normales de C++.\n",
        "  * Podemos crear una estructura con variables de diferentes tipos de datos en C++.\n",
        "\n",
        "* Funciones miembro:\n",
        "  * Estos miembros son funciones normales de C++ junto con las variables.\n",
        "  * También podemos incluir funciones dentro de una declaración de estructura."
      ],
      "metadata": {
        "id": "Xl8fgYFDIvMv"
      }
    },
    {
      "cell_type": "markdown",
      "source": [
        "Se puede utilizar la estructura con arreglos y además punteros.\n",
        "\n",
        "* Podemos crear un arreglo de estructuras.\n",
        "* Podemos tener un puntero a una estructura.\n",
        "* Se accede a los miembros utilizando el operador de flecha (->) en lugar del operador de punto (.)."
      ],
      "metadata": {
        "id": "q1lSjY-1LPjf"
      }
    },
    {
      "cell_type": "code",
      "source": [
        "# Escribe el programa estructura2.cpp\n",
        "%%writefile estructura2.cpp\n",
        "\n",
        "\n",
        "#include <iostream>\n",
        "#include <cstdio>\n",
        "using namespace std;\n",
        "\n",
        "\n",
        "// Define la estructura\n",
        "struct Puntito {\n",
        "  // Valores por defecto\n",
        "  int x = 0;\n",
        "  int y = 0;\n",
        "};\n",
        "\n",
        "\n",
        "\n",
        "// Programa principal\n",
        "int main()\n",
        "{\n",
        "  /* Declara un punto */\n",
        "  struct Puntito p2;\n",
        "\n",
        "  // Imprime los miembros del punto p2 con los valores por defecto\n",
        "  cout << \"x = \" << p2.x << \", y = \" << p2.y << endl;\n",
        "\n",
        "  // Asigna a y el valor de 20\n",
        "  p2.y = 15;\n",
        "  cout << \"x = \" << p2.x << \", y = \" << p2.y << endl;\n",
        "\n",
        "\n",
        "  /* Crea un arreglo de 10 estructuras */\n",
        "  struct Puntito arreglito[10];\n",
        "\n",
        "  // Asigna valores a la 1era estructura del arreglo\n",
        "  arreglito[0].x = 10;\n",
        "  arreglito[0].y = 20;\n",
        "\n",
        "  // los demás miembros toman valores por defecto\n",
        "  cout << endl << arreglito[0].x << \" \" << arreglito[0].y << endl;\n",
        "  cout << arreglito[1].x << \" \" << arreglito[1].y << endl;\n",
        "  cout << arreglito[9].x << \" \" << arreglito[9].y << endl;\n",
        "\n",
        "\n",
        "  /* Ejemplo de apuntador a una estructura  */\n",
        "  struct Puntito p3 = { 15, 77 };\n",
        "\n",
        "  // p4 es un apuntador a la estructura p3\n",
        "  struct Puntito* p4 = &p3;\n",
        "\n",
        "  // Acceso a los miembros usando el operador de acceso\n",
        "  // se utiliza parentesís por la jerarquía de precedencia del punto.\n",
        "  cout  << endl << (*p4).x << \" \" << (*p4).y << endl;\n",
        "\n",
        "  // Acceso a los miembros usando ->\n",
        "  cout << p4->x << \" \" << p4->y << endl;\n",
        "\n",
        "\n",
        "\n",
        "  /* Ejemplo de apuntador a un arreglo */\n",
        "\n",
        "  // definición de arreglo y apuntador\n",
        "  int arreglote[3], *apuntadorcito;\n",
        "\n",
        "  // asignación de apuntador al arreglo\n",
        "  apuntadorcito = arreglote;\n",
        "\n",
        "  // comparación de apuntador\n",
        "  cout << endl << apuntadorcito << \" = \" << &arreglote[0] << endl ;\n",
        "  cout << *apuntadorcito << \" = \" << arreglote[0] << endl;\n",
        "\n",
        "\n",
        "  /* Ejemplo de recorrer un arreglo con apuntador */\n",
        "  int n=5;\n",
        "  int arreglon[n] = {1,2,3,4,5};\n",
        "  int *apunt;\n",
        "\n",
        "  // define el último elemento del arreglo: fin\n",
        "  const int *fin = &arreglon[0] + (n-1);\n",
        "\n",
        "  // ejemplo de recorrer un arreglo con punteros\n",
        "  for(apunt = arreglon; apunt < fin; ++apunt)\n",
        "    cout  << endl << *apunt << \" \";\n",
        "\n",
        "  return 0;\n",
        "}\n"
      ],
      "metadata": {
        "colab": {
          "base_uri": "https://localhost:8080/"
        },
        "outputId": "6e842d7d-8081-4bcb-a8fb-51b583713cd5",
        "id": "YFS8koyVLOzu"
      },
      "execution_count": null,
      "outputs": [
        {
          "output_type": "stream",
          "name": "stdout",
          "text": [
            "Overwriting estructura2.cpp\n"
          ]
        }
      ]
    },
    {
      "cell_type": "code",
      "execution_count": null,
      "metadata": {
        "id": "nK5sh0eNLOzv"
      },
      "outputs": [],
      "source": [
        "# Compila el programa estructura2.cpp\n",
        "! g++ estructura2.cpp -o estructura2"
      ]
    },
    {
      "cell_type": "code",
      "execution_count": null,
      "metadata": {
        "colab": {
          "base_uri": "https://localhost:8080/"
        },
        "outputId": "9bde52bd-54b8-435c-c0db-9f259f49f753",
        "id": "0_sSUnCsLOzw"
      },
      "outputs": [
        {
          "output_type": "stream",
          "name": "stdout",
          "text": [
            "x = 0, y = 0\n",
            "x = 0, y = 15\n",
            "\n",
            "10 20\n",
            "0 0\n",
            "0 0\n",
            "\n",
            "15 77\n",
            "15 77\n",
            "\n",
            "0x7ffe91e5ddf4 = 0x7ffe91e5ddf4\n",
            "0 = 0\n",
            "\n",
            "1 \n",
            "2 \n",
            "3 \n",
            "4 "
          ]
        }
      ],
      "source": [
        "# Ejecuta el programa: estructura2\n",
        "! ./estructura2"
      ]
    },
    {
      "cell_type": "markdown",
      "source": [
        "##Clase"
      ],
      "metadata": {
        "id": "xRoUBJdGBLsN"
      }
    },
    {
      "cell_type": "code",
      "source": [
        "# Escribe el programa Punto.cpp\n",
        "%%writefile Punto.cpp\n",
        "\n",
        "\n",
        "#include <iostream>\n",
        "#include <cstdio>\n",
        "using namespace std;\n",
        "\n",
        "// Define la clase\n",
        "class Puntito {\n",
        "public:\n",
        "  // Valores por defecto\n",
        "  int x = 0;\n",
        "  int y = 0;\n",
        "\n",
        "  // Programa principal\n",
        "  void mostrarValores() {\n",
        "    cout << \"x = \" << x << \", y = \" << y << endl;\n",
        "  }\n",
        "\n",
        "  // Asigna a y el valor de 20\n",
        "  void asignarY(int valor) {\n",
        "    y = valor;\n",
        "  }\n",
        "};\n",
        "\n",
        "\n",
        "\n",
        "int main()\n",
        "{\n",
        "  // Declara un punto\n",
        "  Puntito p2;\n",
        "\n",
        "  // Imprime los miembros del punto p2 con los valores por defecto\n",
        "  p2.mostrarValores();\n",
        "\n",
        "  // Asigna a y el valor de 20\n",
        "  p2.asignarY(15);\n",
        "  p2.mostrarValores();\n",
        "\n",
        "\n",
        "  // Crea un arreglo de 10 estructuras\n",
        "  Puntito arreglito[10];\n",
        "\n",
        "  // Asigna valores a la 1era estructura del arreglo\n",
        "  arreglito[0].x = 10;\n",
        "  arreglito[0].y = 20;\n",
        "\n",
        "  // los demás miembros toman valores por defecto\n",
        "  cout << endl << arreglito[0].x << \" \" << arreglito[0].y << endl;\n",
        "  cout << arreglito[1].x << \" \" << arreglito[1].y << endl;\n",
        "  cout << arreglito[9].x << \" \" << arreglito[9].y << endl;\n",
        "\n",
        "\n",
        "  /* Ejemplo de apuntador a la clase  */\n",
        "  Puntito p3 = { 15, 77 };\n",
        "\n",
        "  // p4 es un apuntador a la clase p3\n",
        "  Puntito* p4 = &p3;\n",
        "\n",
        "  // Acceso a los miembros usando el operador de acceso\n",
        "  cout  << endl << (*p4).x << \" \" << (*p4).y << endl;\n",
        "\n",
        "  // Acceso a los miembros usando ->\n",
        "  cout << p4->x << \" \" << p4->y << endl;\n",
        "\n",
        "\n",
        "\n",
        "  /* Ejemplo de apuntador a un arreglo */\n",
        "\n",
        "  // definición de arreglo y apuntador\n",
        "  int arreglote[3], *apuntadorcito;\n",
        "\n",
        "  // asignación de apuntador al arreglo\n",
        "  apuntadorcito = arreglote;\n",
        "\n",
        "  // comparación de apuntador\n",
        "  cout << endl << apuntadorcito << \" = \" << &arreglote[0] << endl ;\n",
        "  cout << *apuntadorcito << \" = \" << arreglote[0] << endl;\n",
        "\n",
        "\n",
        "  /* Ejemplo de recorrer un arreglo con apuntador */\n",
        "  int n=5;\n",
        "  int arreglon[n] = {1,2,3,4,5};\n",
        "  int *apunt;\n",
        "\n",
        "  // define el último elemento del arreglo: fin\n",
        "  const int *fin = &arreglon[0] + (n-1);\n",
        "\n",
        "  // ejemplo de recorrer un arreglo con punteros\n",
        "  for(apunt = arreglon; apunt < fin; ++apunt)\n",
        "    cout  << endl << *apunt << \" \";\n",
        "\n",
        "  return 0;\n",
        "}"
      ],
      "metadata": {
        "id": "sOjp-IDiBOHg",
        "colab": {
          "base_uri": "https://localhost:8080/"
        },
        "outputId": "898c477a-16d9-4945-d752-a20df178896c"
      },
      "execution_count": 26,
      "outputs": [
        {
          "output_type": "stream",
          "name": "stdout",
          "text": [
            "Overwriting Punto.cpp\n"
          ]
        }
      ]
    },
    {
      "cell_type": "code",
      "execution_count": 27,
      "metadata": {
        "id": "9MrA4Bw2Zj-N"
      },
      "outputs": [],
      "source": [
        "# Compila el programa Punto.cpp\n",
        "! g++ Punto.cpp -o Punto"
      ]
    },
    {
      "cell_type": "code",
      "execution_count": 28,
      "metadata": {
        "colab": {
          "base_uri": "https://localhost:8080/"
        },
        "outputId": "5f5f1754-26b2-4011-dfe7-6c70b00c0b2f",
        "id": "D_eA9BI_Zj-O"
      },
      "outputs": [
        {
          "output_type": "stream",
          "name": "stdout",
          "text": [
            "x = 0, y = 0\n",
            "x = 0, y = 15\n",
            "\n",
            "10 20\n",
            "0 0\n",
            "0 0\n",
            "\n",
            "15 77\n",
            "15 77\n",
            "\n",
            "0x7ffcc11f7284 = 0x7ffcc11f7284\n",
            "0 = 0\n",
            "\n",
            "1 \n",
            "2 \n",
            "3 \n",
            "4 "
          ]
        }
      ],
      "source": [
        "# Ejecuta el programa: Punto\n",
        "! ./Punto"
      ]
    }
  ]
}