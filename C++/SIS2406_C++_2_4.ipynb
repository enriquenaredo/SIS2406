{
  "nbformat": 4,
  "nbformat_minor": 0,
  "metadata": {
    "colab": {
      "provenance": []
    },
    "kernelspec": {
      "name": "python3",
      "display_name": "Python 3"
    },
    "language_info": {
      "name": "python"
    }
  },
  "cells": [
    {
      "cell_type": "markdown",
      "source": [
        "#SIS2406 - Estructura de Datos y Algoritmos\n",
        "## Primavera 2024\n",
        "\n",
        "<div>\n",
        "<img src=\"https://drive.google.com/uc?export=view&id=1tlDc5tgvFynoP1BsqutPzZcm9TCi61rI\" width=\"150\"/>\n",
        "</div>\n",
        "\n",
        "### SIS2406_C++_2.4\n",
        "\n",
        "**Enrique Naredo García**\n",
        "\n",
        "<font size = 2>\n",
        "©️ Todos los derechos reservados. All rights reserved.\n",
        "\n",
        "*Nota: El presente documento es una herramienta diseñada única y exclusivamente para los estudiantes de la asignatura arriba mencionada. Se recuerda no compartir esta información fuera de los integrantes registrados en este curso. La reproducción total o parcial de este documento requiere autorización por escrito del titular del copyright.*\n",
        "</font>"
      ],
      "metadata": {
        "id": "prWNDchoMUWS"
      }
    },
    {
      "cell_type": "markdown",
      "source": [
        "#2.4 Listas doblemente ligadas circulares"
      ],
      "metadata": {
        "id": "1F4oAyeFgQ84"
      }
    },
    {
      "cell_type": "markdown",
      "source": [
        "<div>\n",
        "<img src=\"https://drive.google.com/uc?export=view&id=1PZpzVJNNqSXPKznaqacOOMR3cCYqLXpy\" width=\"450\"/>\n",
        "</div>"
      ],
      "metadata": {
        "id": "4_tj5gjNhdq4"
      }
    },
    {
      "cell_type": "markdown",
      "source": [
        "## Introducción\n",
        "\n",
        "Las listas circulares doblemente enlazadas son aquellas que tienen doble desplazamiento, es decir, que no tienen un fin y son portadoras de dos apuntadores a sí mismos.\n",
        "\n",
        "* Debemos cumplir con una condición, la cual es que siempre debe existir dos punteros el primero apunta al elemento anterior y el otro apunta al elemento siguiente.\n",
        "\n",
        "* Hay que tomar en cuenta al momento de realizar una función dentro de la lista como la inserción o búsqueda, ya que en este tipo de lista no se conoce el inicio ni el final.\n",
        "\n",
        "* Las listas circulares tienen 2 enlaces, el enlace anterior del primer nodo que apunta al último y el enlace del siguiente del último nodo apunta al primero.\n",
        "\n",
        "* Las listas doblemente enlazadas no necesitan de un nodo especial para acceder a ellas, se puede recorrer en ambos sentidos a partir de cualquier nodo.\n",
        "\n",
        "* Las listas doblemente circulares, permiten el recorrido en ambas direcciones y la cabeza y cola se encuentran conectadas en ambas direcciones."
      ],
      "metadata": {
        "id": "M4NLEdINK3jQ"
      }
    },
    {
      "cell_type": "markdown",
      "source": [
        "## Operaciones\n",
        "\n",
        "* Inserción en lista enlazada doblemente circular.\n",
        "* Inserción en una posición específica en una lista circular doblemente enlazada.\n",
        "* Buscar un elemento en una lista enlazada doblemente circular.\n",
        "* Eliminación en la lista enlazada doblemente circular.\n",
        "* Invertir una lista enlazada doblemente circular.\n",
        "* Convertir una matriz en una lista circular doblemente enlazada.\n",
        "* Convertir un árbol binario en una lista circular de doble enlace."
      ],
      "metadata": {
        "id": "H8Mb2IWCLFlE"
      }
    },
    {
      "cell_type": "markdown",
      "source": [
        "## Ventajas\n",
        "\n",
        "Las listas circulares doblemente enlazadas en estructuras de datos y algoritmos (DSA) tienen los siguientes beneficios:\n",
        "\n",
        "* Recorrido eficiente: los nodos de una lista circular doblemente enlazada se pueden atravesar de manera eficiente en ambas direcciones, o hacia adelante y hacia atrás.\n",
        "* Inserción y eliminación: una lista circular doblemente enlazada hace un uso eficiente de las operaciones de inserción y eliminación.\n",
        "* Los nodos de cabeza y cola están conectados porque la lista es circular, lo que facilita agregar o eliminar nodos de cualquiera de los extremos.\n",
        "* Implementación de estructuras de datos circulares: la implementación de estructuras de datos circulares, como colas circulares y buffers circulares, hace un uso extensivo de listas circulares doblemente enlazadas."
      ],
      "metadata": {
        "id": "6oFxg1oVLQIp"
      }
    },
    {
      "cell_type": "markdown",
      "source": [
        "## Desventajas\n",
        "\n",
        "Las listas circulares doblemente enlazadas tienen los siguientes inconvenientes cuando se utilizan en DSA:\n",
        "\n",
        "* Complejidad: en comparación con una lista enlazada individualmente, la lista circular doblemente enlazada tiene operaciones más complicadas, lo que puede dificultar su desarrollo y mantenimiento.\n",
        "* Costo de la circularidad: en algunas circunstancias, la circularidad de la lista puede generar gastos generales adicionales.\n",
        "* Por ejemplo, puede resultar complicado saber si el recorrido de la lista ha rodeado completamente el objeto y ha regresado a su lugar inicial.\n",
        "* Más complejo de depurar: las listas circulares doblemente enlazadas pueden ser más difíciles de depurar que las listas de enlace simple porque la naturaleza circular de la lista puede introducir bucles que son difíciles de encontrar y reparar."
      ],
      "metadata": {
        "id": "fH52JbhmKxVi"
      }
    },
    {
      "cell_type": "code",
      "execution_count": 68,
      "metadata": {
        "colab": {
          "base_uri": "https://localhost:8080/"
        },
        "id": "IFiVZ8CDMRU_",
        "outputId": "320b05b8-207e-4da3-e4b3-82f23d4bb750"
      },
      "outputs": [
        {
          "output_type": "stream",
          "name": "stdout",
          "text": [
            "Overwriting ListaCircDobleLigada.cpp\n"
          ]
        }
      ],
      "source": [
        "# Escribe el programa ListaCircDobleLigada.cpp\n",
        "%%writefile ListaCircDobleLigada.cpp\n",
        "\n",
        "\n",
        "#include <iostream>\n",
        "\n",
        "\n",
        "/* Clase Nodo */\n",
        "\n",
        "class Nodo {\n",
        "  public:\n",
        "    int dato;\n",
        "    Nodo* sig;\n",
        "    Nodo* prev;\n",
        "\n",
        "    // constructor (inicializa)\n",
        "    Nodo(int dato) {\n",
        "      this->dato = dato;\n",
        "      sig = nullptr;\n",
        "      prev = nullptr;\n",
        "    }\n",
        "};\n",
        "\n",
        "\n",
        "\n",
        "/* Clase para la lista circular doblemente ligada con métodos */\n",
        "\n",
        "class ListaCircDobleLigada {\n",
        "\n",
        "  private:\n",
        "    Nodo* inicio;\n",
        "\n",
        "  public:\n",
        "    // constructor (inicializa)\n",
        "    ListaCircDobleLigada() {\n",
        "      inicio = nullptr;\n",
        "    }\n",
        "    // verifica si la lista esta vacia\n",
        "    bool esta_vacia() {\n",
        "      return inicio == nullptr;\n",
        "    }\n",
        "\n",
        "\n",
        "\n",
        "  // Inserta elemento al final\n",
        "  void agregaFinal(int datote) {\n",
        "    Nodo* nodo_nuevo = new Nodo(datote);\n",
        "    if (esta_vacia()) {\n",
        "      inicio = nodo_nuevo;\n",
        "      inicio->sig = inicio;\n",
        "      inicio->prev = inicio;\n",
        "    } else {\n",
        "      Nodo* ultimo = inicio->prev;\n",
        "      ultimo->sig = nodo_nuevo;\n",
        "      nodo_nuevo->prev = ultimo;\n",
        "      nodo_nuevo->sig = inicio;\n",
        "      inicio->prev = nodo_nuevo;\n",
        "    }\n",
        "  }\n",
        "\n",
        "\n",
        "  // Inserta elemento al inicio\n",
        "  void agregaInicio(int datote) {\n",
        "    Nodo* nodo_nuevo = new Nodo(datote);\n",
        "    if (esta_vacia()) {\n",
        "      inicio = nodo_nuevo;\n",
        "      inicio->sig = inicio;\n",
        "      inicio->prev = inicio;\n",
        "    } else {\n",
        "      Nodo* ultimo = inicio->prev;\n",
        "      nodo_nuevo->sig = inicio;\n",
        "      nodo_nuevo->prev = ultimo;\n",
        "      ultimo->sig = nodo_nuevo;\n",
        "      inicio->prev = nodo_nuevo;\n",
        "      inicio = nodo_nuevo;\n",
        "    }\n",
        "  }\n",
        "\n",
        "\n",
        "  // Inserta elemento después de un elemento dado\n",
        "  void agregaDespuesIdx(int datote, int despues_ind) {\n",
        "    if (esta_vacia()) {\n",
        "      std::cout << \"Lista vacía.\" << std::endl;\n",
        "    }\n",
        "    Nodo* actual = inicio;\n",
        "    while (actual->dato != despues_ind) {\n",
        "      actual = actual->sig;\n",
        "      if (actual == inicio) {\n",
        "        std::cout << despues_ind << \" no se encuentra en la lista.\" << std::endl;\n",
        "      }\n",
        "    }\n",
        "    Nodo* nodo_nuevo = new Nodo(datote);\n",
        "    nodo_nuevo->sig = actual->sig;\n",
        "    nodo_nuevo->prev = actual;\n",
        "    actual->sig->prev = nodo_nuevo;\n",
        "    actual->sig = nodo_nuevo;\n",
        "  }\n",
        "\n",
        "\n",
        "  // Elimina elemento de la lista\n",
        "  void elimina(int datote) {\n",
        "    if (esta_vacia()) {\n",
        "      std::cout << \"Lista vacía.\" << std::endl;\n",
        "    }\n",
        "    Nodo* actual = inicio;\n",
        "    while (actual->dato != datote) {\n",
        "      actual = actual->sig;\n",
        "      if (actual == inicio) {\n",
        "        std::cout << datote << \" no se encuentra en la lista.\" << std::endl;\n",
        "      }\n",
        "      actual->prev->sig = actual->sig;\n",
        "      actual->sig->prev = actual->prev;\n",
        "      if (actual == inicio) {\n",
        "        inicio = actual->sig;\n",
        "      }\n",
        "    }\n",
        "  }\n",
        "\n",
        "\n",
        "  // Imprime la lista\n",
        "  void imprime() {\n",
        "    if (esta_vacia()) {\n",
        "      std::cout << \"Lista vacía.\" << std::endl;\n",
        "      return;\n",
        "    }\n",
        "    Nodo* actual = inicio;\n",
        "    do {\n",
        "      std::cout << actual->dato << \" \";\n",
        "      actual = actual->sig;\n",
        "    } while (actual != inicio);\n",
        "    std::cout << std::endl;\n",
        "  }\n",
        "\n",
        "};\n",
        "\n",
        "\n",
        "\n",
        "/*  Casos de uso */\n",
        "\n",
        "int main() {\n",
        "\n",
        "  ListaCircDobleLigada LC2L;\n",
        "  LC2L.agregaFinal(1);\n",
        "  LC2L.imprime();\n",
        "  LC2L.agregaInicio(2);\n",
        "  LC2L.imprime();\n",
        "  LC2L.agregaDespuesIdx(15,2);\n",
        "  LC2L.imprime();\n",
        "  LC2L.agregaDespuesIdx(51,1);\n",
        "  LC2L.imprime();\n",
        "  LC2L.elimina(15);\n",
        "  LC2L.imprime();\n",
        "\n",
        "  return 0;\n",
        "\n",
        "}\n"
      ]
    },
    {
      "cell_type": "code",
      "execution_count": 66,
      "metadata": {
        "id": "9MrA4Bw2Zj-N"
      },
      "outputs": [],
      "source": [
        "# Compila el programa ListaCircDobleLigada.cpp\n",
        "! g++ ListaCircDobleLigada.cpp -o ListaCircDobleLigada"
      ]
    },
    {
      "cell_type": "code",
      "execution_count": 67,
      "metadata": {
        "colab": {
          "base_uri": "https://localhost:8080/"
        },
        "id": "TaDzvSYjPbBs",
        "outputId": "0ca98315-5c7e-45a8-ddaa-0879558f9632"
      },
      "outputs": [
        {
          "output_type": "stream",
          "name": "stdout",
          "text": [
            "1 \n",
            "2 1 \n",
            "2 15 1 \n",
            "2 15 1 51 \n",
            "2 1 51 \n"
          ]
        }
      ],
      "source": [
        "# Ejecuta el programa: ListaCircDobleLigada\n",
        "! ./ListaCircDobleLigada"
      ]
    }
  ]
}