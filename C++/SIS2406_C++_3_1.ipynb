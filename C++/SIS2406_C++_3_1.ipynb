{
  "nbformat": 4,
  "nbformat_minor": 0,
  "metadata": {
    "colab": {
      "provenance": []
    },
    "kernelspec": {
      "name": "python3",
      "display_name": "Python 3"
    },
    "language_info": {
      "name": "python"
    }
  },
  "cells": [
    {
      "cell_type": "markdown",
      "source": [
        "#SIS2406 - Estructura de Datos y Algoritmos\n",
        "## Primavera 2024\n",
        "\n",
        "<div>\n",
        "<img src=\"https://drive.google.com/uc?export=view&id=1tlDc5tgvFynoP1BsqutPzZcm9TCi61rI\" width=\"150\"/>\n",
        "</div>\n",
        "\n",
        "### SIS2406_C++_3.1\n",
        "\n",
        "**Enrique Naredo García**\n",
        "\n",
        "<font size = 2>\n",
        "©️ Todos los derechos reservados. All rights reserved.\n",
        "\n",
        "*Nota: El presente documento es una herramienta diseñada única y exclusivamente para los estudiantes de la asignatura arriba mencionada. Se recuerda no compartir esta información fuera de los integrantes registrados en este curso. La reproducción total o parcial de este documento requiere autorización por escrito del titular del copyright.*\n",
        "</font>"
      ],
      "metadata": {
        "id": "qX0Uodg0ak5D"
      }
    },
    {
      "cell_type": "markdown",
      "source": [
        "# PILAS"
      ],
      "metadata": {
        "id": "gXYEg1iESDdE"
      }
    },
    {
      "cell_type": "markdown",
      "source": [
        "Son colecciones de elementos ordenados que únicamente permiten dos acciones:\n",
        "\n",
        "* Añadir un elemento a la pila.\n",
        "* Sacar un elemento de la pila.\n",
        "\n",
        "La peculiaridad es que el último elemento en entrar es el primero en salir.\n",
        "\n",
        "* En inglés se conocen como estructuras LIFO (Last In First Out).\n",
        "\n",
        "* Las podemos crear como listas normales y añadir elementos al final con el append()."
      ],
      "metadata": {
        "id": "A4UMmSW4dDc0"
      }
    },
    {
      "cell_type": "markdown",
      "source": [
        "## Pila usando lista ligada"
      ],
      "metadata": {
        "id": "eMf_bnGwW1mg"
      }
    },
    {
      "cell_type": "markdown",
      "source": [
        "Implementación de una pila utilizando una lista ligada."
      ],
      "metadata": {
        "id": "_KJZ0FvnrHma"
      }
    },
    {
      "cell_type": "code",
      "execution_count": 141,
      "metadata": {
        "colab": {
          "base_uri": "https://localhost:8080/"
        },
        "id": "9Chmyd_haMCS",
        "outputId": "345905ab-0a4b-4f91-a6d4-e5148001c0cf"
      },
      "outputs": [
        {
          "output_type": "stream",
          "name": "stdout",
          "text": [
            "Overwriting Pila.cpp\n"
          ]
        }
      ],
      "source": [
        "# Escribe el programa Pila.cpp\n",
        "%%writefile Pila.cpp\n",
        "\n",
        "\n",
        "#include <iostream>\n",
        "using namespace std;\n",
        "\n",
        "\n",
        "\n",
        "/*  se crea una clase para los nodos */\n",
        "class Nodita {\n",
        "\n",
        "public:\n",
        "  int dato;\n",
        "\n",
        "  // constructor (inicializa)\n",
        "  Nodita* siguiente;\n",
        "  Nodita(int dato) : dato(dato), siguiente(NULL) {}\n",
        "};\n",
        "\n",
        "\n",
        "\n",
        "\n",
        "/* se crea la clase para las pilas */\n",
        "\n",
        "class Pilota {\n",
        "\n",
        "private:\n",
        "  Nodita* final;\n",
        "  int tamanio;\n",
        "\n",
        "public:\n",
        "  Pilota() : final(NULL){}\n",
        "\n",
        "\n",
        "  // verifica si la pila esta vacía\n",
        "  bool vacia() {\n",
        "    if(final == NULL){\n",
        "      printf(\"\\033[2;31mPila Vacía\\33[30m\\n\"); //“\\033[0;31m”\n",
        "      return true;\n",
        "    } else {\n",
        "      return false;\n",
        "    }\n",
        "  }\n",
        "\n",
        "\n",
        "  // obtiene el tamaño actual de la pila\n",
        "  int getTamanio() {\n",
        "    return tamanio;\n",
        "  }\n",
        "\n",
        "\n",
        "  // obtiene el elemento al final de la pila\n",
        "  int getFinal() {\n",
        "    // verifica si la pila esta vacía\n",
        "    if (vacia())\n",
        "      return 0;\n",
        "    else\n",
        "      return final->dato;\n",
        "  }\n",
        "\n",
        "\n",
        "  // agrega (push) un dato en la pila\n",
        "  void mete (int dato) {\n",
        "    Nodita *nod1t0 = new Nodita(dato);\n",
        "    nod1t0->dato = dato;\n",
        "    nod1t0->siguiente = final;\n",
        "    final = nod1t0;\n",
        "    tamanio++;\n",
        "  }\n",
        "\n",
        "\n",
        "  // elimina (pop) un dato de la pila\n",
        "  void saca( ) {\n",
        "    if (vacia())\n",
        "      cout<<\"No hay nada\\n\";\n",
        "    else {\n",
        "      Nodita *quita = final;\n",
        "      final = final->siguiente;\n",
        "      cout << \"Elemento eliminado: \" << quita->dato << endl;\n",
        "      delete(quita);\n",
        "      tamanio--;\n",
        "    }\n",
        "  }\n",
        "\n",
        "\n",
        "  // impresión de la pila\n",
        "  void imprime() {\n",
        "    if (vacia())\n",
        "      cout<<\"No hay nada\\n\";\n",
        "    else {\n",
        "      cout<<\"Pila: \";\n",
        "      Nodita *temporal=final;\n",
        "      while(temporal!=NULL){\n",
        "        if (temporal->siguiente == NULL)\n",
        "          cout<<temporal->dato;\n",
        "        else {\n",
        "          cout<<temporal->dato<<\"=>\";\n",
        "        }\n",
        "        temporal=temporal->siguiente;\n",
        "      }\n",
        "      cout<<\"\\n\";\n",
        "    }\n",
        "  }\n",
        "\n",
        "};\n",
        "\n",
        "\n",
        "\n",
        "\n",
        "/*  Casos de uso */\n",
        "\n",
        "int main() {\n",
        "\n",
        "  Pilota pilis;\n",
        "\n",
        "  // agrega elementos\n",
        "  for (int i = 1; i <= 20; i += 2) {\n",
        "    pilis.mete(i);\n",
        "  }\n",
        "\n",
        "  // imprime la lista\n",
        "  pilis.imprime();\n",
        "\n",
        "  cout << \"Tamaño de la Pila: \" << pilis.getTamanio() << endl;\n",
        "  cout << \"Elemento al final de la Pila: \" << pilis.getFinal() << endl;\n",
        "\n",
        "  // elimina elementos\n",
        "  for (int i=1; i <= 6; i++) {\n",
        "    pilis.saca();\n",
        "  }\n",
        "\n",
        "  // imprime la lista\n",
        "  pilis.imprime();\n",
        "\n",
        "  // elimina más elementos\n",
        "  for (int i=1; i <= 6; i++) {\n",
        "    pilis.saca();\n",
        "  }\n",
        "\n",
        "  // imprime la lista\n",
        "  pilis.imprime();\n",
        "\n",
        "  return 0;\n",
        "}\n"
      ]
    },
    {
      "cell_type": "code",
      "execution_count": 142,
      "metadata": {
        "id": "9MrA4Bw2Zj-N"
      },
      "outputs": [],
      "source": [
        "# Compila el programa Pila.cpp\n",
        "! g++ Pila.cpp -o Pila"
      ]
    },
    {
      "cell_type": "code",
      "execution_count": 143,
      "metadata": {
        "id": "TaDzvSYjPbBs",
        "colab": {
          "base_uri": "https://localhost:8080/"
        },
        "outputId": "e89a500a-c7b8-483d-8507-b9779deecebb"
      },
      "outputs": [
        {
          "output_type": "stream",
          "name": "stdout",
          "text": [
            "Pila: 19=>17=>15=>13=>11=>9=>7=>5=>3=>1\n",
            "Tamaño de la Pila: 10\n",
            "Elemento al final de la Pila: 19\n",
            "Elemento eliminado: 19\n",
            "Elemento eliminado: 17\n",
            "Elemento eliminado: 15\n",
            "Elemento eliminado: 13\n",
            "Elemento eliminado: 11\n",
            "Elemento eliminado: 9\n",
            "Pila: 7=>5=>3=>1\n",
            "Elemento eliminado: 7\n",
            "Elemento eliminado: 5\n",
            "Elemento eliminado: 3\n",
            "Elemento eliminado: 1\n",
            "\u001b[2;31mPila Vacía\u001b[30m\n",
            "No hay nada\n",
            "\u001b[2;31mPila Vacía\u001b[30m\n",
            "No hay nada\n",
            "\u001b[2;31mPila Vacía\u001b[30m\n",
            "No hay nada\n"
          ]
        }
      ],
      "source": [
        "# Ejecuta el programa: Pila\n",
        "! ./Pila"
      ]
    }
  ]
}