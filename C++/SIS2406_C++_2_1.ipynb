{
  "nbformat": 4,
  "nbformat_minor": 0,
  "metadata": {
    "colab": {
      "provenance": []
    },
    "kernelspec": {
      "name": "python3",
      "display_name": "Python 3"
    },
    "language_info": {
      "name": "python"
    }
  },
  "cells": [
    {
      "cell_type": "markdown",
      "source": [
        "#SIS2406 - Estructura de Datos y Algoritmos\n",
        "## Primavera 2024\n",
        "\n",
        "<div>\n",
        "<img src=\"https://drive.google.com/uc?export=view&id=1tlDc5tgvFynoP1BsqutPzZcm9TCi61rI\" width=\"150\"/>\n",
        "</div>\n",
        "\n",
        "### SIS2406_C++_2.1\n",
        "\n",
        "**Enrique Naredo García**\n",
        "\n",
        "<font size = 2>\n",
        "©️ Todos los derechos reservados. All rights reserved.\n",
        "\n",
        "*Nota: El presente documento es una herramienta diseñada única y exclusivamente para los estudiantes de la asignatura arriba mencionada. Se recuerda no compartir esta información fuera de los integrantes registrados en este curso. La reproducción total o parcial de este documento requiere autorización por escrito del titular del copyright.*\n",
        "</font>"
      ],
      "metadata": {
        "id": "WAqQjOCYihN7"
      }
    },
    {
      "cell_type": "markdown",
      "source": [
        "#2.1 Listas simplemente ligadas"
      ],
      "metadata": {
        "id": "cQGn6h1mipbP"
      }
    },
    {
      "cell_type": "markdown",
      "metadata": {
        "id": "UVmsv3QprE01"
      },
      "source": [
        "<div>\n",
        "<img src=\"https://drive.google.com/uc?export=view&id=1w5h2jVdGg6FZA5Vmr26GsVqMKSnFq7H0\" width=\"850\"/>\n",
        "</div>\n",
        "\n"
      ]
    },
    {
      "cell_type": "markdown",
      "metadata": {
        "id": "8ou07PxWrhvT"
      },
      "source": [
        "Una lista enlazada es una estructura de datos que contiene elementos conectados mediante un enlace.\n",
        "\n",
        "* Una lista enlazada es una estructura de datos dinámica.\n",
        "* Una lista enlazada se crea usando objetos llamados nodos.\n",
        "* Cada nodo contiene dos atributos: uno para almacenar los datos y el otro para conectarse al siguiente nodo en la lista vinculada.\n",
        "* Cada nodo tiene un valor (datos) y una referencia al siguiente nodo.\n",
        "* La referencia es típicamente un puntero o una dirección de memoria donde se puede encontrar el siguiente valor.\n",
        "* La cantidad de nodos en una lista no es fija y puede crecer y contraerse a demanda.\n",
        "* Cualquier aplicación que tenga que tratar con un número desconocido de objetos necesitará usar una lista vinculada."
      ]
    },
    {
      "cell_type": "code",
      "source": [
        "# Escribe el programa listaLigada.cpp\n",
        "%%writefile listaLigada.cpp\n",
        "\n",
        "\n",
        "// Implementación de una lista ligada en C++\n",
        "\n",
        "#include <bits/stdc++.h>\n",
        "#include <iostream>\n",
        "using namespace std;\n",
        "\n",
        "// Creación de clase Nodito\n",
        "class Nodito {\n",
        "  public:\n",
        "  int valor;\n",
        "  Nodito* sig;\n",
        "};\n",
        "\n",
        "int main() {\n",
        "\n",
        "  Nodito* inicio;\n",
        "  Nodito* uno = NULL;\n",
        "  Nodito* dos = NULL;\n",
        "  Nodito* tres = NULL;\n",
        "\n",
        "  // Asigna 3 nodos en la memoria heap\n",
        "  // La memoria dinámica que se almacena en el heap\n",
        "  // es aquella que se utiliza para almacenar datos\n",
        "  // que se crean en el medio de la ejecución de un programa\n",
        "  uno = new Nodito();\n",
        "  dos = new Nodito();\n",
        "  tres = new Nodito();\n",
        "\n",
        "  // Asigna valores a los nodos\n",
        "  uno->valor = 1;\n",
        "  dos->valor = 2;\n",
        "  tres->valor = 3;\n",
        "\n",
        "  // Conecta los nodos\n",
        "  uno->sig = dos;\n",
        "  dos->sig = tres;\n",
        "  tres->sig = NULL;\n",
        "\n",
        "  // imprime la lista ligada\n",
        "  inicio = uno;\n",
        "  while (inicio != NULL) {\n",
        "    cout << inicio->valor << \", \";\n",
        "    inicio = inicio->sig;\n",
        "  }\n",
        "}"
      ],
      "metadata": {
        "colab": {
          "base_uri": "https://localhost:8080/"
        },
        "id": "K1DRc3ehw0Wx",
        "outputId": "870f62c1-3fb2-4389-c6e9-d2b9589c6f27"
      },
      "execution_count": 7,
      "outputs": [
        {
          "output_type": "stream",
          "name": "stdout",
          "text": [
            "Overwriting listaLigada.cpp\n"
          ]
        }
      ]
    },
    {
      "cell_type": "code",
      "execution_count": 8,
      "metadata": {
        "id": "ErcMeNrLgxPT"
      },
      "outputs": [],
      "source": [
        "# Compila el programa listaLigada.cpp\n",
        "! g++ listaLigada.cpp -o listaLigada"
      ]
    },
    {
      "cell_type": "code",
      "execution_count": 9,
      "metadata": {
        "colab": {
          "base_uri": "https://localhost:8080/"
        },
        "outputId": "56251ae6-a1ba-4832-edba-b01e0e41678d",
        "id": "Wgc_wiFagxPU"
      },
      "outputs": [
        {
          "output_type": "stream",
          "name": "stdout",
          "text": [
            "1, 2, 3, "
          ]
        }
      ],
      "source": [
        "# Ejecuta el programa: listaLigada\n",
        "! ./listaLigada"
      ]
    }
  ]
}