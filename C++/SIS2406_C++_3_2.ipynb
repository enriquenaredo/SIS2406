{
  "nbformat": 4,
  "nbformat_minor": 0,
  "metadata": {
    "colab": {
      "provenance": []
    },
    "kernelspec": {
      "name": "python3",
      "display_name": "Python 3"
    },
    "language_info": {
      "name": "python"
    }
  },
  "cells": [
    {
      "cell_type": "markdown",
      "source": [
        "#SIS2406 - Estructura de Datos y Algoritmos\n",
        "## Primavera 2024\n",
        "\n",
        "<div>\n",
        "<img src=\"https://drive.google.com/uc?export=view&id=1tlDc5tgvFynoP1BsqutPzZcm9TCi61rI\" width=\"150\"/>\n",
        "</div>\n",
        "\n",
        "### SIS2406_C++_3.2\n",
        "\n",
        "**Enrique Naredo García**\n",
        "\n",
        "<font size = 2>\n",
        "©️ Todos los derechos reservados. All rights reserved.\n",
        "\n",
        "*Nota: El presente documento es una herramienta diseñada única y exclusivamente para los estudiantes de la asignatura arriba mencionada. Se recuerda no compartir esta información fuera de los integrantes registrados en este curso. La reproducción total o parcial de este documento requiere autorización por escrito del titular del copyright.*\n",
        "</font>"
      ],
      "metadata": {
        "id": "qa5zW7HuDZ2G"
      }
    },
    {
      "cell_type": "markdown",
      "source": [
        "#Cola"
      ],
      "metadata": {
        "id": "OZ-vCTFvjjg0"
      }
    },
    {
      "cell_type": "markdown",
      "source": [
        "La cola es una estructura de datos lineal que almacena elementos según el principio de primero en entrar/primero en salir (First In First Out - FIFO).\n",
        "\n",
        "En la cola, el elemento de datos que se inserte primero se eliminará primero.\n",
        "\n",
        "Las operaciones que se pueden realizar en la cola son:\n",
        "\n",
        "* Enqueue: Agrega un elemento a la cola. Si la cola está llena, se dice que es una condición de desbordamiento.\n",
        "\n",
        "* Dequeue: Elimina un elemento de la cola. Los elementos aparecen en el mismo orden en que se empujan.\n",
        "Si la cola está vacía, se dice que se trata de una condición de desbordamiento insuficiente.\n",
        "\n",
        "* Front: Proporciona el elemento frontal de la cola.\n",
        "\n",
        "* Rear: Da el último elemento de la cola."
      ],
      "metadata": {
        "id": "iFjVyI1yjRZ9"
      }
    },
    {
      "cell_type": "markdown",
      "source": [
        "La cola en Python se puede implementar de las siguientes maneras:\n",
        "\n",
        "* lista\n",
        "* colecciones.deque\n",
        "* cola.cola"
      ],
      "metadata": {
        "id": "b_iYl7_fjRCf"
      }
    },
    {
      "cell_type": "markdown",
      "source": [
        "##Cola usando lista enlazada"
      ],
      "metadata": {
        "id": "71g6DcdXwqj8"
      }
    },
    {
      "cell_type": "code",
      "execution_count": 1,
      "metadata": {
        "colab": {
          "base_uri": "https://localhost:8080/"
        },
        "id": "zF_BtMLnDYKU",
        "outputId": "bc8a0b22-5236-487a-d488-3da69c1b1921"
      },
      "outputs": [
        {
          "output_type": "stream",
          "name": "stdout",
          "text": [
            "Writing Cola.cpp\n"
          ]
        }
      ],
      "source": [
        "# Escribe el programa Cola.cpp\n",
        "%%writefile Cola.cpp\n",
        "\n",
        "// Librerías\n",
        "#include <iostream>\n",
        "using namespace std;\n",
        "\n",
        "\n",
        "/* Creación de clase Nodo */\n",
        "class Nodox {\n",
        "public:\n",
        "    int dato;\n",
        "    Nodox* sig;\n",
        "\n",
        "    Nodox(int dato) {\n",
        "        this->dato = dato;\n",
        "        this->sig = nullptr;\n",
        "    }\n",
        "};\n",
        "\n",
        "\n",
        "\n",
        "/* Creación de clase Cola */\n",
        "class Colitax {\n",
        "public:\n",
        "    Nodox* frente;\n",
        "    Nodox* atras;\n",
        "\n",
        "    Colitax() {\n",
        "        frente = atras = nullptr;\n",
        "    }\n",
        "\n",
        "    bool estaVacia() {\n",
        "        return frente == nullptr;\n",
        "    }\n",
        "\n",
        "    void enCola(int elemento) {\n",
        "        Nodox* temporal = new Nodox(elemento);\n",
        "\n",
        "        if (atras == nullptr) {\n",
        "            frente = atras = temporal;\n",
        "            return;\n",
        "        }\n",
        "\n",
        "        atras->sig = temporal;\n",
        "        atras = temporal;\n",
        "    }\n",
        "\n",
        "    void desenCola() {\n",
        "        if (estaVacia()) {\n",
        "            return;\n",
        "        }\n",
        "\n",
        "        Nodox* temporal = frente;\n",
        "        frente = frente->sig;\n",
        "\n",
        "        if (frente == nullptr) {\n",
        "            atras = nullptr;\n",
        "        }\n",
        "\n",
        "        delete temporal;\n",
        "    }\n",
        "\n",
        "    void muestraCola() {\n",
        "        Nodox* actual = frente;\n",
        "\n",
        "        if (actual == nullptr) {\n",
        "            cout << \"La cola está vacía\" << endl;\n",
        "            return;\n",
        "        }\n",
        "\n",
        "        cout << \"Frente <= \";\n",
        "\n",
        "        while (actual != nullptr) {\n",
        "            cout << actual->dato << \" <= \";\n",
        "            actual = actual->sig;\n",
        "        }\n",
        "\n",
        "        cout << \"Atrás\" << endl;\n",
        "    }\n",
        "};\n",
        "\n",
        "\n",
        "\n",
        "/* Casos de uso */\n",
        "int main() {\n",
        "    Colitax colon;\n",
        "\n",
        "    colon.enCola(10);\n",
        "    colon.enCola(20);\n",
        "    colon.muestraCola();\n",
        "    colon.desenCola();\n",
        "    colon.desenCola();\n",
        "    colon.muestraCola();\n",
        "    colon.enCola(30);\n",
        "    colon.enCola(40);\n",
        "    colon.enCola(50);\n",
        "    colon.muestraCola();\n",
        "    colon.desenCola();\n",
        "\n",
        "    cout << \"Frente de la cola: \" << (colon.frente ? to_string(colon.frente->dato) : \"-1\") << endl;\n",
        "    cout << \"Atrás de la cola: \" << (colon.atras ? to_string(colon.atras->dato) : \"-1\") << endl;\n",
        "\n",
        "    return 0;\n",
        "}"
      ]
    },
    {
      "cell_type": "code",
      "execution_count": 2,
      "metadata": {
        "id": "9MrA4Bw2Zj-N"
      },
      "outputs": [],
      "source": [
        "# Compila el programa Cola.cpp\n",
        "! g++ Cola.cpp -o Cola"
      ]
    },
    {
      "cell_type": "code",
      "execution_count": 3,
      "metadata": {
        "id": "TaDzvSYjPbBs",
        "colab": {
          "base_uri": "https://localhost:8080/"
        },
        "outputId": "723fef2f-0540-46a4-a91c-565c2bef9810"
      },
      "outputs": [
        {
          "output_type": "stream",
          "name": "stdout",
          "text": [
            "Frente <= 10 <= 20 <= Atrás\n",
            "La cola está vacía\n",
            "Frente <= 30 <= 40 <= 50 <= Atrás\n",
            "Frente de la cola: 40\n",
            "Atrás de la cola: 50\n"
          ]
        }
      ],
      "source": [
        "# Ejecuta el programa: Cola\n",
        "! ./Cola"
      ]
    }
  ]
}