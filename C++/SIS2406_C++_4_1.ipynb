{
  "nbformat": 4,
  "nbformat_minor": 0,
  "metadata": {
    "colab": {
      "provenance": []
    },
    "kernelspec": {
      "name": "python3",
      "display_name": "Python 3"
    },
    "language_info": {
      "name": "python"
    }
  },
  "cells": [
    {
      "cell_type": "markdown",
      "source": [
        "#SIS2406 - Estructura de Datos y Algoritmos\n",
        "## Primavera 2024\n",
        "\n",
        "<div>\n",
        "<img src=\"https://drive.google.com/uc?export=view&id=1tlDc5tgvFynoP1BsqutPzZcm9TCi61rI\" width=\"150\"/>\n",
        "</div>\n",
        "\n",
        "### SIS2406_C++_4.1\n",
        "\n",
        "**Enrique Naredo García**\n",
        "\n",
        "<font size = 2>\n",
        "©️ Todos los derechos reservados. All rights reserved.\n",
        "\n",
        "*Nota: El presente documento es una herramienta diseñada única y exclusivamente para los estudiantes de la asignatura arriba mencionada. Se recuerda no compartir esta información fuera de los integrantes registrados en este curso. La reproducción total o parcial de este documento requiere autorización por escrito del titular del copyright.*\n",
        "</font>"
      ],
      "metadata": {
        "id": "tTyq45O5qyG5"
      }
    },
    {
      "cell_type": "markdown",
      "source": [
        "# Árbol Binario"
      ],
      "metadata": {
        "id": "4wZJ8fQ3jx-v"
      }
    },
    {
      "cell_type": "markdown",
      "source": [
        "Un árbol binario es un árbol donde cada nodo no puede tener más de dos subárboles.\n",
        "\n",
        "* Cada nodo puede tener uno, dos, o cero hijos o subárboles.\n",
        "* El nodo de la izquierda se dice hijo izquierdo.\n",
        "* El nodo de la derecha se dice hijo derecho."
      ],
      "metadata": {
        "id": "q2VxqS5ij0G_"
      }
    },
    {
      "cell_type": "markdown",
      "source": [
        "Los árboles se pueden representar de dos maneras:\n",
        "* Representación de matriz (representación secuencial).\n",
        "* Representación dinámica de nodos (representación vinculada).\n"
      ],
      "metadata": {
        "id": "PRDJsC8XWbfe"
      }
    },
    {
      "cell_type": "markdown",
      "source": [
        "## Representación dinámica de nodos"
      ],
      "metadata": {
        "id": "33rfKlLjXFT7"
      }
    },
    {
      "cell_type": "code",
      "source": [
        "# Escribe el programa BST.cpp\n",
        "%%writefile BST.cpp\n",
        "\n",
        "\n",
        "#include <iostream>\n",
        "#include <vector>\n",
        "\n",
        "\n",
        "\n",
        "/* Crea la clase Nodo */\n",
        "class Nodo {\n",
        "public:\n",
        "    int val;\n",
        "    Nodo* izq;\n",
        "    Nodo* der;\n",
        "\n",
        "    Nodo(int val) :\n",
        "    val(val),\n",
        "    izq(nullptr),\n",
        "    der(nullptr) {}\n",
        "};\n",
        "\n",
        "\n",
        "\n",
        "/* Crea la clase de Árbol Binario de Búsqueda\n",
        "   Binary Search Tree (BST) */\n",
        "\n",
        "class BST {\n",
        "\n",
        "/* Metódos Públicos  */\n",
        "public:\n",
        "  Nodo* raiz;\n",
        "\n",
        "  BST() : raiz(nullptr) {}\n",
        "\n",
        "  // Inserta un nodo en el árbol\n",
        "  void inserta(int val) {\n",
        "    if (raiz == nullptr) {\n",
        "      raiz = new Nodo(val);\n",
        "    } else {\n",
        "      insertaAuxiliar(raiz, val);\n",
        "    }\n",
        "  }\n",
        "\n",
        "  // Obtiene el valor mínimo en el árbol\n",
        "  std::string get_min() {\n",
        "    Nodo* actual = raiz;\n",
        "    while (actual->izq != nullptr) {\n",
        "      actual = actual->izq;\n",
        "    }\n",
        "    return std::to_string(actual->val);\n",
        "  }\n",
        "\n",
        "  // Busca un valor en el árbol\n",
        "  Nodo* busca(int val) {\n",
        "    return buscaAuxiliar(raiz, val);\n",
        "  }\n",
        "\n",
        "  // Elimina un nodo en el árbol\n",
        "  void elimina(int val) {\n",
        "    raiz = eliminaAuxiliar(raiz, val);\n",
        "  }\n",
        "\n",
        "  // Recorre el árbol en orden\n",
        "  void enorden() {\n",
        "    enordenAuxiliar(raiz);\n",
        "    std::cout << std::endl;\n",
        "  }\n",
        "\n",
        "  // Recorre el árbol en pre-orden\n",
        "  void preorden() {\n",
        "    preordenAuxiliar(raiz);\n",
        "    std::cout << std::endl;\n",
        "  }\n",
        "\n",
        "  // Recorre el árbol en post-orden\n",
        "  void postorden() {\n",
        "    postordenAuxiliar(raiz);\n",
        "    std::cout << std::endl;\n",
        "  }\n",
        "\n",
        "\n",
        "/* Métodos Privados  */\n",
        "private:\n",
        "  void insertaAuxiliar(Nodo* nodito, int val) {\n",
        "    if (val < nodito->val) {\n",
        "      if (nodito->izq == nullptr) {\n",
        "        nodito->izq = new Nodo(val);\n",
        "      } else {\n",
        "        insertaAuxiliar(nodito->izq, val);\n",
        "      }\n",
        "    } else {\n",
        "      if (nodito->der == nullptr) {\n",
        "        nodito->der = new Nodo(val);\n",
        "      } else {\n",
        "        insertaAuxiliar(nodito->der, val);\n",
        "      }\n",
        "    }\n",
        "  }\n",
        "\n",
        "\n",
        "\n",
        "  /* Métodos Auxiliares */\n",
        "\n",
        "  // Método auxiliar para buscar\n",
        "  Nodo* buscaAuxiliar(Nodo* nodito, int val) {\n",
        "    if (nodito == nullptr || nodito->val == val) {\n",
        "      return nodito;\n",
        "    }\n",
        "    if (nodito->val < val) {\n",
        "      return buscaAuxiliar(nodito->der, val);\n",
        "    } else {\n",
        "      return buscaAuxiliar(nodito->izq, val);\n",
        "    }\n",
        "  }\n",
        "\n",
        "  // Método auxiliar para eliminar\n",
        "  Nodo* eliminaAuxiliar(Nodo* nodito, int val) {\n",
        "    if (nodito == nullptr) {\n",
        "      return nodito;\n",
        "    }\n",
        "    if (val < nodito->val) {\n",
        "      nodito->izq = eliminaAuxiliar(nodito->izq, val);\n",
        "    } else if (val > nodito->val) {\n",
        "      nodito->der = eliminaAuxiliar(nodito->der, val);\n",
        "    } else {\n",
        "      if (nodito->izq == nullptr) {\n",
        "        Nodo* temp = nodito->der;\n",
        "        delete nodito;\n",
        "        return temp;\n",
        "      } else if (nodito->der == nullptr) {\n",
        "        Nodo* temp = nodito->izq;\n",
        "        delete nodito;\n",
        "        return temp;\n",
        "      }\n",
        "      nodito->val = minValue(nodito->der);\n",
        "      nodito->der = eliminaAuxiliar(nodito->der, nodito->val);\n",
        "    }\n",
        "    return nodito;\n",
        "  }\n",
        "\n",
        "  // Método auxiliar para obtener el mínimo\n",
        "  int minValue(Nodo* nodito) {\n",
        "    int min_val = nodito->val;\n",
        "    while (nodito->izq != nullptr) {\n",
        "      min_val = nodito->izq->val;\n",
        "      nodito = nodito->izq;\n",
        "    }\n",
        "    return min_val;\n",
        "  }\n",
        "\n",
        "  // Método auxiliar para recorrer en orden\n",
        "  void enordenAuxiliar(Nodo* nodito) {\n",
        "    if (nodito == nullptr) {\n",
        "      return;\n",
        "    }\n",
        "    enordenAuxiliar(nodito->izq);\n",
        "    std::cout << nodito->val << \" \";\n",
        "    enordenAuxiliar(nodito->der);\n",
        "  }\n",
        "\n",
        "  // Método auxiliar para recorrer en pre-orden\n",
        "  void preordenAuxiliar(Nodo* nodito) {\n",
        "    if (nodito == nullptr) {\n",
        "      return;\n",
        "    }\n",
        "    std::cout << nodito->val << \" \";\n",
        "    preordenAuxiliar(nodito->izq);\n",
        "    preordenAuxiliar(nodito->der);\n",
        "  }\n",
        "\n",
        "  // Método auxiliar para recorrer en post-orden\n",
        "  void postordenAuxiliar(Nodo* nodito){\n",
        "    if (nodito == nullptr) {\n",
        "      return;\n",
        "    }\n",
        "    postordenAuxiliar(nodito->izq);\n",
        "    postordenAuxiliar(nodito->der);\n",
        "    std::cout << nodito->val << \" \";\n",
        "  }\n",
        "};\n",
        "\n",
        "\n",
        "\n",
        "\n",
        "/* Casos de prueba */\n",
        "\n",
        "int main() {\n",
        "  BST arbolito;\n",
        "\n",
        "  arbolito.inserta(6);\n",
        "  arbolito.inserta(4);\n",
        "  arbolito.inserta(8);\n",
        "  arbolito.inserta(2);\n",
        "  arbolito.inserta(5);\n",
        "  arbolito.inserta(7);\n",
        "  arbolito.inserta(10);\n",
        "\n",
        "  std::cout << \"Valor mínimo: \" << arbolito.get_min() << std::endl;\n",
        "\n",
        "  Nodo* nodito = arbolito.busca(7);\n",
        "  if (nodito != nullptr) {\n",
        "      std::cout << \"Encontrar el nodo con valor: \" << nodito->val << std::endl;\n",
        "  } else {\n",
        "      std::cout << \"Nodo no encontrado.\" << std::endl;\n",
        "  }\n",
        "\n",
        "  arbolito.enorden();\n",
        "  arbolito.preorden();\n",
        "  arbolito.postorden();\n",
        "\n",
        "  arbolito.elimina(2);\n",
        "  arbolito.elimina(8);\n",
        "\n",
        "  arbolito.enorden();\n",
        "  arbolito.preorden();\n",
        "  arbolito.postorden();\n",
        "\n",
        "  return 0;\n",
        "}\n"
      ],
      "metadata": {
        "colab": {
          "base_uri": "https://localhost:8080/"
        },
        "id": "bc3RwYHKvST1",
        "outputId": "294a8f77-8067-401b-edee-4112fe883665"
      },
      "execution_count": 14,
      "outputs": [
        {
          "output_type": "stream",
          "name": "stdout",
          "text": [
            "Overwriting BST.cpp\n"
          ]
        }
      ]
    },
    {
      "cell_type": "code",
      "execution_count": 15,
      "metadata": {
        "id": "9MrA4Bw2Zj-N"
      },
      "outputs": [],
      "source": [
        "# Compila el programa BST.cpp\n",
        "! g++ BST.cpp -o BST"
      ]
    },
    {
      "cell_type": "code",
      "execution_count": 16,
      "metadata": {
        "id": "TaDzvSYjPbBs",
        "colab": {
          "base_uri": "https://localhost:8080/"
        },
        "outputId": "c65578f9-628a-49aa-c9a3-987ed3d556e8"
      },
      "outputs": [
        {
          "output_type": "stream",
          "name": "stdout",
          "text": [
            "Valor mínimo: 2\n",
            "Encontrar el nodo con valor: 7\n",
            "2 4 5 6 7 8 10 \n",
            "6 4 2 5 8 7 10 \n",
            "2 5 4 7 10 8 6 \n",
            "4 5 6 7 10 \n",
            "6 4 5 10 7 \n",
            "5 4 7 10 6 \n"
          ]
        }
      ],
      "source": [
        "# Ejecuta el programa: BST\n",
        "! ./BST"
      ]
    }
  ]
}