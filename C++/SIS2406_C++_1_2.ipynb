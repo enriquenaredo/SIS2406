{
  "nbformat": 4,
  "nbformat_minor": 0,
  "metadata": {
    "colab": {
      "provenance": []
    },
    "kernelspec": {
      "name": "python3",
      "display_name": "Python 3"
    },
    "language_info": {
      "name": "python"
    }
  },
  "cells": [
    {
      "cell_type": "markdown",
      "source": [
        "#SIS2406 - Estructura de Datos y Algoritmos\n",
        "## Primavera 2024\n",
        "\n",
        "<div>\n",
        "<img src=\"https://drive.google.com/uc?export=view&id=1tlDc5tgvFynoP1BsqutPzZcm9TCi61rI\" width=\"150\"/>\n",
        "</div>\n",
        "\n",
        "### SIS2406_C++_1.2\n",
        "\n",
        "**Enrique Naredo García**\n",
        "\n",
        "<font size = 2>\n",
        "©️ Todos los derechos reservados. All rights reserved.\n",
        "\n",
        "*Nota: El presente documento es una herramienta diseñada única y exclusivamente para los estudiantes de la asignatura arriba mencionada. Se recuerda no compartir esta información fuera de los integrantes registrados en este curso. La reproducción total o parcial de este documento requiere autorización por escrito del titular del copyright.*\n",
        "</font>"
      ],
      "metadata": {
        "id": "IPfmGvyN80Z5"
      }
    },
    {
      "cell_type": "markdown",
      "source": [
        "#1.2 Arreglos"
      ],
      "metadata": {
        "id": "6VzIdZaJ9E6y"
      }
    },
    {
      "cell_type": "markdown",
      "source": [
        "##Ejemplo de Listas\n",
        "\n",
        "Utilizando la librería estándar de C++:"
      ],
      "metadata": {
        "id": "-4gyH1rl9T9o"
      }
    },
    {
      "cell_type": "markdown",
      "metadata": {
        "id": "09kpZH-8NKcX"
      },
      "source": [
        "En esta práctica se introduce los tipos de datos utilizados en Python.\n",
        "\n",
        "Particularmente, en este Jupyter notebook se utiliza el proceso e instrucciones similares tal como si se estuviera utilizando un entorno de desarrollo integrado (Integrated Development Environment - IDE), como es el caso de Visual Studio Code.\n",
        "\n",
        "En cada sección se da una breve explicación y posteriormente se proporciona un ejemplo en código."
      ]
    },
    {
      "cell_type": "markdown",
      "metadata": {
        "id": "BnG5rqBgNKcX"
      },
      "source": [
        "**Notas:**\n",
        "\n",
        "* En Python el símbolo #, se utiliza para agregar un comentario (el cual no se ejecuta).\n",
        "* En C++ el símbolo //, se utiliza para agregar un comentario (el cual no se ejecuta).\n",
        "* Se recomienda realizar la práctica utilizando el lenguaje de programación correspondiente.\n",
        "* Se recomienda realizar modificaciones al código para verificar y comprender de manera correcta el funcionamiento del mismo."
      ]
    },
    {
      "cell_type": "markdown",
      "metadata": {
        "id": "OufEM5zbNKcY"
      },
      "source": [
        "## C++\n",
        "\n",
        "C++ es un lenguaje compilado que fue desarrollado en 1980 por Bjarne Stroustroup en los laboratorios At&T como una extensión orientada a objetos del lenguaje C.\n",
        "\n",
        "* C++ significaría incremento de C, aprovechando que el lenguaje C tiene el operador ++ con ese nombre.\n",
        "* Si existen errores en el código del programa, su ejecución se detiene.\n",
        "\n"
      ]
    },
    {
      "cell_type": "markdown",
      "metadata": {
        "id": "sT4O35A4NKcd"
      },
      "source": [
        "Un programa de C++ es un archivo de texto plano con la extensión .cpp, c++. En cambio los archivos .c son archivos de código c.\n",
        "\n",
        "Se puede crear un programa de C++ con cualquier editor de texto plano, pero se recomienda utilizar editores de programación que incluyen herramientas que facilitan la escritura de programas, como Visual Studio Code.\n",
        "\n",
        "* Su sintaxis es heredada del lenguaje C.\n",
        "* Programa orientado a objetos (POO).\n",
        "* Permite la agrupación de instrucciones.\n",
        "* Es portátil y tiene un gran número de compiladores en diferentes plataformas y sistemas operativos.\n",
        "* Permite la separación de un programa en módulos que admiten compilación independiente.\n",
        "* Es un lenguaje de alto nivel."
      ]
    },
    {
      "cell_type": "markdown",
      "metadata": {
        "id": "M4ZlYs2YNKce"
      },
      "source": [
        "C++ proporciona funciones integradas para crear, escribir y leer archivos.\n",
        "\n",
        "Hay dos tipos de archivos que se pueden manejar en C++, archivos de texto normales y archivos binarios (escritos en lenguaje binario, 0 y 1).\n",
        "\n",
        "* Archivos de texto: en este tipo de archivo, cada línea de texto termina con un carácter especial llamado EOL (Fin de línea), que es el carácter de nueva línea ('\\n') en Python de forma predeterminada.\n",
        "\n",
        "* Archivos binarios: en este tipo de archivos, no hay terminador para una línea y los datos se almacenan después de convertirlos a un lenguaje binario comprensible por máquina.\n"
      ]
    },
    {
      "cell_type": "markdown",
      "metadata": {
        "id": "gAu7Vq3fNKcl"
      },
      "source": [
        "###Funciones mágicas\n",
        "\n",
        "Tanto Jupyter como IPython tienen un conjunto de funciones predefinidas llamadas mágicas que representa una de las mejoras más importantes que aporta en relación al intérprete de Python por defecto (solo en el ámbito del IPython funcionan).\n",
        "\n",
        "Hay dos tipos de funciones mágicas:\n",
        "\n",
        "* Orientadas a líneas, llevan por delante un signo: %, trabajan en una sola línea.\n",
        "\n",
        "* Orientadas a celdas, llevan por delante dos signos: %%, trabajan en varias líneas.\n"
      ]
    },
    {
      "cell_type": "markdown",
      "metadata": {
        "id": "B62jY4cpNKcm"
      },
      "source": [
        "%%writefile le permite enviar código desarrollado en un Notebook a un módulo de Python.\n",
        "\n",
        "La biblioteca sys conecta un programa Python al sistema en el que se ejecuta."
      ]
    },
    {
      "cell_type": "markdown",
      "metadata": {
        "id": "4Fa1WXWtNKcn"
      },
      "source": [
        "###Proceso\n",
        "\n",
        "1. Escribir el código en texto en un archivo con extensión: ejemplo.py\n",
        "2. Guardar el archivo ejemplo.py en un folder\n",
        "3. Ejecutarlo con la instrucción python ejemplo.py\n",
        "\n",
        "**Notas:**\n",
        "\n",
        "* En Jupyter notebook se utilizan funciones mágicas como %%writefile\n",
        "* En Jupyter notebook para ejecutar instrucciones del sistema se agrega antes el simbolo: !. Por ejemplo: ! python ejemplo.py\n",
        "* En Google Colab si el archivo se guarda en el directorio: /content, entonces al momento de cerrar la sesión este archivo desaparecera.\n",
        "* Si se requiere mantener los archivos, entonces se recomienda montar primero el Google drive y crear un directorio para tal fin.\n",
        "\n",
        "\n",
        "\n"
      ]
    },
    {
      "cell_type": "markdown",
      "source": [
        "##Lista de enteros"
      ],
      "metadata": {
        "id": "WzA1q7dd-nGb"
      }
    },
    {
      "cell_type": "code",
      "source": [
        "# Escribe el programa vector.cpp\n",
        "%%writefile vector.cpp\n",
        "\n",
        "#include <iostream>\n",
        "#include <vector>\n",
        "\n",
        "int main(){\n",
        "\n",
        "  // Lista de enteros\n",
        "  std::vector<int> enteros = {1, 2, 3, 4, 5};\n",
        "  std::cout << \"Lista de enteros: \";\n",
        "  for (int i = 0; i < enteros.size(); i++) {\n",
        "      std::cout << enteros[i] << \" \";\n",
        "  }\n",
        "\n",
        "  return 0;\n",
        "}"
      ],
      "metadata": {
        "colab": {
          "base_uri": "https://localhost:8080/"
        },
        "id": "bSMWmwU69jQ6",
        "outputId": "428c32b2-070d-426f-b51d-71cde9e5b6a0"
      },
      "execution_count": 1,
      "outputs": [
        {
          "output_type": "stream",
          "name": "stdout",
          "text": [
            "Writing vector.cpp\n"
          ]
        }
      ]
    },
    {
      "cell_type": "code",
      "execution_count": 2,
      "metadata": {
        "id": "QGHtkTXK9UHU"
      },
      "outputs": [],
      "source": [
        "# Compila el programa vector.cpp\n",
        "! g++ vector.cpp -o vector"
      ]
    },
    {
      "cell_type": "code",
      "execution_count": 3,
      "metadata": {
        "colab": {
          "base_uri": "https://localhost:8080/"
        },
        "id": "t_Jp_UtN92Kt",
        "outputId": "b846d42f-1549-4ce5-aa78-c6eb601c56f7"
      },
      "outputs": [
        {
          "output_type": "stream",
          "name": "stdout",
          "text": [
            "Lista de enteros: 1 2 3 4 5 "
          ]
        }
      ],
      "source": [
        "# Ejecuta el programa: vector\n",
        "! ./vector"
      ]
    },
    {
      "cell_type": "markdown",
      "source": [
        "##Lista de floats"
      ],
      "metadata": {
        "id": "zqsYRekl-td0"
      }
    },
    {
      "cell_type": "code",
      "source": [
        "# Escribe el programa floats.cpp\n",
        "%%writefile floats.cpp\n",
        "\n",
        "#include <iostream>\n",
        "#include <vector>\n",
        "\n",
        "int main(){\n",
        "\n",
        "  // Lista de floats\n",
        "  std::vector<float> floats = {1.1, 2.2, 3.3, 4.4, 5.5};\n",
        "  std::cout << \"Lista de floats: \";\n",
        "  for (int i = 0; i < floats.size(); i++) {\n",
        "      std::cout << floats[i] << \", \";\n",
        "  }\n",
        "\n",
        "  return 0;\n",
        "}"
      ],
      "metadata": {
        "colab": {
          "base_uri": "https://localhost:8080/"
        },
        "outputId": "35984908-ca38-4dc2-b7b2-4dff08b80213",
        "id": "h2oCLLiq-xEl"
      },
      "execution_count": 7,
      "outputs": [
        {
          "output_type": "stream",
          "name": "stdout",
          "text": [
            "Overwriting floats.cpp\n"
          ]
        }
      ]
    },
    {
      "cell_type": "code",
      "execution_count": 8,
      "metadata": {
        "id": "QCDeO3Xc-xEm"
      },
      "outputs": [],
      "source": [
        "# Compila el programa floats.cpp\n",
        "! g++ floats.cpp -o floats"
      ]
    },
    {
      "cell_type": "code",
      "execution_count": 9,
      "metadata": {
        "colab": {
          "base_uri": "https://localhost:8080/"
        },
        "outputId": "2d2e812e-53f3-42ee-8364-2bacd5b7aecb",
        "id": "IS-1Rfi7-xEm"
      },
      "outputs": [
        {
          "output_type": "stream",
          "name": "stdout",
          "text": [
            "Lista de floats: 1.1, 2.2, 3.3, 4.4, 5.5, "
          ]
        }
      ],
      "source": [
        "# Ejecuta el programa: floats\n",
        "! ./floats"
      ]
    },
    {
      "cell_type": "markdown",
      "source": [
        "##Lista de strings"
      ],
      "metadata": {
        "id": "IV_KnYid_SWE"
      }
    },
    {
      "cell_type": "code",
      "source": [
        "# Escribe el programa strings.cpp\n",
        "%%writefile strings.cpp\n",
        "\n",
        "#include <iostream>\n",
        "#include <vector>\n",
        "\n",
        "int main(){\n",
        "\n",
        "  // Lista de strings\n",
        "  std::vector<std::string> strings = {\"Hola\", \"Universidad\", \"de\", \"Anahuac\"};\n",
        "  std::cout << \"Lista de strings: \";\n",
        "  for (int i = 0; i < strings.size(); i++) {\n",
        "      std::cout << strings[i] << \" \";\n",
        "  }\n",
        "\n",
        "  return 0;\n",
        "}"
      ],
      "metadata": {
        "colab": {
          "base_uri": "https://localhost:8080/"
        },
        "outputId": "e9e7a000-3ebf-4b7a-921f-acb9e0b43978",
        "id": "hx-u1fad_eVh"
      },
      "execution_count": 13,
      "outputs": [
        {
          "output_type": "stream",
          "name": "stdout",
          "text": [
            "Overwriting strings.cpp\n"
          ]
        }
      ]
    },
    {
      "cell_type": "code",
      "execution_count": 14,
      "metadata": {
        "id": "Q3RBUP7__eVi"
      },
      "outputs": [],
      "source": [
        "# Compila el programa strings.cpp\n",
        "! g++ strings.cpp -o strings"
      ]
    },
    {
      "cell_type": "code",
      "execution_count": 15,
      "metadata": {
        "colab": {
          "base_uri": "https://localhost:8080/"
        },
        "outputId": "0937be9d-e812-4610-8105-b7811347b53d",
        "id": "eBkPsF6i_eVj"
      },
      "outputs": [
        {
          "output_type": "stream",
          "name": "stdout",
          "text": [
            "Lista de strings: Hola Universidad de Anahuac "
          ]
        }
      ],
      "source": [
        "# Ejecuta el programa: strings\n",
        "! ./strings"
      ]
    },
    {
      "cell_type": "markdown",
      "source": [
        "##Lista de booleanos"
      ],
      "metadata": {
        "id": "ZuhSQ8BP_6T9"
      }
    },
    {
      "cell_type": "code",
      "source": [
        "# Escribe el programa booleanos.cpp\n",
        "%%writefile booleanos.cpp\n",
        "\n",
        "#include <iostream>\n",
        "#include <vector>\n",
        "\n",
        "int main(){\n",
        "\n",
        "  // Lista de booleanos\n",
        "  std::vector<bool> booleans = {true, false, true, false, true};\n",
        "  std::cout << \"Lista de booleanos: \";\n",
        "  for (int i = 0; i < booleans.size(); i++) {\n",
        "      std::cout << booleans[i] << \" \";\n",
        "  }\n",
        "\n",
        "  return 0;\n",
        "}"
      ],
      "metadata": {
        "colab": {
          "base_uri": "https://localhost:8080/"
        },
        "outputId": "536243c7-428a-493f-ce2a-ae181a8f999a",
        "id": "1F8HoSnA_-F2"
      },
      "execution_count": 16,
      "outputs": [
        {
          "output_type": "stream",
          "name": "stdout",
          "text": [
            "Writing booleanos.cpp\n"
          ]
        }
      ]
    },
    {
      "cell_type": "code",
      "execution_count": 17,
      "metadata": {
        "id": "_J1IgdC2_-F4"
      },
      "outputs": [],
      "source": [
        "# Compila el programa booleanos.cpp\n",
        "! g++ booleanos.cpp -o booleanos"
      ]
    },
    {
      "cell_type": "code",
      "execution_count": 18,
      "metadata": {
        "colab": {
          "base_uri": "https://localhost:8080/"
        },
        "outputId": "55b03003-e0e0-4bb5-e12b-ba35bc4a3af0",
        "id": "M6DtDl6j_-F5"
      },
      "outputs": [
        {
          "output_type": "stream",
          "name": "stdout",
          "text": [
            "Lista de booleanos: 1 0 1 0 1 "
          ]
        }
      ],
      "source": [
        "# Ejecuta el programa: booleanos\n",
        "! ./booleanos"
      ]
    },
    {
      "cell_type": "markdown",
      "source": [
        "##Lista de tuplas"
      ],
      "metadata": {
        "id": "q2F3RedJAQG-"
      }
    },
    {
      "cell_type": "code",
      "source": [
        "# Escribe el programa tuplas.cpp\n",
        "%%writefile tuplas.cpp\n",
        "\n",
        "#include <iostream>\n",
        "#include <vector>\n",
        "\n",
        "int main(){\n",
        "\n",
        "  // Lista de tuplas (pares de enteros)\n",
        "  std::vector<std::pair<int, int>> tuplas = {{1, 2}, {3, 4}, {5, 6}};\n",
        "  std::cout << \"Lista de tuplas: \";\n",
        "  for (int i = 0; i < tuplas.size(); i++) {\n",
        "      std::cout << \"(\" << tuplas[i].first << \", \" << tuplas[i].second << \") \";\n",
        "  }\n",
        "\n",
        "  return 0;\n",
        "}"
      ],
      "metadata": {
        "colab": {
          "base_uri": "https://localhost:8080/"
        },
        "id": "LueWomRKAXNA",
        "outputId": "5e80c19b-8265-4842-a040-c8261914676a"
      },
      "execution_count": 1,
      "outputs": [
        {
          "output_type": "stream",
          "name": "stdout",
          "text": [
            "Writing tuplas.cpp\n"
          ]
        }
      ]
    },
    {
      "cell_type": "code",
      "execution_count": 4,
      "metadata": {
        "id": "kKDvivY1AXNB"
      },
      "outputs": [],
      "source": [
        "# Compila el programa tuplas.cpp\n",
        "! g++ tuplas.cpp -o tuplas"
      ]
    },
    {
      "cell_type": "code",
      "execution_count": 5,
      "metadata": {
        "colab": {
          "base_uri": "https://localhost:8080/"
        },
        "id": "O0_G9xphAXNB",
        "outputId": "f5583b5b-6ca5-46a0-af90-06f168d415aa"
      },
      "outputs": [
        {
          "output_type": "stream",
          "name": "stdout",
          "text": [
            "Lista de tuplas: (1, 2) (3, 4) (5, 6) "
          ]
        }
      ],
      "source": [
        "# Ejecuta el programa: tuplas\n",
        "! ./tuplas"
      ]
    },
    {
      "cell_type": "markdown",
      "source": [
        "##Lista de arreglos"
      ],
      "metadata": {
        "id": "JRwhF5XrAm0I"
      }
    },
    {
      "cell_type": "code",
      "source": [
        "# Escribe el programa arreglos.cpp\n",
        "%%writefile arreglos.cpp\n",
        "\n",
        "#include <iostream>\n",
        "#include <vector>\n",
        "\n",
        "int main(){\n",
        "\n",
        "  // Lista de arreglos (listas anidadas)\n",
        "  std::vector<std::vector<int>> arrays = {{1, 2, 3}, {4, 5, 6}, {7, 8, 9}};\n",
        "  std::cout << \"Lista de arreglos: \" << std::endl;\n",
        "  for (int i = 0; i < arrays.size(); i++) {\n",
        "      std::cout << \"[\";\n",
        "      for (int j = 0; j < arrays[i].size(); j++) {\n",
        "          std::cout << arrays[i][j];\n",
        "          if (j < arrays[i].size() - 1) {\n",
        "              std::cout << \", \";\n",
        "          }\n",
        "      }\n",
        "      std::cout << \"]\" << std::endl;\n",
        "  }\n",
        "\n",
        "  return 0;\n",
        "}"
      ],
      "metadata": {
        "colab": {
          "base_uri": "https://localhost:8080/"
        },
        "id": "aYS4mKKdAuii",
        "outputId": "f0afc562-188e-4a5b-d0c5-9f505de83c95"
      },
      "execution_count": 6,
      "outputs": [
        {
          "output_type": "stream",
          "name": "stdout",
          "text": [
            "Writing arreglos.cpp\n"
          ]
        }
      ]
    },
    {
      "cell_type": "code",
      "execution_count": 7,
      "metadata": {
        "id": "YvVghDkyAujW"
      },
      "outputs": [],
      "source": [
        "# Compila el programa arreglos.cpp\n",
        "! g++ arreglos.cpp -o arreglos"
      ]
    },
    {
      "cell_type": "code",
      "execution_count": 8,
      "metadata": {
        "colab": {
          "base_uri": "https://localhost:8080/"
        },
        "id": "nFKd5OG4AujX",
        "outputId": "4c9cd2aa-be29-4246-fd5b-428f0126f9e8"
      },
      "outputs": [
        {
          "output_type": "stream",
          "name": "stdout",
          "text": [
            "Lista de arreglos: \n",
            "[1, 2, 3]\n",
            "[4, 5, 6]\n",
            "[7, 8, 9]\n"
          ]
        }
      ],
      "source": [
        "# Ejecuta el programa: arreglos\n",
        "! ./arreglos"
      ]
    },
    {
      "cell_type": "markdown",
      "source": [
        "##Lista de diccionarios"
      ],
      "metadata": {
        "id": "lNIzebJjBDLb"
      }
    },
    {
      "cell_type": "code",
      "source": [
        "# Escribe el programa anidadas.cpp\n",
        "%%writefile anidadas.cpp\n",
        "\n",
        "#include <iostream>\n",
        "#include <vector>\n",
        "\n",
        "int main(){\n",
        "\n",
        "  // Lista de arreglos (listas anidadas)\n",
        "  std::vector<std::vector<int>> arrays = {{1, 2, 3}, {4, 5, 6}, {7, 8, 9}};\n",
        "  std::cout << \"Listas anidadas: \" << std::endl;\n",
        "  for (int i = 0; i < arrays.size(); i++) {\n",
        "      std::cout << \"[\";\n",
        "      for (int j = 0; j < arrays[i].size(); j++) {\n",
        "          std::cout << arrays[i][j];\n",
        "          if (j < arrays[i].size() - 1) {\n",
        "              std::cout << \", \";\n",
        "          }\n",
        "      }\n",
        "      std::cout << \"]\" << std::endl;\n",
        "  }\n",
        "\n",
        "  return 0;\n",
        "}"
      ],
      "metadata": {
        "colab": {
          "base_uri": "https://localhost:8080/"
        },
        "outputId": "a7c074ac-3ae3-4caa-b8b5-eb32d1dd2639",
        "id": "e8jj_TKLBW7c"
      },
      "execution_count": 17,
      "outputs": [
        {
          "output_type": "stream",
          "name": "stdout",
          "text": [
            "Overwriting anidadas.cpp\n"
          ]
        }
      ]
    },
    {
      "cell_type": "code",
      "execution_count": 18,
      "metadata": {
        "id": "LawO2QBeBW7e"
      },
      "outputs": [],
      "source": [
        "# Compila el programa anidadas.cpp\n",
        "! g++ anidadas.cpp -o anidadas"
      ]
    },
    {
      "cell_type": "code",
      "execution_count": 19,
      "metadata": {
        "id": "TwiEqClGBW7e",
        "outputId": "b404bcb5-724b-4628-f117-6b2d9a6ac57c",
        "colab": {
          "base_uri": "https://localhost:8080/"
        }
      },
      "outputs": [
        {
          "output_type": "stream",
          "name": "stdout",
          "text": [
            "Listas anidadas: \n",
            "[1, 2, 3]\n",
            "[4, 5, 6]\n",
            "[7, 8, 9]\n"
          ]
        }
      ],
      "source": [
        "# Ejecuta el programa: anidadas\n",
        "! ./anidadas"
      ]
    },
    {
      "cell_type": "markdown",
      "source": [
        "##Arreglos"
      ],
      "metadata": {
        "id": "wt3G_6UYjBf3"
      }
    },
    {
      "cell_type": "code",
      "source": [
        "# Escribe el programa diccionarios.cpp\n",
        "%%writefile diccionarios.cpp\n",
        "\n",
        "#include <iostream>\n",
        "#include <vector>\n",
        "#include <map>\n",
        "\n",
        "int main(){\n",
        "\n",
        "  // Lista de diccionarios\n",
        "  std::vector<std::map<std::string, int>> diccionarios = {{{\"nombre\", 30}, {\"edad\", 30}}, {{\"nombre\", 25}, {\"edad\", 25}}};\n",
        "  std::cout << \"Lista de diccionarios: \" << std::endl;\n",
        "  for (int i = 0; i < diccionarios.size(); i++) {\n",
        "      for (auto it = diccionarios[i].begin(); it != diccionarios[i].end(); it++) {\n",
        "          std::cout << it->first << \": \" << it->second << std::endl;\n",
        "      }\n",
        "  }\n",
        "\n",
        "  return 0;\n",
        "}"
      ],
      "metadata": {
        "colab": {
          "base_uri": "https://localhost:8080/"
        },
        "outputId": "cbe2d207-1ed8-4510-bca1-421db31adef8",
        "id": "GdR4T3OlBI47"
      },
      "execution_count": 32,
      "outputs": [
        {
          "output_type": "stream",
          "name": "stdout",
          "text": [
            "Overwriting diccionarios.cpp\n"
          ]
        }
      ]
    },
    {
      "cell_type": "code",
      "execution_count": 33,
      "metadata": {
        "id": "UBi6zvLdBI49"
      },
      "outputs": [],
      "source": [
        "# Compila el programa diccionarios.cpp\n",
        "! g++ diccionarios.cpp -o diccionarios"
      ]
    },
    {
      "cell_type": "code",
      "execution_count": 34,
      "metadata": {
        "colab": {
          "base_uri": "https://localhost:8080/"
        },
        "outputId": "91d9d538-5dd0-485e-8a0b-f4e075429d47",
        "id": "BgY6phVEBI4-"
      },
      "outputs": [
        {
          "output_type": "stream",
          "name": "stdout",
          "text": [
            "Lista de diccionarios: \n",
            "edad: 30\n",
            "nombre: 30\n",
            "edad: 25\n",
            "nombre: 25\n"
          ]
        }
      ],
      "source": [
        "# Ejecuta el programa: diccionarios\n",
        "! ./diccionarios"
      ]
    },
    {
      "cell_type": "markdown",
      "source": [
        "##Tabla con métodos para Listas\n",
        "\n",
        "A continuación, se presenta una lista de algunos métodos comunes que se pueden usar en listas/matrices en C++:\n",
        "\n",
        "| Método/Operador  | Descripción |\n",
        "| :----------------| :---------  |\n",
        "| size()   | Devuelve el número de elementos en la lista/matriz. |\n",
        "| empty()  | Devuelve true si la lista/matriz está vacía, y false en caso contrario. |\n",
        "| push_back(g) | Agrega un elemento g al final de la lista. |\n",
        "| pop_back() |\tElimina el último elemento de la lista. |\n",
        "| front() |\tDevuelve una referencia al primer elemento de la lista. |\n",
        "| back()  |\tDevuelve una referencia al último elemento de la lista. |\n",
        "| begin()\t| Devuelve un iterador que apunta al primer elemento de la lista. |\n",
        "| end() |\tDevuelve un iterador que apunta al elemento después del último elemento de la lista. |\n",
        "| []  |\tSe utiliza para acceder a un elemento en una lista por su índice. |\n",
        "| at(n) |\tDevuelve una referencia al elemento en la posición n. Si n es mayor que el tamaño de la lista, se produce una excepción std::out_of_range. |\n",
        "| insert(p, g) |\tInserta un elemento g antes del iterador p. |\n",
        "| erase(p) |\tElimina el elemento apuntado por el iterador p. |\n",
        "| clear()\t |Elimina todos los elementos de la lista. |\n",
        "\n"
      ],
      "metadata": {
        "id": "AkufwF6EB37A"
      }
    },
    {
      "cell_type": "markdown",
      "source": [
        "Estos métodos se pueden usar con listas (std::list), vectores (std::vector) y otros contenedores de la biblioteca estándar de C++.\n",
        "\n",
        "Ten en cuenta que algunos de estos métodos pueden no estar disponibles o pueden tener una sintaxis ligeramente diferente para matrices estáticas (int matriz[10]), ya que las matrices en C++ no son objetos de primera clase como en otros lenguajes de programación."
      ],
      "metadata": {
        "id": "jT4fzrm9iuXv"
      }
    },
    {
      "cell_type": "markdown",
      "source": [
        "##Métodos integrados\n",
        "\n",
        "En C++, las listas son estructuras de datos versátiles que pueden utilizarse como vector o matriz. Aquí hay algunos métodos integrados que se pueden usar en listas:\n",
        "\n",
        "Utilizando la librería estándar de C++:"
      ],
      "metadata": {
        "id": "OYD1G33YiymZ"
      }
    },
    {
      "cell_type": "markdown",
      "source": [
        "##1. Agregar un elemento a la lista:"
      ],
      "metadata": {
        "id": "7ib_jHv2kzrR"
      }
    },
    {
      "cell_type": "code",
      "source": [
        "# Escribe el programa agregar_elemento.cpp\n",
        "%%writefile agregar_elemento.cpp\n",
        "\n",
        "#include <iostream>\n",
        "#include <vector>\n",
        "\n",
        "int main(){\n",
        "\n",
        "  // Crear una lista\n",
        "  std::vector<int> mi_lista = {1, 2, 3};\n",
        "  std::cout << \"Lista incial: \";\n",
        "  for (int i = 0; i < mi_lista.size(); i++) {\n",
        "      std::cout << mi_lista[i] << \" \";\n",
        "  }\n",
        "  std::cout << std::endl;\n",
        "\n",
        "  // Agregar un element al final de la lista\n",
        "  mi_lista.push_back(4);\n",
        "\n",
        "  std::cout << \"Lista final: \";\n",
        "  for (int i = 0; i < mi_lista.size(); i++) {\n",
        "      std::cout << mi_lista[i] << \" \";\n",
        "  }\n",
        "  std::cout << std::endl;\n",
        "\n",
        "\n",
        "  return 0;\n",
        "}"
      ],
      "metadata": {
        "colab": {
          "base_uri": "https://localhost:8080/"
        },
        "outputId": "d0166298-e255-4ed8-8619-5996a6d524a1",
        "id": "2SvG5Ievkiyh"
      },
      "execution_count": 44,
      "outputs": [
        {
          "output_type": "stream",
          "name": "stdout",
          "text": [
            "Overwriting agregar_elemento.cpp\n"
          ]
        }
      ]
    },
    {
      "cell_type": "code",
      "execution_count": 45,
      "metadata": {
        "id": "vWfiRefekiyi"
      },
      "outputs": [],
      "source": [
        "# Compila el programa agregar_elemento.cpp\n",
        "! g++ agregar_elemento.cpp -o agregar_elemento"
      ]
    },
    {
      "cell_type": "code",
      "execution_count": 46,
      "metadata": {
        "colab": {
          "base_uri": "https://localhost:8080/"
        },
        "outputId": "cc2c65b6-0c5e-4a15-e688-c3da87a2c1d5",
        "id": "Cokzariokiyj"
      },
      "outputs": [
        {
          "output_type": "stream",
          "name": "stdout",
          "text": [
            "Lista incial: 1 2 3 \n",
            "Lista final: 1 2 3 4 \n"
          ]
        }
      ],
      "source": [
        "# Ejecuta el programa: agregar_elemento\n",
        "! ./agregar_elemento"
      ]
    },
    {
      "cell_type": "markdown",
      "source": [
        "##2. Insertar un elemento en una posición específica"
      ],
      "metadata": {
        "id": "AoS_-5Iyn8vW"
      }
    },
    {
      "cell_type": "code",
      "source": [
        "# Escribe el programa insertar_elemento.cpp\n",
        "%%writefile insertar_elemento.cpp\n",
        "\n",
        "#include <iostream>\n",
        "#include <vector>\n",
        "\n",
        "int main(){\n",
        "\n",
        "  // Crear una lista\n",
        "  std::vector<int> mi_lista = {1, 2, 3};\n",
        "  std::cout << \"Lista incial: \";\n",
        "  for (int i = 0; i < mi_lista.size(); i++) {\n",
        "      std::cout << mi_lista[i] << \" \";\n",
        "  }\n",
        "  std::cout << std::endl;\n",
        "\n",
        "  // Insertar un elemento en la posición 1\n",
        "  mi_lista.insert(mi_lista.begin()+1, 10);\n",
        "  std::cout << \"Lista después de insertar 10 en la posición 1: \";\n",
        "  for (int i = 0; i < mi_lista.size(); i++) {\n",
        "      std::cout << mi_lista[i] << \" \";\n",
        "  }\n",
        "  std::cout << std::endl;\n",
        "\n",
        "\n",
        "  return 0;\n",
        "}"
      ],
      "metadata": {
        "colab": {
          "base_uri": "https://localhost:8080/"
        },
        "outputId": "68cbebf8-3eff-47d2-907d-06e534427b8a",
        "id": "lKiAIzOUoBTj"
      },
      "execution_count": 50,
      "outputs": [
        {
          "output_type": "stream",
          "name": "stdout",
          "text": [
            "Overwriting insertar_elemento.cpp\n"
          ]
        }
      ]
    },
    {
      "cell_type": "code",
      "execution_count": 51,
      "metadata": {
        "id": "UAjMXawvoBTl"
      },
      "outputs": [],
      "source": [
        "# Compila el programa insertar_elemento.cpp\n",
        "! g++ insertar_elemento.cpp -o insertar_elemento"
      ]
    },
    {
      "cell_type": "code",
      "execution_count": 52,
      "metadata": {
        "colab": {
          "base_uri": "https://localhost:8080/"
        },
        "outputId": "fdd91481-a547-46cb-a62b-2a11180402c3",
        "id": "nVOO_So8oBTl"
      },
      "outputs": [
        {
          "output_type": "stream",
          "name": "stdout",
          "text": [
            "Lista incial: 1 2 3 \n",
            "Lista después de insertar 10 en la posición 1: 1 10 2 3 \n"
          ]
        }
      ],
      "source": [
        "# Ejecuta el programa: insertar_elemento\n",
        "! ./insertar_elemento"
      ]
    },
    {
      "cell_type": "markdown",
      "source": [
        "##3. Eliminar un elemento por su valor"
      ],
      "metadata": {
        "id": "K9TSq2FFoiH7"
      }
    },
    {
      "cell_type": "code",
      "source": [
        "# Escribe el programa eliminar_elemento.cpp\n",
        "%%writefile eliminar_elemento.cpp\n",
        "\n",
        "#include <iostream>\n",
        "#include <vector>\n",
        "#include <algorithm>\n",
        "\n",
        "int main(){\n",
        "\n",
        "  // Crear una lista\n",
        "  std::vector<int> mi_lista = {1, 2, 3, 10, 4, 10, 5};\n",
        "  std::cout << \"Lista incial: \";\n",
        "  for (int i = 0; i < mi_lista.size(); i++) {\n",
        "      std::cout << mi_lista[i] << \" \";\n",
        "  }\n",
        "  std::cout << std::endl;\n",
        "\n",
        "  // Eliminar el primer elemento que tenga el valor 10\n",
        "  mi_lista.erase(std::remove(mi_lista.begin(), mi_lista.end(), 10), mi_lista.end());\n",
        "  std::cout << \"Lista después de eliminar el primer 10: \";\n",
        "  for (int i = 0; i < mi_lista.size(); i++) {\n",
        "      std::cout << mi_lista[i] << \" \";\n",
        "  }\n",
        "  std::cout << std::endl;\n",
        "\n",
        "  return 0;\n",
        "}"
      ],
      "metadata": {
        "colab": {
          "base_uri": "https://localhost:8080/"
        },
        "id": "SFZZQz7nvvXR",
        "outputId": "731f66ec-240a-4207-b81e-342467c4a2e7"
      },
      "execution_count": 67,
      "outputs": [
        {
          "output_type": "stream",
          "name": "stdout",
          "text": [
            "Overwriting eliminar_elemento.cpp\n"
          ]
        }
      ]
    },
    {
      "cell_type": "code",
      "execution_count": 68,
      "metadata": {
        "id": "aAGj9zOmoud9"
      },
      "outputs": [],
      "source": [
        "! g++ eliminar_elemento.cpp -o eliminar_elemento"
      ]
    },
    {
      "cell_type": "code",
      "source": [
        "# Ejecuta el programa: eliminar_elemento\n",
        "! ./eliminar_elemento"
      ],
      "metadata": {
        "colab": {
          "base_uri": "https://localhost:8080/"
        },
        "id": "4VVHAzA7urxG",
        "outputId": "a4c7cdb0-7f79-4f31-b776-c6c4ef386afe"
      },
      "execution_count": 69,
      "outputs": [
        {
          "output_type": "stream",
          "name": "stdout",
          "text": [
            "Lista incial: 1 2 3 10 4 10 5 \n",
            "Lista después de eliminar el primer 10:1 2 3 4 5 \n"
          ]
        }
      ]
    },
    {
      "cell_type": "markdown",
      "source": [
        "##4. Eliminar el último elemento de la lista"
      ],
      "metadata": {
        "id": "zaQcatAJolbq"
      }
    },
    {
      "cell_type": "code",
      "source": [
        "# Escribe el programa eliminar_ultimo.cpp\n",
        "%%writefile eliminar_ultimo.cpp\n",
        "\n",
        "#include <iostream>\n",
        "#include <vector>\n",
        "\n",
        "\n",
        "int main(){\n",
        "\n",
        "  // Crear una lista\n",
        "  std::vector<int> mi_lista = {1, 2, 3, 4, 5, 10};\n",
        "  std::cout << \"Lista incial: \";\n",
        "  for (int i = 0; i < mi_lista.size(); i++) {\n",
        "      std::cout << mi_lista[i] << \" \";\n",
        "  }\n",
        "  std::cout << std::endl;\n",
        "\n",
        "  // Eliminar el último elemento de la lista\n",
        "  mi_lista.pop_back();\n",
        "  std::cout << \"Lista después de eliminar el último elemento: \";\n",
        "  for (int i = 0; i < mi_lista.size(); i++) {\n",
        "      std::cout << mi_lista[i] << \" \";\n",
        "  }\n",
        "  std::cout << std::endl;\n",
        "\n",
        "\n",
        "  return 0;\n",
        "}"
      ],
      "metadata": {
        "outputId": "0c8ef288-c70d-4b6b-88ba-cc9630663f07",
        "colab": {
          "base_uri": "https://localhost:8080/"
        },
        "id": "_jpfX8CawNKO"
      },
      "execution_count": 73,
      "outputs": [
        {
          "output_type": "stream",
          "name": "stdout",
          "text": [
            "Overwriting eliminar_ultimo.cpp\n"
          ]
        }
      ]
    },
    {
      "cell_type": "code",
      "execution_count": 74,
      "metadata": {
        "id": "bLIu_TchwNKQ"
      },
      "outputs": [],
      "source": [
        "! g++ eliminar_ultimo.cpp -o eliminar_ultimo"
      ]
    },
    {
      "cell_type": "code",
      "source": [
        "# Ejecuta el programa: eliminar_ultimo\n",
        "! ./eliminar_ultimo"
      ],
      "metadata": {
        "outputId": "5f66b6bc-457b-443c-8398-4899a395cdb9",
        "colab": {
          "base_uri": "https://localhost:8080/"
        },
        "id": "j6y1GNGtwNKQ"
      },
      "execution_count": 72,
      "outputs": [
        {
          "output_type": "stream",
          "name": "stdout",
          "text": [
            "Lista incial: 1 2 3 4 5 10 \n",
            "Lista después de eliminar el último elemento:1 2 3 4 5 \n"
          ]
        }
      ]
    },
    {
      "cell_type": "markdown",
      "source": [
        "##5. Ordenar los elementos de la lista:"
      ],
      "metadata": {
        "id": "uT3ajAYIwxPV"
      }
    },
    {
      "cell_type": "code",
      "source": [
        "# Escribe el programa ordenar_lista.cpp\n",
        "%%writefile ordenar_lista.cpp\n",
        "\n",
        "#include <iostream>\n",
        "#include <vector>\n",
        "#include <algorithm>\n",
        "#include <compare>\n",
        "\n",
        "int main(){\n",
        "\n",
        "  // Crear una lista\n",
        "  std::vector<int> mi_lista = {1, 2, 3, 4, 5, 10};\n",
        "  std::cout << \"Lista incial: \";\n",
        "  for (int i = 0; i < mi_lista.size(); i++) {\n",
        "      std::cout << mi_lista[i] << \" \";\n",
        "  }\n",
        "  std::cout << std::endl;\n",
        "\n",
        "  // Ordenar los elementos de la lista\n",
        "  std::sort(mi_lista.begin(), mi_lista.end());\n",
        "  std::cout << \"Lista después de ordenar: \";\n",
        "  for (int i = 0; i < mi_lista.size(); i++) {\n",
        "      std::cout << mi_lista[i] << \" \";\n",
        "  }\n",
        "  std::cout << std::endl;\n",
        "\n",
        "\n",
        "  return 0;\n",
        "}"
      ],
      "metadata": {
        "outputId": "4bd68523-f449-44ec-d008-765a19817c48",
        "colab": {
          "base_uri": "https://localhost:8080/"
        },
        "id": "Vj-zNRafw1It"
      },
      "execution_count": 89,
      "outputs": [
        {
          "output_type": "stream",
          "name": "stdout",
          "text": [
            "Overwriting ordenar_lista.cpp\n"
          ]
        }
      ]
    },
    {
      "cell_type": "code",
      "execution_count": 90,
      "metadata": {
        "id": "eYBMaB-Iw1Iu"
      },
      "outputs": [],
      "source": [
        "! g++ ordenar_lista.cpp -o ordenar_lista"
      ]
    },
    {
      "cell_type": "code",
      "source": [
        "# Ejecuta el programa: ordenar_lista\n",
        "! ./ordenar_lista"
      ],
      "metadata": {
        "outputId": "a67e2b4b-9551-4b5e-9f59-b235f8c9a1d1",
        "colab": {
          "base_uri": "https://localhost:8080/"
        },
        "id": "4CAZ5n-Vw1Iu"
      },
      "execution_count": 91,
      "outputs": [
        {
          "output_type": "stream",
          "name": "stdout",
          "text": [
            "Lista incial: 1 2 3 4 5 10 \n",
            "Lista después de ordenar:1 2 3 4 5 10 \n"
          ]
        }
      ]
    },
    {
      "cell_type": "markdown",
      "source": [
        "##6. Invertir el orden de los elementos de la lista:"
      ],
      "metadata": {
        "id": "yLvlpow4yTrd"
      }
    },
    {
      "cell_type": "code",
      "source": [
        "# Escribe el programa invertirOrden.cpp\n",
        "%%writefile invertirOrden.cpp\n",
        "\n",
        "#include <iostream>\n",
        "#include <vector>\n",
        "#include <algorithm>\n",
        "#include <compare>\n",
        "\n",
        "int main(){\n",
        "\n",
        "  // Crear una lista\n",
        "  std::vector<int> mi_lista = {1, 2, 3, 4, 5, 10};\n",
        "  std::cout << \"Lista incial: \";\n",
        "  for (int i = 0; i < mi_lista.size(); i++) {\n",
        "      std::cout << mi_lista[i] << \" \";\n",
        "  }\n",
        "  std::cout << std::endl;\n",
        "\n",
        "  // Invertir el orden de los elementos de la lista\n",
        "  std::reverse(mi_lista.begin(), mi_lista.end());\n",
        "  std::cout << \"Lista después de invertir: \";\n",
        "  for (int i = 0; i < mi_lista.size(); i++) {\n",
        "      std::cout << mi_lista[i] << \" \";\n",
        "  }\n",
        "  std::cout << std::endl;\n",
        "\n",
        "\n",
        "  return 0;\n",
        "}"
      ],
      "metadata": {
        "outputId": "73e5815c-c38f-46ff-c89c-520530896c80",
        "colab": {
          "base_uri": "https://localhost:8080/"
        },
        "id": "-Ne8xrnRyaXz"
      },
      "execution_count": 92,
      "outputs": [
        {
          "output_type": "stream",
          "name": "stdout",
          "text": [
            "Writing invertirOrden.cpp\n"
          ]
        }
      ]
    },
    {
      "cell_type": "code",
      "execution_count": 93,
      "metadata": {
        "id": "jCg_H8v7yaX1"
      },
      "outputs": [],
      "source": [
        "! g++ invertirOrden.cpp -o invertirOrden"
      ]
    },
    {
      "cell_type": "code",
      "source": [
        "# Ejecuta el programa: invertirOrden\n",
        "! ./invertirOrden"
      ],
      "metadata": {
        "outputId": "01034286-2b2c-4078-abfa-4747bf63d862",
        "colab": {
          "base_uri": "https://localhost:8080/"
        },
        "id": "cA-ISxBTyaX1"
      },
      "execution_count": 94,
      "outputs": [
        {
          "output_type": "stream",
          "name": "stdout",
          "text": [
            "Lista incial: 1 2 3 4 5 10 \n",
            "Lista después de invertir:10 5 4 3 2 1 \n"
          ]
        }
      ]
    },
    {
      "cell_type": "markdown",
      "source": [
        "##7. Contar el número de ocurrencias de un valor en la lista:"
      ],
      "metadata": {
        "id": "iwUy9Jz3y7He"
      }
    },
    {
      "cell_type": "code",
      "source": [
        "# Escribe el programa contar.cpp\n",
        "%%writefile contar.cpp\n",
        "\n",
        "#include <iostream>\n",
        "#include <vector>\n",
        "#include <algorithm>\n",
        "\n",
        "\n",
        "int main(){\n",
        "\n",
        "  // Crear una lista\n",
        "  std::vector<int> mi_lista = {1, 2, 3, 2, 4, 5, 2};\n",
        "  std::cout << \"Lista incial: \";\n",
        "  for (int i = 0; i < mi_lista.size(); i++) {\n",
        "      std::cout << mi_lista[i] << \" \";\n",
        "  }\n",
        "  std::cout << std::endl;\n",
        "\n",
        "  // Contar el número de ocurrencias del valor 2 en la lista\n",
        "  int cont = std::count(mi_lista.begin(), mi_lista.end(), 2);\n",
        "  std::cout << \"Número de ocurrencias de 2 en la lista: \" << cont << std::endl;\n",
        "\n",
        "\n",
        "  return 0;\n",
        "}"
      ],
      "metadata": {
        "outputId": "2121c9b4-5649-4e84-8975-e4782ac522ea",
        "colab": {
          "base_uri": "https://localhost:8080/"
        },
        "id": "voJEcG-Xy_W2"
      },
      "execution_count": 98,
      "outputs": [
        {
          "output_type": "stream",
          "name": "stdout",
          "text": [
            "Overwriting contar.cpp\n"
          ]
        }
      ]
    },
    {
      "cell_type": "code",
      "execution_count": 99,
      "metadata": {
        "id": "WVd3dceQy_W4"
      },
      "outputs": [],
      "source": [
        "! g++ contar.cpp -o contar"
      ]
    },
    {
      "cell_type": "code",
      "source": [
        "# Ejecuta el programa: contar\n",
        "! ./contar"
      ],
      "metadata": {
        "outputId": "32337f8f-4b78-44c8-e3e7-d7c7e67eb531",
        "colab": {
          "base_uri": "https://localhost:8080/"
        },
        "id": "nV9u-fvRy_W5"
      },
      "execution_count": 100,
      "outputs": [
        {
          "output_type": "stream",
          "name": "stdout",
          "text": [
            "Lista incial: 1 2 3 2 4 5 2 \n",
            "Número de ocurrencias de 2 en la lista: 3\n"
          ]
        }
      ]
    },
    {
      "cell_type": "markdown",
      "source": [
        "##Módulo vector\n",
        "\n",
        "En C++, se puede utilizar el módulo vector para trabajar con arreglos.\n",
        "\n",
        "Toma en cuenta que en C++ se utiliza el contenedor std::vector para crear matrices dinámicas, la cual es parte de la biblioteca de plantillas estándar (STL) en C++, que proporciona varias clases de contenedores y algoritmos para manipularlos.\n",
        "\n",
        "Por ejemplo, se utiliza la plantilla std::vector<int> para crear un vector de números enteros y el método push_back se utiliza para agregar un elemento al final del vector.\n",
        "\n",
        "Aquí hay algunos métodos integrados que se pueden usar en arreglos:"
      ],
      "metadata": {
        "id": "8cT3c6BLzno9"
      }
    },
    {
      "cell_type": "markdown",
      "source": [
        "## Crear un array:"
      ],
      "metadata": {
        "id": "LZOwyTWC0EV7"
      }
    },
    {
      "cell_type": "code",
      "source": [
        "# Escribe el programa crearArray.cpp\n",
        "%%writefile crearArray.cpp\n",
        "\n",
        "#include <iostream>\n",
        "#include <vector>\n",
        "\n",
        "\n",
        "int main(){\n",
        "\n",
        "  // Crear un vector de enteros\n",
        "  std::vector<int> mi_vector = {1, 2, 3, 4, 5};\n",
        "\n",
        "  // Imprimir el vector\n",
        "  for (int i = 0; i < mi_vector.size(); i++) {\n",
        "      std::cout << mi_vector[i] << \" \";\n",
        "  }\n",
        "  std::cout << std::endl;\n",
        "\n",
        "\n",
        "  return 0;\n",
        "}"
      ],
      "metadata": {
        "outputId": "41050f4b-c3fc-4300-e86a-f6b41b41ad40",
        "colab": {
          "base_uri": "https://localhost:8080/"
        },
        "id": "0n_i1mqlzvvi"
      },
      "execution_count": 101,
      "outputs": [
        {
          "output_type": "stream",
          "name": "stdout",
          "text": [
            "Writing crearArray.cpp\n"
          ]
        }
      ]
    },
    {
      "cell_type": "code",
      "execution_count": 102,
      "metadata": {
        "id": "ChOB2xopzvvk"
      },
      "outputs": [],
      "source": [
        "! g++ crearArray.cpp -o crearArray"
      ]
    },
    {
      "cell_type": "code",
      "source": [
        "# Ejecuta el programa: crearArray\n",
        "! ./crearArray"
      ],
      "metadata": {
        "outputId": "ecc6539c-010c-41b9-d258-5ba4552b84c4",
        "colab": {
          "base_uri": "https://localhost:8080/"
        },
        "id": "Qb-W-fv7zvvl"
      },
      "execution_count": 103,
      "outputs": [
        {
          "output_type": "stream",
          "name": "stdout",
          "text": [
            "1 2 3 4 5 \n"
          ]
        }
      ]
    },
    {
      "cell_type": "markdown",
      "source": [
        "##Obtener el tipo de datos del array:"
      ],
      "metadata": {
        "id": "mpFnjcZ30jaW"
      }
    },
    {
      "cell_type": "code",
      "source": [
        "# Escribe el programa tipoArray.cpp\n",
        "%%writefile tipoArray.cpp\n",
        "\n",
        "#include <iostream>\n",
        "#include <vector>\n",
        "\n",
        "\n",
        "int main(){\n",
        "\n",
        "  // Crear un vector de enteros\n",
        "  std::vector<int> mi_vector = {1, 2, 3, 4, 5};\n",
        "\n",
        "  // Imprimir el tipo de datos del vector\n",
        "  std::cout << \"Tipo de datos: int\" << std::endl;\n",
        "\n",
        "  return 0;\n",
        "}"
      ],
      "metadata": {
        "outputId": "1949e3bc-5493-44f1-ac16-54b364e4ceb7",
        "colab": {
          "base_uri": "https://localhost:8080/"
        },
        "id": "qWW72luN0njA"
      },
      "execution_count": 104,
      "outputs": [
        {
          "output_type": "stream",
          "name": "stdout",
          "text": [
            "Writing tipoArray.cpp\n"
          ]
        }
      ]
    },
    {
      "cell_type": "code",
      "execution_count": 105,
      "metadata": {
        "id": "WGCiXtBY0njC"
      },
      "outputs": [],
      "source": [
        "! g++ tipoArray.cpp -o tipoArray"
      ]
    },
    {
      "cell_type": "code",
      "source": [
        "# Ejecuta el programa: tipoArray\n",
        "! ./tipoArray"
      ],
      "metadata": {
        "outputId": "bb765901-2ce7-4e64-f1ea-5704abf10114",
        "colab": {
          "base_uri": "https://localhost:8080/"
        },
        "id": "kJEwfpZr0njD"
      },
      "execution_count": 106,
      "outputs": [
        {
          "output_type": "stream",
          "name": "stdout",
          "text": [
            "Tipo de datos: int\n"
          ]
        }
      ]
    },
    {
      "cell_type": "markdown",
      "source": [
        "##Obtener el tamaño del elemento en bytes:"
      ],
      "metadata": {
        "id": "IRov1RHk1DHF"
      }
    },
    {
      "cell_type": "code",
      "source": [
        "# Escribe el programa bytesArray.cpp\n",
        "%%writefile bytesArray.cpp\n",
        "\n",
        "#include <iostream>\n",
        "#include <vector>\n",
        "\n",
        "\n",
        "int main(){\n",
        "\n",
        "  // Crear un vector de enteros\n",
        "  std::vector<int> mi_vector = {1, 2, 3, 4, 5};\n",
        "\n",
        "  // Imprimir el tamaño del elemento en bytes\n",
        "  std::cout << \"Tamaño del elemento: 4 bytes\" << std::endl;\n",
        "\n",
        "  return 0;\n",
        "}"
      ],
      "metadata": {
        "outputId": "d24fd17e-46a8-4b7f-c95a-42cdc9ac7dd1",
        "colab": {
          "base_uri": "https://localhost:8080/"
        },
        "id": "xXWDiY2i1GlZ"
      },
      "execution_count": 107,
      "outputs": [
        {
          "output_type": "stream",
          "name": "stdout",
          "text": [
            "Writing bytesArray.cpp\n"
          ]
        }
      ]
    },
    {
      "cell_type": "code",
      "execution_count": 108,
      "metadata": {
        "id": "_XqMBKHc1Glb"
      },
      "outputs": [],
      "source": [
        "! g++ bytesArray.cpp -o bytesArray"
      ]
    },
    {
      "cell_type": "code",
      "source": [
        "# Ejecuta el programa: bytesArray\n",
        "! ./bytesArray"
      ],
      "metadata": {
        "outputId": "e300b921-d9dc-43d6-a341-7e68fa891fa2",
        "colab": {
          "base_uri": "https://localhost:8080/"
        },
        "id": "rgSYqoNZ1Glb"
      },
      "execution_count": 109,
      "outputs": [
        {
          "output_type": "stream",
          "name": "stdout",
          "text": [
            "Tamaño del elemento: 4 bytes\n"
          ]
        }
      ]
    },
    {
      "cell_type": "markdown",
      "source": [
        "##Obtener el número de elementos en el array:"
      ],
      "metadata": {
        "id": "e0HQnkmy1i8q"
      }
    },
    {
      "cell_type": "code",
      "source": [
        "# Escribe el programa elementosArray.cpp\n",
        "%%writefile elementosArray.cpp\n",
        "\n",
        "#include <iostream>\n",
        "#include <vector>\n",
        "\n",
        "\n",
        "int main(){\n",
        "\n",
        "  // Crear un vector de enteros\n",
        "  std::vector<int> mi_vector = {1, 2, 3, 4, 5};\n",
        "\n",
        "  // Imprimir el número de elementos en el vector\n",
        "  std::cout << \"Número de elementos: \" << mi_vector.size() << std::endl;\n",
        "\n",
        "  return 0;\n",
        "}\n",
        "\n",
        " AA << 1 << 2 << 3 << endr << 4 << 5 << 6 << endr << 7 << 8 << 9;"
      ],
      "metadata": {
        "outputId": "19fc40dd-3db1-4784-bd89-d3478f6e1dcd",
        "colab": {
          "base_uri": "https://localhost:8080/"
        },
        "id": "sPV0ZhLN1vDg"
      },
      "execution_count": 110,
      "outputs": [
        {
          "output_type": "stream",
          "name": "stdout",
          "text": [
            "Writing elementosArray.cpp\n"
          ]
        }
      ]
    },
    {
      "cell_type": "code",
      "execution_count": 111,
      "metadata": {
        "id": "KRbJ-YiH1vDi"
      },
      "outputs": [],
      "source": [
        "! g++ elementosArray.cpp -o elementosArray"
      ]
    },
    {
      "cell_type": "code",
      "source": [
        "# Ejecuta el programa: elementosArray\n",
        "! ./elementosArray"
      ],
      "metadata": {
        "outputId": "c8c48a7f-d61f-47cf-89c4-3b2e40a17324",
        "colab": {
          "base_uri": "https://localhost:8080/"
        },
        "id": "Gys2qrzp1vDj"
      },
      "execution_count": 112,
      "outputs": [
        {
          "output_type": "stream",
          "name": "stdout",
          "text": [
            "Número de elementos: 5\n"
          ]
        }
      ]
    },
    {
      "cell_type": "markdown",
      "source": [
        "##Agregar un elemento al final del array:"
      ],
      "metadata": {
        "id": "R4s-E7UR2Bb2"
      }
    },
    {
      "cell_type": "code",
      "source": [
        "# Escribe el programa agregarFinal.cpp\n",
        "%%writefile agregarFinal.cpp\n",
        "\n",
        "#include <iostream>\n",
        "#include <vector>\n",
        "\n",
        "\n",
        "int main(){\n",
        "\n",
        "  // Crear un vector de enteros\n",
        "  std::vector<int> mi_vector = {1, 2, 3, 4, 5};\n",
        "\n",
        "  // Agregar un elemento al final del vector\n",
        "  mi_vector.push_back(6);\n",
        "\n",
        "  // Imprimir el vector\n",
        "  for (int i = 0; i < mi_vector.size(); i++) {\n",
        "      std::cout << mi_vector[i] << \" \";\n",
        "  }\n",
        "  std::cout << std::endl;\n",
        "\n",
        "  return 0;\n",
        "}"
      ],
      "metadata": {
        "outputId": "6dfce14e-3881-4cec-b9ab-74b5649547f3",
        "colab": {
          "base_uri": "https://localhost:8080/"
        },
        "id": "KRwQwLPq2X_z"
      },
      "execution_count": 113,
      "outputs": [
        {
          "output_type": "stream",
          "name": "stdout",
          "text": [
            "Writing agregarFinal.cpp\n"
          ]
        }
      ]
    },
    {
      "cell_type": "code",
      "execution_count": 114,
      "metadata": {
        "id": "tjm-GdE_2X_1"
      },
      "outputs": [],
      "source": [
        "! g++ agregarFinal.cpp -o agregarFinal"
      ]
    },
    {
      "cell_type": "code",
      "source": [
        "# Ejecuta el programa: agregarFinal\n",
        "! ./agregarFinal"
      ],
      "metadata": {
        "outputId": "937d96fa-2312-4817-a44b-95b22b9cd98d",
        "colab": {
          "base_uri": "https://localhost:8080/"
        },
        "id": "4evb8Hw82X_2"
      },
      "execution_count": 115,
      "outputs": [
        {
          "output_type": "stream",
          "name": "stdout",
          "text": [
            "1 2 3 4 5 6 \n"
          ]
        }
      ]
    },
    {
      "cell_type": "markdown",
      "source": [
        "##Matrices\n",
        "\n",
        "Ejemplos usando la biblioteca Armadillo:"
      ],
      "metadata": {
        "id": "zZTOSYK72zYg"
      }
    },
    {
      "cell_type": "markdown",
      "source": [
        "##1. Crear una matriz:"
      ],
      "metadata": {
        "id": "YL-6C4nv24DL"
      }
    },
    {
      "cell_type": "code",
      "source": [
        "# Escribe el programa matriz.cpp\n",
        "%%writefile matriz.cpp\n",
        "\n",
        "#include <iostream>\n",
        "#include <armadillo>\n",
        "\n",
        "int main(int argc, char** argv)\n",
        "{\n",
        "  // Crear una matriz\n",
        "  arma::mat mi_matriz;\n",
        "  mi_matriz << 1 << 2 << 3 << 10 << 11 << 12 << arma::endr\n",
        "            << 4 << 5 << 6 << 13 << 14 << 15 << arma::endr\n",
        "            << 7 << 8 << 9 << 16 << 17 << 18;\n",
        "\n",
        "  std::cout << mi_matriz << std::endl;\n",
        "\n",
        "  return 0;\n",
        "}\n"
      ],
      "metadata": {
        "outputId": "2bc5f71d-d284-4b1d-de9d-0960401eeae4",
        "colab": {
          "base_uri": "https://localhost:8080/"
        },
        "id": "ib5sR0bR2_aM"
      },
      "execution_count": 152,
      "outputs": [
        {
          "output_type": "stream",
          "name": "stdout",
          "text": [
            "Overwriting matriz.cpp\n"
          ]
        }
      ]
    },
    {
      "cell_type": "code",
      "execution_count": 153,
      "metadata": {
        "id": "tr1RWFwq2_aO"
      },
      "outputs": [],
      "source": [
        "! g++ matriz.cpp -o matriz"
      ]
    },
    {
      "cell_type": "code",
      "source": [
        "# Ejecuta el programa: matriz\n",
        "! ./matriz"
      ],
      "metadata": {
        "outputId": "a1fb277f-cd80-4369-ea0a-fc3a6e374a67",
        "colab": {
          "base_uri": "https://localhost:8080/"
        },
        "id": "etftIR032_aP"
      },
      "execution_count": 154,
      "outputs": [
        {
          "output_type": "stream",
          "name": "stdout",
          "text": [
            "    1.0000    2.0000    3.0000   10.0000   11.0000   12.0000\n",
            "    4.0000    5.0000    6.0000   13.0000   14.0000   15.0000\n",
            "    7.0000    8.0000    9.0000   16.0000   17.0000   18.0000\n",
            "\n"
          ]
        }
      ]
    },
    {
      "cell_type": "markdown",
      "source": [
        "##2. Acceder a un elemento por su índice:"
      ],
      "metadata": {
        "id": "_6bV7Zxr4QCS"
      }
    },
    {
      "cell_type": "code",
      "source": [
        "# Escribe el programa elementoMatriz.cpp\n",
        "%%writefile elementoMatriz.cpp\n",
        "\n",
        "#include <armadillo>\n",
        "\n",
        "int main() {\n",
        "  // Crear una matriz\n",
        "  arma::mat mi_matriz;\n",
        "  mi_matriz << 1 << 2 << 3 << 10 << 11 << 12 << arma::endr\n",
        "            << 4 << 5 << 6 << 13 << 14 << 15 << arma::endr\n",
        "            << 7 << 8 << 9 << 16 << 17 << 18;\n",
        "\n",
        "  // Acceder al elemento en la fila 1, columna 2\n",
        "  std::cout << \"Elemento en la fila 1, columna 2: \" <<  mi_matriz(1, 2) << std::endl; // Imprime: 6\n",
        "\n",
        "  return 0;\n",
        "}\n"
      ],
      "metadata": {
        "outputId": "65badec5-fcba-4806-df2c-b9ec7ebdd218",
        "colab": {
          "base_uri": "https://localhost:8080/"
        },
        "id": "II8an6lt4UgV"
      },
      "execution_count": 158,
      "outputs": [
        {
          "output_type": "stream",
          "name": "stdout",
          "text": [
            "Overwriting elementoMatriz.cpp\n"
          ]
        }
      ]
    },
    {
      "cell_type": "code",
      "execution_count": 159,
      "metadata": {
        "id": "v3Ad88YM4UgX"
      },
      "outputs": [],
      "source": [
        "! g++ elementoMatriz.cpp -o elementoMatriz"
      ]
    },
    {
      "cell_type": "code",
      "source": [
        "# Ejecuta el programa: elementoMatriz\n",
        "! ./elementoMatriz"
      ],
      "metadata": {
        "outputId": "afb34b50-1261-4806-8539-607b37e3dec6",
        "colab": {
          "base_uri": "https://localhost:8080/"
        },
        "id": "JTfzvygb4UgY"
      },
      "execution_count": 160,
      "outputs": [
        {
          "output_type": "stream",
          "name": "stdout",
          "text": [
            "Elemento en la fila 1, columna 2: 6\n"
          ]
        }
      ]
    },
    {
      "cell_type": "markdown",
      "source": [
        "##3. Modificar un elemento por su índice:"
      ],
      "metadata": {
        "id": "0g3hP7jcF2mk"
      }
    },
    {
      "cell_type": "code",
      "source": [
        "# Escribe el programa modificarElemento.cpp\n",
        "%%writefile modificarElemento.cpp\n",
        "\n",
        "#include <armadillo>\n",
        "\n",
        "int main() {\n",
        "  // Crear una matriz\n",
        "  arma::mat mi_matriz;\n",
        "  mi_matriz << 1 << 2 << 3 << 10 << 11 << 12 << arma::endr\n",
        "            << 4 << 5 << 6 << 13 << 14 << 15 << arma::endr\n",
        "            << 7 << 8 << 9 << 16 << 17 << 18;\n",
        "\n",
        "  // imprime matriz inicial\n",
        "  std::cout << \"Matriz inicial: \\n\" << mi_matriz << std::endl;\n",
        "\n",
        "  // Modificar el elemento en la fila 1, columna 2\n",
        "  mi_matriz(1, 2) = 20;\n",
        "\n",
        "  // Imprimir la matriz\n",
        "  std::cout << \"Matriz final: \\n\" << mi_matriz << std::endl;\n",
        "\n",
        "  return 0;\n",
        "}\n"
      ],
      "metadata": {
        "outputId": "7dc9e9ef-323e-43c1-914c-18f237dfb065",
        "colab": {
          "base_uri": "https://localhost:8080/"
        },
        "id": "J02nJ6VvF6DT"
      },
      "execution_count": 167,
      "outputs": [
        {
          "output_type": "stream",
          "name": "stdout",
          "text": [
            "Overwriting modificarElemento.cpp\n"
          ]
        }
      ]
    },
    {
      "cell_type": "code",
      "execution_count": 168,
      "metadata": {
        "id": "JJHL-aalF6DU"
      },
      "outputs": [],
      "source": [
        "! g++ modificarElemento.cpp -o modificarElemento"
      ]
    },
    {
      "cell_type": "code",
      "source": [
        "# Ejecuta el programa: modificarElemento\n",
        "! ./modificarElemento"
      ],
      "metadata": {
        "outputId": "861d738b-844d-461f-f9aa-9f9571d576d7",
        "colab": {
          "base_uri": "https://localhost:8080/"
        },
        "id": "0MwEJQB_F6DW"
      },
      "execution_count": 169,
      "outputs": [
        {
          "output_type": "stream",
          "name": "stdout",
          "text": [
            "Matriz inicial: \n",
            "    1.0000    2.0000    3.0000   10.0000   11.0000   12.0000\n",
            "    4.0000    5.0000    6.0000   13.0000   14.0000   15.0000\n",
            "    7.0000    8.0000    9.0000   16.0000   17.0000   18.0000\n",
            "\n",
            "Matriz final: \n",
            "    1.0000    2.0000    3.0000   10.0000   11.0000   12.0000\n",
            "    4.0000    5.0000   20.0000   13.0000   14.0000   15.0000\n",
            "    7.0000    8.0000    9.0000   16.0000   17.0000   18.0000\n",
            "\n"
          ]
        }
      ]
    },
    {
      "cell_type": "markdown",
      "source": [
        "##4. Obtener el número de filas y columnas de la matriz:"
      ],
      "metadata": {
        "id": "xveqDGtKG4EF"
      }
    },
    {
      "cell_type": "code",
      "source": [
        "# Escribe el programa modificarElemento.cpp\n",
        "%%writefile modificarElemento.cpp\n",
        "\n",
        "#include <armadillo>\n",
        "\n",
        "int main() {\n",
        "  // Crear una matriz\n",
        "  arma::mat mi_matriz;\n",
        "  mi_matriz << 1 << 2 << 3 << 10 << 11 << 12 << arma::endr\n",
        "            << 4 << 5 << 6 << 13 << 14 << 15 << arma::endr\n",
        "            << 7 << 8 << 9 << 16 << 17 << 18;\n",
        "\n",
        "  // imprime matriz\n",
        "  std::cout << \"Matriz: \\n\" << mi_matriz << std::endl;\n",
        "\n",
        "  // Obtener el número de filas y columnas de la matriz\n",
        "  std::cout << \"Matriz de: \" << mi_matriz.n_rows << \"x\" << mi_matriz.n_cols << std::endl; // Imprime: 3 3\n",
        "\n",
        "  return 0;\n",
        "}\n"
      ],
      "metadata": {
        "outputId": "6117da10-9811-4a12-9cdc-3bdcf1d294f6",
        "colab": {
          "base_uri": "https://localhost:8080/"
        },
        "id": "jqExd19HG8-c"
      },
      "execution_count": 170,
      "outputs": [
        {
          "output_type": "stream",
          "name": "stdout",
          "text": [
            "Overwriting modificarElemento.cpp\n"
          ]
        }
      ]
    },
    {
      "cell_type": "code",
      "execution_count": 171,
      "metadata": {
        "id": "CLfwMo61G8-e"
      },
      "outputs": [],
      "source": [
        "! g++ modificarElemento.cpp -o modificarElemento"
      ]
    },
    {
      "cell_type": "code",
      "source": [
        "# Ejecuta el programa: modificarElemento\n",
        "! ./modificarElemento"
      ],
      "metadata": {
        "outputId": "4b26682e-c7cc-4790-e244-5d3dbf06308a",
        "colab": {
          "base_uri": "https://localhost:8080/"
        },
        "id": "k6thOF9fG8-f"
      },
      "execution_count": 172,
      "outputs": [
        {
          "output_type": "stream",
          "name": "stdout",
          "text": [
            "Matriz: \n",
            "    1.0000    2.0000    3.0000   10.0000   11.0000   12.0000\n",
            "    4.0000    5.0000    6.0000   13.0000   14.0000   15.0000\n",
            "    7.0000    8.0000    9.0000   16.0000   17.0000   18.0000\n",
            "\n",
            "Matriz de: 3x6\n"
          ]
        }
      ]
    },
    {
      "cell_type": "markdown",
      "source": [
        "##5. Sumar todos los elementos de la matriz:"
      ],
      "metadata": {
        "id": "z90tyLT_Hkvh"
      }
    },
    {
      "cell_type": "code",
      "source": [
        "# Escribe el programa sumarElementos.cpp\n",
        "%%writefile sumarElementos.cpp\n",
        "\n",
        "#include <armadillo>\n",
        "\n",
        "int main() {\n",
        "  // Crear una matriz\n",
        "  arma::mat mi_matriz;\n",
        "  mi_matriz << 1 << 2 << 3 << 10 << 11 << 12 << arma::endr\n",
        "            << 4 << 5 << 6 << 13 << 14 << 15 << arma::endr\n",
        "            << 7 << 8 << 9 << 16 << 17 << 18;\n",
        "\n",
        "  // imprime matriz\n",
        "  std::cout << \"Matriz: \\n\" << mi_matriz << std::endl;\n",
        "\n",
        "  // Sumar todos los elementos de la matriz\n",
        "  std::cout  << \"La suma de elementos es: \" << arma::accu(mi_matriz) << std::endl; // Imprime: 156\n",
        "\n",
        "  return 0;\n",
        "}\n"
      ],
      "metadata": {
        "outputId": "e4c85f83-bdf5-4e60-e54d-49b84e469d14",
        "colab": {
          "base_uri": "https://localhost:8080/"
        },
        "id": "7OI1yX10Ho7f"
      },
      "execution_count": 176,
      "outputs": [
        {
          "output_type": "stream",
          "name": "stdout",
          "text": [
            "Overwriting sumarElementos.cpp\n"
          ]
        }
      ]
    },
    {
      "cell_type": "code",
      "execution_count": 177,
      "metadata": {
        "id": "jskhp3yDHo7j"
      },
      "outputs": [],
      "source": [
        "! g++ sumarElementos.cpp -o sumarElementos"
      ]
    },
    {
      "cell_type": "code",
      "source": [
        "# Ejecuta el programa: sumarElementos\n",
        "! ./sumarElementos"
      ],
      "metadata": {
        "outputId": "52884700-c128-488f-8e77-76b2840fd38a",
        "colab": {
          "base_uri": "https://localhost:8080/"
        },
        "id": "dcGhOuB-Ho7l"
      },
      "execution_count": 178,
      "outputs": [
        {
          "output_type": "stream",
          "name": "stdout",
          "text": [
            "Matriz: \n",
            "    1.0000    2.0000    3.0000   10.0000   11.0000   12.0000\n",
            "    4.0000    5.0000    6.0000   13.0000   14.0000   15.0000\n",
            "    7.0000    8.0000    9.0000   16.0000   17.0000   18.0000\n",
            "\n",
            "La suma de elementos es: 171\n"
          ]
        }
      ]
    },
    {
      "cell_type": "markdown",
      "source": [
        "##6. Encontrar el máximo y el mínimo de los elementos de la matriz:"
      ],
      "metadata": {
        "id": "o_lL2xQzIMqC"
      }
    },
    {
      "cell_type": "code",
      "source": [
        "# Escribe el programa maxMin.cpp\n",
        "%%writefile maxMin.cpp\n",
        "\n",
        "#include <armadillo>\n",
        "#include <iostream>\n",
        "\n",
        "int main() {\n",
        "  // Crear una matriz\n",
        "  arma::mat mi_matriz;\n",
        "  mi_matriz << -1 << 2 << 3 << 10 << 11 << 12 << arma::endr\n",
        "            << 4 << 5 << 6 << 13 << 14 << 15 << arma::endr\n",
        "            << 7 << 8 << 9 << 16 << 17 << 18;\n",
        "\n",
        "  // imprime matriz\n",
        "  std::cout << \"Matriz:\\n\" << mi_matriz << std::endl;\n",
        "\n",
        "  // Encontrar el máximo y el mínimo de los elementos de la matriz\n",
        "  double maximo = arma::max(max(mi_matriz));\n",
        "  double minimo = arma::min(min(mi_matriz));\n",
        "\n",
        "  std::cout << \"El rango de valores en la matriz es: [\" << minimo << \", \" << maximo << \"]\" << std::endl;\n",
        "\n",
        "  return 0;\n",
        "}\n"
      ],
      "metadata": {
        "outputId": "bb98eb6a-7898-4f6b-f528-673cf9900914",
        "colab": {
          "base_uri": "https://localhost:8080/"
        },
        "id": "Dj9kjFP_ISB8"
      },
      "execution_count": 207,
      "outputs": [
        {
          "output_type": "stream",
          "name": "stdout",
          "text": [
            "Overwriting maxMin.cpp\n"
          ]
        }
      ]
    },
    {
      "cell_type": "code",
      "execution_count": 208,
      "metadata": {
        "id": "mDcK1H-1ISCp"
      },
      "outputs": [],
      "source": [
        "! g++ maxMin.cpp -o maxMin"
      ]
    },
    {
      "cell_type": "code",
      "source": [
        "# Ejecuta el programa: maxMin\n",
        "! ./maxMin"
      ],
      "metadata": {
        "outputId": "cd84794d-f14f-4ed8-b370-5c620b9f3974",
        "colab": {
          "base_uri": "https://localhost:8080/"
        },
        "id": "MeDzFJdiISCp"
      },
      "execution_count": 209,
      "outputs": [
        {
          "output_type": "stream",
          "name": "stdout",
          "text": [
            "Matriz:\n",
            "   -1.0000    2.0000    3.0000   10.0000   11.0000   12.0000\n",
            "    4.0000    5.0000    6.0000   13.0000   14.0000   15.0000\n",
            "    7.0000    8.0000    9.0000   16.0000   17.0000   18.0000\n",
            "\n",
            "El rango de valores en la matriz es: [-1, 18]\n"
          ]
        }
      ]
    },
    {
      "cell_type": "markdown",
      "source": [
        "##7. Ordenar los elementos de la matriz:"
      ],
      "metadata": {
        "id": "WkafxnekNET3"
      }
    },
    {
      "cell_type": "code",
      "source": [
        "# Escribe el programa ordenarElemMat.cpp\n",
        "%%writefile ordenarElemMat.cpp\n",
        "\n",
        "#include <armadillo>\n",
        "#include <iostream>\n",
        "\n",
        "int main() {\n",
        "  // Crear una matriz\n",
        "  arma::mat A = arma::mat(\"2.0 2.2 1.1; 1.2 1.1 1.0; 0.0 0.2 2.1\");\n",
        "\n",
        "  // imprime matriz\n",
        "  std::cout << \"Matriz desordenada:\\n\" << A << std::endl;\n",
        "\n",
        "  // Ordenar los elementos de la matriz\n",
        "  arma::mat A_ord = arma::sort(A);\n",
        "\n",
        "  // Imprimir la matriz ordenada\n",
        "  std::cout << \"Matriz ordenada por columnas:\\n\" << A_ord << std::endl;\n",
        "\n",
        "\n",
        "  return 0;\n",
        "}\n"
      ],
      "metadata": {
        "outputId": "80f3c3ed-0c8a-43a9-ebfd-26729c724ac1",
        "colab": {
          "base_uri": "https://localhost:8080/"
        },
        "id": "FDIc2GeONHfL"
      },
      "execution_count": 236,
      "outputs": [
        {
          "output_type": "stream",
          "name": "stdout",
          "text": [
            "Overwriting ordenarElemMat.cpp\n"
          ]
        }
      ]
    },
    {
      "cell_type": "code",
      "execution_count": 237,
      "metadata": {
        "id": "J6bh4J3ONHfM"
      },
      "outputs": [],
      "source": [
        "! g++ ordenarElemMat.cpp -o ordenarElemMat"
      ]
    },
    {
      "cell_type": "code",
      "source": [
        "# Ejecuta el programa: ordenarElemMat\n",
        "! ./ordenarElemMat"
      ],
      "metadata": {
        "outputId": "048d43aa-81a6-4931-d42e-c492fa68715f",
        "colab": {
          "base_uri": "https://localhost:8080/"
        },
        "id": "eLVnbEZgNHfO"
      },
      "execution_count": 238,
      "outputs": [
        {
          "output_type": "stream",
          "name": "stdout",
          "text": [
            "Matriz desordenada:\n",
            "   2.0000   2.2000   1.1000\n",
            "   1.2000   1.1000   1.0000\n",
            "        0   0.2000   2.1000\n",
            "\n",
            "Matriz ordenada por columnas:\n",
            "        0   0.2000   1.0000\n",
            "   1.2000   1.1000   1.1000\n",
            "   2.0000   2.2000   2.1000\n",
            "\n"
          ]
        }
      ]
    },
    {
      "cell_type": "markdown",
      "source": [
        "##Librerías especializadas para manejo de matrices:"
      ],
      "metadata": {
        "id": "8RzTSAMiT4NZ"
      }
    },
    {
      "cell_type": "markdown",
      "source": [
        "* GGT (Generic Graphics Toolkit)\n",
        "  * Beneficios: API simple, diseñada específicamente para motores gráficos. Incluye muchos tipos primitivos orientados al renderizado (como planos, AABB, cuatenrios con interpolación múltiple, etc.) que no se encuentran en ningún otro paquete. Muy poca sobrecarga de memoria, bastante rápido y fácil de usar.\n",
        "  * Desventajas: La API está muy centrada específicamente en el renderizado y los gráficos. No incluye matrices de propósito general (NxM), descomposición y resolución de matrices, etc., ya que están fuera del ámbito de las aplicaciones tradicionales de gráficos/geometría.\n",
        "\n",
        "* Eigen\n",
        "  * Beneficios: API limpia, bastante fácil de usar. Incluye un módulo de Geometría con cuaterniones y transformaciones geométricas. Baja sobrecarga de memoria. Resolución completa y de alto rendimiento de grandes matrices NxN y otras rutinas matemáticas de propósito general.\n",
        "  * Desventajas: puede tener un alcance un poco mayor de lo que desea (?). Menos rutinas específicas de representación/geometría en comparación con GMTL (es decir, definiciones de ángulos de Euler, etc.).\n",
        "\n",
        "* IMSL\n",
        "  * Beneficios: Biblioteca numérica muy completa. Muy, muy rápido (supuestamente el solucionador más rápido). Con diferencia, la API matemática más grande y completa. Respaldado comercialmente, maduro y estable.\n",
        "  * Desventajas: Costo: no es barato. Hay muy pocos métodos geométricos/de renderizado específicos, por lo que tendrás que aplicar el tuyo propio sobre sus clases de álgebra lineal.\n",
        "\n",
        "* TE2\n",
        "  * Beneficios: proporciona una sintaxis que resulta más familiar si está acostumbrado a MATLAB. Proporciona descomposición completa y resolución de matrices grandes, etc.\n",
        "  * Desventajas: Matemático, no centrado en la renderización. Probablemente no sea tan eficaz como Eigen.\n",
        "\n",
        "* LAPACK\n",
        "  * Beneficios: Algoritmos probados y muy estables. Existe desde hace mucho tiempo. Resolución completa de matrices, etc. Muchas opciones para matemáticas oscuras.\n",
        "  * Desventajas: No tiene tanto rendimiento en algunos casos. Portado desde Fortran, con API extraña para su uso.\n",
        "\n",
        "  \n",
        "Si tu atención se centra únicamente en el renderizado y los gráficos, entonces el kit de herramientas de gráficos genéricos (Generic Graphics Toolkit) puede ser buena opción, ya que funciona bien y admite muchas operaciones de renderizado útiles listas para usar sin tener que implementar las suyas propias.\n",
        "\n",
        "Si necesitas resolución de matrices de propósito general (es decir, descomposición SVD o LU de matrices grandes), entonces la elección puede ser Eigen, ya que maneja eso, proporciona algunas operaciones geométricas y es muy eficaz con soluciones de matrices grandes.\n"
      ],
      "metadata": {
        "id": "c8XsVvQQT_lC"
      }
    },
    {
      "cell_type": "markdown",
      "source": [
        "##Arreglos Multidimensionales"
      ],
      "metadata": {
        "id": "td3U2S3YUeEx"
      }
    },
    {
      "cell_type": "markdown",
      "source": [
        "En C++ es posible crear arrays con más de una dimensión, pasando de la idea de lista, vector o matriz de una sola fila a la idea de matriz de $m \\times n$ elementos, estructuras tridimensionales, tetradimensionales, etc.\n",
        "\n",
        "La sintaxis es:\n",
        "\n",
        "TipoDeVariable nombreDelArray [dimensión1] [dimensión2] [...] [dimensiónN]\n"
      ],
      "metadata": {
        "id": "zzkbKc0pUhP5"
      }
    },
    {
      "cell_type": "markdown",
      "source": [
        "##1. Crear un arreglo multidimensional con ceros:"
      ],
      "metadata": {
        "id": "0ytP_HXBUu76"
      }
    },
    {
      "cell_type": "code",
      "source": [
        "# Escribe el programa multiCeros.cpp\n",
        "%%writefile multiCeros.cpp\n",
        "\n",
        "#include <armadillo>\n",
        "#include <iostream>\n",
        "\n",
        "\n",
        "int main() {\n",
        "\n",
        "  // Cre un arreglo con ceros\n",
        "  arma::cube mi_arreglo_ceros;\n",
        "  mi_arreglo_ceros.zeros(5, 3, 4);\n",
        "\n",
        "  // Imprime el arreglo\n",
        "  std::cout << mi_arreglo_ceros << std::endl;\n",
        "\n",
        "  return 0;\n",
        "}\n"
      ],
      "metadata": {
        "outputId": "6236c284-8246-4432-f7c8-006bf7bee910",
        "colab": {
          "base_uri": "https://localhost:8080/"
        },
        "id": "BtsQzTW4Uzje"
      },
      "execution_count": 242,
      "outputs": [
        {
          "output_type": "stream",
          "name": "stdout",
          "text": [
            "Overwriting multiCeros.cpp\n"
          ]
        }
      ]
    },
    {
      "cell_type": "code",
      "execution_count": 243,
      "metadata": {
        "id": "pLTFhCh5Uzjg"
      },
      "outputs": [],
      "source": [
        "! g++ multiCeros.cpp -o multiCeros"
      ]
    },
    {
      "cell_type": "code",
      "source": [
        "# Ejecuta el programa: multiCeros\n",
        "! ./multiCeros"
      ],
      "metadata": {
        "outputId": "1f768155-5d18-458c-9919-3090569e70bd",
        "colab": {
          "base_uri": "https://localhost:8080/"
        },
        "id": "PhUmoCK0Uzjg"
      },
      "execution_count": 244,
      "outputs": [
        {
          "output_type": "stream",
          "name": "stdout",
          "text": [
            "[cube slice: 0]\n",
            "        0        0        0\n",
            "        0        0        0\n",
            "        0        0        0\n",
            "        0        0        0\n",
            "        0        0        0\n",
            "\n",
            "[cube slice: 1]\n",
            "        0        0        0\n",
            "        0        0        0\n",
            "        0        0        0\n",
            "        0        0        0\n",
            "        0        0        0\n",
            "\n",
            "[cube slice: 2]\n",
            "        0        0        0\n",
            "        0        0        0\n",
            "        0        0        0\n",
            "        0        0        0\n",
            "        0        0        0\n",
            "\n",
            "[cube slice: 3]\n",
            "        0        0        0\n",
            "        0        0        0\n",
            "        0        0        0\n",
            "        0        0        0\n",
            "        0        0        0\n",
            "\n"
          ]
        }
      ]
    },
    {
      "cell_type": "markdown",
      "source": [
        "##2. Crear un arreglo multidimensional con unos:"
      ],
      "metadata": {
        "id": "oLq15IyiVWaL"
      }
    },
    {
      "cell_type": "code",
      "source": [
        "# Escribe el programa multiUnos.cpp\n",
        "%%writefile multiUnos.cpp\n",
        "\n",
        "#include <armadillo>\n",
        "#include <iostream>\n",
        "\n",
        "\n",
        "int main() {\n",
        "\n",
        "  // Crea un arreglo de 3D con unos\n",
        "  arma::cube mi_arreglo_unos;\n",
        "  mi_arreglo_unos.ones(4, 5, 3);\n",
        "\n",
        "  // Imprime el arreglo\n",
        "  std::cout << mi_arreglo_unos << std::endl;\n",
        "\n",
        "  return 0;\n",
        "}\n"
      ],
      "metadata": {
        "outputId": "3d0842a7-8220-4843-e0de-003de10508cb",
        "colab": {
          "base_uri": "https://localhost:8080/"
        },
        "id": "zIndgUcQVaIE"
      },
      "execution_count": 248,
      "outputs": [
        {
          "output_type": "stream",
          "name": "stdout",
          "text": [
            "Overwriting multiUnos.cpp\n"
          ]
        }
      ]
    },
    {
      "cell_type": "code",
      "execution_count": 249,
      "metadata": {
        "id": "Aaie6c_bVaIG"
      },
      "outputs": [],
      "source": [
        "! g++ multiUnos.cpp -o multiUnos"
      ]
    },
    {
      "cell_type": "code",
      "source": [
        "# Ejecuta el programa: multiUnos\n",
        "! ./multiUnos"
      ],
      "metadata": {
        "outputId": "1f292b1b-b499-4bf0-d3cb-d0e2fc37cd6c",
        "colab": {
          "base_uri": "https://localhost:8080/"
        },
        "id": "uB8_A6PmVaIG"
      },
      "execution_count": 250,
      "outputs": [
        {
          "output_type": "stream",
          "name": "stdout",
          "text": [
            "[cube slice: 0]\n",
            "   1.0000   1.0000   1.0000   1.0000   1.0000\n",
            "   1.0000   1.0000   1.0000   1.0000   1.0000\n",
            "   1.0000   1.0000   1.0000   1.0000   1.0000\n",
            "   1.0000   1.0000   1.0000   1.0000   1.0000\n",
            "\n",
            "[cube slice: 1]\n",
            "   1.0000   1.0000   1.0000   1.0000   1.0000\n",
            "   1.0000   1.0000   1.0000   1.0000   1.0000\n",
            "   1.0000   1.0000   1.0000   1.0000   1.0000\n",
            "   1.0000   1.0000   1.0000   1.0000   1.0000\n",
            "\n",
            "[cube slice: 2]\n",
            "   1.0000   1.0000   1.0000   1.0000   1.0000\n",
            "   1.0000   1.0000   1.0000   1.0000   1.0000\n",
            "   1.0000   1.0000   1.0000   1.0000   1.0000\n",
            "   1.0000   1.0000   1.0000   1.0000   1.0000\n",
            "\n"
          ]
        }
      ]
    }
  ]
}