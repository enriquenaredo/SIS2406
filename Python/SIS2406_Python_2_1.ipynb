{
  "cells": [
    {
      "cell_type": "markdown",
      "metadata": {
        "id": "bTDsVCxMDDbx"
      },
      "source": [
        "#SIS2406 - Estructura de Datos y Algoritmos\n",
        "## Primavera 2024\n",
        "\n",
        "<div>\n",
        "<img src=\"https://drive.google.com/uc?export=view&id=1_ZAbL21argoGVFRpHidRYf5vOKgdusal\" width=\"250\"/>\n",
        "</div>\n",
        "\n",
        "### SIS2406_Python_2.1\n",
        "\n",
        "**Enrique Naredo García**\n",
        "\n",
        "<font size = 2>\n",
        "©️ Todos los derechos reservados. All rights reserved.\n",
        "\n",
        "*Nota: El presente documento es una herramienta diseñada única y exclusivamente para los estudiantes de la asignatura arriba mencionada. Se recuerda no compartir esta información fuera de los integrantes registrados en este curso. La reproducción total o parcial de este documento requiere autorización por escrito del titular del copyright.*\n",
        "</font>"
      ]
    },
    {
      "cell_type": "markdown",
      "metadata": {
        "id": "EbC4w-3yEiA7"
      },
      "source": [
        "#2.1 Listas simplemente ligadas"
      ]
    },
    {
      "cell_type": "markdown",
      "metadata": {
        "id": "UVmsv3QprE01"
      },
      "source": [
        "<div>\n",
        "<img src=\"https://drive.google.com/uc?export=view&id=1w5h2jVdGg6FZA5Vmr26GsVqMKSnFq7H0\" width=\"850\"/>\n",
        "</div>\n",
        "\n"
      ]
    },
    {
      "cell_type": "markdown",
      "metadata": {
        "id": "8ou07PxWrhvT"
      },
      "source": [
        "Una lista enlazada es una estructura de datos que contiene elementos conectados mediante un enlace.\n",
        "\n",
        "* Una lista enlazada es una estructura de datos dinámica.\n",
        "* Una lista enlazada se crea usando objetos llamados nodos.\n",
        "* Cada nodo contiene dos atributos: uno para almacenar los datos y el otro para conectarse al siguiente nodo en la lista vinculada.\n",
        "* Cada nodo tiene un valor (datos) y una referencia al siguiente nodo.\n",
        "* La referencia es típicamente un puntero o una dirección de memoria donde se puede encontrar el siguiente valor.\n",
        "* La cantidad de nodos en una lista no es fija y puede crecer y contraerse a demanda.\n",
        "* Cualquier aplicación que tenga que tratar con un número desconocido de objetos necesitará usar una lista vinculada."
      ]
    },
    {
      "cell_type": "markdown",
      "metadata": {
        "id": "jyDUGUkUrtEr"
      },
      "source": [
        "##Lista NO ligada"
      ]
    },
    {
      "cell_type": "markdown",
      "metadata": {
        "id": "xMzS7pURospD"
      },
      "source": [
        "Vamos a iniciar con el ejemplo de una lista no ligada."
      ]
    },
    {
      "cell_type": "code",
      "execution_count": null,
      "metadata": {
        "id": "_DQtMrvgozYA"
      },
      "outputs": [],
      "source": [
        "# crea manualmente una lista\n",
        "lista = [33, 44, 55]"
      ]
    },
    {
      "cell_type": "markdown",
      "metadata": {
        "id": "26kF6ZUIp1c2"
      },
      "source": [
        "Podemos imprimir los elmentos de la lista."
      ]
    },
    {
      "cell_type": "code",
      "execution_count": null,
      "metadata": {
        "colab": {
          "base_uri": "https://localhost:8080/"
        },
        "id": "zLZPa9Jwo982",
        "outputId": "3afbc77f-d932-4d0f-8c39-ed0485c29062"
      },
      "outputs": [
        {
          "name": "stdout",
          "output_type": "stream",
          "text": [
            "[33, 44, 55]\n"
          ]
        }
      ],
      "source": [
        "# imprime la lista\n",
        "print(lista)"
      ]
    },
    {
      "cell_type": "markdown",
      "metadata": {
        "id": "OepwuxjSp9pw"
      },
      "source": [
        "Podemos imprimir los elementos de manera independiente."
      ]
    },
    {
      "cell_type": "code",
      "execution_count": null,
      "metadata": {
        "colab": {
          "base_uri": "https://localhost:8080/"
        },
        "id": "xN3O6_S-r5Fy",
        "outputId": "79591f26-5dec-4d68-e8a7-c6ca7bd9b7da"
      },
      "outputs": [
        {
          "name": "stdout",
          "output_type": "stream",
          "text": [
            "33\n"
          ]
        }
      ],
      "source": [
        "# imprime el primer elemento de la lista\n",
        "print(lista[0])"
      ]
    },
    {
      "cell_type": "code",
      "execution_count": null,
      "metadata": {
        "colab": {
          "base_uri": "https://localhost:8080/"
        },
        "id": "CE1ExVKIsNe9",
        "outputId": "5d160869-3a06-4cef-8645-5d5bd7078b90"
      },
      "outputs": [
        {
          "name": "stdout",
          "output_type": "stream",
          "text": [
            "44\n"
          ]
        }
      ],
      "source": [
        "# imprime el segundo elemento de la lista\n",
        "print(lista[1])"
      ]
    },
    {
      "cell_type": "code",
      "execution_count": null,
      "metadata": {
        "colab": {
          "base_uri": "https://localhost:8080/"
        },
        "id": "rgZjd9bZsQwX",
        "outputId": "8afcc6b6-0177-41d2-fb69-c4a11eda0aec"
      },
      "outputs": [
        {
          "name": "stdout",
          "output_type": "stream",
          "text": [
            "55\n"
          ]
        }
      ],
      "source": [
        "# imprime el tercer elemento de la lista\n",
        "print(lista[2])"
      ]
    },
    {
      "cell_type": "markdown",
      "metadata": {
        "id": "LB806RX9pzTJ"
      },
      "source": [
        "Sabemos que el 44 sigue del 33 y que el 55 es el último, porque hemos creado nosotros mismo la lista."
      ]
    },
    {
      "cell_type": "markdown",
      "metadata": {
        "id": "Mzk4gHtpsp4q"
      },
      "source": [
        "Pero si de una lista cualquier nos dieran un número, digamos el 3300. ¿Como sabríamos que lugar ocupa en la lista y cuál es el siguiente en la lista?"
      ]
    },
    {
      "cell_type": "markdown",
      "metadata": {
        "id": "-q6fbJn0WkXk"
      },
      "source": [
        "##Estructura de una lista enlazada\n",
        "\n",
        "Cada elemento de una lista enlazada se llama nodo y cada nodo tiene dos campos diferentes:\n",
        "\n",
        "* Los datos contienen el valor que se almacenará en el nodo.\n",
        "* Next (siguiente) contiene una referencia al siguiente nodo de la lista."
      ]
    },
    {
      "cell_type": "markdown",
      "metadata": {
        "id": "dq5B_moWVZ5-"
      },
      "source": [
        "\n",
        "###Clase Nodo\n",
        "\n",
        "Para esto, creamos una clase de Nodo que contiene algunos datos y un único puntero a continuación, que se usará para apuntar al siguiente objeto de tipo Nodo en la Lista ligada.\n"
      ]
    },
    {
      "cell_type": "code",
      "execution_count": null,
      "metadata": {
        "id": "WdRqvDgNDCDL"
      },
      "outputs": [],
      "source": [
        "# Clase Nodo\n",
        "class Nodo:\n",
        "  # constructor (inicializa)\n",
        "  def __init__(self, dato):\n",
        "    # atributos propios del objeto\n",
        "    self.dato = dato\n",
        "    self.siguiente = None\n",
        "    self.prueba ="
      ]
    },
    {
      "cell_type": "markdown",
      "metadata": {
        "id": "Wfc-ive-V73t"
      },
      "source": [
        "###Crea tres nodos."
      ]
    },
    {
      "cell_type": "code",
      "execution_count": null,
      "metadata": {
        "colab": {
          "base_uri": "https://localhost:8080/"
        },
        "id": "bCKRpbmPbGbN",
        "outputId": "196ec654-6806-4142-89bc-0358bb015cbc"
      },
      "outputs": [
        {
          "name": "stdout",
          "output_type": "stream",
          "text": [
            "33\n"
          ]
        }
      ],
      "source": [
        "# Crea un primer nodo\n",
        "primero = Nodo(33)\n",
        "print(primero.dato)"
      ]
    },
    {
      "cell_type": "code",
      "execution_count": null,
      "metadata": {
        "colab": {
          "base_uri": "https://localhost:8080/"
        },
        "id": "Q2GYQUthielC",
        "outputId": "03e282e5-5a58-4506-e476-ebed251430a8"
      },
      "outputs": [
        {
          "name": "stdout",
          "output_type": "stream",
          "text": [
            "44\n"
          ]
        }
      ],
      "source": [
        "# Crea un segundo nodo\n",
        "segundo = Nodo(44)\n",
        "print(segundo.dato)"
      ]
    },
    {
      "cell_type": "code",
      "execution_count": null,
      "metadata": {
        "colab": {
          "background_save": true,
          "base_uri": "https://localhost:8080/"
        },
        "id": "L18SMNxpirKU",
        "outputId": "9f82310e-bf96-4284-a0b8-a223d3fa211a"
      },
      "outputs": [
        {
          "name": "stdout",
          "output_type": "stream",
          "text": [
            "55\n"
          ]
        }
      ],
      "source": [
        "# Crea un tercer nodo\n",
        "tercero = Nodo(55)\n",
        "print(tercero.dato)"
      ]
    },
    {
      "cell_type": "markdown",
      "metadata": {
        "id": "7nHxXZG3kT2F"
      },
      "source": [
        "###Enlaza los nodos."
      ]
    },
    {
      "cell_type": "code",
      "execution_count": null,
      "metadata": {
        "colab": {
          "background_save": true
        },
        "id": "onl6awwxi6hT"
      },
      "outputs": [],
      "source": [
        "# enlaza primero con segundo\n",
        "primero.siguiente = segundo"
      ]
    },
    {
      "cell_type": "code",
      "execution_count": null,
      "metadata": {
        "colab": {
          "background_save": true,
          "base_uri": "https://localhost:8080/"
        },
        "id": "KEkVfuT2jldH",
        "outputId": "0392d341-54b6-44b5-bc6e-61436ac26a88"
      },
      "outputs": [
        {
          "name": "stdout",
          "output_type": "stream",
          "text": [
            "44\n"
          ]
        }
      ],
      "source": [
        "# imprime el siguiente del primero\n",
        "print(primero.siguiente.dato)"
      ]
    },
    {
      "cell_type": "code",
      "execution_count": null,
      "metadata": {
        "colab": {
          "background_save": true
        },
        "id": "K1Q5MjFjjNK6"
      },
      "outputs": [],
      "source": [
        "# enlaza segundo con tercero\n",
        "segundo.siguiente = tercero"
      ]
    },
    {
      "cell_type": "code",
      "execution_count": null,
      "metadata": {
        "colab": {
          "background_save": true,
          "base_uri": "https://localhost:8080/"
        },
        "id": "KYrjuls5jzbf",
        "outputId": "3449f65c-4aad-42d6-d9cf-50979d32212b"
      },
      "outputs": [
        {
          "name": "stdout",
          "output_type": "stream",
          "text": [
            "55\n"
          ]
        }
      ],
      "source": [
        "# imprime el siguiente del segundo\n",
        "print(segundo.siguiente.dato)"
      ]
    },
    {
      "cell_type": "code",
      "execution_count": null,
      "metadata": {
        "colab": {
          "background_save": true,
          "base_uri": "https://localhost:8080/"
        },
        "id": "zGFnIe3LmMlz",
        "outputId": "f597f9f2-101b-4238-f147-9b6279cf520f"
      },
      "outputs": [
        {
          "name": "stdout",
          "output_type": "stream",
          "text": [
            "33\n",
            "44\n",
            "55\n"
          ]
        }
      ],
      "source": [
        "# lista de nodos\n",
        "listaNodos = [primero, segundo, tercero]\n",
        "\n",
        "# imprime los datos de los nodos en la lista\n",
        "for nodo in listaNodos:\n",
        "  print(nodo.dato)"
      ]
    },
    {
      "cell_type": "code",
      "execution_count": null,
      "metadata": {
        "colab": {
          "background_save": true,
          "base_uri": "https://localhost:8080/"
        },
        "id": "K_-3Wz96vfhH",
        "outputId": "81236152-9922-4d30-c6a2-aa0908538dae"
      },
      "outputs": [
        {
          "name": "stdout",
          "output_type": "stream",
          "text": [
            "<__main__.Nodo object at 0x798acbd71d50>\n",
            "<__main__.Nodo object at 0x798acbd72ad0>\n",
            "None\n"
          ]
        }
      ],
      "source": [
        "# imprime los datos siguientes de cada nodo en la lista\n",
        "for nodo in listaNodos:\n",
        "  print(nodo.siguiente)"
      ]
    },
    {
      "cell_type": "code",
      "execution_count": null,
      "metadata": {
        "colab": {
          "background_save": true,
          "base_uri": "https://localhost:8080/"
        },
        "id": "RqILnE7zuREn",
        "outputId": "2a9ce0b3-28a5-4731-a9a8-a7eb1567e6bd"
      },
      "outputs": [
        {
          "name": "stdout",
          "output_type": "stream",
          "text": [
            "<__main__.Nodo object at 0x798acbd71d50>\n",
            "<__main__.Nodo object at 0x798acbd72ad0>\n"
          ]
        }
      ],
      "source": [
        "# imprime los datos siguientes de cada nodo en la lista\n",
        "for i in range(len(listaNodos)-1):\n",
        "  print(listaNodos[i].siguiente)"
      ]
    },
    {
      "cell_type": "markdown",
      "metadata": {
        "id": "nsbUrRdLty8j"
      },
      "source": [
        "Aún no hemos creado una lista ligada, solo podemos llamar a cada nodo de manera individual."
      ]
    },
    {
      "cell_type": "markdown",
      "metadata": {
        "id": "eLIWWssRkEsW"
      },
      "source": [
        "###Crea una lista ligada"
      ]
    },
    {
      "cell_type": "code",
      "execution_count": 105,
      "metadata": {
        "id": "l54qKHPwdP4q"
      },
      "outputs": [],
      "source": [
        "# Clase para la lista ligada\n",
        "class listaLigada:\n",
        "  # constructor (inicializa)\n",
        "  def __init__(self, inicio = None):\n",
        "    # atributo 'inicio' de la lista\n",
        "    self.inicio = inicio"
      ]
    },
    {
      "cell_type": "markdown",
      "metadata": {
        "id": "5xcBI53Lc4M6"
      },
      "source": [
        "###Lista ligada"
      ]
    },
    {
      "cell_type": "code",
      "execution_count": 106,
      "metadata": {
        "colab": {
          "base_uri": "https://localhost:8080/"
        },
        "id": "RL3rYa1Th6JL",
        "outputId": "8a259d5d-1ef4-49b7-ac0c-ab8f9a3fdc18"
      },
      "outputs": [
        {
          "output_type": "stream",
          "name": "stdout",
          "text": [
            "33\n"
          ]
        }
      ],
      "source": [
        "# Crea objeto LL y le asigna la clase listaLigada()\n",
        "LL = listaLigada()\n",
        "# asigna el nodo primero al inicio de la lista\n",
        "LL.inicio = primero\n",
        "# imprime el nodo inicial\n",
        "print(LL.inicio.dato)"
      ]
    },
    {
      "cell_type": "markdown",
      "metadata": {
        "id": "cBYBQLZ0kvkZ"
      },
      "source": [
        "Como se puede notar en la celda anterior, la lista simplemente ligada solo imprime el inicio.\n",
        "\n",
        "Ahora es buen momento para agregar algunos métodos para que se puedan realizar operaciones con los nodos."
      ]
    },
    {
      "cell_type": "markdown",
      "source": [
        "##Clase con métodos"
      ],
      "metadata": {
        "id": "IWOJ8z_zuHkn"
      }
    },
    {
      "cell_type": "code",
      "source": [
        "# Clase para la lista ligada con métodos\n",
        "class listaLigada2:\n",
        "\n",
        "  # constructor (inicializa)\n",
        "  def __init__(self, inicio = None):\n",
        "    # atributo 'inicio' de la lista\n",
        "    self.inicio = inicio\n",
        "\n",
        "  # Inserta nodo al inicio\n",
        "  def insertaAlinicio(self, dato):\n",
        "    nodo_nuevo = Nodo(dato)\n",
        "    nodo_nuevo.siguiente = self.inicio\n",
        "    self.inicio = nodo_nuevo\n",
        "\n",
        "  # Inserta nodo al final\n",
        "  def insertaAlFinal(self, dato):\n",
        "      nodo_nuevo = Nodo(dato)\n",
        "      # si no existe dato al inicio\n",
        "      if self.inicio is None:\n",
        "          self.inicio = nodo_nuevo\n",
        "          return\n",
        "      # el nodo existente se convierte en incial\n",
        "      nodo_actual = self.inicio\n",
        "      # mientras exista un nodo\n",
        "      while(nodo_actual.siguiente):\n",
        "        # se recorre nodo\n",
        "        nodo_actual = nodo_actual.siguiente\n",
        "      # el nodo nuevo ocupa el lugar del nodo actual\n",
        "      nodo_actual.siguiente = nodo_nuevo\n",
        "\n",
        "  # Agrega nodo en un índice dado\n",
        "  def insertaEnIndice(self, dato, indice):\n",
        "    nodo_nuevo = Nodo(dato)\n",
        "    nodo_actual = self.inicio\n",
        "    posicion = 0\n",
        "    if posicion == indice:\n",
        "      self.insertaAlinicio(dato)\n",
        "    else:\n",
        "      while(nodo_actual != None and posicion+1 != indice):\n",
        "        posicion = posicion+1\n",
        "        nodo_actual = nodo_actual.siguiente\n",
        "\n",
        "      if nodo_actual != None:\n",
        "        nodo_nuevo.siguiente = nodo_actual.siguiente\n",
        "        nodo_actual.siguiente = nodo_nuevo\n",
        "      else:\n",
        "        print(\"Index not present\")\n",
        "\n",
        "\n",
        "  # Actualiza nodo en una posición dada\n",
        "  def actualizaNodo(self, dato, indice):\n",
        "      nodo_actual = self.inicio\n",
        "      posicion = 0\n",
        "      if posicion == indice:\n",
        "          nodo_actual.dato = dato\n",
        "      else:\n",
        "          while(nodo_actual != None and posicion != indice):\n",
        "              posicion = posicion+1\n",
        "              nodo_actual = nodo_actual.siguiente\n",
        "\n",
        "          if nodo_actual != None:\n",
        "              nodo_actual.dato = dato\n",
        "          else:\n",
        "              print(\"No existe el índice.\")\n",
        "\n",
        "\n",
        "  # Remueve el primer nodo\n",
        "  def remueve_primerNodo(self):\n",
        "    if(self.inicio == None):\n",
        "        return\n",
        "    self.inicio = self.inicio.siguiente\n",
        "\n",
        "\n",
        "  # Remueve el último nodo\n",
        "  def remueve_ultimoNodo(self):\n",
        "      if self.inicio is None:\n",
        "          return\n",
        "      nodo_actual = self.inicio\n",
        "      while(nodo_actual.siguiente.siguiente):\n",
        "          nodo_actual = nodo_actual.siguiente\n",
        "      nodo_actual.siguiente = None\n",
        "\n",
        "\n",
        "  # Remueve nodo en un índice dado\n",
        "  def remueve_enIndice(self, indice):\n",
        "    if self.inicio == None:\n",
        "      return\n",
        "    nodo_actual = self.inicio\n",
        "    posicion = 0\n",
        "    if posicion == indice:\n",
        "      self.remueve_primerNodo()\n",
        "    else:\n",
        "      while(nodo_actual != None and posicion+1 != indice):\n",
        "        posicion = posicion+1\n",
        "        nodo_actual = nodo_actual.siguiente\n",
        "      if nodo_actual != None:\n",
        "        nodo_actual.siguiente = nodo_actual.siguiente.siguiente\n",
        "      else:\n",
        "        print(\"No existe el índice.\")\n",
        "\n",
        "\n",
        "  # Remueve nodo de la lista\n",
        "  def remueve_nodo(self, dato):\n",
        "      nodo_actual = self.inicio\n",
        "      if nodo_actual.dato == dato:\n",
        "          self.remueve_primerNodo()\n",
        "          return\n",
        "      while(nodo_actual != None and nodo_actual.siguiente.dato != dato):\n",
        "          nodo_actual = nodo_actual.siguiente\n",
        "      if nodo_actual == None:\n",
        "          return\n",
        "      else:\n",
        "          nodo_actual.siguiente = nodo_actual.siguiente.siguiente\n",
        "\n",
        "\n",
        "  # imprime los elementos de la lista\n",
        "  def printLL(self):\n",
        "    nodo_actual = self.inicio\n",
        "    while(nodo_actual):\n",
        "      print(nodo_actual.dato)\n",
        "      nodo_actual = nodo_actual.siguiente\n",
        "\n",
        "\n",
        "  # imprime el tamaño de la lista\n",
        "  def tamañoDeLista(self):\n",
        "    tamanio = 0\n",
        "    if(self.inicio):\n",
        "      nodo_actual = self.inicio\n",
        "      while(nodo_actual):\n",
        "        tamanio = tamanio+1\n",
        "        nodo_actual = nodo_actual.siguiente\n",
        "      return tamanio\n",
        "    else:\n",
        "      return 0\n",
        "\n",
        "\n",
        "  # busca dato en lista\n",
        "  def buscaDato(self, dato):\n",
        "    actual = self.inicio\n",
        "    indice = 0\n",
        "    while actual:\n",
        "      if actual.dato == dato:\n",
        "        return indice\n",
        "      actual = actual.siguiente\n",
        "      indice = indice + 1\n",
        "    return False\n"
      ],
      "metadata": {
        "id": "0TVnIc_savG4"
      },
      "execution_count": 222,
      "outputs": []
    },
    {
      "cell_type": "markdown",
      "source": [
        "##Ejemplos de uso de los métodos"
      ],
      "metadata": {
        "id": "_8qwM6IduCPv"
      }
    },
    {
      "cell_type": "code",
      "source": [
        "# crea tres nodos\n",
        "uno = Nodo(10)\n",
        "dos = Nodo(20)\n",
        "tres = Nodo(30)\n",
        "\n",
        "# Crea lista\n",
        "LL2 = listaLigada2()\n",
        "\n",
        "# Conecta nodos\n",
        "LL2.inicio = uno\n",
        "LL2.inicio.siguiente = dos\n",
        "dos.siguiente = tres"
      ],
      "metadata": {
        "id": "oO3TpEkGbCZx"
      },
      "execution_count": 223,
      "outputs": []
    },
    {
      "cell_type": "code",
      "source": [
        "# imprime la listas\n",
        "LL2.printLL()"
      ],
      "metadata": {
        "colab": {
          "base_uri": "https://localhost:8080/"
        },
        "id": "-eR6a-Pph2_X",
        "outputId": "8da01fdf-0afa-4fd8-d81d-9b23146a1174"
      },
      "execution_count": 224,
      "outputs": [
        {
          "output_type": "stream",
          "name": "stdout",
          "text": [
            "10\n",
            "20\n",
            "30\n"
          ]
        }
      ]
    },
    {
      "cell_type": "code",
      "execution_count": 225,
      "metadata": {
        "colab": {
          "base_uri": "https://localhost:8080/"
        },
        "id": "MXik1E7wmMVd",
        "outputId": "a736223c-36dd-45e0-e51f-ccbef21ad81d"
      },
      "outputs": [
        {
          "output_type": "stream",
          "name": "stdout",
          "text": [
            "77\n"
          ]
        }
      ],
      "source": [
        "# inserta al inicio de la lista\n",
        "LL2.insertaAlinicio(77)\n",
        "print(LL2.inicio.dato)"
      ]
    },
    {
      "cell_type": "code",
      "source": [
        "# imprime los valores de la lista\n",
        "LL2.printLL()"
      ],
      "metadata": {
        "colab": {
          "base_uri": "https://localhost:8080/"
        },
        "id": "Ncdazk2oiFsD",
        "outputId": "dedc805e-31d7-4bc5-fa5e-328cad5e1d23"
      },
      "execution_count": 226,
      "outputs": [
        {
          "output_type": "stream",
          "name": "stdout",
          "text": [
            "77\n",
            "10\n",
            "20\n",
            "30\n"
          ]
        }
      ]
    },
    {
      "cell_type": "code",
      "source": [
        "# inserta nodo al final\n",
        "LL2.insertaAlFinal(99)\n",
        "LL2.printLL()"
      ],
      "metadata": {
        "colab": {
          "base_uri": "https://localhost:8080/"
        },
        "id": "pj1rl9eRcrp2",
        "outputId": "37cf26cb-e167-4016-95f2-32292220f657"
      },
      "execution_count": 227,
      "outputs": [
        {
          "output_type": "stream",
          "name": "stdout",
          "text": [
            "77\n",
            "10\n",
            "20\n",
            "30\n",
            "99\n"
          ]
        }
      ]
    },
    {
      "cell_type": "code",
      "source": [
        "# inserta dato en el índice dado\n",
        "LL2.insertaEnIndice(55, 2)\n",
        "LL2.printLL()"
      ],
      "metadata": {
        "colab": {
          "base_uri": "https://localhost:8080/"
        },
        "id": "DAIprE6NkdRq",
        "outputId": "6b685627-2943-4bd2-b049-252ffa725394"
      },
      "execution_count": 228,
      "outputs": [
        {
          "output_type": "stream",
          "name": "stdout",
          "text": [
            "77\n",
            "10\n",
            "55\n",
            "20\n",
            "30\n",
            "99\n"
          ]
        }
      ]
    },
    {
      "cell_type": "code",
      "source": [
        "# actualiza nodo con el nuevo valor dado\n",
        "LL2.actualizaNodo(88, 5)\n",
        "LL2.printLL()"
      ],
      "metadata": {
        "colab": {
          "base_uri": "https://localhost:8080/"
        },
        "id": "RrzBXZo6pFqI",
        "outputId": "6b6943a2-f9e6-4196-e566-7282848614be"
      },
      "execution_count": 229,
      "outputs": [
        {
          "output_type": "stream",
          "name": "stdout",
          "text": [
            "77\n",
            "10\n",
            "55\n",
            "20\n",
            "30\n",
            "88\n"
          ]
        }
      ]
    },
    {
      "cell_type": "code",
      "source": [
        "# remueve el último nodo de la lista\n",
        "LL2.remueve_ultimoNodo()\n",
        "LL2.printLL()"
      ],
      "metadata": {
        "colab": {
          "base_uri": "https://localhost:8080/"
        },
        "id": "Bym_NCxBpFga",
        "outputId": "5ce84e29-742c-457d-f0f7-4eabf81d26da"
      },
      "execution_count": 230,
      "outputs": [
        {
          "output_type": "stream",
          "name": "stdout",
          "text": [
            "77\n",
            "10\n",
            "55\n",
            "20\n",
            "30\n"
          ]
        }
      ]
    },
    {
      "cell_type": "code",
      "source": [
        "# remueve nodo con el índice dado\n",
        "LL2.remueve_enIndice(2)\n",
        "LL2.printLL()"
      ],
      "metadata": {
        "colab": {
          "base_uri": "https://localhost:8080/"
        },
        "id": "ZwbjGrnvpysh",
        "outputId": "984e4dbc-c53b-4893-a099-03da12e6d513"
      },
      "execution_count": 231,
      "outputs": [
        {
          "output_type": "stream",
          "name": "stdout",
          "text": [
            "77\n",
            "10\n",
            "20\n",
            "30\n"
          ]
        }
      ]
    },
    {
      "cell_type": "code",
      "source": [
        "# remueve un nodo con el valor dado\n",
        "LL2.remueve_nodo(77)\n",
        "LL2.printLL()"
      ],
      "metadata": {
        "colab": {
          "base_uri": "https://localhost:8080/"
        },
        "id": "dGx-pNeZqFQG",
        "outputId": "79afa1cb-716f-4d5b-bd54-9ffc29856bf1"
      },
      "execution_count": 232,
      "outputs": [
        {
          "output_type": "stream",
          "name": "stdout",
          "text": [
            "10\n",
            "20\n",
            "30\n"
          ]
        }
      ]
    },
    {
      "cell_type": "code",
      "source": [
        "# imprime el tamaño de la lista\n",
        "LL2.tamañoDeLista()"
      ],
      "metadata": {
        "colab": {
          "base_uri": "https://localhost:8080/"
        },
        "id": "DuGVU-mGqQ4W",
        "outputId": "4f3740d9-b60a-4d2a-f8cd-28f12f5e9885"
      },
      "execution_count": 233,
      "outputs": [
        {
          "output_type": "execute_result",
          "data": {
            "text/plain": [
              "3"
            ]
          },
          "metadata": {},
          "execution_count": 233
        }
      ]
    },
    {
      "cell_type": "code",
      "source": [
        "# regresa el índice donde se encuentra el dato\n",
        "LL2.buscaDato(30)"
      ],
      "metadata": {
        "colab": {
          "base_uri": "https://localhost:8080/"
        },
        "id": "nYt_DVvRrlgu",
        "outputId": "5502ba9d-c138-48a0-c3e5-47d833ca1ffb"
      },
      "execution_count": 236,
      "outputs": [
        {
          "output_type": "execute_result",
          "data": {
            "text/plain": [
              "2"
            ]
          },
          "metadata": {},
          "execution_count": 236
        }
      ]
    }
  ],
  "metadata": {
    "colab": {
      "provenance": []
    },
    "kernelspec": {
      "display_name": "Python 3",
      "name": "python3"
    },
    "language_info": {
      "name": "python"
    }
  },
  "nbformat": 4,
  "nbformat_minor": 0
}