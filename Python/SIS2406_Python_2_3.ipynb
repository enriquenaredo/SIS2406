{
  "nbformat": 4,
  "nbformat_minor": 0,
  "metadata": {
    "colab": {
      "provenance": []
    },
    "kernelspec": {
      "name": "python3",
      "display_name": "Python 3"
    },
    "language_info": {
      "name": "python"
    }
  },
  "cells": [
    {
      "cell_type": "markdown",
      "source": [
        "#SIS2406 - Estructura de Datos y Algoritmos\n",
        "## Primavera 2024\n",
        "\n",
        "<div>\n",
        "<img src=\"https://drive.google.com/uc?export=view&id=1_ZAbL21argoGVFRpHidRYf5vOKgdusal\" width=\"250\"/>\n",
        "</div>\n",
        "\n",
        "### SIS2406_Python_2.3\n",
        "\n",
        "**Enrique Naredo García**\n",
        "\n",
        "<font size = 2>\n",
        "©️ Todos los derechos reservados. All rights reserved.\n",
        "\n",
        "*Nota: El presente documento es una herramienta diseñada única y exclusivamente para los estudiantes de la asignatura arriba mencionada. Se recuerda no compartir esta información fuera de los integrantes registrados en este curso. La reproducción total o parcial de este documento requiere autorización por escrito del titular del copyright.*\n",
        "</font>"
      ],
      "metadata": {
        "id": "Sie-H-Wm-Fp-"
      }
    },
    {
      "cell_type": "markdown",
      "source": [
        "#2.3 Listas doblemente ligadas"
      ],
      "metadata": {
        "id": "1F4oAyeFgQ84"
      }
    },
    {
      "cell_type": "markdown",
      "source": [
        "<div>\n",
        "<img src=\"https://drive.google.com/uc?export=view&id=1pB4dWEoHTEJBmIhmo7264CCTA2ZdLo0r\" width=\"850\"/>\n",
        "</div>\n"
      ],
      "metadata": {
        "id": "4_tj5gjNhdq4"
      }
    },
    {
      "cell_type": "markdown",
      "source": [
        "## Introducción\n",
        "\n",
        "Es un tipo de lista enlazada que permite moverse hacia delante y hacia atrás.\n",
        "\n",
        "* Cada nodo de una lista doblemente enlazada tiene dos enlaces, ademas de los campos de datos.\n",
        "* Un enlace, el derecho, se utiliza para navegar la lista hacia delante.\n",
        "* El otro enlace, el izquierdo, se utiliza para navegar la lista hacia atrás.\n",
        "* Las Listas pueden navegarse hacia delante y hacia atrás.\n",
        "* Las Listas pueden crear, actualizar y eliminar elementos.\n",
        "* En las Listas la posición de los elementos es relevante.\n",
        "* Las Listas admiten elementos duplicados.\n",
        "* Las Listas tienen dos protocolos, uno secuencial y el otro directo."
      ],
      "metadata": {
        "id": "641MhW82_Rz1"
      }
    },
    {
      "cell_type": "markdown",
      "source": [
        "Una lista doblemente enlazada es una lista lineal en la que cada nodo tiene dos enlaces, uno al nodo siguiente, y otro al anterior.\n",
        "\n",
        "Las listas doblemente enlazadas no necesitan un nodo especial para acceder a ellas, pueden recorrerse en ambos sentidos a partir de cualquier nodo, esto es porque a partir de cualquier nodo, siempre es posible alcanzar cualquier nodo de la lista, hasta que se llega a uno de los extremos.\n",
        "\n"
      ],
      "metadata": {
        "id": "czUsDx49_Fgk"
      }
    },
    {
      "cell_type": "markdown",
      "source": [
        "El nodo típico es el mismo que para construir las listas que hemos visto, salvo que tienen otro puntero al nodo anterior:\n",
        "```\n",
        "struct nodo {\n",
        "   int dato;\n",
        "   struct nodo *siguiente;\n",
        "   struct nodo *anterior;\n",
        "};\n",
        "```\n",
        "\n",
        "\n",
        "\n",
        "\n",
        "\n",
        "\n"
      ],
      "metadata": {
        "id": "xE0jFc84_hnT"
      }
    },
    {
      "cell_type": "markdown",
      "source": [
        "##Operaciones\n",
        "\n",
        "De nuevo tenemos el mismo repertorio de operaciones sobre este tipo listas:\n",
        "\n",
        "* Añadir o insertar elementos.\n",
        "* Buscar o localizar elementos.\n",
        "* Borrar elementos.\n",
        "* Moverse a través de la lista, siguiente y anterior.\n"
      ],
      "metadata": {
        "id": "vYTrbcet_oA7"
      }
    },
    {
      "cell_type": "markdown",
      "source": [
        "## Ventajas\n",
        "\n",
        "En algunas aplicaciones podemos desear recorrer la lista hacia adelante y hacia atrás, o dado un elemento, podemos desear conocer rápidamente los elementos anterior y siguiente.\n",
        "\n",
        "* En tales situaciones podríamos desear darle a cada celda sobre una lista un puntero a las celdas siguiente y anterior en la lista.\n",
        "\n",
        "* Otra ventaja de las listas doblemente enlazadas es que podemos usar un puntero a la celda que contiene el i-ésimo elemento de una lista para representar la posición i.\n",
        "\n",
        "* Si usamos punteros podemos declarar celdas que consisten en un elemento y dos punteros.\n"
      ],
      "metadata": {
        "id": "sDI3dtcP_7ic"
      }
    },
    {
      "cell_type": "markdown",
      "source": [
        "## Desventajas\n",
        "\n",
        "* Cada nodo ocupa más espacio en memoria al estar constituido por un segundo campo puntero.\n",
        "* El doble enlace de los nodos permite recorrer la lista en cualquier dirección.\n",
        "* Agregar o eliminar un nodo en una lista doblemente enlazada requiere cambiar más enlaces.\n",
        "* La presencia de un puntero adicional en cada celda y consecuentemente procedimientos algo más largos para algunas de las operaciones básicas de listas."
      ],
      "metadata": {
        "id": "DBUzuKJOAG4c"
      }
    },
    {
      "cell_type": "markdown",
      "source": [
        "## Clase Nodo"
      ],
      "metadata": {
        "id": "oozAZl8T7ULt"
      }
    },
    {
      "cell_type": "code",
      "source": [
        "# Clase Nodo\n",
        "class Nodazo:\n",
        "  # constructor (inicializa)\n",
        "  def __init__(self, dato):\n",
        "    # atributos propios del objeto\n",
        "    self.dato = dato\n",
        "    self.sig  = None\n",
        "    self.prev = None"
      ],
      "metadata": {
        "id": "lfxOilds5pvU"
      },
      "execution_count": 7,
      "outputs": []
    },
    {
      "cell_type": "markdown",
      "source": [
        "## Lista Doblemente Ligada"
      ],
      "metadata": {
        "id": "diqhNtIoCOOP"
      }
    },
    {
      "cell_type": "code",
      "source": [
        "# Clase para la lista doblemente ligada con métodos\n",
        "class listaDobleLigada:\n",
        "\n",
        "  # constructor (inicializa)\n",
        "  def __init__(self):\n",
        "    # atributo 'inicio' de la lista\n",
        "    self.inicio = inicio = None\n",
        "\n",
        "\n",
        "  # Inserta elemento en lista vacia\n",
        "  def InsertaEnListaVacia(self, datito):\n",
        "    if self.inicio is None:\n",
        "      nodo_nuevo = Nodazo(datito)\n",
        "      self.inicio = nodo_nuevo\n",
        "    else:\n",
        "      print(\"La lista esta vacía.\")\n",
        "\n",
        "  # Inserta elemento al final\n",
        "  def InsertaAlFinal(self, datito):\n",
        "    # Verifica si la lista esta vacía\n",
        "    if self.inicio is None:\n",
        "      nodo_nuevo = Nodazo(datito)\n",
        "      self.inicio = nodo_nuevo\n",
        "      return\n",
        "    temp = self.inicio\n",
        "    # Recorre la lista hasta que encuentra NULL\n",
        "    while temp.sig is not None:\n",
        "      temp = temp.sig\n",
        "    nodo_nuevo = Nodazo(datito)\n",
        "    temp.sig = nodo_nuevo\n",
        "    nodo_nuevo.prev = temp\n",
        "\n",
        "  # Elimina los elementos desde el inicio\n",
        "  def EliminaEnInicio(self):\n",
        "    if self.inicio is None:\n",
        "      print(\"La lista doblemente ligada esta vacía, \\\n",
        "            no existen elementos por eliminar.\")\n",
        "      return\n",
        "    if self.inicio.sig is None:\n",
        "      self.inicio = None\n",
        "      return\n",
        "    self.inicio = self.inicio.sig\n",
        "\n",
        "  # Elimina los elementos desde el final\n",
        "  def EliminaAlFinal(self):\n",
        "    # Check if the List is empty\n",
        "    if self.inicio is None:\n",
        "      print(\"La lista doblemente ligada esta vacía, \\\n",
        "             no existen elementos por eliminar.\")\n",
        "      return\n",
        "    if self.inicio.sig is None:\n",
        "      self.inicio = None\n",
        "      return\n",
        "    temp = self.inicio\n",
        "    while temp.sig is not None:\n",
        "      temp = temp.sig\n",
        "    temp.prev.sig = None\n",
        "\n",
        "  # Recorre y muestra cada elemento de la lista\n",
        "  def Muestra(self):\n",
        "    if self.inicio is None:\n",
        "      print(\"La lista doblemente ligada esta vacía.\")\n",
        "      return\n",
        "    else:\n",
        "      temp = self.inicio\n",
        "      while temp is not None:\n",
        "        print(\"El elemento es: \", temp.dato)\n",
        "        temp = temp.sig\n",
        "    print(\"\\n\")\n"
      ],
      "metadata": {
        "id": "Ai0YrGzfBbOq"
      },
      "execution_count": 8,
      "outputs": []
    },
    {
      "cell_type": "code",
      "source": [
        "# Crea la lista doblemente ligada\n",
        "L2L = listaDobleLigada()"
      ],
      "metadata": {
        "id": "2VnWLSakH33e"
      },
      "execution_count": 9,
      "outputs": []
    },
    {
      "cell_type": "code",
      "source": [
        "# Inserta un elemento a la lista vacía\n",
        "L2L.InsertaEnListaVacia(10)"
      ],
      "metadata": {
        "id": "PX2-r_KrH-sq"
      },
      "execution_count": 10,
      "outputs": []
    },
    {
      "cell_type": "code",
      "source": [
        "# Muestra los elementos de la lista\n",
        "L2L.Muestra()"
      ],
      "metadata": {
        "colab": {
          "base_uri": "https://localhost:8080/"
        },
        "id": "6EJRxpa-IFbl",
        "outputId": "3fffd298-c727-47df-81b9-25dcaeeddb91"
      },
      "execution_count": 11,
      "outputs": [
        {
          "output_type": "stream",
          "name": "stdout",
          "text": [
            "El elemento es:  10\n",
            "\n",
            "\n"
          ]
        }
      ]
    },
    {
      "cell_type": "code",
      "source": [
        "# Inserta elementos al final de la lista\n",
        "L2L.InsertaAlFinal(20)\n",
        "L2L.InsertaAlFinal(30)\n",
        "L2L.InsertaAlFinal(40)\n",
        "L2L.InsertaAlFinal(50)\n",
        "L2L.InsertaAlFinal(60)\n",
        "L2L.Muestra()"
      ],
      "metadata": {
        "colab": {
          "base_uri": "https://localhost:8080/"
        },
        "id": "l5O4UII-IzOy",
        "outputId": "7dd31bb6-b1d9-498a-b8ee-cd82f2dec58f"
      },
      "execution_count": 12,
      "outputs": [
        {
          "output_type": "stream",
          "name": "stdout",
          "text": [
            "El elemento es:  10\n",
            "El elemento es:  20\n",
            "El elemento es:  30\n",
            "El elemento es:  40\n",
            "El elemento es:  50\n",
            "El elemento es:  60\n",
            "\n",
            "\n"
          ]
        }
      ]
    },
    {
      "cell_type": "code",
      "source": [
        "# Elimina elemento desde el inicio\n",
        "L2L.EliminaEnInicio()\n",
        "L2L.Muestra()"
      ],
      "metadata": {
        "colab": {
          "base_uri": "https://localhost:8080/"
        },
        "id": "XCugSsmIJA5a",
        "outputId": "ab003e18-69ec-4d73-b965-d0002f3a56d5"
      },
      "execution_count": 13,
      "outputs": [
        {
          "output_type": "stream",
          "name": "stdout",
          "text": [
            "El elemento es:  20\n",
            "El elemento es:  30\n",
            "El elemento es:  40\n",
            "El elemento es:  50\n",
            "El elemento es:  60\n",
            "\n",
            "\n"
          ]
        }
      ]
    },
    {
      "cell_type": "code",
      "source": [
        "# Elimina elemento al final\n",
        "L2L.EliminaAlFinal()\n",
        "L2L.Muestra()"
      ],
      "metadata": {
        "colab": {
          "base_uri": "https://localhost:8080/"
        },
        "id": "NkZjtYxIJNyk",
        "outputId": "7e13f5c5-20bc-420a-cd59-66dce8bfeea4"
      },
      "execution_count": 14,
      "outputs": [
        {
          "output_type": "stream",
          "name": "stdout",
          "text": [
            "El elemento es:  20\n",
            "El elemento es:  30\n",
            "El elemento es:  40\n",
            "El elemento es:  50\n",
            "\n",
            "\n"
          ]
        }
      ]
    }
  ]
}