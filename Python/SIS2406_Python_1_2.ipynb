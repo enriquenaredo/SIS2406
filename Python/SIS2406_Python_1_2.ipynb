{
  "nbformat": 4,
  "nbformat_minor": 0,
  "metadata": {
    "colab": {
      "provenance": []
    },
    "kernelspec": {
      "name": "python3",
      "display_name": "Python 3"
    },
    "language_info": {
      "name": "python"
    }
  },
  "cells": [
    {
      "cell_type": "markdown",
      "source": [
        "#SIS2406 - Estructura de Datos y Algoritmos\n",
        "## Primavera 2024\n",
        "\n",
        "<div>\n",
        "<img src=\"https://drive.google.com/uc?export=view&id=1_ZAbL21argoGVFRpHidRYf5vOKgdusal\" width=\"250\"/>\n",
        "</div>\n",
        "\n",
        "### SIS2406_Python_1.2\n",
        "\n",
        "**Enrique Naredo García**\n",
        "\n",
        "<font size = 2>\n",
        "©️ Todos los derechos reservados. All rights reserved.\n",
        "\n",
        "*Nota: El presente documento es una herramienta diseñada única y exclusivamente para los estudiantes de la asignatura arriba mencionada. Se recuerda no compartir esta información fuera de los integrantes registrados en este curso. La reproducción total o parcial de este documento requiere autorización por escrito del titular del copyright.*\n",
        "</font>"
      ],
      "metadata": {
        "id": "vT9VmVRYxZD1"
      }
    },
    {
      "cell_type": "markdown",
      "source": [
        "#1.2 Arreglos"
      ],
      "metadata": {
        "id": "xik9bnSX9kce"
      }
    },
    {
      "cell_type": "markdown",
      "source": [
        "En esta práctica se introduce los tipos de arreglos utilizados en Python.\n",
        "\n",
        "Se utiliza Jupyter notebook para ejecutar directamente en cada celda el código generado en Python.\n",
        "\n",
        "En cada sección se da una breve explicación y posteriormente se proporciona un ejemplo en código."
      ],
      "metadata": {
        "id": "2_xPYl1Q9oEo"
      }
    },
    {
      "cell_type": "markdown",
      "source": [
        "**Notas:**\n",
        "\n",
        "* En Python el símbolo #, se utiliza para agregar un comentario (el cual no se ejecuta).\n",
        "* Se recomienda realizar la práctica utilizando el lenguaje de programación correspondiente.\n",
        "* Se recomienda realizar modificaciones al código para verificar y comprender de manera correcta el funcionamiento del mismo."
      ],
      "metadata": {
        "id": "sciDJkIj9uPI"
      }
    },
    {
      "cell_type": "markdown",
      "source": [
        "## Python\n",
        "\n",
        "Python es un lenguaje interpretado, lo cual quiere decir que no se compila.\n",
        "\n",
        "* Python ejecuta directamente el código línea por línea.\n",
        "* Si existen errores en el código del programa, su ejecución se detiene.\n",
        "\n"
      ],
      "metadata": {
        "id": "_H_TTqrjFUG-"
      }
    },
    {
      "cell_type": "markdown",
      "source": [
        "###Proceso\n",
        "\n",
        "1. Escribir el código en cada celda.\n",
        "2. Guardar el archivo ejemplo.py en un folder\n",
        "3. Ejecutarlo con la instrucción python ejemplo.py\n",
        "\n",
        "**Notas:**\n",
        "\n",
        "* En Google Colab los Jupyter notebooks usualmente se guardan en la siguiente ruta: /content/drive/MyDrive/Colab Notebooks/.\n",
        "* En Google Colab si el archivo se guarda en el directorio: /content, entonces al momento de cerrar la sesión este archivo desaparecera.\n",
        "* Si se requiere mantener los archivos, entonces se recomienda montar primero el Google drive y crear un directorio para tal fin."
      ],
      "metadata": {
        "id": "WJW97dUGHnK0"
      }
    },
    {
      "cell_type": "markdown",
      "source": [
        "##Ejemplo de Listas\n",
        "\n",
        "Utilizando la librería estándar de Python"
      ],
      "metadata": {
        "id": "NCN5mLbcyTn1"
      }
    },
    {
      "cell_type": "code",
      "source": [
        "# Lista de enteros\n",
        "enteros = [1, 2, 3, 4, 5]\n",
        "print(\"Lista de enteros: \", enteros)"
      ],
      "metadata": {
        "colab": {
          "base_uri": "https://localhost:8080/"
        },
        "id": "AoryL75PyX85",
        "outputId": "874a67a7-7857-47dc-9cd4-3d2db906603f"
      },
      "execution_count": 1,
      "outputs": [
        {
          "output_type": "stream",
          "name": "stdout",
          "text": [
            "Lista de enteros:  [1, 2, 3, 4, 5]\n"
          ]
        }
      ]
    },
    {
      "cell_type": "code",
      "source": [
        "# Lista de floats\n",
        "floats = [1.1, 2.2, 3.3, 4.4, 5.5]\n",
        "print(\"Lista de floats: \", floats)"
      ],
      "metadata": {
        "colab": {
          "base_uri": "https://localhost:8080/"
        },
        "id": "EURawBRwyh0J",
        "outputId": "1668c78c-c770-46aa-9453-7b2ef24b552f"
      },
      "execution_count": 2,
      "outputs": [
        {
          "output_type": "stream",
          "name": "stdout",
          "text": [
            "Lista de floats:  [1.1, 2.2, 3.3, 4.4, 5.5]\n"
          ]
        }
      ]
    },
    {
      "cell_type": "code",
      "source": [
        "# Lista de strings\n",
        "strings = [\"hola\", \"mundo\", \"de\", \"Python\"]\n",
        "print(\"Lista de strings: \", strings)"
      ],
      "metadata": {
        "colab": {
          "base_uri": "https://localhost:8080/"
        },
        "id": "ORO7CO_fylGy",
        "outputId": "b8a754e2-8d2b-4430-e1f0-3dea8200e24f"
      },
      "execution_count": 3,
      "outputs": [
        {
          "output_type": "stream",
          "name": "stdout",
          "text": [
            "Lista de strings:  ['hola', 'mundo', 'de', 'Python']\n"
          ]
        }
      ]
    },
    {
      "cell_type": "code",
      "source": [
        "# Lista de booleanos\n",
        "booleans = [True, False, True, False, True]\n",
        "print(\"Lista de booleanos: \", booleans)"
      ],
      "metadata": {
        "colab": {
          "base_uri": "https://localhost:8080/"
        },
        "id": "0Wl_AbAsyo68",
        "outputId": "f8ea7e89-2759-4a0a-b08b-5f6ae680211f"
      },
      "execution_count": 4,
      "outputs": [
        {
          "output_type": "stream",
          "name": "stdout",
          "text": [
            "Lista de booleanos:  [True, False, True, False, True]\n"
          ]
        }
      ]
    },
    {
      "cell_type": "code",
      "source": [
        "# Lista de tuplas\n",
        "tuplas = [(1, 2), (3, 4), (5, 6)]\n",
        "print(\"Lista de tuplas: \", tuplas)"
      ],
      "metadata": {
        "colab": {
          "base_uri": "https://localhost:8080/"
        },
        "id": "vavkkP7CysfJ",
        "outputId": "23d0c5f6-bee8-4a9e-c61f-9f3688606e18"
      },
      "execution_count": 5,
      "outputs": [
        {
          "output_type": "stream",
          "name": "stdout",
          "text": [
            "Lista de tuplas:  [(1, 2), (3, 4), (5, 6)]\n"
          ]
        }
      ]
    },
    {
      "cell_type": "code",
      "source": [
        "# Lista de arreglos (listas anidadas)\n",
        "arrays = [[1, 2, 3], [4, 5, 6], [7, 8, 9]]\n",
        "print(\"Lista de arreglos: \", arrays)"
      ],
      "metadata": {
        "colab": {
          "base_uri": "https://localhost:8080/"
        },
        "id": "yi20ECb9yvRK",
        "outputId": "49e8a507-4036-41c5-9f9d-f8ded122e3e3"
      },
      "execution_count": 6,
      "outputs": [
        {
          "output_type": "stream",
          "name": "stdout",
          "text": [
            "Lista de arreglos:  [[1, 2, 3], [4, 5, 6], [7, 8, 9]]\n"
          ]
        }
      ]
    },
    {
      "cell_type": "code",
      "source": [
        "# Lista de diccionarios\n",
        "diccionarios = [{\"nombre\": \"Juan\", \"edad\": 30}, {\"nombre\": \"Ana\", \"edad\": 25}]\n",
        "print(\"Lista de diccionarios: \", diccionarios)"
      ],
      "metadata": {
        "colab": {
          "base_uri": "https://localhost:8080/"
        },
        "id": "npc3xCXZyzQL",
        "outputId": "7ec16d7d-8029-43ab-84f0-fa02642a6f33"
      },
      "execution_count": 7,
      "outputs": [
        {
          "output_type": "stream",
          "name": "stdout",
          "text": [
            "Lista de diccionarios:  [{'nombre': 'Juan', 'edad': 30}, {'nombre': 'Ana', 'edad': 25}]\n"
          ]
        }
      ]
    },
    {
      "cell_type": "markdown",
      "source": [
        "##Tabla con métodos para Listas\n",
        "\n",
        "Python tiene un conjunto de métodos integrados que puede usar en listas/matrices.\n",
        "\n",
        "| Method     | Description |\n",
        "| :----------| :------:    |\n",
        "| append()   | Adds an element at the end of the list |\n",
        "| clear()    |\tRemoves all the elements from the list |\n",
        "| copy()     |\tReturns a copy of the list |\n",
        "| count()    | Returns the number of elements with the specified value |\n",
        "| extend()   |\tAdd the elements of a list (or any iterable), to the end of the current list |\n",
        "| index()    |\tReturns the index of the first element with the specified value |\n",
        "| insert()   |\tAdds an element at the specified position |\n",
        "| pop()      |\tRemoves the element at the specified position |\n",
        "| remove()   |\tRemoves the first item with the specified value |\n",
        "| reverse()  |\tReverses the order of the list |\n",
        "| sort()     |\tSorts the list |\n",
        "\n",
        "\n",
        "En Python, las listas son estructuras de datos versátil que puede utilizarse como vector o matriz.\n"
      ],
      "metadata": {
        "id": "hhwzTVCHy-rP"
      }
    },
    {
      "cell_type": "markdown",
      "source": [
        "Aquí hay algunos métodos integrados que se pueden usar en listas:"
      ],
      "metadata": {
        "id": "M5zqvB2D16S9"
      }
    },
    {
      "cell_type": "code",
      "source": [
        "# Crear una lista\n",
        "mi_lista = [1, 2, 3]"
      ],
      "metadata": {
        "id": "uPcFMQVrzgNg"
      },
      "execution_count": 9,
      "outputs": []
    },
    {
      "cell_type": "code",
      "source": [
        "# Agregar un elemento al final de la lista\n",
        "mi_lista.append(4)\n",
        "\n",
        "# Imprime: [1, 2, 3, 4]\n",
        "print(mi_lista)"
      ],
      "metadata": {
        "colab": {
          "base_uri": "https://localhost:8080/"
        },
        "id": "EbxUx3uHzyyS",
        "outputId": "7a277e41-92a0-4e13-8ec2-76609d075121"
      },
      "execution_count": 10,
      "outputs": [
        {
          "output_type": "stream",
          "name": "stdout",
          "text": [
            "[1, 2, 3, 4]\n"
          ]
        }
      ]
    },
    {
      "cell_type": "code",
      "source": [
        "# Insertar un elemento en la posición 1\n",
        "mi_lista.insert(1, 10)\n",
        "\n",
        "# Imprime: [1, 10, 2, 3, 4]\n",
        "print(mi_lista)"
      ],
      "metadata": {
        "id": "XKklCxDKz9mD",
        "outputId": "503c0757-6b2a-427b-9bb6-21edce26a827",
        "colab": {
          "base_uri": "https://localhost:8080/"
        }
      },
      "execution_count": 11,
      "outputs": [
        {
          "output_type": "stream",
          "name": "stdout",
          "text": [
            "[1, 10, 2, 3, 4]\n"
          ]
        }
      ]
    },
    {
      "cell_type": "code",
      "source": [
        "# Eliminar el primer elemento que tenga el valor 10\n",
        "mi_lista.remove(10)\n",
        "\n",
        "# Imprime: [1, 2, 3, 4]\n",
        "print(mi_lista)"
      ],
      "metadata": {
        "id": "3YIm9EtA0PAK",
        "outputId": "d1e54371-d593-49e3-a249-ace47f34c1a8",
        "colab": {
          "base_uri": "https://localhost:8080/"
        }
      },
      "execution_count": 12,
      "outputs": [
        {
          "output_type": "stream",
          "name": "stdout",
          "text": [
            "[1, 2, 3, 4]\n"
          ]
        }
      ]
    },
    {
      "cell_type": "code",
      "source": [
        "# Eliminar el último elemento de la lista\n",
        "mi_lista.pop()\n",
        "\n",
        "# Imprime: [1, 2, 3]\n",
        "print(mi_lista)"
      ],
      "metadata": {
        "id": "wX_AyyjX0Vit",
        "outputId": "e789cd5d-15e3-4265-dee6-dfd592cbafb2",
        "colab": {
          "base_uri": "https://localhost:8080/"
        }
      },
      "execution_count": 13,
      "outputs": [
        {
          "output_type": "stream",
          "name": "stdout",
          "text": [
            "[1, 2, 3]\n"
          ]
        }
      ]
    },
    {
      "cell_type": "code",
      "source": [
        "# Ordenar los elementos de la lista\n",
        "mi_lista.sort()\n",
        "\n",
        "# Imprime: [1, 2, 3]\n",
        "print(mi_lista)"
      ],
      "metadata": {
        "id": "HuwDAjpM0bqK",
        "outputId": "79be0da6-ed19-4fb7-a60d-00e0af2778ec",
        "colab": {
          "base_uri": "https://localhost:8080/"
        }
      },
      "execution_count": 14,
      "outputs": [
        {
          "output_type": "stream",
          "name": "stdout",
          "text": [
            "[1, 2, 3]\n"
          ]
        }
      ]
    },
    {
      "cell_type": "code",
      "source": [
        "# Invertir el orden de los elementos de la lista\n",
        "mi_lista.reverse()\n",
        "\n",
        "# Imprime: [3, 2, 1]\n",
        "print(mi_lista)"
      ],
      "metadata": {
        "id": "MJkGQMyl0hwh",
        "outputId": "81b0c3db-7a1d-484f-bada-fd5548771012",
        "colab": {
          "base_uri": "https://localhost:8080/"
        }
      },
      "execution_count": 15,
      "outputs": [
        {
          "output_type": "stream",
          "name": "stdout",
          "text": [
            "[3, 2, 1]\n"
          ]
        }
      ]
    },
    {
      "cell_type": "code",
      "source": [
        "# Contar el número de ocurrencias del valor 2 en la lista\n",
        "print(mi_lista.count(2))  # Imprime: 1"
      ],
      "metadata": {
        "id": "9T3HbNLY0meg",
        "outputId": "186ebc92-9d32-4c6b-ac42-328cea74154d",
        "colab": {
          "base_uri": "https://localhost:8080/"
        }
      },
      "execution_count": 16,
      "outputs": [
        {
          "output_type": "stream",
          "name": "stdout",
          "text": [
            "1\n"
          ]
        }
      ]
    },
    {
      "cell_type": "markdown",
      "source": [
        "##Arrays\n",
        "\n",
        "En Python, se puede utilizar el módulo array para trabajar con arrays.\n",
        "\n",
        "* Sin embargo, para trabajar con arrays multidimensionales y obtener funcionalidades adicionales, se recomienda utilizar la biblioteca NumPy.\n",
        "\n",
        "* Aquí hay algunos métodos integrados que se pueden usar en arrays utilizando el módulo array:"
      ],
      "metadata": {
        "id": "9NF2CT6k0tUi"
      }
    },
    {
      "cell_type": "code",
      "source": [
        "# Importar el módulo array\n",
        "import array as arr"
      ],
      "metadata": {
        "id": "tN9jAtUl2Id8"
      },
      "execution_count": 17,
      "outputs": []
    },
    {
      "cell_type": "code",
      "source": [
        "# Crear un array de enteros\n",
        "mi_array = arr.array('i', [1, 2, 3, 4, 5])"
      ],
      "metadata": {
        "id": "ul8OXTYz2KS_"
      },
      "execution_count": 21,
      "outputs": []
    },
    {
      "cell_type": "code",
      "source": [
        "# Imprimir el array\n",
        "print(mi_array)"
      ],
      "metadata": {
        "id": "56nsFi-s2UQa",
        "outputId": "89e7b6f7-534f-47c1-d9c8-2e295c085527",
        "colab": {
          "base_uri": "https://localhost:8080/"
        }
      },
      "execution_count": 22,
      "outputs": [
        {
          "output_type": "stream",
          "name": "stdout",
          "text": [
            "array('i', [1, 2, 3, 4, 5])\n"
          ]
        }
      ]
    },
    {
      "cell_type": "code",
      "source": [
        "# Obtener el tipo de datos del array\n",
        "print(mi_array.typecode)  # Imprime: 'i'"
      ],
      "metadata": {
        "id": "0-YVas432aMY",
        "outputId": "d16d157e-4c02-4e9f-a7dd-0ddeba16e434",
        "colab": {
          "base_uri": "https://localhost:8080/"
        }
      },
      "execution_count": 23,
      "outputs": [
        {
          "output_type": "stream",
          "name": "stdout",
          "text": [
            "i\n"
          ]
        }
      ]
    },
    {
      "cell_type": "code",
      "source": [
        "# Obtener el tamaño del elemento en bytes\n",
        "print(mi_array.itemsize)  # Imprime: 4"
      ],
      "metadata": {
        "id": "Mxi42Rq72eSU",
        "outputId": "76cc5e4e-2a0f-4efe-bb5b-9429694e9d42",
        "colab": {
          "base_uri": "https://localhost:8080/"
        }
      },
      "execution_count": 24,
      "outputs": [
        {
          "output_type": "stream",
          "name": "stdout",
          "text": [
            "4\n"
          ]
        }
      ]
    },
    {
      "cell_type": "code",
      "source": [
        "# Obtener el número de elementos en el array\n",
        "print(len(mi_array))  # Imprime: 5"
      ],
      "metadata": {
        "id": "OzVVOeLJ2iDo",
        "outputId": "bc63c9f3-515e-450f-a047-c0b3be8d49ac",
        "colab": {
          "base_uri": "https://localhost:8080/"
        }
      },
      "execution_count": 25,
      "outputs": [
        {
          "output_type": "stream",
          "name": "stdout",
          "text": [
            "5\n"
          ]
        }
      ]
    },
    {
      "cell_type": "code",
      "source": [
        "# Agregar un elemento al final del array\n",
        "mi_array.append(6)\n",
        "print(mi_array)  # Imprime: array('i', [1, 2, 3, 4, 5, 6])"
      ],
      "metadata": {
        "id": "6gkqsrcr2l2m",
        "outputId": "ffcb9441-5bc6-4459-b0d1-482260174097",
        "colab": {
          "base_uri": "https://localhost:8080/"
        }
      },
      "execution_count": 26,
      "outputs": [
        {
          "output_type": "stream",
          "name": "stdout",
          "text": [
            "array('i', [1, 2, 3, 4, 5, 6])\n"
          ]
        }
      ]
    },
    {
      "cell_type": "markdown",
      "source": [
        "##Librería numpy\n",
        "\n",
        "NumPy (Numerical Python) es una biblioteca Python de código abierto que se utiliza en casi todos los campos de la ciencia y la ingeniería.\n",
        "\n",
        "Es el estándar universal para trabajar con datos numéricos en Python y está en el centro de los ecosistemas científicos de Python y PyData."
      ],
      "metadata": {
        "id": "0dpAh3qu2pOA"
      }
    },
    {
      "cell_type": "code",
      "source": [
        "# Importar la librería numpy\n",
        "import numpy as np"
      ],
      "metadata": {
        "id": "bz9q6cEJ2vOf"
      },
      "execution_count": 27,
      "outputs": []
    },
    {
      "cell_type": "code",
      "source": [
        "# Creación de un array de floats\n",
        "floats = np.array([1.1, 2.2, 3.3, 4.4, 5.5])"
      ],
      "metadata": {
        "id": "VTSqrCYc2yBf"
      },
      "execution_count": 28,
      "outputs": []
    },
    {
      "cell_type": "code",
      "source": [
        "# Acceder a un elemento por su índice\n",
        "print(floats[0])  # Imprime: 1.1"
      ],
      "metadata": {
        "id": "O82dBMCW20zY",
        "outputId": "7f724396-b879-4dbb-e545-af775b9dbe40",
        "colab": {
          "base_uri": "https://localhost:8080/"
        }
      },
      "execution_count": 29,
      "outputs": [
        {
          "output_type": "stream",
          "name": "stdout",
          "text": [
            "1.1\n"
          ]
        }
      ]
    },
    {
      "cell_type": "code",
      "source": [
        "# Modificar un elemento por su índice\n",
        "floats[1] = 20.2\n",
        "print(floats)  # Imprime: [ 1.1 20.2 3.3 4.4 5.5]"
      ],
      "metadata": {
        "id": "mEiy2hp725QI",
        "outputId": "c718528a-8720-49c9-cd5c-d779d7a5b67d",
        "colab": {
          "base_uri": "https://localhost:8080/"
        }
      },
      "execution_count": 30,
      "outputs": [
        {
          "output_type": "stream",
          "name": "stdout",
          "text": [
            "[ 1.1 20.2  3.3  4.4  5.5]\n"
          ]
        }
      ]
    },
    {
      "cell_type": "code",
      "source": [
        "# Longitud del array\n",
        "print(len(floats))  # Imprime: 5"
      ],
      "metadata": {
        "id": "qRrpgxnF2_5D",
        "outputId": "4afa7440-aaec-4fc5-bbf1-e6253b6cc9fe",
        "colab": {
          "base_uri": "https://localhost:8080/"
        }
      },
      "execution_count": 31,
      "outputs": [
        {
          "output_type": "stream",
          "name": "stdout",
          "text": [
            "5\n"
          ]
        }
      ]
    },
    {
      "cell_type": "markdown",
      "source": [
        "##Matrices\n",
        "\n",
        "Para matrices, podemos usar la biblioteca NumPy.\n",
        "\n",
        "Aquí hay algunos métodos integrados que se pueden usar en matrices:"
      ],
      "metadata": {
        "id": "AKu0iznn3CTf"
      }
    },
    {
      "cell_type": "code",
      "source": [
        "# Importar la biblioteca NumPy\n",
        "import numpy as np"
      ],
      "metadata": {
        "id": "tZHC7Q0Q3HDc"
      },
      "execution_count": 33,
      "outputs": []
    },
    {
      "cell_type": "code",
      "source": [
        "# Crear una matriz\n",
        "mi_matriz = np.array([[1, 2, 3], [4, 5, 6], [7, 8, 9]])"
      ],
      "metadata": {
        "id": "SehrxMkO3I2L"
      },
      "execution_count": 32,
      "outputs": []
    },
    {
      "cell_type": "code",
      "source": [
        "# Imprimir la matriz\n",
        "print(mi_matriz)"
      ],
      "metadata": {
        "id": "2jKckns13NRh",
        "outputId": "43d850fc-b3e5-47b3-e16c-0d45f1286d60",
        "colab": {
          "base_uri": "https://localhost:8080/"
        }
      },
      "execution_count": 34,
      "outputs": [
        {
          "output_type": "stream",
          "name": "stdout",
          "text": [
            "[[1 2 3]\n",
            " [4 5 6]\n",
            " [7 8 9]]\n"
          ]
        }
      ]
    },
    {
      "cell_type": "code",
      "source": [
        "# Acceder al elemento en la fila 1, columna 2\n",
        "print(mi_matriz[1, 2])  # Imprime: 6"
      ],
      "metadata": {
        "id": "E-RSLZo_3P9S",
        "outputId": "82f35d1b-6732-41aa-8eb2-2c71a2532abf",
        "colab": {
          "base_uri": "https://localhost:8080/"
        }
      },
      "execution_count": 35,
      "outputs": [
        {
          "output_type": "stream",
          "name": "stdout",
          "text": [
            "6\n"
          ]
        }
      ]
    },
    {
      "cell_type": "code",
      "source": [
        "# Modificar el elemento en la fila 1, columna 2\n",
        "mi_matriz[1, 2] = 20\n",
        "print(mi_matriz)  # Imprime: [[ 1  2  3] [ 4 20  6] [ 7  8  9]]"
      ],
      "metadata": {
        "id": "GW-Ua49U3VK0",
        "outputId": "fae6939e-a85e-40af-af30-e79f3bb00627",
        "colab": {
          "base_uri": "https://localhost:8080/"
        }
      },
      "execution_count": 36,
      "outputs": [
        {
          "output_type": "stream",
          "name": "stdout",
          "text": [
            "[[ 1  2  3]\n",
            " [ 4  5 20]\n",
            " [ 7  8  9]]\n"
          ]
        }
      ]
    },
    {
      "cell_type": "code",
      "source": [
        "# Obtener el número de filas y columnas de la matriz\n",
        "print(mi_matriz.shape)  # Imprime: (3, 3)"
      ],
      "metadata": {
        "id": "1aJPH5Ek3eZG",
        "outputId": "4c19f656-c99a-480b-d766-70ff03bc1a22",
        "colab": {
          "base_uri": "https://localhost:8080/"
        }
      },
      "execution_count": 37,
      "outputs": [
        {
          "output_type": "stream",
          "name": "stdout",
          "text": [
            "(3, 3)\n"
          ]
        }
      ]
    },
    {
      "cell_type": "code",
      "source": [
        "# Sumar todos los elementos de la matriz\n",
        "print(np.sum(mi_matriz))  # Imprime: 45"
      ],
      "metadata": {
        "id": "CCKJ6JMx3hNt",
        "outputId": "f5f714c3-8c89-4804-fd04-20c1f01d79a2",
        "colab": {
          "base_uri": "https://localhost:8080/"
        }
      },
      "execution_count": 38,
      "outputs": [
        {
          "output_type": "stream",
          "name": "stdout",
          "text": [
            "59\n"
          ]
        }
      ]
    },
    {
      "cell_type": "code",
      "source": [
        "# Encontrar el máximo y el mínimo de los elementos de la matriz\n",
        "print(np.max(mi_matriz))  # Imprime: 20\n",
        "print(np.min(mi_matriz))  # Imprime: 1"
      ],
      "metadata": {
        "id": "usL4rgry3lHO",
        "outputId": "47c40168-70ba-4b97-e047-413ca92a700c",
        "colab": {
          "base_uri": "https://localhost:8080/"
        }
      },
      "execution_count": 39,
      "outputs": [
        {
          "output_type": "stream",
          "name": "stdout",
          "text": [
            "20\n",
            "1\n"
          ]
        }
      ]
    },
    {
      "cell_type": "code",
      "source": [
        "# Ordenar los elementos de la matriz\n",
        "mi_matriz_ordenada = np.sort(mi_matriz)\n",
        "print(mi_matriz_ordenada)"
      ],
      "metadata": {
        "id": "seqJQPSW3oH_",
        "outputId": "cc0a1404-cfd2-4d1a-e1eb-65250404a55b",
        "colab": {
          "base_uri": "https://localhost:8080/"
        }
      },
      "execution_count": 40,
      "outputs": [
        {
          "output_type": "stream",
          "name": "stdout",
          "text": [
            "[[ 1  2  3]\n",
            " [ 4  5 20]\n",
            " [ 7  8  9]]\n"
          ]
        }
      ]
    },
    {
      "cell_type": "markdown",
      "source": [
        "##Arreglos Multidimensionales\n",
        "\n",
        "Para trabajar con arreglos multidimensionales en Python, se puede utilizar la biblioteca NumPy.\n",
        "\n",
        "\n",
        "A continuación, se presentan algunos ejemplos de código en Python que muestran cómo crear y manipular arreglos multidimensionales usando NumPy."
      ],
      "metadata": {
        "id": "vnX6emC03s2f"
      }
    },
    {
      "cell_type": "code",
      "source": [
        "# ya se importa anteriormente\n",
        "# solo para fines ilustrativos\n",
        "import numpy as np"
      ],
      "metadata": {
        "id": "bXLgovh530aB"
      },
      "execution_count": null,
      "outputs": []
    },
    {
      "cell_type": "code",
      "source": [
        "# Crear un arreglo bidimensional de enteros\n",
        "mi_arreglo = np.array([[1, 2, 3], [4, 5, 6], [7, 8, 9]])"
      ],
      "metadata": {
        "id": "j0jnrrzg4Cs0"
      },
      "execution_count": 41,
      "outputs": []
    },
    {
      "cell_type": "code",
      "source": [
        "# Imprimir el arreglo\n",
        "print(mi_arreglo)"
      ],
      "metadata": {
        "id": "wS6pGVf04G2l"
      },
      "execution_count": null,
      "outputs": []
    },
    {
      "cell_type": "code",
      "source": [
        "# Acceder al elemento en la posición (1, 1)\n",
        "print(mi_arreglo[1, 1])  # Imprime: 5"
      ],
      "metadata": {
        "id": "prKratk44Kez",
        "outputId": "53a7655d-b47c-465a-bf18-1781c3452608",
        "colab": {
          "base_uri": "https://localhost:8080/"
        }
      },
      "execution_count": 43,
      "outputs": [
        {
          "output_type": "stream",
          "name": "stdout",
          "text": [
            "5\n"
          ]
        }
      ]
    },
    {
      "cell_type": "code",
      "source": [
        "# Modificar el elemento en la posición (1, 1)\n",
        "mi_arreglo[1, 1] = 10\n",
        "print(mi_arreglo)\n",
        "# Imprime:\n",
        "#   [[ 1,  2,  3],\n",
        "#    [ 4, 10,  6],\n",
        "#    [ 7,  8,  9]]"
      ],
      "metadata": {
        "id": "w33Qvayo6K4A",
        "outputId": "e4982fc6-230b-4585-d431-723f4744a981",
        "colab": {
          "base_uri": "https://localhost:8080/"
        }
      },
      "execution_count": 44,
      "outputs": [
        {
          "output_type": "stream",
          "name": "stdout",
          "text": [
            "[[ 1  2  3]\n",
            " [ 4 10  6]\n",
            " [ 7  8  9]]\n"
          ]
        }
      ]
    },
    {
      "cell_type": "code",
      "source": [
        "# Obtener el número de dimensiones del arreglo\n",
        "print(mi_arreglo.ndim)  # Imprime: 2"
      ],
      "metadata": {
        "id": "MTgd4hL46bCW",
        "outputId": "a36523a4-8880-4974-ea22-e291421cb35a",
        "colab": {
          "base_uri": "https://localhost:8080/"
        }
      },
      "execution_count": 45,
      "outputs": [
        {
          "output_type": "stream",
          "name": "stdout",
          "text": [
            "2\n"
          ]
        }
      ]
    },
    {
      "cell_type": "code",
      "source": [
        "# Obtener el tamaño del arreglo\n",
        "print(mi_arreglo.size)  # Imprime: 9"
      ],
      "metadata": {
        "id": "wik5wsJm6fkv",
        "outputId": "52522816-3c8f-4ddb-9ded-d1b6b9a03907",
        "colab": {
          "base_uri": "https://localhost:8080/"
        }
      },
      "execution_count": 46,
      "outputs": [
        {
          "output_type": "stream",
          "name": "stdout",
          "text": [
            "9\n"
          ]
        }
      ]
    },
    {
      "cell_type": "code",
      "source": [
        "# Obtener el tamaño de cada dimensión del arreglo\n",
        "print(mi_arreglo.shape)  # Imprime: (3, 3)"
      ],
      "metadata": {
        "id": "fG7MvBN16ih8",
        "outputId": "55ce40d2-dcc9-4f14-edaf-183db88c0ff9",
        "colab": {
          "base_uri": "https://localhost:8080/"
        }
      },
      "execution_count": 47,
      "outputs": [
        {
          "output_type": "stream",
          "name": "stdout",
          "text": [
            "(3, 3)\n"
          ]
        }
      ]
    },
    {
      "cell_type": "code",
      "source": [
        "# Sumar todos los elementos del arreglo\n",
        "print(np.sum(mi_arreglo))  # Imprime: 45"
      ],
      "metadata": {
        "id": "Uo83HmOF6lPe",
        "outputId": "dd5ac4e8-26e1-4eba-ee04-059e1f8c7710",
        "colab": {
          "base_uri": "https://localhost:8080/"
        }
      },
      "execution_count": 48,
      "outputs": [
        {
          "output_type": "stream",
          "name": "stdout",
          "text": [
            "50\n"
          ]
        }
      ]
    },
    {
      "cell_type": "code",
      "source": [
        "# Encontrar el máximo y el mínimo de los elementos del arreglo\n",
        "print(np.max(mi_arreglo))  # Imprime: 10\n",
        "print(np.min(mi_arreglo))  # Imprime: 1"
      ],
      "metadata": {
        "id": "JYl_4y8a6oje",
        "outputId": "c6f44640-15c0-46a7-8ee2-ae4edc8fd3ef",
        "colab": {
          "base_uri": "https://localhost:8080/"
        }
      },
      "execution_count": 49,
      "outputs": [
        {
          "output_type": "stream",
          "name": "stdout",
          "text": [
            "10\n",
            "1\n"
          ]
        }
      ]
    },
    {
      "cell_type": "code",
      "source": [
        "# Ordenar los elementos del arreglo\n",
        "mi_arreglo_ordenado = np.sort(mi_arreglo, axis=None)\n",
        "print(mi_arreglo_ordenado)"
      ],
      "metadata": {
        "id": "3L_JuY1X6siB",
        "outputId": "eff35578-1442-482f-fb43-ef5e20eb7472",
        "colab": {
          "base_uri": "https://localhost:8080/"
        }
      },
      "execution_count": 50,
      "outputs": [
        {
          "output_type": "stream",
          "name": "stdout",
          "text": [
            "[ 1  2  3  4  6  7  8  9 10]\n"
          ]
        }
      ]
    },
    {
      "cell_type": "code",
      "source": [
        "# Crear un arreglo tridimensional de ceros\n",
        "mi_arreglo_ceros = np.zeros((2, 3, 4))\n",
        "\n",
        "# Imprimir el arreglo\n",
        "print(mi_arreglo_ceros)"
      ],
      "metadata": {
        "id": "z0aqRvWk6vbu",
        "outputId": "57b02f51-d2a3-4d0a-f542-024fc194433a",
        "colab": {
          "base_uri": "https://localhost:8080/"
        }
      },
      "execution_count": 55,
      "outputs": [
        {
          "output_type": "stream",
          "name": "stdout",
          "text": [
            "[[[0. 0. 0. 0.]\n",
            "  [0. 0. 0. 0.]\n",
            "  [0. 0. 0. 0.]]\n",
            "\n",
            " [[0. 0. 0. 0.]\n",
            "  [0. 0. 0. 0.]\n",
            "  [0. 0. 0. 0.]]]\n"
          ]
        }
      ]
    },
    {
      "cell_type": "code",
      "source": [
        "# Crear un arreglo tridimensional de unos\n",
        "mi_arreglo_unos = np.ones((2, 3, 4))\n",
        "\n",
        "# Imprimir el arreglo\n",
        "print(mi_arreglo_unos)"
      ],
      "metadata": {
        "id": "kMPJRexe61sU",
        "outputId": "59e6ab8b-d32f-4c52-cbe3-89bf466f431d",
        "colab": {
          "base_uri": "https://localhost:8080/"
        }
      },
      "execution_count": 56,
      "outputs": [
        {
          "output_type": "stream",
          "name": "stdout",
          "text": [
            "[[[1. 1. 1. 1.]\n",
            "  [1. 1. 1. 1.]\n",
            "  [1. 1. 1. 1.]]\n",
            "\n",
            " [[1. 1. 1. 1.]\n",
            "  [1. 1. 1. 1.]\n",
            "  [1. 1. 1. 1.]]]\n"
          ]
        }
      ]
    },
    {
      "cell_type": "code",
      "source": [
        "# Crear un arreglo bidimensional con una secuencia de enteros\n",
        "mi_arreglo_secuencia = np.arange(1, 13).reshape(3, 4)\n",
        "\n",
        "# Imprimir el arreglo\n",
        "print(mi_arreglo_secuencia)"
      ],
      "metadata": {
        "id": "9ih1jNLu7Ie3",
        "outputId": "ad21b6cc-316e-485b-f091-5751064e9639",
        "colab": {
          "base_uri": "https://localhost:8080/"
        }
      },
      "execution_count": 62,
      "outputs": [
        {
          "output_type": "stream",
          "name": "stdout",
          "text": [
            "[[ 1  2  3  4]\n",
            " [ 5  6  7  8]\n",
            " [ 9 10 11 12]]\n"
          ]
        }
      ]
    }
  ]
}