{
  "nbformat": 4,
  "nbformat_minor": 0,
  "metadata": {
    "colab": {
      "provenance": []
    },
    "kernelspec": {
      "name": "python3",
      "display_name": "Python 3"
    },
    "language_info": {
      "name": "python"
    }
  },
  "cells": [
    {
      "cell_type": "markdown",
      "source": [
        "#SIS2406 - Estructura de Datos y Algoritmos\n",
        "## Primavera 2024\n",
        "\n",
        "<div>\n",
        "<img src=\"https://drive.google.com/uc?export=view&id=1_ZAbL21argoGVFRpHidRYf5vOKgdusal\" width=\"250\"/>\n",
        "</div>\n",
        "\n",
        "### SIS2406_Python_3.1\n",
        "\n",
        "**Enrique Naredo García**\n",
        "\n",
        "<font size = 2>\n",
        "©️ Todos los derechos reservados. All rights reserved.\n",
        "\n",
        "*Nota: El presente documento es una herramienta diseñada única y exclusivamente para los estudiantes de la asignatura arriba mencionada. Se recuerda no compartir esta información fuera de los integrantes registrados en este curso. La reproducción total o parcial de este documento requiere autorización por escrito del titular del copyright.*\n",
        "</font>"
      ],
      "metadata": {
        "id": "XyOon8Pv7UI9"
      }
    },
    {
      "cell_type": "markdown",
      "source": [
        "# PILAS"
      ],
      "metadata": {
        "id": "gXYEg1iESDdE"
      }
    },
    {
      "cell_type": "markdown",
      "source": [
        "Son colecciones de elementos ordenados que únicamente permiten dos acciones:\n",
        "\n",
        "* Añadir un elemento a la pila.\n",
        "* Sacar un elemento de la pila.\n",
        "\n",
        "La peculiaridad es que el último elemento en entrar es el primero en salir.\n",
        "\n",
        "* En inglés se conocen como estructuras LIFO (Last In First Out).\n",
        "\n",
        "* Las podemos crear como listas normales y añadir elementos al final con el append()."
      ],
      "metadata": {
        "id": "A4UMmSW4dDc0"
      }
    },
    {
      "cell_type": "markdown",
      "source": [
        "## Pila usando lista simple"
      ],
      "metadata": {
        "id": "N9IS3UzuT-p5"
      }
    },
    {
      "cell_type": "code",
      "source": [
        "## Ejemplo de pila\n",
        "# usando append()\n",
        "pila1 = [39,42,58]\n",
        "pila1.append(67)\n",
        "pila1.append(79)\n",
        "print(pila1)"
      ],
      "metadata": {
        "id": "7JhpwCR17Tvz",
        "colab": {
          "base_uri": "https://localhost:8080/"
        },
        "outputId": "5c3b903a-a657-4178-b5fe-3fcd5498f76c"
      },
      "execution_count": 2,
      "outputs": [
        {
          "output_type": "stream",
          "name": "stdout",
          "text": [
            "[39, 42, 58, 67, 79]\n"
          ]
        }
      ]
    },
    {
      "cell_type": "markdown",
      "source": [
        "Para sacar los elementos utilizamos el método pop().\n",
        "\n",
        "Al utilizar este método devolvemos el último elemento, pero también lo borramos:"
      ],
      "metadata": {
        "id": "DDKcbu4ySxTr"
      }
    },
    {
      "cell_type": "code",
      "source": [
        "## Ejemplo de pila\n",
        "# usando pop()\n",
        "print(pila1.pop())\n",
        "print(pila1)"
      ],
      "metadata": {
        "colab": {
          "base_uri": "https://localhost:8080/"
        },
        "id": "uiAOCfvySbOX",
        "outputId": "0009751b-61e4-441f-eb08-d39fc5d74f95"
      },
      "execution_count": 3,
      "outputs": [
        {
          "output_type": "stream",
          "name": "stdout",
          "text": [
            "79\n",
            "[39, 42, 58, 67]\n"
          ]
        }
      ]
    },
    {
      "cell_type": "markdown",
      "source": [
        "##Pila usando una clase"
      ],
      "metadata": {
        "id": "LqgnAMKJUExV"
      }
    },
    {
      "cell_type": "code",
      "execution_count": 4,
      "metadata": {
        "id": "gWxYkJjBJDST"
      },
      "outputs": [],
      "source": [
        "class Pila:\n",
        "  def __init__(self):\n",
        "    self.items = []\n",
        "\n",
        "  def estaVacia(self):\n",
        "    return self.items == []\n",
        "\n",
        "  def agregar(self, item):\n",
        "    self.items.append(item)\n",
        "\n",
        "  def extraer(self):\n",
        "    return self.items.pop()\n",
        "\n",
        "  def inspeccionar(self):\n",
        "    return self.items[len(self.items)-1]\n",
        "\n",
        "  def tamanio(self):\n",
        "    return len(self.items)"
      ]
    },
    {
      "cell_type": "code",
      "source": [
        "P2 = Pila()\n",
        "\n",
        "print(P2.estaVacia())\n",
        "P2.agregar(4)\n",
        "P2.agregar('gato')\n",
        "print(P2.inspeccionar())\n",
        "P2.agregar(True)\n",
        "print(P2.tamanio())\n",
        "print(P2.estaVacia())\n",
        "P2.agregar(84.5)\n",
        "print(P2.extraer())\n",
        "print(P2.extraer())\n",
        "print(P2.tamanio())"
      ],
      "metadata": {
        "colab": {
          "base_uri": "https://localhost:8080/"
        },
        "id": "kgIySHAletwc",
        "outputId": "8b562604-9165-4f69-f0ce-a808c083c027"
      },
      "execution_count": 5,
      "outputs": [
        {
          "output_type": "stream",
          "name": "stdout",
          "text": [
            "True\n",
            "gato\n",
            "3\n",
            "False\n",
            "84.5\n",
            "True\n",
            "2\n"
          ]
        }
      ]
    },
    {
      "cell_type": "markdown",
      "source": [
        "## Pila usando una clase (variante)"
      ],
      "metadata": {
        "id": "7EXJ0uGjVnM7"
      }
    },
    {
      "cell_type": "code",
      "source": [
        "class Pila2:\n",
        "  def __init__(self):\n",
        "    self.items = []\n",
        "\n",
        "  def vacia(self):\n",
        "    return self.items == []\n",
        "\n",
        "  def incluir(self, item):\n",
        "    self.items.insert(0,item)\n",
        "\n",
        "  def sacar(self):\n",
        "    return self.items.pop(0)\n",
        "\n",
        "  def verificar(self):\n",
        "    return self.items[0]\n",
        "\n",
        "  def tamanio(self):\n",
        "    return len(self.items)\n"
      ],
      "metadata": {
        "id": "rBdRCSB3fIta"
      },
      "execution_count": 6,
      "outputs": []
    },
    {
      "cell_type": "code",
      "source": [
        "# caso de uso\n",
        "q = Pila2()\n",
        "q.incluir('hola')\n",
        "q.incluir('verdadero')\n",
        "print(q.sacar())"
      ],
      "metadata": {
        "colab": {
          "base_uri": "https://localhost:8080/"
        },
        "id": "7ATZUeFQVPii",
        "outputId": "80d89fb1-5800-4d4c-ec45-d0664f3437e5"
      },
      "execution_count": 7,
      "outputs": [
        {
          "output_type": "stream",
          "name": "stdout",
          "text": [
            "verdadero\n"
          ]
        }
      ]
    },
    {
      "cell_type": "code",
      "source": [
        "# caso de uso\n",
        "r = Pila2()\n",
        "r.incluir('x')\n",
        "r.incluir('y')\n",
        "r.sacar()\n",
        "r.incluir('z')\n",
        "r.verificar()"
      ],
      "metadata": {
        "colab": {
          "base_uri": "https://localhost:8080/",
          "height": 35
        },
        "id": "fx09BW1Ufyt6",
        "outputId": "a82325da-a63b-422a-dda3-7285ccf2195e"
      },
      "execution_count": 8,
      "outputs": [
        {
          "output_type": "execute_result",
          "data": {
            "text/plain": [
              "'z'"
            ],
            "application/vnd.google.colaboratory.intrinsic+json": {
              "type": "string"
            }
          },
          "metadata": {},
          "execution_count": 8
        }
      ]
    },
    {
      "cell_type": "code",
      "source": [
        "# caso de uso\n",
        "t = Pila2()\n",
        "t.incluir('x')\n",
        "t.incluir('y')\n",
        "t.incluir('z')\n",
        "while not t.vacia():\n",
        "  print(t.sacar())"
      ],
      "metadata": {
        "colab": {
          "base_uri": "https://localhost:8080/"
        },
        "id": "E8azY5BWf2d8",
        "outputId": "373dc437-7627-4085-f18d-8f258cd6b760"
      },
      "execution_count": 9,
      "outputs": [
        {
          "output_type": "stream",
          "name": "stdout",
          "text": [
            "z\n",
            "y\n",
            "x\n"
          ]
        }
      ]
    },
    {
      "cell_type": "markdown",
      "source": [
        "## Pila usando lista ligada"
      ],
      "metadata": {
        "id": "eMf_bnGwW1mg"
      }
    },
    {
      "cell_type": "markdown",
      "source": [
        "Implementación de una pila utilizando una lista ligada."
      ],
      "metadata": {
        "id": "_KJZ0FvnrHma"
      }
    },
    {
      "cell_type": "code",
      "source": [
        "# se crea una clase para los nodos\n",
        "class Nodita:\n",
        "\tdef __init__(self, dato):\n",
        "\t\tself.dato = dato\n",
        "\t\tself.siguiente = None"
      ],
      "metadata": {
        "id": "qDzIcUFBq8al"
      },
      "execution_count": 10,
      "outputs": []
    },
    {
      "cell_type": "code",
      "source": [
        "# se crea la clase para las pilas\n",
        "class Pilota:\n",
        "\n",
        "\t# Se inicializa la pila con un nodo \"dummy\"\n",
        "\t# (falso, ficticio), el cuál es más fácil\n",
        "\t# de manejar en los casos extremos\n",
        "\tdef __init__(self):\n",
        "\t\tself.inicio = Nodita(\"inicio\")\n",
        "\t\tself.size = 0\n",
        "\n",
        "\t# obtiene el tamaño actual de la pila\n",
        "\tdef getTamanio(self):\n",
        "\t\treturn self.size\n",
        "\n",
        "\t# verifica si la pila esta vacía\n",
        "\tdef vacia(self):\n",
        "\t\tvalorLogico = self.size == 0\n",
        "\t\tif valorLogico:\n",
        "\t\t\tprint('\\033[2;31mPila Vacía\\33[30m')\n",
        "\t\treturn valorLogico\n",
        "\n",
        "\t# impresión de la pila\n",
        "\tdef __str__(self):\n",
        "\t\tsalida = \"\"\n",
        "\t\t# verifica si la pila esta vacía\n",
        "\t\tif self.vacia():\n",
        "\t\t\treturn \"No hay nada\"\n",
        "\t\telse:\n",
        "\t\t\tactual = self.inicio.siguiente\n",
        "\t\t\twhile actual:\n",
        "\t\t\t  salida += str(actual.dato) + \"=>\"\n",
        "\t\t\t  actual = actual.siguiente\n",
        "\t\t\treturn salida[:-2]\n",
        "\n",
        "\t# obtiene el elemento en la cima de la pila\n",
        "\tdef cima(self):\n",
        "\t\t# verifica si la pila esta vacía\n",
        "\t\tif self.vacia():\n",
        "\t\t\treturn \"No hay nada\"\n",
        "\t\telse:\n",
        "\t\t\treturn self.inicio.siguiente.dato\n",
        "\n",
        "\t# agrega (push) un dato en la pila\n",
        "\tdef mete(self, dato):\n",
        "\t\tnod1t0 = Nodita(dato)\n",
        "\t\tnod1t0.siguiente = self.inicio.siguiente\n",
        "\t\tself.inicio.siguiente = nod1t0\n",
        "\t\tself.size += 1\n",
        "\n",
        "\t# elimina (pop) un dato de la pila\n",
        "\tdef saca(self):\n",
        "\t\tif self.vacia():\n",
        "\t\t\treturn \"nada\"\n",
        "\t\telse:\n",
        "\t\t\tquita = self.inicio.siguiente\n",
        "\t\t\tself.inicio.siguiente = self.inicio.siguiente.siguiente\n",
        "\t\t\tself.size -= 1\n",
        "\t\t\treturn quita.dato"
      ],
      "metadata": {
        "id": "YwVSEWptgz--"
      },
      "execution_count": 18,
      "outputs": []
    },
    {
      "cell_type": "code",
      "source": [
        "# casos de uso\n",
        "pilis = Pilota()\n",
        "\n",
        "for i in range(1,22,2):\n",
        "  pilis.mete(i)\n",
        "\n",
        "print(f\"Tamaño de la Pila: {pilis.getTamanio()}\")\n",
        "print(f\"Elemento en la cima: {pilis.cima()}\")\n",
        "print(f\"Pila: {pilis}\")"
      ],
      "metadata": {
        "colab": {
          "base_uri": "https://localhost:8080/"
        },
        "id": "TVLVpxSWtbnD",
        "outputId": "d43e5662-16b1-4437-f4ed-92ffabebdeaf"
      },
      "execution_count": 19,
      "outputs": [
        {
          "output_type": "stream",
          "name": "stdout",
          "text": [
            "Tamaño de la Pila: 11\n",
            "Elemento en la cima: 21\n",
            "Pila: 21=>19=>17=>15=>13=>11=>9=>7=>5=>3=>1\n"
          ]
        }
      ]
    },
    {
      "cell_type": "code",
      "source": [
        "# casos de uso\n",
        "for _ in range(1, 6):\n",
        "  fuera = pilis.saca()\n",
        "  print(f\"Saca: {fuera}\")\n",
        "\n",
        "print(f\"Pila: {pilis}\")"
      ],
      "metadata": {
        "colab": {
          "base_uri": "https://localhost:8080/"
        },
        "id": "Ahc79-aJvGkv",
        "outputId": "cee75589-b967-47b0-b965-c1ff8969684a"
      },
      "execution_count": 20,
      "outputs": [
        {
          "output_type": "stream",
          "name": "stdout",
          "text": [
            "Saca: 21\n",
            "Saca: 19\n",
            "Saca: 17\n",
            "Saca: 15\n",
            "Saca: 13\n",
            "Pila: 11=>9=>7=>5=>3=>1\n"
          ]
        }
      ]
    },
    {
      "cell_type": "code",
      "source": [
        "# casos de uso\n",
        "for _ in range(1, 7):\n",
        "  fuera = pilis.saca()\n",
        "  print(f\"Saca: {fuera}\")\n",
        "\n",
        "print(f\"Pila: {pilis}\")"
      ],
      "metadata": {
        "colab": {
          "base_uri": "https://localhost:8080/"
        },
        "id": "s4dPks3tTdT8",
        "outputId": "6168f898-4e2f-4315-a3d6-028a49f602c6"
      },
      "execution_count": 21,
      "outputs": [
        {
          "output_type": "stream",
          "name": "stdout",
          "text": [
            "Saca: 11\n",
            "Saca: 9\n",
            "Saca: 7\n",
            "Saca: 5\n",
            "Saca: 3\n",
            "Saca: 1\n",
            "\u001b[2;31mPila Vacía\u001b[30m\n",
            "Pila: No hay nada\n"
          ]
        }
      ]
    }
  ]
}