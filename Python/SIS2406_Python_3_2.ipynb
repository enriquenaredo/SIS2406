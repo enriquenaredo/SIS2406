{
  "nbformat": 4,
  "nbformat_minor": 0,
  "metadata": {
    "colab": {
      "provenance": []
    },
    "kernelspec": {
      "name": "python3",
      "display_name": "Python 3"
    },
    "language_info": {
      "name": "python"
    }
  },
  "cells": [
    {
      "cell_type": "markdown",
      "source": [
        "#SIS2406 - Estructura de Datos y Algoritmos\n",
        "## Primavera 2024\n",
        "\n",
        "<div>\n",
        "<img src=\"https://drive.google.com/uc?export=view&id=1_ZAbL21argoGVFRpHidRYf5vOKgdusal\" width=\"250\"/>\n",
        "</div>\n",
        "\n",
        "### SIS2406_Python_3.2\n",
        "\n",
        "**Enrique Naredo García**\n",
        "\n",
        "<font size = 2>\n",
        "©️ Todos los derechos reservados. All rights reserved.\n",
        "\n",
        "*Nota: El presente documento es una herramienta diseñada única y exclusivamente para los estudiantes de la asignatura arriba mencionada. Se recuerda no compartir esta información fuera de los integrantes registrados en este curso. La reproducción total o parcial de este documento requiere autorización por escrito del titular del copyright.*\n",
        "</font>"
      ],
      "metadata": {
        "id": "o7E2skk_VBwG"
      }
    },
    {
      "cell_type": "markdown",
      "source": [
        "#Cola"
      ],
      "metadata": {
        "id": "OZ-vCTFvjjg0"
      }
    },
    {
      "cell_type": "markdown",
      "source": [
        "La cola es una estructura de datos lineal que almacena elementos según el principio de primero en entrar/primero en salir (First In First Out - FIFO).\n",
        "\n",
        "En la cola, el elemento de datos que se inserte primero se eliminará primero.\n",
        "\n",
        "Las operaciones que se pueden realizar en la cola son:\n",
        "\n",
        "* Enqueue: Agrega un elemento a la cola. Si la cola está llena, se dice que es una condición de desbordamiento.\n",
        "\n",
        "* Dequeue: Elimina un elemento de la cola. Los elementos aparecen en el mismo orden en que se empujan.\n",
        "Si la cola está vacía, se dice que se trata de una condición de desbordamiento insuficiente.\n",
        "\n",
        "* Front: Proporciona el elemento frontal de la cola.\n",
        "\n",
        "* Rear: Da el último elemento de la cola."
      ],
      "metadata": {
        "id": "iFjVyI1yjRZ9"
      }
    },
    {
      "cell_type": "markdown",
      "source": [
        "La cola en Python se puede implementar de las siguientes maneras:\n",
        "\n",
        "* lista\n",
        "* colecciones.deque\n",
        "* cola.cola"
      ],
      "metadata": {
        "id": "b_iYl7_fjRCf"
      }
    },
    {
      "cell_type": "markdown",
      "source": [
        "##Cola usando lista"
      ],
      "metadata": {
        "id": "KigdCgE1i2_1"
      }
    },
    {
      "cell_type": "code",
      "source": [
        "# implementación de cola(queue)\n",
        "# usando una lista\n",
        "L=[]\n",
        "print(type(L))"
      ],
      "metadata": {
        "colab": {
          "base_uri": "https://localhost:8080/"
        },
        "id": "qENCFTMXkQPF",
        "outputId": "dbc78ef3-8265-4c66-c591-874f978ba564"
      },
      "execution_count": null,
      "outputs": [
        {
          "output_type": "stream",
          "name": "stdout",
          "text": [
            "<class 'list'>\n"
          ]
        }
      ]
    },
    {
      "cell_type": "code",
      "source": [
        "# poner en cola (enqueue)\n",
        "L.append(10)\n",
        "L.append(200)\n",
        "L.append(3000)\n",
        "L.append(40000)\n",
        "print(\"La cola inicial es:\",L)"
      ],
      "metadata": {
        "colab": {
          "base_uri": "https://localhost:8080/"
        },
        "id": "6dZFBFC8keRu",
        "outputId": "1dea60c7-c387-4031-c6b5-9fa02b9b311e"
      },
      "execution_count": null,
      "outputs": [
        {
          "output_type": "stream",
          "name": "stdout",
          "text": [
            "La cola inicial es: [10, 200, 3000, 40000]\n"
          ]
        }
      ]
    },
    {
      "cell_type": "code",
      "source": [
        "# sacar de la cola (dequeue)\n",
        "print(L.pop(0))\n",
        "print(L.pop(0))\n",
        "print(L.pop(0))\n",
        "print(\"Cola después de eliminar los elementos:\",L)"
      ],
      "metadata": {
        "colab": {
          "base_uri": "https://localhost:8080/"
        },
        "id": "N0-ByWKElacL",
        "outputId": "7f2882ac-a926-4f89-a0c1-69039bb822d6"
      },
      "execution_count": null,
      "outputs": [
        {
          "output_type": "stream",
          "name": "stdout",
          "text": [
            "10\n",
            "200\n",
            "3000\n",
            "Después de eliminar los elementos:  [40000]\n"
          ]
        }
      ]
    },
    {
      "cell_type": "markdown",
      "source": [
        "##Cola usando lista con funciones"
      ],
      "metadata": {
        "id": "VnDk3tGoluOM"
      }
    },
    {
      "cell_type": "code",
      "source": [
        "# implementación de cola(queue)\n",
        "# usando una lista\n",
        "colita=[]\n",
        "print(type(colita))"
      ],
      "metadata": {
        "colab": {
          "base_uri": "https://localhost:8080/"
        },
        "id": "DSqZWpe3mH9x",
        "outputId": "55172596-1765-4d53-ac92-a95a607e1b96"
      },
      "execution_count": null,
      "outputs": [
        {
          "output_type": "stream",
          "name": "stdout",
          "text": [
            "<class 'list'>\n"
          ]
        }
      ]
    },
    {
      "cell_type": "code",
      "source": [
        "# define tamaño de la cola\n",
        "tamanio=4"
      ],
      "metadata": {
        "id": "qBJvkx0inkbZ"
      },
      "execution_count": null,
      "outputs": []
    },
    {
      "cell_type": "code",
      "source": [
        "# poner en cola (enqueue)\n",
        "def ponerEnCola(unaCola):\n",
        "  # verifica si la lista esta llena o no\n",
        "  if len(unaCola)==tamanio:\n",
        "    print(\"La cola esta llena!!!!\")\n",
        "  else:\n",
        "    # dato puede ser cualquier elemento\n",
        "    dato=input(\"Ingresa un elemento a la cola:\")\n",
        "    unaCola.append(dato)\n",
        "    print(dato,\"ha sido agregado a la cola!\")\n",
        "  # imprime la cola\n",
        "  print(\"La cola actual es:\",unaCola)"
      ],
      "metadata": {
        "id": "TkIFJGTmmOTg"
      },
      "execution_count": null,
      "outputs": []
    },
    {
      "cell_type": "code",
      "source": [
        "# agrega elementos en la cola\n",
        "# corre varias veces esta celda\n",
        "ponerEnCola(colita)"
      ],
      "metadata": {
        "colab": {
          "base_uri": "https://localhost:8080/"
        },
        "id": "LyHxdI5ynLOW",
        "outputId": "7ebe92a8-1986-4d46-e025-5bca549045b3"
      },
      "execution_count": null,
      "outputs": [
        {
          "output_type": "stream",
          "name": "stdout",
          "text": [
            "Ingresa un elemento a la cola:5000\n",
            "5000 ha sido agregado a la cola!\n",
            "La cola actual es: ['200', '5000']\n"
          ]
        }
      ]
    },
    {
      "cell_type": "code",
      "source": [
        "# sacar de la cola (dequeue)\n",
        "def sacarDeCola(unaCola):\n",
        "  # or if len(stack)==0\n",
        "  if not unaCola:\n",
        "    print(\"La cola esta vacía!!!\")\n",
        "  else:\n",
        "    dato=unaCola.pop(0)\n",
        "    print(\"Element eliminado!!:\",dato)\n",
        "  # imprime la cola\n",
        "  print(\"La cola actual es:\",unaCola)"
      ],
      "metadata": {
        "id": "iskaML1pogWZ"
      },
      "execution_count": null,
      "outputs": []
    },
    {
      "cell_type": "code",
      "source": [
        "# elimina elementos de la cola\n",
        "# corre varias veces esta celda\n",
        "sacarDeCola(colita)"
      ],
      "metadata": {
        "colab": {
          "base_uri": "https://localhost:8080/"
        },
        "id": "b4RSUCEZps8b",
        "outputId": "36d75e17-5978-4aa1-e578-90230bf764d0"
      },
      "execution_count": null,
      "outputs": [
        {
          "output_type": "stream",
          "name": "stdout",
          "text": [
            "La cola esta vacía!!!\n",
            "La cola actual es: []\n"
          ]
        }
      ]
    },
    {
      "cell_type": "markdown",
      "source": [
        "**Cola usando menú**"
      ],
      "metadata": {
        "id": "6eYb33_7sApC"
      }
    },
    {
      "cell_type": "code",
      "source": [
        "# menú para utilizar la cola\n",
        "def menuCola():\n",
        "  # define una lista como cola\n",
        "  cola = []\n",
        "  # define el tamaño de la cola\n",
        "  tamanio = int(input(\"Ingresa el tamaño de la cola:\"))\n",
        "  # poner en cola (enqueue)\n",
        "  def ponerEnCola():\n",
        "    if len(cola)==tamanio:\n",
        "      print(\"La cola esta llena!!!!\")\n",
        "    else:\n",
        "      dato=input(\"Ingresa un elemento a la cola:\")\n",
        "      cola.append(dato)\n",
        "  # sacar de la cola (dequeue)\n",
        "  def sacarDeCola():\n",
        "    # or if len(stack)==0\n",
        "    if not cola:\n",
        "      print(\"La cola esta vacía!!!\")\n",
        "    else:\n",
        "      dato=cola.pop(0)\n",
        "      print(\"Element eliminado!!:\",dato)\n",
        "    # imprime la cola\n",
        "    print(\"La cola actual es:\",cola)\n",
        "  # muestra los elementos de la cola\n",
        "  def muestraCola():\n",
        "    print(\"La cola actual es:\",cola)\n",
        "  # ciclo para mostrar el menú\n",
        "  while True:\n",
        "    print(\"Selecciona la operación:\\n1.Agregar\\n2.Eliminar\\n3.Muestra\\n4. Salir\\n\")\n",
        "    choice = int(input())\n",
        "    if choice==1:\n",
        "      ponerEnCola()\n",
        "    elif choice==2:\n",
        "      sacarDeCola()\n",
        "    elif choice==3:\n",
        "      muestraCola()\n",
        "    elif choice==4:\n",
        "      break\n",
        "    else:\n",
        "      print(\"Opción invalida!!!\")"
      ],
      "metadata": {
        "id": "gkMRWCFflt0J"
      },
      "execution_count": null,
      "outputs": []
    },
    {
      "cell_type": "code",
      "source": [
        "# prueba la función de menú\n",
        "menuCola()"
      ],
      "metadata": {
        "colab": {
          "base_uri": "https://localhost:8080/"
        },
        "id": "yDIZ2oduriMh",
        "outputId": "e610eab9-29be-4fdf-c41f-272e0d51a34f"
      },
      "execution_count": null,
      "outputs": [
        {
          "name": "stdout",
          "output_type": "stream",
          "text": [
            "Ingresa el tamaño de la cola:5\n",
            "Selecciona la operación:\n",
            "1.Agregar\n",
            "2.Eliminar\n",
            "3.Muestra\n",
            "4. Salir\n",
            "\n",
            "1\n",
            "Ingresa un elemento a la cola:35\n",
            "Selecciona la operación:\n",
            "1.Agregar\n",
            "2.Eliminar\n",
            "3.Muestra\n",
            "4. Salir\n",
            "\n",
            "1\n",
            "Ingresa un elemento a la cola:9.67\n",
            "Selecciona la operación:\n",
            "1.Agregar\n",
            "2.Eliminar\n",
            "3.Muestra\n",
            "4. Salir\n",
            "\n",
            "1\n",
            "Ingresa un elemento a la cola:'res'\n",
            "Selecciona la operación:\n",
            "1.Agregar\n",
            "2.Eliminar\n",
            "3.Muestra\n",
            "4. Salir\n",
            "\n",
            "3\n",
            "La cola actual es: ['35', '9.67', \"'res'\"]\n",
            "Selecciona la operación:\n",
            "1.Agregar\n",
            "2.Eliminar\n",
            "3.Muestra\n",
            "4. Salir\n",
            "\n",
            "2\n",
            "Element eliminado!!: 35\n",
            "La cola actual es: ['9.67', \"'res'\"]\n",
            "Selecciona la operación:\n",
            "1.Agregar\n",
            "2.Eliminar\n",
            "3.Muestra\n",
            "4. Salir\n",
            "\n",
            "3\n",
            "La cola actual es: ['9.67', \"'res'\"]\n",
            "Selecciona la operación:\n",
            "1.Agregar\n",
            "2.Eliminar\n",
            "3.Muestra\n",
            "4. Salir\n",
            "\n",
            "4\n"
          ]
        }
      ]
    },
    {
      "cell_type": "markdown",
      "source": [
        "##Cola usando el módulo de 'queue'"
      ],
      "metadata": {
        "id": "WqBJfiDSvvel"
      }
    },
    {
      "cell_type": "code",
      "source": [
        "# imorta la librería 'queue'\n",
        "# el alías 'Queue' se puede cambiar\n",
        "from queue import Queue"
      ],
      "metadata": {
        "id": "cHpV_Q4ixyf1"
      },
      "execution_count": null,
      "outputs": []
    },
    {
      "cell_type": "code",
      "source": [
        "# define el tamaño de la cola\n",
        "otraColita = []\n",
        "otraColita = Queue(maxsize=5)"
      ],
      "metadata": {
        "id": "3D1lkBoOyGo8"
      },
      "execution_count": null,
      "outputs": []
    },
    {
      "cell_type": "code",
      "source": [
        "# muestra el tamaño inicial de la cola\n",
        "print(\"El tamaño inicial de la cola es:\",otraColita.qsize())"
      ],
      "metadata": {
        "colab": {
          "base_uri": "https://localhost:8080/"
        },
        "id": "UEEMy6bkySL1",
        "outputId": "4ec1afcc-dd0e-4a72-fb1a-43bb3c49a419"
      },
      "execution_count": null,
      "outputs": [
        {
          "output_type": "stream",
          "name": "stdout",
          "text": [
            "El tamaño inicial de la cola es: 0\n"
          ]
        }
      ]
    },
    {
      "cell_type": "code",
      "source": [
        "# agrega elementos a la cola\n",
        "otraColita.put('A')\n",
        "otraColita.put('BB')\n",
        "otraColita.put('CCC')\n",
        "otraColita.put('DDDD')"
      ],
      "metadata": {
        "id": "RB4a3j5-y_wx"
      },
      "execution_count": null,
      "outputs": []
    },
    {
      "cell_type": "code",
      "source": [
        "# información de la cola\n",
        "print(\"Tamaño de la cola:\",otraColita.qsize())\n",
        "print(\"La cola esta llena?\",otraColita.full())"
      ],
      "metadata": {
        "colab": {
          "base_uri": "https://localhost:8080/"
        },
        "id": "uqbsRu4ezQTr",
        "outputId": "9670c1cc-6700-4439-860a-8dc8fa08099d"
      },
      "execution_count": null,
      "outputs": [
        {
          "output_type": "stream",
          "name": "stdout",
          "text": [
            "Tamaño de la cola: 4\n",
            "La cola esta llena?: False\n"
          ]
        }
      ]
    },
    {
      "cell_type": "code",
      "source": [
        "# elimina elementos\n",
        "print(\"Eliminando elementos:\")\n",
        "print(otraColita.get())\n",
        "print(otraColita.get())\n",
        "print(otraColita.get())"
      ],
      "metadata": {
        "colab": {
          "base_uri": "https://localhost:8080/"
        },
        "id": "fFwhx4k30eK-",
        "outputId": "5ddfe77b-9f98-4e1c-aef8-0b9432697b78"
      },
      "execution_count": null,
      "outputs": [
        {
          "output_type": "stream",
          "name": "stdout",
          "text": [
            "Eliminando elementos:\n",
            "A\n",
            "BB\n",
            "CCC\n"
          ]
        }
      ]
    },
    {
      "cell_type": "code",
      "source": [
        "# información de la cola\n",
        "print(\"La cola esta vacía?\",otraColita.empty())\n",
        "print(otraColita.get())\n",
        "print(\"La cola esta vacía?\",otraColita.empty())\n",
        "print(\"Tamaño de la cola:\",otraColita.qsize())"
      ],
      "metadata": {
        "colab": {
          "base_uri": "https://localhost:8080/"
        },
        "id": "TBPLe1Gevv_W",
        "outputId": "b313528a-5bb5-4bd4-e60c-1ce90ecf347f"
      },
      "execution_count": null,
      "outputs": [
        {
          "output_type": "stream",
          "name": "stdout",
          "text": [
            "La cola esta vacía? False\n",
            "DDDD\n",
            "La cola esta vacía? True\n",
            "Tamaño de la cola: 0\n"
          ]
        }
      ]
    },
    {
      "cell_type": "markdown",
      "source": [
        "## Cola usando el módulo 'deque'"
      ],
      "metadata": {
        "id": "SLV0w7mF1HfN"
      }
    },
    {
      "cell_type": "code",
      "source": [
        "from collections import deque\n",
        "C = deque()\n",
        "C.append(3.1416)\n",
        "C.append(200)\n",
        "C.append('texto')\n",
        "C.append(50e3)\n",
        "print(\"La cola incial es:\",C)\n",
        "print(C.popleft())\n",
        "print(C.popleft())\n",
        "print(\"Después de eliminar elementos:\",C)"
      ],
      "metadata": {
        "colab": {
          "base_uri": "https://localhost:8080/"
        },
        "id": "74r7bTcO1Ia6",
        "outputId": "f50fb788-f59b-403e-962c-13b10acb671e"
      },
      "execution_count": null,
      "outputs": [
        {
          "output_type": "stream",
          "name": "stdout",
          "text": [
            "La cola incial es: deque([3.1416, 200, 'texto', 50000.0])\n",
            "3.1416\n",
            "200\n",
            "Después de eliminar elementos: deque(['texto', 50000.0])\n"
          ]
        }
      ]
    },
    {
      "cell_type": "markdown",
      "source": [
        "##Cola usando lista enlazada"
      ],
      "metadata": {
        "id": "fKDSzGnY2Zvr"
      }
    },
    {
      "cell_type": "code",
      "source": [
        "class Nodox:\n",
        "  \"\"\" Creación de clase Nodo \"\"\"\n",
        "\tdef __init__(self, dato):\n",
        "\t\tself.dato = dato\n",
        "\t\tself.sig = None"
      ],
      "metadata": {
        "id": "19knTwxo28Ko"
      },
      "execution_count": null,
      "outputs": []
    },
    {
      "cell_type": "code",
      "source": [
        "class Colitax:\n",
        "  \"\"\" Creación de clase Cola \"\"\"\n",
        "  # declara los extremos de la cola\n",
        "  def __init__(self):\n",
        "    self.frente = self.atras = None\n",
        "\n",
        "  # método para verificar si esta vacía\n",
        "  def estaVacia(self):\n",
        "    return self.frente == None\n",
        "\n",
        "\t# método para agregar un elemento\n",
        "  def enCola(self, elemento):\n",
        "    # crea un nodo temporal\n",
        "    temporal = Nodox(elemento)\n",
        "    # en caso de que 'atras' no este definido\n",
        "    if self.atras == None:\n",
        "      self.frente = self.atras = temporal\n",
        "      return\n",
        "    self.atras.sig = temporal\n",
        "    self.atras = temporal\n",
        "\n",
        "\t# método para eliminar un elemento\n",
        "  def desenCola(self):\n",
        "    # verifica si esta vacía\n",
        "    if self.estaVacia():\n",
        "      return\n",
        "    temporal = self.frente\n",
        "    self.frente = temporal.sig\n",
        "    if(self.frente == None):\n",
        "      self.atras = None\n",
        "\n",
        "  # método para mostrar los elementos\n",
        "  def muestraCola(self):\n",
        "    actual = self.frente\n",
        "    # en caso de estar vacía\n",
        "    if actual is None:\n",
        "        print(\"La cola esta vacía\")\n",
        "        return\n",
        "    print(\"frente\", end=\" <= \")\n",
        "    while actual is not None:\n",
        "        # imprime el elemento actual\n",
        "        print(actual.dato, end=\" <= \")\n",
        "        # continua con el siguiente nodo\n",
        "        actual = actual.sig\n",
        "    print(\"atras\")\n"
      ],
      "metadata": {
        "id": "CQ_RtsFv2dTw"
      },
      "execution_count": null,
      "outputs": []
    },
    {
      "cell_type": "code",
      "source": [
        "# casos de uso\n",
        "colon = Colitax()\n",
        "colon.enCola(10)\n",
        "colon.enCola(20)\n",
        "colon.muestraCola()\n",
        "colon.desenCola()\n",
        "colon.desenCola()\n",
        "colon.muestraCola()\n",
        "colon.enCola(30)\n",
        "colon.enCola(40)\n",
        "colon.enCola(50)\n",
        "colon.muestraCola()\n",
        "colon.desenCola()\n",
        "print(\"Frente de la cola: \" + str(colon.frente.dato if colon.frente != None else -1))\n",
        "print(\"Atrás de la cola: \" + str(colon.atras.dato if colon.atras != None else -1))"
      ],
      "metadata": {
        "colab": {
          "base_uri": "https://localhost:8080/"
        },
        "id": "O3sInHMn3Cz8",
        "outputId": "90353fcc-4fb2-4981-91cd-1af5caccc929"
      },
      "execution_count": null,
      "outputs": [
        {
          "output_type": "stream",
          "name": "stdout",
          "text": [
            "frente <= 10 <= 20 <= atras\n",
            "La cola esta vacía\n",
            "frente <= 30 <= 40 <= 50 <= atras\n",
            "Frente de la cola: 40\n",
            "Atrás de la cola: 50\n"
          ]
        }
      ]
    }
  ]
}