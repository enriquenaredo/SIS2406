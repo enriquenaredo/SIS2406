{
  "nbformat": 4,
  "nbformat_minor": 0,
  "metadata": {
    "colab": {
      "provenance": []
    },
    "kernelspec": {
      "name": "python3",
      "display_name": "Python 3"
    },
    "language_info": {
      "name": "python"
    }
  },
  "cells": [
    {
      "cell_type": "markdown",
      "source": [
        "#SIS2406 - Estructura de Datos y Algoritmos\n",
        "## Primavera 2024\n",
        "\n",
        "<div>\n",
        "<img src=\"https://drive.google.com/uc?export=view&id=1_ZAbL21argoGVFRpHidRYf5vOKgdusal\" width=\"250\"/>\n",
        "</div>\n",
        "\n",
        "### SIS2406_Python_4.1\n",
        "\n",
        "**Enrique Naredo García**\n",
        "\n",
        "<font size = 2>\n",
        "©️ Todos los derechos reservados. All rights reserved.\n",
        "\n",
        "*Nota: El presente documento es una herramienta diseñada única y exclusivamente para los estudiantes de la asignatura arriba mencionada. Se recuerda no compartir esta información fuera de los integrantes registrados en este curso. La reproducción total o parcial de este documento requiere autorización por escrito del titular del copyright.*\n",
        "</font>"
      ],
      "metadata": {
        "id": "wWLH8KHHPm9L"
      }
    },
    {
      "cell_type": "markdown",
      "source": [
        "# Árbol Binario"
      ],
      "metadata": {
        "id": "4wZJ8fQ3jx-v"
      }
    },
    {
      "cell_type": "markdown",
      "source": [
        "Un árbol binario es un árbol donde cada nodo no puede tener más de dos subárboles.\n",
        "\n",
        "* Cada nodo puede tener uno, dos, o cero hijos o subárboles.\n",
        "* El nodo de la izquierda se dice hijo izquierdo.\n",
        "* El nodo de la derecha se dice hijo derecho."
      ],
      "metadata": {
        "id": "q2VxqS5ij0G_"
      }
    },
    {
      "cell_type": "markdown",
      "source": [
        "Los árboles se pueden representar de dos maneras:\n",
        "* Representación de matriz (representación secuencial).\n",
        "* Representación dinámica de nodos (representación vinculada).\n"
      ],
      "metadata": {
        "id": "PRDJsC8XWbfe"
      }
    },
    {
      "cell_type": "markdown",
      "source": [
        "## Representación dinámica de nodos"
      ],
      "metadata": {
        "id": "33rfKlLjXFT7"
      }
    },
    {
      "cell_type": "code",
      "source": [
        "# Nodo individual\n",
        "class Nodo:\n",
        "\tdef __init__(self, dato):\n",
        "\t\tself.val = dato\n",
        "\t\tself.izq = None\n",
        "\t\tself.der = None"
      ],
      "metadata": {
        "id": "VG_k6bdccMa8"
      },
      "execution_count": 94,
      "outputs": []
    },
    {
      "cell_type": "code",
      "source": [
        "# Crea un nodo\n",
        "raiz = Nodo(1)\n",
        "print(raiz.val)\n",
        "print(raiz.izq)\n",
        "print(raiz.der)"
      ],
      "metadata": {
        "colab": {
          "base_uri": "https://localhost:8080/"
        },
        "id": "qT50eGiUcMVU",
        "outputId": "d80d6e12-d913-46c6-9569-1ef40a7117c5"
      },
      "execution_count": 3,
      "outputs": [
        {
          "output_type": "stream",
          "name": "stdout",
          "text": [
            "1\n",
            "None\n",
            "None\n"
          ]
        }
      ]
    },
    {
      "cell_type": "code",
      "source": [
        "# agrega un nodo izquierdo\n",
        "raiz.izq = Nodo(2)\n",
        "print(raiz.izq.val)\n",
        "print(raiz.izq.izq)\n",
        "print(raiz.izq.der)"
      ],
      "metadata": {
        "colab": {
          "base_uri": "https://localhost:8080/"
        },
        "id": "fCamaW9Qc4pw",
        "outputId": "269c6221-6233-4135-aba4-a3c6b129c2fd"
      },
      "execution_count": 4,
      "outputs": [
        {
          "output_type": "stream",
          "name": "stdout",
          "text": [
            "2\n",
            "None\n",
            "None\n"
          ]
        }
      ]
    },
    {
      "cell_type": "code",
      "source": [
        "# agrega un nodo derecho\n",
        "raiz.der = Nodo(3)\n",
        "print(raiz.der.val)\n",
        "print(raiz.der.izq)\n",
        "print(raiz.der.der)"
      ],
      "metadata": {
        "colab": {
          "base_uri": "https://localhost:8080/"
        },
        "id": "eu39pIKgdC0W",
        "outputId": "fbd7f772-3908-450c-dbdf-ca85fc4c1289"
      },
      "execution_count": 5,
      "outputs": [
        {
          "output_type": "stream",
          "name": "stdout",
          "text": [
            "3\n",
            "None\n",
            "None\n"
          ]
        }
      ]
    },
    {
      "cell_type": "code",
      "source": [
        "# muestra el nodo raiz\n",
        "print(raiz.val)\n",
        "print(raiz.izq)\n",
        "print(raiz.der)"
      ],
      "metadata": {
        "id": "jexFfrImdhgb",
        "outputId": "2a5a0614-edea-4835-cafb-190a1d5a3ee8",
        "colab": {
          "base_uri": "https://localhost:8080/"
        }
      },
      "execution_count": 6,
      "outputs": [
        {
          "output_type": "stream",
          "name": "stdout",
          "text": [
            "1\n",
            "<__main__.Nodo object at 0x7baf973b15d0>\n",
            "<__main__.Nodo object at 0x7baf973b1b70>\n"
          ]
        }
      ]
    },
    {
      "cell_type": "code",
      "source": [
        "# agrega un hijo al hijo del raiz\n",
        "raiz.izq.izq = Nodo(4)\n",
        "# muestra sus hijos izquierdos\n",
        "print(raiz.val)\n",
        "print(raiz.izq.val)\n",
        "print(raiz.izq.izq.val)"
      ],
      "metadata": {
        "id": "uHQHGZU5c-54",
        "colab": {
          "base_uri": "https://localhost:8080/"
        },
        "outputId": "c3fdc2f9-3946-4899-d258-4c22d32f1d38"
      },
      "execution_count": 7,
      "outputs": [
        {
          "output_type": "stream",
          "name": "stdout",
          "text": [
            "1\n",
            "2\n",
            "4\n"
          ]
        }
      ]
    },
    {
      "cell_type": "markdown",
      "source": [
        "## Visualizar el árbol"
      ],
      "metadata": {
        "id": "GlYIbTP4aYj2"
      }
    },
    {
      "cell_type": "code",
      "source": [
        "# importa librería\n",
        "from graphviz import Digraph"
      ],
      "metadata": {
        "id": "U3Fqxg9td96G"
      },
      "execution_count": 8,
      "outputs": []
    },
    {
      "cell_type": "code",
      "source": [
        "## método para agregar aristas de un árbol\n",
        "def agrega_arista(arbol, estructura=None):\n",
        "  # crea un digrafo\n",
        "  if estructura is None:\n",
        "    estructura = Digraph()\n",
        "    # características del nodo raiz\n",
        "    estructura.node(name=str(arbol),\n",
        "      label=str(arbol.val), color = \"red\",\n",
        "      shape=\"circle\", width=\"0.7\")\n",
        "\n",
        "  # agrega nodo izquierdo\n",
        "  if arbol.izq:\n",
        "    # características del nodo izquierdo\n",
        "    estructura.node(name=str(arbol.izq),\n",
        "      label=str(arbol.izq.val), color=\"green\",\n",
        "      shape=\"diamond\", width=\"0.6\")\n",
        "    # características de la arista\n",
        "    estructura.edge(str(arbol), str(arbol.izq),\n",
        "      color=\"lightgreen\", width=\"0.6\")\n",
        "    estructura = agrega_arista(arbol.izq, estructura=estructura)\n",
        "\n",
        "  # agrega nodo derecho\n",
        "  if arbol.der:\n",
        "    # características del nodo derecho\n",
        "    estructura.node(name=str(arbol.der),\n",
        "      label=str(arbol.der.val), color=\"blue\",\n",
        "      shape=\"triangle\", width=\"0.5\")\n",
        "    # características de la arista\n",
        "    estructura.edge(str(arbol), str(arbol.der),\n",
        "      color=\"lightblue\", width=\"0.6\")\n",
        "    estructura = agrega_arista(arbol.der, estructura=estructura)\n",
        "\n",
        "  # regresa la estructura\n",
        "  return estructura"
      ],
      "metadata": {
        "id": "EtQhQWkBo2mt"
      },
      "execution_count": 9,
      "outputs": []
    },
    {
      "cell_type": "code",
      "source": [
        "# árbol\n",
        "A_gen = Nodo('Yo')\n",
        "A_gen.izq = Nodo('papá')\n",
        "A_gen.der = Nodo('mamá')\n",
        "A_gen.izq.izq = Nodo('abuelo')"
      ],
      "metadata": {
        "id": "Z4qbl1cgZTSO"
      },
      "execution_count": 10,
      "outputs": []
    },
    {
      "cell_type": "code",
      "source": [
        "# utiliza el método para agregar aristas\n",
        "arbolito = agrega_arista(A_gen)\n",
        "# método propio de la librería Digraph\n",
        "display(arbolito)"
      ],
      "metadata": {
        "colab": {
          "base_uri": "https://localhost:8080/",
          "height": 304
        },
        "id": "j4qBemn6p8k0",
        "outputId": "524cc0bb-082b-4472-d094-886d401bf293"
      },
      "execution_count": 11,
      "outputs": [
        {
          "output_type": "display_data",
          "data": {
            "image/svg+xml": "<?xml version=\"1.0\" encoding=\"UTF-8\" standalone=\"no\"?>\n<!DOCTYPE svg PUBLIC \"-//W3C//DTD SVG 1.1//EN\"\n \"http://www.w3.org/Graphics/SVG/1.1/DTD/svg11.dtd\">\n<!-- Generated by graphviz version 2.43.0 (0)\n -->\n<!-- Title: %3 Pages: 1 -->\n<svg width=\"246pt\" height=\"212pt\"\n viewBox=\"0.00 0.00 246.01 212.00\" xmlns=\"http://www.w3.org/2000/svg\" xmlns:xlink=\"http://www.w3.org/1999/xlink\">\n<g id=\"graph0\" class=\"graph\" transform=\"scale(1 1) rotate(0) translate(4 208)\">\n<title>%3</title>\n<polygon fill=\"white\" stroke=\"transparent\" points=\"-4,4 -4,-208 242.01,-208 242.01,4 -4,4\"/>\n<!-- __main__.Nodo object at 0x7baf973b1150 -->\n<g id=\"node1\" class=\"node\">\n<title>__main__.Nodo object at 0x7baf973b1150</title>\n<ellipse fill=\"none\" stroke=\"red\" cx=\"109.72\" cy=\"-179\" rx=\"25\" ry=\"25\"/>\n<text text-anchor=\"middle\" x=\"109.72\" y=\"-175.3\" font-family=\"Times,serif\" font-size=\"14.00\">Yo</text>\n</g>\n<!-- __main__.Nodo object at 0x7baf9427bbb0 -->\n<g id=\"node2\" class=\"node\">\n<title>__main__.Nodo object at 0x7baf9427bbb0</title>\n<polygon fill=\"none\" stroke=\"green\" points=\"48.72,-113 10.01,-95 48.72,-77 87.42,-95 48.72,-113\"/>\n<text text-anchor=\"middle\" x=\"48.72\" y=\"-91.3\" font-family=\"Times,serif\" font-size=\"14.00\">papá</text>\n</g>\n<!-- __main__.Nodo object at 0x7baf973b1150&#45;&gt;__main__.Nodo object at 0x7baf9427bbb0 -->\n<g id=\"edge1\" class=\"edge\">\n<title>__main__.Nodo object at 0x7baf973b1150&#45;&gt;__main__.Nodo object at 0x7baf9427bbb0</title>\n<path fill=\"none\" stroke=\"lightgreen\" d=\"M95.26,-158.57C85.98,-146.1 73.94,-129.91 64.43,-117.13\"/>\n<polygon fill=\"lightgreen\" stroke=\"lightgreen\" points=\"67.09,-114.84 58.32,-108.91 61.48,-119.02 67.09,-114.84\"/>\n</g>\n<!-- __main__.Nodo object at 0x7baf9427bf10 -->\n<g id=\"node4\" class=\"node\">\n<title>__main__.Nodo object at 0x7baf9427bf10</title>\n<polygon fill=\"none\" stroke=\"blue\" points=\"171.72,-118 105.63,-83.5 237.8,-83.5 171.72,-118\"/>\n<text text-anchor=\"middle\" x=\"171.72\" y=\"-91.3\" font-family=\"Times,serif\" font-size=\"14.00\">mamá</text>\n</g>\n<!-- __main__.Nodo object at 0x7baf973b1150&#45;&gt;__main__.Nodo object at 0x7baf9427bf10 -->\n<g id=\"edge3\" class=\"edge\">\n<title>__main__.Nodo object at 0x7baf973b1150&#45;&gt;__main__.Nodo object at 0x7baf9427bf10</title>\n<path fill=\"none\" stroke=\"lightblue\" d=\"M124.41,-158.57C133.14,-147.02 144.28,-132.29 153.55,-120.02\"/>\n<polygon fill=\"lightblue\" stroke=\"lightblue\" points=\"156.39,-122.08 159.63,-111.99 150.8,-117.86 156.39,-122.08\"/>\n</g>\n<!-- __main__.Nodo object at 0x7baf973b0a00 -->\n<g id=\"node3\" class=\"node\">\n<title>__main__.Nodo object at 0x7baf973b0a00</title>\n<polygon fill=\"none\" stroke=\"green\" points=\"48.72,-36 -0.22,-18 48.72,0 97.65,-18 48.72,-36\"/>\n<text text-anchor=\"middle\" x=\"48.72\" y=\"-14.3\" font-family=\"Times,serif\" font-size=\"14.00\">abuelo</text>\n</g>\n<!-- __main__.Nodo object at 0x7baf9427bbb0&#45;&gt;__main__.Nodo object at 0x7baf973b0a00 -->\n<g id=\"edge2\" class=\"edge\">\n<title>__main__.Nodo object at 0x7baf9427bbb0&#45;&gt;__main__.Nodo object at 0x7baf973b0a00</title>\n<path fill=\"none\" stroke=\"lightgreen\" d=\"M48.72,-76.98C48.72,-67.94 48.72,-56.6 48.72,-46.35\"/>\n<polygon fill=\"lightgreen\" stroke=\"lightgreen\" points=\"52.22,-46.21 48.72,-36.21 45.22,-46.21 52.22,-46.21\"/>\n</g>\n</g>\n</svg>\n",
            "text/plain": [
              "<graphviz.graphs.Digraph at 0x7baf9427bd30>"
            ]
          },
          "metadata": {}
        }
      ]
    },
    {
      "cell_type": "markdown",
      "source": [
        "## Árbol Binario de Búsqueda"
      ],
      "metadata": {
        "id": "RcHr8KpDsstj"
      }
    },
    {
      "cell_type": "code",
      "source": [
        "# Implementación de Árbol Binario de Búsqueda\n",
        "# Binary Search Tree (BST)\n",
        "class BST:\n",
        "  # inicializa la clase\n",
        "  def __init__(self):\n",
        "    self.raiz = None\n",
        "\n",
        "  # Método para insertar un nodo\n",
        "  def inserta(self, val):\n",
        "    if not self.raiz:\n",
        "      self.raiz = Nodo(val)\n",
        "    else:\n",
        "      self._recurInserta(val, self.raiz)\n",
        "\n",
        "  # Método recursivo para insertar un nodo\n",
        "  def _recurInserta(self, val, nodo):\n",
        "    if val < nodo.val:\n",
        "      if nodo.izq:\n",
        "        self._recurInserta(val, nodo.izq)\n",
        "      else:\n",
        "        nodo.izq = Nodo(val)\n",
        "    else:\n",
        "      if nodo.der:\n",
        "        self._recurInserta(val, nodo.der)\n",
        "      else:\n",
        "        nodo.der = Nodo(val)\n",
        "\n",
        "  # Obtiene el valor mínimo\n",
        "  def get_min(self, nodo):\n",
        "    nodo_actual = nodo\n",
        "    while nodo_actual.izq:\n",
        "      nodo_actual = nodo_actual.izq\n",
        "    return str(nodo_actual.val)\n",
        "\n",
        "  # Elimina un nodo del árbol\n",
        "  def elimina(self, raiz, elem):\n",
        "    # Caso base\n",
        "    if raiz is None:\n",
        "      return raiz\n",
        "    # llamada recursiva a los ancestros\n",
        "    # del nodo por eliminar\n",
        "    if raiz.val > elem:\n",
        "      raiz.izq = self.elimina(raiz.izq, elem)\n",
        "      return raiz\n",
        "    elif raiz.val < elem:\n",
        "      raiz.der = self.elimina(raiz.der, elem)\n",
        "      return raiz\n",
        "    # aquí se encuentra el nodo por eliminar\n",
        "    if raiz.izq is None:\n",
        "      temp = raiz.der\n",
        "      del raiz\n",
        "      return temp\n",
        "    elif raiz.der is None:\n",
        "      temp = raiz.izq\n",
        "      del raiz\n",
        "      return temp\n",
        "    # en caso de que ambos hijos existan\n",
        "    else:\n",
        "      padreSig = raiz\n",
        "      # encuentra al sucesor\n",
        "      hijoSig = raiz.der\n",
        "      while hijoSig.izq is not None:\n",
        "        padreSig = hijoSig\n",
        "        hijoSig = hijoSig.izq\n",
        "      # elimina al sucesor\n",
        "      if padreSig != raiz:\n",
        "        padreSig.izq = hijoSig.der\n",
        "      else:\n",
        "        padreSig.der = hijoSig.der\n",
        "      # copia el sucesor al nodo raíz\n",
        "      raiz.val = hijoSig.val\n",
        "      # elimina el sucesor y devuelve la raíz\n",
        "      del hijoSig\n",
        "      return raiz\n",
        "\n",
        "  # Busca un valor en el árbol\n",
        "  def busca(self, val):\n",
        "    return self._recurBusca(self.raiz, val)\n",
        "\n",
        "  # Busca recursivamente un valor en el árbol\n",
        "  def _recurBusca(self, nodo, val):\n",
        "    # Caso 1: nodo raiz\n",
        "    if nodo is None or nodo.val == val:\n",
        "      return nodo\n",
        "    # Caso 2: nodo izquierdo\n",
        "    if val < nodo.val:\n",
        "      return self._recurBusca(nodo.izq, val)\n",
        "    # Caso 3: nodo derecho\n",
        "    else:\n",
        "      return self._recurBusca(nodo.der, val)\n",
        "\n",
        "  # Recorrido enorden (entreorden)\n",
        "  def enorden(self, raiz):\n",
        "    lista = []\n",
        "    if raiz:\n",
        "      lista = self.enorden(raiz.izq)\n",
        "      lista.append(raiz.val)\n",
        "      lista = lista + self.enorden(raiz.der)\n",
        "    return lista\n",
        "\n",
        "  # Recorrido preorden\n",
        "  def preorden(self, raiz):\n",
        "    lista = []\n",
        "    if raiz:\n",
        "      lista.append(raiz.val)\n",
        "      lista = lista + self.preorden(raiz.izq)\n",
        "      lista = lista + self.preorden(raiz.der)\n",
        "    return lista\n",
        "\n",
        "  # Recorrido postorden\n",
        "  def postorden(self, raiz):\n",
        "    lista = []\n",
        "    if raiz:\n",
        "      lista = self.postorden(raiz.izq)\n",
        "      lista = lista + self.postorden(raiz.der)\n",
        "      lista.append(raiz.val)\n",
        "    return lista\n"
      ],
      "metadata": {
        "id": "XiuEkkI1O9Ac"
      },
      "execution_count": 124,
      "outputs": []
    },
    {
      "cell_type": "code",
      "source": [
        "# Ejemplo de uso\n",
        "T = BST()\n",
        "T.inserta(6)\n",
        "T.inserta(4)\n",
        "T.inserta(8)\n",
        "T.inserta(2)\n",
        "T.inserta(5)\n",
        "T.inserta(7)\n",
        "T.inserta(10)\n",
        "T2 = agrega_arista(T.raiz)\n",
        "display(T2)"
      ],
      "metadata": {
        "colab": {
          "base_uri": "https://localhost:8080/",
          "height": 317
        },
        "id": "jl50AJYlRQ1-",
        "outputId": "4c3b764c-920d-47c2-8cd7-ede9911987bf"
      },
      "execution_count": 125,
      "outputs": [
        {
          "output_type": "display_data",
          "data": {
            "image/svg+xml": "<?xml version=\"1.0\" encoding=\"UTF-8\" standalone=\"no\"?>\n<!DOCTYPE svg PUBLIC \"-//W3C//DTD SVG 1.1//EN\"\n \"http://www.w3.org/Graphics/SVG/1.1/DTD/svg11.dtd\">\n<!-- Generated by graphviz version 2.43.0 (0)\n -->\n<!-- Title: %3 Pages: 1 -->\n<svg width=\"284pt\" height=\"222pt\"\n viewBox=\"0.00 0.00 284.50 222.00\" xmlns=\"http://www.w3.org/2000/svg\" xmlns:xlink=\"http://www.w3.org/1999/xlink\">\n<g id=\"graph0\" class=\"graph\" transform=\"scale(1 1) rotate(0) translate(4 218)\">\n<title>%3</title>\n<polygon fill=\"white\" stroke=\"transparent\" points=\"-4,4 -4,-218 280.5,-218 280.5,4 -4,4\"/>\n<!-- __main__.Nodo object at 0x7baf942b57e0 -->\n<g id=\"node1\" class=\"node\">\n<title>__main__.Nodo object at 0x7baf942b57e0</title>\n<ellipse fill=\"none\" stroke=\"red\" cx=\"124.5\" cy=\"-189\" rx=\"25\" ry=\"25\"/>\n<text text-anchor=\"middle\" x=\"124.5\" y=\"-185.3\" font-family=\"Times,serif\" font-size=\"14.00\">6</text>\n</g>\n<!-- __main__.Nodo object at 0x7baf942b79a0 -->\n<g id=\"node2\" class=\"node\">\n<title>__main__.Nodo object at 0x7baf942b79a0</title>\n<polygon fill=\"none\" stroke=\"green\" points=\"90.5,-123 69,-105 90.5,-87 112,-105 90.5,-123\"/>\n<text text-anchor=\"middle\" x=\"90.5\" y=\"-101.3\" font-family=\"Times,serif\" font-size=\"14.00\">4</text>\n</g>\n<!-- __main__.Nodo object at 0x7baf942b57e0&#45;&gt;__main__.Nodo object at 0x7baf942b79a0 -->\n<g id=\"edge1\" class=\"edge\">\n<title>__main__.Nodo object at 0x7baf942b57e0&#45;&gt;__main__.Nodo object at 0x7baf942b79a0</title>\n<path fill=\"none\" stroke=\"lightgreen\" d=\"M115.21,-165.59C110.4,-154 104.56,-139.9 99.76,-128.32\"/>\n<polygon fill=\"lightgreen\" stroke=\"lightgreen\" points=\"102.92,-126.82 95.86,-118.93 96.46,-129.5 102.92,-126.82\"/>\n</g>\n<!-- __main__.Nodo object at 0x7baf942b6e00 -->\n<g id=\"node5\" class=\"node\">\n<title>__main__.Nodo object at 0x7baf942b6e00</title>\n<polygon fill=\"none\" stroke=\"blue\" points=\"159.5,-128 129.7,-93.5 189.3,-93.5 159.5,-128\"/>\n<text text-anchor=\"middle\" x=\"159.5\" y=\"-101.3\" font-family=\"Times,serif\" font-size=\"14.00\">8</text>\n</g>\n<!-- __main__.Nodo object at 0x7baf942b57e0&#45;&gt;__main__.Nodo object at 0x7baf942b6e00 -->\n<g id=\"edge4\" class=\"edge\">\n<title>__main__.Nodo object at 0x7baf942b57e0&#45;&gt;__main__.Nodo object at 0x7baf942b6e00</title>\n<path fill=\"none\" stroke=\"lightblue\" d=\"M134.06,-165.59C138.76,-154.59 144.42,-141.32 149.21,-130.1\"/>\n<polygon fill=\"lightblue\" stroke=\"lightblue\" points=\"152.44,-131.44 153.15,-120.87 146.01,-128.7 152.44,-131.44\"/>\n</g>\n<!-- __main__.Nodo object at 0x7baf942b6530 -->\n<g id=\"node3\" class=\"node\">\n<title>__main__.Nodo object at 0x7baf942b6530</title>\n<polygon fill=\"none\" stroke=\"green\" points=\"21.5,-41 0,-23 21.5,-5 43,-23 21.5,-41\"/>\n<text text-anchor=\"middle\" x=\"21.5\" y=\"-19.3\" font-family=\"Times,serif\" font-size=\"14.00\">2</text>\n</g>\n<!-- __main__.Nodo object at 0x7baf942b79a0&#45;&gt;__main__.Nodo object at 0x7baf942b6530 -->\n<g id=\"edge2\" class=\"edge\">\n<title>__main__.Nodo object at 0x7baf942b79a0&#45;&gt;__main__.Nodo object at 0x7baf942b6530</title>\n<path fill=\"none\" stroke=\"lightgreen\" d=\"M81.76,-93.87C70.46,-80.76 50.59,-57.72 36.77,-41.7\"/>\n<polygon fill=\"lightgreen\" stroke=\"lightgreen\" points=\"39.35,-39.34 30.17,-34.05 34.05,-43.91 39.35,-39.34\"/>\n</g>\n<!-- __main__.Nodo object at 0x7baf942b5360 -->\n<g id=\"node4\" class=\"node\">\n<title>__main__.Nodo object at 0x7baf942b5360</title>\n<polygon fill=\"none\" stroke=\"blue\" points=\"90.5,-46 60.7,-11.5 120.3,-11.5 90.5,-46\"/>\n<text text-anchor=\"middle\" x=\"90.5\" y=\"-19.3\" font-family=\"Times,serif\" font-size=\"14.00\">5</text>\n</g>\n<!-- __main__.Nodo object at 0x7baf942b79a0&#45;&gt;__main__.Nodo object at 0x7baf942b5360 -->\n<g id=\"edge3\" class=\"edge\">\n<title>__main__.Nodo object at 0x7baf942b79a0&#45;&gt;__main__.Nodo object at 0x7baf942b5360</title>\n<path fill=\"none\" stroke=\"lightblue\" d=\"M90.5,-86.64C90.5,-77.75 90.5,-66.63 90.5,-56.24\"/>\n<polygon fill=\"lightblue\" stroke=\"lightblue\" points=\"94,-56.2 90.5,-46.2 87,-56.2 94,-56.2\"/>\n</g>\n<!-- __main__.Nodo object at 0x7baf942b5210 -->\n<g id=\"node6\" class=\"node\">\n<title>__main__.Nodo object at 0x7baf942b5210</title>\n<polygon fill=\"none\" stroke=\"green\" points=\"159.5,-41 138,-23 159.5,-5 181,-23 159.5,-41\"/>\n<text text-anchor=\"middle\" x=\"159.5\" y=\"-19.3\" font-family=\"Times,serif\" font-size=\"14.00\">7</text>\n</g>\n<!-- __main__.Nodo object at 0x7baf942b6e00&#45;&gt;__main__.Nodo object at 0x7baf942b5210 -->\n<g id=\"edge5\" class=\"edge\">\n<title>__main__.Nodo object at 0x7baf942b6e00&#45;&gt;__main__.Nodo object at 0x7baf942b5210</title>\n<path fill=\"none\" stroke=\"lightgreen\" d=\"M159.5,-93.21C159.5,-82.54 159.5,-65.77 159.5,-51.41\"/>\n<polygon fill=\"lightgreen\" stroke=\"lightgreen\" points=\"163,-51.04 159.5,-41.04 156,-51.04 163,-51.04\"/>\n</g>\n<!-- __main__.Nodo object at 0x7baf942b4e80 -->\n<g id=\"node7\" class=\"node\">\n<title>__main__.Nodo object at 0x7baf942b4e80</title>\n<polygon fill=\"none\" stroke=\"blue\" points=\"237.5,-46 198.51,-11.5 276.49,-11.5 237.5,-46\"/>\n<text text-anchor=\"middle\" x=\"237.5\" y=\"-19.3\" font-family=\"Times,serif\" font-size=\"14.00\">10</text>\n</g>\n<!-- __main__.Nodo object at 0x7baf942b6e00&#45;&gt;__main__.Nodo object at 0x7baf942b4e80 -->\n<g id=\"edge6\" class=\"edge\">\n<title>__main__.Nodo object at 0x7baf942b6e00&#45;&gt;__main__.Nodo object at 0x7baf942b4e80</title>\n<path fill=\"none\" stroke=\"lightblue\" d=\"M170.02,-93.21C182.41,-80.5 203.24,-59.13 218.49,-43.5\"/>\n<polygon fill=\"lightblue\" stroke=\"lightblue\" points=\"221.4,-45.52 225.88,-35.92 216.39,-40.64 221.4,-45.52\"/>\n</g>\n</g>\n</svg>\n",
            "text/plain": [
              "<graphviz.graphs.Digraph at 0x7baf942b5870>"
            ]
          },
          "metadata": {}
        }
      ]
    },
    {
      "cell_type": "code",
      "source": [
        "# Obtiene el mínimo valor\n",
        "T.get_min(T.raiz)"
      ],
      "metadata": {
        "colab": {
          "base_uri": "https://localhost:8080/",
          "height": 35
        },
        "id": "t3w08rXsWvm-",
        "outputId": "05765ae8-0c22-42ed-e343-97b92c91de8d"
      },
      "execution_count": 126,
      "outputs": [
        {
          "output_type": "execute_result",
          "data": {
            "text/plain": [
              "'2'"
            ],
            "application/vnd.google.colaboratory.intrinsic+json": {
              "type": "string"
            }
          },
          "metadata": {},
          "execution_count": 126
        }
      ]
    },
    {
      "cell_type": "code",
      "source": [
        "# Ejemplo de uso\n",
        "T3 = T.busca(7)\n",
        "T3.val"
      ],
      "metadata": {
        "colab": {
          "base_uri": "https://localhost:8080/"
        },
        "id": "kIvterQGHxi-",
        "outputId": "2af7e4db-3528-43ab-f87c-f4338bf694eb"
      },
      "execution_count": 127,
      "outputs": [
        {
          "output_type": "execute_result",
          "data": {
            "text/plain": [
              "7"
            ]
          },
          "metadata": {},
          "execution_count": 127
        }
      ]
    },
    {
      "cell_type": "code",
      "source": [
        "# Ejemplo de uso\n",
        "T.enorden(T.raiz)"
      ],
      "metadata": {
        "colab": {
          "base_uri": "https://localhost:8080/"
        },
        "id": "4mZ2rx2vMD4c",
        "outputId": "634ef453-00c0-408f-dcd1-a7b78d5d234f"
      },
      "execution_count": 130,
      "outputs": [
        {
          "output_type": "execute_result",
          "data": {
            "text/plain": [
              "[2, 4, 5, 6, 7, 8, 10]"
            ]
          },
          "metadata": {},
          "execution_count": 130
        }
      ]
    },
    {
      "cell_type": "code",
      "source": [
        "# Ejemplo de uso\n",
        "T.preorden(T.raiz)"
      ],
      "metadata": {
        "colab": {
          "base_uri": "https://localhost:8080/"
        },
        "id": "BZaAjMf-Uduw",
        "outputId": "511904fd-5b0a-46fd-c765-db0ae1801bb6"
      },
      "execution_count": 131,
      "outputs": [
        {
          "output_type": "execute_result",
          "data": {
            "text/plain": [
              "[6, 4, 2, 5, 8, 7, 10]"
            ]
          },
          "metadata": {},
          "execution_count": 131
        }
      ]
    },
    {
      "cell_type": "code",
      "source": [
        "# Ejemplo de uso\n",
        "T.postorden(T.raiz)"
      ],
      "metadata": {
        "colab": {
          "base_uri": "https://localhost:8080/"
        },
        "id": "09_siPyvVN8r",
        "outputId": "82c2fb1a-8534-4126-8ed3-6bd4ca2d0272"
      },
      "execution_count": 132,
      "outputs": [
        {
          "output_type": "execute_result",
          "data": {
            "text/plain": [
              "[2, 5, 4, 7, 10, 8, 6]"
            ]
          },
          "metadata": {},
          "execution_count": 132
        }
      ]
    },
    {
      "cell_type": "code",
      "source": [
        "# Ejemplo de uso\n",
        "T.elimina(T.raiz,2);\n"
      ],
      "metadata": {
        "id": "zaNfwc-dXZAp"
      },
      "execution_count": 133,
      "outputs": []
    },
    {
      "cell_type": "code",
      "source": [
        "# Ejemplo de uso\n",
        "T.enorden(T.raiz)"
      ],
      "metadata": {
        "colab": {
          "base_uri": "https://localhost:8080/"
        },
        "id": "MvWBUj0nXkOQ",
        "outputId": "f1316004-bf94-45be-bcda-dc5da11d96ae"
      },
      "execution_count": 134,
      "outputs": [
        {
          "output_type": "execute_result",
          "data": {
            "text/plain": [
              "[4, 5, 6, 7, 8, 10]"
            ]
          },
          "metadata": {},
          "execution_count": 134
        }
      ]
    },
    {
      "cell_type": "code",
      "source": [
        "# Ejemplo de uso\n",
        "T4 = agrega_arista(T.raiz)\n",
        "display(T4)"
      ],
      "metadata": {
        "colab": {
          "base_uri": "https://localhost:8080/",
          "height": 317
        },
        "id": "AY5VwdPbigq4",
        "outputId": "4314caf9-22d9-4793-84e1-cbc83583daa5"
      },
      "execution_count": 136,
      "outputs": [
        {
          "output_type": "display_data",
          "data": {
            "image/svg+xml": "<?xml version=\"1.0\" encoding=\"UTF-8\" standalone=\"no\"?>\n<!DOCTYPE svg PUBLIC \"-//W3C//DTD SVG 1.1//EN\"\n \"http://www.w3.org/Graphics/SVG/1.1/DTD/svg11.dtd\">\n<!-- Generated by graphviz version 2.43.0 (0)\n -->\n<!-- Title: %3 Pages: 1 -->\n<svg width=\"224pt\" height=\"222pt\"\n viewBox=\"0.00 0.00 223.89 222.00\" xmlns=\"http://www.w3.org/2000/svg\" xmlns:xlink=\"http://www.w3.org/1999/xlink\">\n<g id=\"graph0\" class=\"graph\" transform=\"scale(1 1) rotate(0) translate(4 218)\">\n<title>%3</title>\n<polygon fill=\"white\" stroke=\"transparent\" points=\"-4,4 -4,-218 219.89,-218 219.89,4 -4,4\"/>\n<!-- __main__.Nodo object at 0x7baf942b57e0 -->\n<g id=\"node1\" class=\"node\">\n<title>__main__.Nodo object at 0x7baf942b57e0</title>\n<ellipse fill=\"none\" stroke=\"red\" cx=\"63.9\" cy=\"-189\" rx=\"25\" ry=\"25\"/>\n<text text-anchor=\"middle\" x=\"63.9\" y=\"-185.3\" font-family=\"Times,serif\" font-size=\"14.00\">6</text>\n</g>\n<!-- __main__.Nodo object at 0x7baf942b79a0 -->\n<g id=\"node2\" class=\"node\">\n<title>__main__.Nodo object at 0x7baf942b79a0</title>\n<polygon fill=\"none\" stroke=\"green\" points=\"29.9,-123 8.4,-105 29.9,-87 51.4,-105 29.9,-123\"/>\n<text text-anchor=\"middle\" x=\"29.9\" y=\"-101.3\" font-family=\"Times,serif\" font-size=\"14.00\">4</text>\n</g>\n<!-- __main__.Nodo object at 0x7baf942b57e0&#45;&gt;__main__.Nodo object at 0x7baf942b79a0 -->\n<g id=\"edge1\" class=\"edge\">\n<title>__main__.Nodo object at 0x7baf942b57e0&#45;&gt;__main__.Nodo object at 0x7baf942b79a0</title>\n<path fill=\"none\" stroke=\"lightgreen\" d=\"M54.61,-165.59C49.8,-154 43.95,-139.9 39.15,-128.32\"/>\n<polygon fill=\"lightgreen\" stroke=\"lightgreen\" points=\"42.32,-126.82 35.26,-118.93 35.85,-129.5 42.32,-126.82\"/>\n</g>\n<!-- __main__.Nodo object at 0x7baf942b6e00 -->\n<g id=\"node4\" class=\"node\">\n<title>__main__.Nodo object at 0x7baf942b6e00</title>\n<polygon fill=\"none\" stroke=\"blue\" points=\"98.9,-128 69.1,-93.5 128.69,-93.5 98.9,-128\"/>\n<text text-anchor=\"middle\" x=\"98.9\" y=\"-101.3\" font-family=\"Times,serif\" font-size=\"14.00\">8</text>\n</g>\n<!-- __main__.Nodo object at 0x7baf942b57e0&#45;&gt;__main__.Nodo object at 0x7baf942b6e00 -->\n<g id=\"edge3\" class=\"edge\">\n<title>__main__.Nodo object at 0x7baf942b57e0&#45;&gt;__main__.Nodo object at 0x7baf942b6e00</title>\n<path fill=\"none\" stroke=\"lightblue\" d=\"M73.46,-165.59C78.16,-154.59 83.82,-141.32 88.61,-130.1\"/>\n<polygon fill=\"lightblue\" stroke=\"lightblue\" points=\"91.84,-131.44 92.55,-120.87 85.4,-128.7 91.84,-131.44\"/>\n</g>\n<!-- __main__.Nodo object at 0x7baf942b5360 -->\n<g id=\"node3\" class=\"node\">\n<title>__main__.Nodo object at 0x7baf942b5360</title>\n<polygon fill=\"none\" stroke=\"blue\" points=\"29.9,-46 0.1,-11.5 59.69,-11.5 29.9,-46\"/>\n<text text-anchor=\"middle\" x=\"29.9\" y=\"-19.3\" font-family=\"Times,serif\" font-size=\"14.00\">5</text>\n</g>\n<!-- __main__.Nodo object at 0x7baf942b79a0&#45;&gt;__main__.Nodo object at 0x7baf942b5360 -->\n<g id=\"edge2\" class=\"edge\">\n<title>__main__.Nodo object at 0x7baf942b79a0&#45;&gt;__main__.Nodo object at 0x7baf942b5360</title>\n<path fill=\"none\" stroke=\"lightblue\" d=\"M29.9,-86.64C29.9,-77.75 29.9,-66.63 29.9,-56.24\"/>\n<polygon fill=\"lightblue\" stroke=\"lightblue\" points=\"33.4,-56.2 29.9,-46.2 26.4,-56.2 33.4,-56.2\"/>\n</g>\n<!-- __main__.Nodo object at 0x7baf942b5210 -->\n<g id=\"node5\" class=\"node\">\n<title>__main__.Nodo object at 0x7baf942b5210</title>\n<polygon fill=\"none\" stroke=\"green\" points=\"98.9,-41 77.4,-23 98.9,-5 120.4,-23 98.9,-41\"/>\n<text text-anchor=\"middle\" x=\"98.9\" y=\"-19.3\" font-family=\"Times,serif\" font-size=\"14.00\">7</text>\n</g>\n<!-- __main__.Nodo object at 0x7baf942b6e00&#45;&gt;__main__.Nodo object at 0x7baf942b5210 -->\n<g id=\"edge4\" class=\"edge\">\n<title>__main__.Nodo object at 0x7baf942b6e00&#45;&gt;__main__.Nodo object at 0x7baf942b5210</title>\n<path fill=\"none\" stroke=\"lightgreen\" d=\"M98.9,-93.21C98.9,-82.54 98.9,-65.77 98.9,-51.41\"/>\n<polygon fill=\"lightgreen\" stroke=\"lightgreen\" points=\"102.4,-51.04 98.9,-41.04 95.4,-51.04 102.4,-51.04\"/>\n</g>\n<!-- __main__.Nodo object at 0x7baf942b4e80 -->\n<g id=\"node6\" class=\"node\">\n<title>__main__.Nodo object at 0x7baf942b4e80</title>\n<polygon fill=\"none\" stroke=\"blue\" points=\"176.9,-46 137.9,-11.5 215.89,-11.5 176.9,-46\"/>\n<text text-anchor=\"middle\" x=\"176.9\" y=\"-19.3\" font-family=\"Times,serif\" font-size=\"14.00\">10</text>\n</g>\n<!-- __main__.Nodo object at 0x7baf942b6e00&#45;&gt;__main__.Nodo object at 0x7baf942b4e80 -->\n<g id=\"edge5\" class=\"edge\">\n<title>__main__.Nodo object at 0x7baf942b6e00&#45;&gt;__main__.Nodo object at 0x7baf942b4e80</title>\n<path fill=\"none\" stroke=\"lightblue\" d=\"M109.42,-93.21C121.81,-80.5 142.64,-59.13 157.89,-43.5\"/>\n<polygon fill=\"lightblue\" stroke=\"lightblue\" points=\"160.8,-45.52 165.28,-35.92 155.79,-40.64 160.8,-45.52\"/>\n</g>\n</g>\n</svg>\n",
            "text/plain": [
              "<graphviz.graphs.Digraph at 0x7baf942b6320>"
            ]
          },
          "metadata": {}
        }
      ]
    },
    {
      "cell_type": "code",
      "source": [
        "# Ejemplo de uso\n",
        "T.elimina(T.raiz,8);"
      ],
      "metadata": {
        "id": "a2Sd12fxiwuC"
      },
      "execution_count": 137,
      "outputs": []
    },
    {
      "cell_type": "code",
      "source": [
        "# Ejemplo de uso\n",
        "T.enorden(T.raiz)"
      ],
      "metadata": {
        "colab": {
          "base_uri": "https://localhost:8080/"
        },
        "outputId": "be7405d1-e05a-4112-83a1-d9bea48be5d8",
        "id": "6iADeQ8JiwuD"
      },
      "execution_count": 138,
      "outputs": [
        {
          "output_type": "execute_result",
          "data": {
            "text/plain": [
              "[4, 5, 6, 7, 10]"
            ]
          },
          "metadata": {},
          "execution_count": 138
        }
      ]
    },
    {
      "cell_type": "code",
      "source": [
        "# Ejemplo de uso\n",
        "T5 = agrega_arista(T.raiz)\n",
        "display(T5)"
      ],
      "metadata": {
        "colab": {
          "base_uri": "https://localhost:8080/",
          "height": 317
        },
        "outputId": "d321c387-b963-4c40-fb22-a609cc2ef3a0",
        "id": "d1cPe1rNiwuF"
      },
      "execution_count": 139,
      "outputs": [
        {
          "output_type": "display_data",
          "data": {
            "image/svg+xml": "<?xml version=\"1.0\" encoding=\"UTF-8\" standalone=\"no\"?>\n<!DOCTYPE svg PUBLIC \"-//W3C//DTD SVG 1.1//EN\"\n \"http://www.w3.org/Graphics/SVG/1.1/DTD/svg11.dtd\">\n<!-- Generated by graphviz version 2.43.0 (0)\n -->\n<!-- Title: %3 Pages: 1 -->\n<svg width=\"155pt\" height=\"222pt\"\n viewBox=\"0.00 0.00 154.89 222.00\" xmlns=\"http://www.w3.org/2000/svg\" xmlns:xlink=\"http://www.w3.org/1999/xlink\">\n<g id=\"graph0\" class=\"graph\" transform=\"scale(1 1) rotate(0) translate(4 218)\">\n<title>%3</title>\n<polygon fill=\"white\" stroke=\"transparent\" points=\"-4,4 -4,-218 150.89,-218 150.89,4 -4,4\"/>\n<!-- __main__.Nodo object at 0x7baf942b57e0 -->\n<g id=\"node1\" class=\"node\">\n<title>__main__.Nodo object at 0x7baf942b57e0</title>\n<ellipse fill=\"none\" stroke=\"red\" cx=\"68.9\" cy=\"-189\" rx=\"25\" ry=\"25\"/>\n<text text-anchor=\"middle\" x=\"68.9\" y=\"-185.3\" font-family=\"Times,serif\" font-size=\"14.00\">6</text>\n</g>\n<!-- __main__.Nodo object at 0x7baf942b79a0 -->\n<g id=\"node2\" class=\"node\">\n<title>__main__.Nodo object at 0x7baf942b79a0</title>\n<polygon fill=\"none\" stroke=\"green\" points=\"29.9,-123 8.4,-105 29.9,-87 51.4,-105 29.9,-123\"/>\n<text text-anchor=\"middle\" x=\"29.9\" y=\"-101.3\" font-family=\"Times,serif\" font-size=\"14.00\">4</text>\n</g>\n<!-- __main__.Nodo object at 0x7baf942b57e0&#45;&gt;__main__.Nodo object at 0x7baf942b79a0 -->\n<g id=\"edge1\" class=\"edge\">\n<title>__main__.Nodo object at 0x7baf942b57e0&#45;&gt;__main__.Nodo object at 0x7baf942b79a0</title>\n<path fill=\"none\" stroke=\"lightgreen\" d=\"M58.45,-166.03C52.81,-154.17 45.87,-139.58 40.24,-127.75\"/>\n<polygon fill=\"lightgreen\" stroke=\"lightgreen\" points=\"43.34,-126.12 35.88,-118.59 37.02,-129.12 43.34,-126.12\"/>\n</g>\n<!-- __main__.Nodo object at 0x7baf942b6e00 -->\n<g id=\"node4\" class=\"node\">\n<title>__main__.Nodo object at 0x7baf942b6e00</title>\n<polygon fill=\"none\" stroke=\"blue\" points=\"107.9,-128 68.9,-93.5 146.89,-93.5 107.9,-128\"/>\n<text text-anchor=\"middle\" x=\"107.9\" y=\"-101.3\" font-family=\"Times,serif\" font-size=\"14.00\">10</text>\n</g>\n<!-- __main__.Nodo object at 0x7baf942b57e0&#45;&gt;__main__.Nodo object at 0x7baf942b6e00 -->\n<g id=\"edge3\" class=\"edge\">\n<title>__main__.Nodo object at 0x7baf942b57e0&#45;&gt;__main__.Nodo object at 0x7baf942b6e00</title>\n<path fill=\"none\" stroke=\"lightblue\" d=\"M79.35,-166.03C84.51,-155.16 90.77,-142.02 96.1,-130.8\"/>\n<polygon fill=\"lightblue\" stroke=\"lightblue\" points=\"99.37,-132.07 100.51,-121.54 93.05,-129.07 99.37,-132.07\"/>\n</g>\n<!-- __main__.Nodo object at 0x7baf942b5360 -->\n<g id=\"node3\" class=\"node\">\n<title>__main__.Nodo object at 0x7baf942b5360</title>\n<polygon fill=\"none\" stroke=\"blue\" points=\"29.9,-46 0.1,-11.5 59.69,-11.5 29.9,-46\"/>\n<text text-anchor=\"middle\" x=\"29.9\" y=\"-19.3\" font-family=\"Times,serif\" font-size=\"14.00\">5</text>\n</g>\n<!-- __main__.Nodo object at 0x7baf942b79a0&#45;&gt;__main__.Nodo object at 0x7baf942b5360 -->\n<g id=\"edge2\" class=\"edge\">\n<title>__main__.Nodo object at 0x7baf942b79a0&#45;&gt;__main__.Nodo object at 0x7baf942b5360</title>\n<path fill=\"none\" stroke=\"lightblue\" d=\"M29.9,-86.64C29.9,-77.75 29.9,-66.63 29.9,-56.24\"/>\n<polygon fill=\"lightblue\" stroke=\"lightblue\" points=\"33.4,-56.2 29.9,-46.2 26.4,-56.2 33.4,-56.2\"/>\n</g>\n<!-- __main__.Nodo object at 0x7baf942b5210 -->\n<g id=\"node5\" class=\"node\">\n<title>__main__.Nodo object at 0x7baf942b5210</title>\n<polygon fill=\"none\" stroke=\"green\" points=\"107.9,-41 86.4,-23 107.9,-5 129.4,-23 107.9,-41\"/>\n<text text-anchor=\"middle\" x=\"107.9\" y=\"-19.3\" font-family=\"Times,serif\" font-size=\"14.00\">7</text>\n</g>\n<!-- __main__.Nodo object at 0x7baf942b6e00&#45;&gt;__main__.Nodo object at 0x7baf942b5210 -->\n<g id=\"edge4\" class=\"edge\">\n<title>__main__.Nodo object at 0x7baf942b6e00&#45;&gt;__main__.Nodo object at 0x7baf942b5210</title>\n<path fill=\"none\" stroke=\"lightgreen\" d=\"M107.9,-93.21C107.9,-82.54 107.9,-65.77 107.9,-51.41\"/>\n<polygon fill=\"lightgreen\" stroke=\"lightgreen\" points=\"111.4,-51.04 107.9,-41.04 104.4,-51.04 111.4,-51.04\"/>\n</g>\n</g>\n</svg>\n",
            "text/plain": [
              "<graphviz.graphs.Digraph at 0x7baf942b7e20>"
            ]
          },
          "metadata": {}
        }
      ]
    }
  ]
}