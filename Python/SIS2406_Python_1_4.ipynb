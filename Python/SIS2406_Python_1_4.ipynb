{
  "nbformat": 4,
  "nbformat_minor": 0,
  "metadata": {
    "colab": {
      "provenance": []
    },
    "kernelspec": {
      "name": "python3",
      "display_name": "Python 3"
    },
    "language_info": {
      "name": "python"
    }
  },
  "cells": [
    {
      "cell_type": "markdown",
      "source": [
        "#SIS2406 - Estructura de Datos y Algoritmos\n",
        "## Primavera 2024\n",
        "\n",
        "<div>\n",
        "<img src=\"https://drive.google.com/uc?export=view&id=1_ZAbL21argoGVFRpHidRYf5vOKgdusal\" width=\"250\"/>\n",
        "</div>\n",
        "\n",
        "### SIS2406_Python_1.4\n",
        "\n",
        "**Enrique Naredo García**\n",
        "\n",
        "<font size = 2>\n",
        "©️ Todos los derechos reservados. All rights reserved.\n",
        "\n",
        "*Nota: El presente documento es una herramienta diseñada única y exclusivamente para los estudiantes de la asignatura arriba mencionada. Se recuerda no compartir esta información fuera de los integrantes registrados en este curso. La reproducción total o parcial de este documento requiere autorización por escrito del titular del copyright.*\n",
        "</font>"
      ],
      "metadata": {
        "id": "vT9VmVRYxZD1"
      }
    },
    {
      "cell_type": "markdown",
      "source": [
        "#1.4 Estructuras"
      ],
      "metadata": {
        "id": "xik9bnSX9kce"
      }
    },
    {
      "cell_type": "markdown",
      "source": [
        "## Estructura de datos\n",
        "\n",
        "En ciencias de la computación, una estructura de datos es una forma particular de organizar información en un computador para que pueda ser utilizada de manera eficiente.​\n",
        "\n",
        "* Diferentes tipos de estructuras de datos son adecuados para diferentes tipos de aplicaciones, y algunos son altamente especializados para tareas específicas.\n",
        "\n",
        "* Las estructuras de datos son medios para manejar grandes cantidades de información de manera eficiente para usos tales como grandes bases de datos y servicios de indización de Internet.\n",
        "\n",
        "* Por lo general, las estructuras de datos eficientes son clave para diseñar algoritmos eficientes. Algunos métodos formales de diseño de lenguajes de programación destacan las estructuras de datos, en lugar de los algoritmos, como el factor clave de organización en el diseño de software.\n",
        "\n",
        "* Más precisamente, una estructura de datos es una colección de valores, las relaciones entre ellos y las funciones y operaciones que se pueden aplicar a los datos, es decir, es una estructura algebraica de datos."
      ],
      "metadata": {
        "id": "Df-aw1DznLzD"
      }
    },
    {
      "cell_type": "markdown",
      "source": [
        "## Tipos de estructura de datos\n",
        "\n",
        "Los tipos de datos son la clasificación o categorización de elementos de datos.\n",
        "\n",
        "Representa el tipo de valor que indica qué operaciones se pueden realizar con un dato en particular.\n",
        "\n",
        "Como todo es un objeto en la programación de Python, los tipos de datos son clases y las variables son instancias (objetos) de estas clases.\n",
        "\n",
        "Los siguientes son los tipos de datos estándar o integrados en Python:\n",
        "\n",
        "* Text Type\n",
        "  * str\n",
        "* Numeric Types\n",
        "  * int\n",
        "  * float\n",
        "  * complex\n",
        "* Sequence Types\n",
        "  * list\n",
        "  * tuple\n",
        "  * range\n",
        "* Mapping Type\n",
        "  * dict\n",
        "* Set Types\n",
        "  * set\n",
        "  * frozenset\n",
        "* Boolean Type\n",
        "  * bool\n",
        "* Binary Types\n",
        "  * bytes\n",
        "  * bytearray\n",
        "  * memoryview\n",
        "* None Type\n",
        "  * NoneType\n",
        "\n"
      ],
      "metadata": {
        "id": "RnQyuQtQnAQj"
      }
    },
    {
      "cell_type": "code",
      "source": [
        "# tipos de datos integrados en Python\n",
        "\n",
        "A = \"Hello World\"\n",
        "print(type(A))\n",
        "\n",
        "B = 20\n",
        "print(type(B))\n",
        "\n",
        "C = 20.5\n",
        "print(type(C))\n",
        "\n",
        "D = 1j\n",
        "print(type(D))\n",
        "\n",
        "E = [\"apple\", \"banana\", \"cherry\"]\n",
        "print(type(E))\n",
        "\n",
        "F = (\"apple\", \"banana\", \"cherry\")\n",
        "print(type(F))\n",
        "\n",
        "G = range(6)\n",
        "print(type(G))\n",
        "\n",
        "H = {\"name\" : \"John\", \"age\" : 36}\n",
        "print(type(H))\n",
        "\n",
        "I = {\"apple\", \"banana\", \"cherry\"}\n",
        "print(type(I))\n",
        "\n",
        "J = frozenset({\"apple\", \"banana\", \"cherry\"})\n",
        "print(type(J))\n",
        "\n",
        "K = True\n",
        "print(type(K))\n",
        "\n",
        "L = b\"Hello\"\n",
        "print(type(L))\n",
        "\n",
        "M = bytearray(5)\n",
        "print(type(M))\n",
        "\n",
        "N = memoryview(bytes(5))\n",
        "print(type(N))\n",
        "\n",
        "O = None\n",
        "print(type(O))"
      ],
      "metadata": {
        "colab": {
          "base_uri": "https://localhost:8080/"
        },
        "id": "14psacJz71v4",
        "outputId": "1d09a406-d285-448c-ff07-208e9e6024f1"
      },
      "execution_count": null,
      "outputs": [
        {
          "output_type": "stream",
          "name": "stdout",
          "text": [
            "<class 'str'>\n",
            "<class 'int'>\n",
            "<class 'float'>\n",
            "<class 'complex'>\n",
            "<class 'list'>\n",
            "<class 'tuple'>\n",
            "<class 'range'>\n",
            "<class 'dict'>\n",
            "<class 'set'>\n",
            "<class 'frozenset'>\n",
            "<class 'bool'>\n",
            "<class 'bytes'>\n",
            "<class 'bytearray'>\n",
            "<class 'memoryview'>\n",
            "<class 'NoneType'>\n"
          ]
        }
      ]
    },
    {
      "cell_type": "markdown",
      "source": [
        "###Listas"
      ],
      "metadata": {
        "id": "VP4w3HNb-TNb"
      }
    },
    {
      "cell_type": "code",
      "source": [
        "# Las listas en Python permiten duplicados\n",
        "# Noten los corchetes\n",
        "miLista = [\"Manzana\", \"Platano\", \"Cereza\", \"Manzana\", 123, 123, 456, False, True, True]\n",
        "print(type(miLista))\n",
        "print(miLista)\n",
        "print(\"Numero de elementos: \", len(miLista))"
      ],
      "metadata": {
        "colab": {
          "base_uri": "https://localhost:8080/"
        },
        "id": "asJqgINL-Vbo",
        "outputId": "75844b70-fd99-4da7-bdb1-14e8178eda11"
      },
      "execution_count": null,
      "outputs": [
        {
          "output_type": "stream",
          "name": "stdout",
          "text": [
            "<class 'list'>\n",
            "['Manzana', 'Platano', 'Cereza', 'Manzana', 123, 123, 456, False, True, True]\n",
            "Numero de elementos:  10\n"
          ]
        }
      ]
    },
    {
      "cell_type": "code",
      "source": [
        "# Se puede utilizar el constructor de listas en Python\n",
        "# Noten los dobles parentésis\n",
        "otraLista = list((\"Pera\", \"Kiwi\", \"Coco\", 12.3, 1.23, 45.6, False, True))\n",
        "print(type(otraLista))\n",
        "print(otraLista)\n",
        "print(\"Numero de elementos: \", len(otraLista))"
      ],
      "metadata": {
        "colab": {
          "base_uri": "https://localhost:8080/"
        },
        "id": "Zy4xD8US_-LH",
        "outputId": "18a34464-99a4-4b5d-acc0-ec28bc653bb6"
      },
      "execution_count": null,
      "outputs": [
        {
          "output_type": "stream",
          "name": "stdout",
          "text": [
            "<class 'list'>\n",
            "['Pera', 'Kiwi', 'Coco', 12.3, 1.23, 45.6, False, True]\n",
            "Numero de elementos:  8\n"
          ]
        }
      ]
    },
    {
      "cell_type": "markdown",
      "source": [
        "###Tuplas"
      ],
      "metadata": {
        "id": "76VuIjGRAyCy"
      }
    },
    {
      "cell_type": "code",
      "source": [
        "# Las tuplas en Python permiten duplicados\n",
        "# Noten los parentésis\n",
        "miTupla = (\"Manzana\", \"Platano\", \"Cereza\", \"Manzana\", 123, 123, 456, False, True, True)\n",
        "print(type(miTupla))\n",
        "print(miTupla)\n",
        "print(\"Numero de elementos: \", len(miTupla))"
      ],
      "metadata": {
        "colab": {
          "base_uri": "https://localhost:8080/"
        },
        "id": "-BlCA3wwAyiN",
        "outputId": "d1ec0c92-1bba-433d-ca64-e85fe974b353"
      },
      "execution_count": null,
      "outputs": [
        {
          "output_type": "stream",
          "name": "stdout",
          "text": [
            "<class 'tuple'>\n",
            "('Manzana', 'Platano', 'Cereza', 'Manzana', 123, 123, 456, False, True, True)\n",
            "Numero de elementos:  10\n"
          ]
        }
      ]
    },
    {
      "cell_type": "code",
      "source": [
        "# Se puede utilizar el constructor de tuplas en Python\n",
        "# Noten los dobles parentésis\n",
        "otraTupla = tuple((\"Pera\", \"Kiwi\", \"Coco\", 12.3, 1.23, 45.6, False, True))\n",
        "print(type(otraTupla))\n",
        "print(otraTupla)\n",
        "print(\"Numero de elementos: \", len(otraTupla))"
      ],
      "metadata": {
        "colab": {
          "base_uri": "https://localhost:8080/"
        },
        "id": "VGReOoVwBpuO",
        "outputId": "ccbca881-5f04-4f6c-df1f-cf977017e758"
      },
      "execution_count": null,
      "outputs": [
        {
          "output_type": "stream",
          "name": "stdout",
          "text": [
            "<class 'tuple'>\n",
            "('Pera', 'Kiwi', 'Coco', 12.3, 1.23, 45.6, False, True)\n",
            "Numero de elementos:  8\n"
          ]
        }
      ]
    },
    {
      "cell_type": "code",
      "source": [
        "# Cuando se usa un solo elemento se debe agregar una coma al final\n",
        "unElemento = (\"uno\",)\n",
        "print(type(unElemento))\n",
        "print(unElemento)\n",
        "print(\"Numero de elementos: \", len(unElemento))"
      ],
      "metadata": {
        "colab": {
          "base_uri": "https://localhost:8080/"
        },
        "id": "yKgmMHbqB0N-",
        "outputId": "1ea031b2-2d60-42c0-d3ff-39293430601d"
      },
      "execution_count": null,
      "outputs": [
        {
          "output_type": "stream",
          "name": "stdout",
          "text": [
            "<class 'tuple'>\n",
            "('uno',)\n",
            "Numero de elementos:  1\n"
          ]
        }
      ]
    },
    {
      "cell_type": "markdown",
      "source": [
        "###Conjuntos"
      ],
      "metadata": {
        "id": "gZ4eJ17NCnUv"
      }
    },
    {
      "cell_type": "code",
      "source": [
        "# Los conjuntos en Python NO permiten duplicados\n",
        "# Noten las llaves\n",
        "miConjunto = {\"Manzana\", \"Platano\", \"Cereza\", \"Manzana\", 123, 123, 456, False, True, True}\n",
        "print(type(miConjunto))\n",
        "print(miConjunto)\n",
        "print(\"Numero de elementos: \", len(miConjunto))"
      ],
      "metadata": {
        "colab": {
          "base_uri": "https://localhost:8080/"
        },
        "outputId": "3154f724-dfeb-4e3b-a90d-287a469a2b10",
        "id": "RTV_o9BQCsBT"
      },
      "execution_count": null,
      "outputs": [
        {
          "output_type": "stream",
          "name": "stdout",
          "text": [
            "<class 'set'>\n",
            "{False, True, 'Manzana', 456, 123, 'Cereza', 'Platano'}\n",
            "Numero de elementos:  7\n"
          ]
        }
      ]
    },
    {
      "cell_type": "code",
      "source": [
        "# Se puede utilizar el constructor de conjuntos en Python\n",
        "# Noten los dobles parentésis\n",
        "# Los valores True y 1 se tratan como duplicados\n",
        "# Los valores False y 0 se tratan como duplicados\n",
        "otroConjunto = set((\"Pera\", \"Kiwi\", 1.23, 45.6, True, 1, False, 0))\n",
        "print(type(otroConjunto))\n",
        "print(otroConjunto)\n",
        "print(\"Numero de elementos: \", len(otroConjunto))"
      ],
      "metadata": {
        "colab": {
          "base_uri": "https://localhost:8080/"
        },
        "outputId": "4d2e6053-82a8-4e11-ecb4-171063489769",
        "id": "6IdhPNqRCsBU"
      },
      "execution_count": null,
      "outputs": [
        {
          "output_type": "stream",
          "name": "stdout",
          "text": [
            "<class 'set'>\n",
            "{False, 1.23, True, 45.6, 'Kiwi', 'Pera'}\n",
            "Numero de elementos:  6\n"
          ]
        }
      ]
    },
    {
      "cell_type": "markdown",
      "source": [
        "###Diccionarios\n",
        "\n",
        "Un diccionario es una colección ordenada, modificable y que no permite duplicados."
      ],
      "metadata": {
        "id": "aaESdpajF7PT"
      }
    },
    {
      "cell_type": "code",
      "source": [
        "# El diccionario no permite duplicados\n",
        "\n",
        "miDiccionario =\t{\n",
        "  \"marca\": \"Ford\",\n",
        "  \"modelo\": \"Mustang\",\n",
        "  \"año\": 1964,\n",
        "  \"electrico\": False,\n",
        "  \"colores\": [\"rojo\", \"blanco\", \"azul\"]\n",
        "}\n",
        "\n",
        "# imprime todo el diccionario\n",
        "print(miDiccionario)\n",
        "\n",
        "# imprime solo un elemento usando su clave\n",
        "print(miDiccionario[\"colores\"])\n",
        "\n",
        "# imprime solo un elemento y una característica\n",
        "print(miDiccionario[\"colores\"][0])"
      ],
      "metadata": {
        "colab": {
          "base_uri": "https://localhost:8080/"
        },
        "id": "BcHUv4ktF77j",
        "outputId": "51e6d095-4fe0-4d64-9f33-4204eec2148a"
      },
      "execution_count": null,
      "outputs": [
        {
          "output_type": "stream",
          "name": "stdout",
          "text": [
            "{'marca': 'Ford', 'modelo': 'Mustang', 'año': 1964, 'electrico': False, 'colores': ['rojo', 'blanco', 'azul']}\n",
            "['rojo', 'blanco', 'azul']\n",
            "rojo\n"
          ]
        }
      ]
    },
    {
      "cell_type": "code",
      "source": [
        "# Se puede utilizar el constructor de diccionarios\n",
        "otroDiccionario = dict(name = \"Juana\", edad = 22, ciudad = \"Cancún\")\n",
        "print(otroDiccionario)"
      ],
      "metadata": {
        "colab": {
          "base_uri": "https://localhost:8080/"
        },
        "id": "2DKqs4eiJFhC",
        "outputId": "ba2800b3-0a52-40cc-ad37-7805df10fa7c"
      },
      "execution_count": null,
      "outputs": [
        {
          "output_type": "stream",
          "name": "stdout",
          "text": [
            "{'name': 'Juna', 'edad': 22, 'ciudad': 'Cancún'}\n"
          ]
        }
      ]
    },
    {
      "cell_type": "markdown",
      "source": [
        "##Estructuras de control"
      ],
      "metadata": {
        "id": "JKpsB9pIVEcw"
      }
    },
    {
      "cell_type": "markdown",
      "source": [
        "##Condicional"
      ],
      "metadata": {
        "id": "8evmiLV-VHwi"
      }
    },
    {
      "cell_type": "code",
      "source": [
        "# condicional con 3 condiciones\n",
        "\n",
        "a = 200\n",
        "b = 33\n",
        "\n",
        "if b > a:\n",
        "  print(\"b is greater than a\")\n",
        "elif a == b:\n",
        "  print(\"a and b are equal\")\n",
        "else:\n",
        "  print(\"a is greater than b\")"
      ],
      "metadata": {
        "colab": {
          "base_uri": "https://localhost:8080/"
        },
        "id": "CG381FiqVJz9",
        "outputId": "63a4d7ae-49d8-44bf-cab0-b5586171d3d1"
      },
      "execution_count": null,
      "outputs": [
        {
          "output_type": "stream",
          "name": "stdout",
          "text": [
            "a is greater than b\n"
          ]
        }
      ]
    },
    {
      "cell_type": "code",
      "source": [
        "# condicional en una línea\n",
        "\n",
        "a = 200\n",
        "b = 33\n",
        "\n",
        "print(\"b is greater than a\") if b > a else print(\"a and b are equal\") if a == b else print(\"a is greater than b\")"
      ],
      "metadata": {
        "colab": {
          "base_uri": "https://localhost:8080/"
        },
        "id": "_nSgG0w0VflR",
        "outputId": "a244755f-6586-4798-e590-1229af2ea2b9"
      },
      "execution_count": null,
      "outputs": [
        {
          "output_type": "stream",
          "name": "stdout",
          "text": [
            "a is greater than b\n"
          ]
        }
      ]
    },
    {
      "cell_type": "markdown",
      "source": [
        "###While"
      ],
      "metadata": {
        "id": "fC2FMOKbWWW6"
      }
    },
    {
      "cell_type": "code",
      "source": [
        "# Ejemplo de while con continue, break y condicionales\n",
        "\n",
        "n = 10\n",
        "\n",
        "while n > 0:\n",
        "  n -= 1\n",
        "  if n == 8 or n == 6:\n",
        "    print('No imprime el ' + str(n))\n",
        "    continue\n",
        "  elif n < 3:\n",
        "    print('Aplicación de break')\n",
        "    break\n",
        "  print(n)\n",
        "\n",
        "print('While terminado')"
      ],
      "metadata": {
        "colab": {
          "base_uri": "https://localhost:8080/"
        },
        "id": "dGEG0qJCZDVN",
        "outputId": "56c204c8-a167-4a7e-cd13-3b6054206b64"
      },
      "execution_count": null,
      "outputs": [
        {
          "output_type": "stream",
          "name": "stdout",
          "text": [
            "9\n",
            "No imprime el 8\n",
            "7\n",
            "No imprime el 6\n",
            "5\n",
            "4\n",
            "3\n",
            "Aplicación de break\n",
            "While terminado\n"
          ]
        }
      ]
    },
    {
      "cell_type": "markdown",
      "source": [
        "###For"
      ],
      "metadata": {
        "id": "Ecesjkcpb5nX"
      }
    },
    {
      "cell_type": "code",
      "source": [
        "# Ejemplo de For con condicionales\n",
        "\n",
        "verduras = [\"calabaza\", \"chayote\", \"zanahoria\"]\n",
        "frutas = [\"manzana\", \"platano\", \"cereza\"]\n",
        "\n",
        "for v in verduras:\n",
        "  for f in frutas:\n",
        "    if v == \"chayote\":\n",
        "      print('No me gusta comer',v,' pero si ', f)\n",
        "    elif v == \"calabaza\":\n",
        "      print('Si me gusta comer',v,' y ', f)\n",
        "    else:\n",
        "      print('A veces como ',v,' con ', f)"
      ],
      "metadata": {
        "colab": {
          "base_uri": "https://localhost:8080/"
        },
        "id": "0jx-CVfHb6O_",
        "outputId": "542452b1-e2e0-4f28-f575-4a7869133505"
      },
      "execution_count": null,
      "outputs": [
        {
          "output_type": "stream",
          "name": "stdout",
          "text": [
            "Si me gusta comer calabaza  y  manzana\n",
            "Si me gusta comer calabaza  y  platano\n",
            "Si me gusta comer calabaza  y  cereza\n",
            "No me gusta comer chayote  pero si  manzana\n",
            "No me gusta comer chayote  pero si  platano\n",
            "No me gusta comer chayote  pero si  cereza\n",
            "A veces como  zanahoria  con  manzana\n",
            "A veces como  zanahoria  con  platano\n",
            "A veces como  zanahoria  con  cereza\n"
          ]
        }
      ]
    },
    {
      "cell_type": "markdown",
      "source": [
        "###Funciones"
      ],
      "metadata": {
        "id": "vTli-dO5frzq"
      }
    },
    {
      "cell_type": "code",
      "source": [
        " # Combinación de solo-posicional (/) y solo-keyword (*)\n",
        "\n",
        " def mi_funcion(a, b, /, *, c, d):\n",
        "  print(a + b - c * d)\n",
        "\n",
        "mi_funcion(45, 6.2, c = -7, d = 8)"
      ],
      "metadata": {
        "colab": {
          "base_uri": "https://localhost:8080/"
        },
        "id": "0xa0vtMQfsUV",
        "outputId": "fd044a53-7f54-40a0-bab5-c32c6484ed05"
      },
      "execution_count": null,
      "outputs": [
        {
          "output_type": "stream",
          "name": "stdout",
          "text": [
            "107.2\n"
          ]
        }
      ]
    },
    {
      "cell_type": "code",
      "source": [
        "# Ejemplo de recursión\n",
        "def suma_n(n):\n",
        "  if n == 0:\n",
        "    return 0\n",
        "\n",
        "  print(n)\n",
        "  suma = n + suma_n(n-1)\n",
        "  if n==1: print('----')\n",
        "  print(suma)\n",
        "\n",
        "  return suma"
      ],
      "metadata": {
        "id": "O3PtStKu0Rtf"
      },
      "execution_count": null,
      "outputs": []
    },
    {
      "cell_type": "code",
      "source": [
        "print('Primero imprime n en órden descendiente\\ny después la suma en órden ascendente:\\n')\n",
        "suma_n(10)"
      ],
      "metadata": {
        "colab": {
          "base_uri": "https://localhost:8080/"
        },
        "id": "-4H55W1p3XkJ",
        "outputId": "842cd69f-0ed4-4cc8-e6cb-b046dec36b8c"
      },
      "execution_count": null,
      "outputs": [
        {
          "output_type": "stream",
          "name": "stdout",
          "text": [
            "Primero imprime n en órden descendiente\n",
            "y después la suma en órden ascendente:\n",
            "\n",
            "10\n",
            "9\n",
            "8\n",
            "7\n",
            "6\n",
            "5\n",
            "4\n",
            "3\n",
            "2\n",
            "1\n",
            "----\n",
            "1\n",
            "3\n",
            "6\n",
            "10\n",
            "15\n",
            "21\n",
            "28\n",
            "36\n",
            "45\n",
            "55\n"
          ]
        },
        {
          "output_type": "execute_result",
          "data": {
            "text/plain": [
              "55"
            ]
          },
          "metadata": {},
          "execution_count": 180
        }
      ]
    },
    {
      "cell_type": "markdown",
      "source": [
        "###Lambda"
      ],
      "metadata": {
        "id": "QrbCosdZ4Pjd"
      }
    },
    {
      "cell_type": "code",
      "source": [
        "# usando lambda\n",
        "sumaL = lambda n: 0 if n<0 else n+sumaL(n-1)\n",
        "\n",
        "# probando la función\n",
        "n = 10\n",
        "result = sumaL(n)\n",
        "print(f\"La suma de todos los números positivos hasta {n} es {result}.\")"
      ],
      "metadata": {
        "colab": {
          "base_uri": "https://localhost:8080/"
        },
        "id": "dAa7X88z6Pv3",
        "outputId": "ec2e2564-82cb-4fce-fe1e-0f6122319134"
      },
      "execution_count": null,
      "outputs": [
        {
          "output_type": "stream",
          "name": "stdout",
          "text": [
            "La suma de todos los números positivos hasta 10 es 55.\n"
          ]
        }
      ]
    },
    {
      "cell_type": "markdown",
      "source": [
        "##Clase"
      ],
      "metadata": {
        "id": "iVmLKt6uL-oL"
      }
    },
    {
      "cell_type": "markdown",
      "source": [
        "###class"
      ],
      "metadata": {
        "id": "M2gjfHnzMYyO"
      }
    },
    {
      "cell_type": "markdown",
      "source": [
        "Ejemplo de class que define un naipe."
      ],
      "metadata": {
        "id": "sfrcOcqtPLMn"
      }
    },
    {
      "cell_type": "code",
      "source": [
        "class Naipe:\n",
        "  def __init__(self, rango, figura):\n",
        "    self.rango = rango\n",
        "    self.figura = figura"
      ],
      "metadata": {
        "id": "Ib3Me1UFSvDV"
      },
      "execution_count": 2,
      "outputs": []
    },
    {
      "cell_type": "markdown",
      "source": [
        "Ejemplo de uso de la clase Naipe."
      ],
      "metadata": {
        "id": "rKScpCQ1PTLF"
      }
    },
    {
      "cell_type": "code",
      "source": [
        "# Define una carta valida\n",
        "carta = Naipe('Q', 'Corazones')\n",
        "print(f\"Rango: {carta.rango}, Figura: {carta.figura}\")"
      ],
      "metadata": {
        "colab": {
          "base_uri": "https://localhost:8080/"
        },
        "id": "r2ttBlwlMTPH",
        "outputId": "205b7897-4cfa-4721-d7d0-0ad38abe19a1"
      },
      "execution_count": 5,
      "outputs": [
        {
          "output_type": "stream",
          "name": "stdout",
          "text": [
            "Rango: Q, Figura: Corazones\n"
          ]
        }
      ]
    },
    {
      "cell_type": "code",
      "source": [
        "# Define una carta no valida\n",
        "carta = Naipe('H', 'TikTok')\n",
        "print(f\"Rango: {carta.rango}, Figura: {carta.figura}\")"
      ],
      "metadata": {
        "colab": {
          "base_uri": "https://localhost:8080/"
        },
        "id": "oqiBptiIQsQG",
        "outputId": "6c0052b1-7d6f-4cb4-de3b-6cfcffaf266a"
      },
      "execution_count": 6,
      "outputs": [
        {
          "output_type": "stream",
          "name": "stdout",
          "text": [
            "Rango: H, Figura: TikTok\n"
          ]
        }
      ]
    },
    {
      "cell_type": "markdown",
      "source": [
        "Aquí tienen una clase de Naipe más elaborada."
      ],
      "metadata": {
        "id": "9e_oqWx7Pph0"
      }
    },
    {
      "cell_type": "code",
      "source": [
        "class Naipe2:\n",
        "  def __init__(self, rango, figura):\n",
        "\n",
        "    # rango\n",
        "    self.rangos = (None, \"As\", 2, 3, 4, 5, 6, 7, 8, 9, 10, \"Sota\", \"Reina\", \"Rey\")\n",
        "    self.rango = self.rangos[rango]\n",
        "\n",
        "    # figura\n",
        "    self.figuras = {\"d\": \"Diamantes\", \"t\": \"Tréboles\", \"c\": \"Corazones\", \"e\": \"Espadas\"}\n",
        "    self.figura = self.figuras[figura]\n",
        "\n",
        "    # color\n",
        "    if self.figura == \"t\" or self.figura == \"e\":\n",
        "      self.color = \"negro\"\n",
        "    else:\n",
        "      self.color = \"rojo\"\n",
        "\n",
        "    # valor\n",
        "    if self.rango == \"As\":\n",
        "      self.valor = 1\n",
        "    elif self.rango == \"Sota\" or self.rango == \"Reina\" or self.rango == \"Rey\":\n",
        "      self.valor = 10\n",
        "    elif type(self.rango) is int:\n",
        "      if self.rango > 1 and self.rango < 11:\n",
        "        self.valor = self.rangos[self.rango]\n",
        "\n",
        "  # Obtener el rango\n",
        "  def getRango(self):\n",
        "    return self.rango\n",
        "\n",
        "  # Obtener la figura\n",
        "  def getFigura(self):\n",
        "    return self.figura\n",
        "\n",
        "  # Función para imprimir carta\n",
        "  def __str__(self):\n",
        "    return \"La carta que seleccionaste es: \" + str(self.rango) + \\\n",
        "           \" de \" + str(self.figura) + \", color \" + str(self.color) + \\\n",
        "           \", con valor de \" + str(self.valor) + \" punto(s).\""
      ],
      "metadata": {
        "id": "-Otgj_XeCmzt"
      },
      "execution_count": 42,
      "outputs": []
    },
    {
      "cell_type": "code",
      "source": [
        "## Define una carta usando 2 argumentos\n",
        "# 1) valor: 1,   2, 3, 4, 5, 6, 7, 8, 9, 10,     11,     12,    13, correspondiente a:\n",
        "#          \"As\", 2, 3, 4, 5, 6, 7, 8, 9, 10, \"Sota\", \"Reina\", \"Rey\"; y\n",
        "# 2) figura: \"d\",         \"t\",        \"c\",         \"e\"; correspondientes a:\n",
        "#            \"Diamantes\", \"Tréboles\", \"Corazones\", \"Espadas\"\n",
        "\n",
        "carta2 = Naipe2(11, 'd')\n",
        "print(f\"Rango: {carta2.rango}, Valor: {carta2.valor}, Figura: {carta2.figura}, Color: {carta2.color}\")"
      ],
      "metadata": {
        "colab": {
          "base_uri": "https://localhost:8080/"
        },
        "id": "xMznS9JFXIvc",
        "outputId": "7f0fdfe4-5889-419d-a3a1-b7d27ba53fc4"
      },
      "execution_count": 34,
      "outputs": [
        {
          "output_type": "stream",
          "name": "stdout",
          "text": [
            "Rango: Sota, Valor: 10, Figura: Diamantes, Color: rojo\n"
          ]
        }
      ]
    },
    {
      "cell_type": "code",
      "source": [
        "# usando el método __str__(self)\n",
        "carta3 = Naipe2(1, 't')\n",
        "print(carta3)"
      ],
      "metadata": {
        "colab": {
          "base_uri": "https://localhost:8080/"
        },
        "id": "Kdkl43dRUxQo",
        "outputId": "f44f8308-9c5c-4c79-bdac-ae202bf9a452"
      },
      "execution_count": 43,
      "outputs": [
        {
          "output_type": "stream",
          "name": "stdout",
          "text": [
            "La carta que seleccionaste es: As de Tréboles, color rojo, con valor de 1 punto(s).\n"
          ]
        }
      ]
    },
    {
      "cell_type": "code",
      "source": [
        "# usando los getters\n",
        "print(carta3.getRango())\n",
        "print(carta3.getFigura())"
      ],
      "metadata": {
        "colab": {
          "base_uri": "https://localhost:8080/"
        },
        "id": "n0vPPEE9XKTj",
        "outputId": "515ca8dc-2896-4cb7-a03d-e7f8e4712874"
      },
      "execution_count": 50,
      "outputs": [
        {
          "output_type": "stream",
          "name": "stdout",
          "text": [
            "As\n",
            "Tréboles\n"
          ]
        }
      ]
    },
    {
      "cell_type": "markdown",
      "source": [
        "###dataclass"
      ],
      "metadata": {
        "id": "iUj5kLf8MUDm"
      }
    },
    {
      "cell_type": "markdown",
      "source": [
        "Ejemplo de @dataclass que define un naipe."
      ],
      "metadata": {
        "id": "6R1QEOyLZYPh"
      }
    },
    {
      "cell_type": "code",
      "source": [
        "from dataclasses import dataclass\n",
        "\n",
        "@dataclass\n",
        "class dcNaipe:\n",
        "  rango: str\n",
        "  figura: str"
      ],
      "metadata": {
        "id": "CwHttwyzCmuF"
      },
      "execution_count": 54,
      "outputs": []
    },
    {
      "cell_type": "code",
      "source": [
        "carta4 = dcNaipe('Rey', 'Diamantes')\n",
        "print(f\"Rango: {carta4.rango}, Figura: {carta4.figura}\")"
      ],
      "metadata": {
        "colab": {
          "base_uri": "https://localhost:8080/"
        },
        "id": "CAgdXsL0MdoK",
        "outputId": "5f5f29ca-6871-4a51-b201-569fd2835def"
      },
      "execution_count": 55,
      "outputs": [
        {
          "output_type": "stream",
          "name": "stdout",
          "text": [
            "Rango: Rey, Figura: Diamantes\n"
          ]
        }
      ]
    },
    {
      "cell_type": "markdown",
      "source": [
        "###namedtuple\n",
        "Ejemplo usando namedtuple que define un naipe."
      ],
      "metadata": {
        "id": "skPobZwXMmul"
      }
    },
    {
      "cell_type": "code",
      "source": [
        "from collections import namedtuple\n",
        "\n",
        "ntNaipe = namedtuple('ntNaipe', ['rango', 'figura'])"
      ],
      "metadata": {
        "id": "risYiUYdapc4"
      },
      "execution_count": 57,
      "outputs": []
    },
    {
      "cell_type": "code",
      "source": [
        "carta5 = ntNaipe('Reina', 'Tréboles')\n",
        "print(f\"Rango: {carta5.rango}, Figura: {carta5.figura}\")"
      ],
      "metadata": {
        "colab": {
          "base_uri": "https://localhost:8080/"
        },
        "id": "G59v7qCSMp2U",
        "outputId": "edd7f9d7-aa1e-48d2-836a-419a4fc4fcb9"
      },
      "execution_count": 58,
      "outputs": [
        {
          "output_type": "stream",
          "name": "stdout",
          "text": [
            "Rango: Reina, Figura: Tréboles\n"
          ]
        }
      ]
    },
    {
      "cell_type": "markdown",
      "source": [
        "###tuple\n",
        "Ejemplo usando tuple que define un naipe."
      ],
      "metadata": {
        "id": "GeJD9xAFMtAZ"
      }
    },
    {
      "cell_type": "code",
      "source": [
        "def tuplaNaipe(rango, figura):\n",
        "  return (rango, figura)"
      ],
      "metadata": {
        "id": "Ue8ZDpzyMM-5"
      },
      "execution_count": 59,
      "outputs": []
    },
    {
      "cell_type": "code",
      "source": [
        "carta6 = tuplaNaipe('3', 'Corazones')\n",
        "print(f\"Rango: {carta6[0]}, Figura: {carta6[1]}\")"
      ],
      "metadata": {
        "colab": {
          "base_uri": "https://localhost:8080/"
        },
        "id": "kPteYt28Mu5T",
        "outputId": "b6f8ddfa-57ee-4416-e67a-d18ad8230eba"
      },
      "execution_count": 60,
      "outputs": [
        {
          "output_type": "stream",
          "name": "stdout",
          "text": [
            "Rango: 3, Figura: Corazones\n"
          ]
        }
      ]
    }
  ]
}