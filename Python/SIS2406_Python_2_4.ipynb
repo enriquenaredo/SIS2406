{
  "nbformat": 4,
  "nbformat_minor": 0,
  "metadata": {
    "colab": {
      "provenance": []
    },
    "kernelspec": {
      "name": "python3",
      "display_name": "Python 3"
    },
    "language_info": {
      "name": "python"
    }
  },
  "cells": [
    {
      "cell_type": "markdown",
      "source": [
        "#SIS2406 - Estructura de Datos y Algoritmos\n",
        "## Primavera 2024\n",
        "\n",
        "<div>\n",
        "<img src=\"https://drive.google.com/uc?export=view&id=1_ZAbL21argoGVFRpHidRYf5vOKgdusal\" width=\"250\"/>\n",
        "</div>\n",
        "\n",
        "### SIS2406_Python_2.4\n",
        "\n",
        "**Enrique Naredo García**\n",
        "\n",
        "<font size = 2>\n",
        "©️ Todos los derechos reservados. All rights reserved.\n",
        "\n",
        "*Nota: El presente documento es una herramienta diseñada única y exclusivamente para los estudiantes de la asignatura arriba mencionada. Se recuerda no compartir esta información fuera de los integrantes registrados en este curso. La reproducción total o parcial de este documento requiere autorización por escrito del titular del copyright.*\n",
        "</font>"
      ],
      "metadata": {
        "id": "OasoibitKAz0"
      }
    },
    {
      "cell_type": "markdown",
      "source": [
        "#2.4 Listas doblemente ligadas circulares"
      ],
      "metadata": {
        "id": "1F4oAyeFgQ84"
      }
    },
    {
      "cell_type": "markdown",
      "source": [
        "<div>\n",
        "<img src=\"https://drive.google.com/uc?export=view&id=1PZpzVJNNqSXPKznaqacOOMR3cCYqLXpy\" width=\"450\"/>\n",
        "</div>"
      ],
      "metadata": {
        "id": "4_tj5gjNhdq4"
      }
    },
    {
      "cell_type": "markdown",
      "source": [
        "## Introducción\n",
        "\n",
        "Las listas circulares doblemente enlazadas son aquellas que tienen doble desplazamiento, es decir, que no tienen un fin y son portadoras de dos apuntadores a sí mismos.\n",
        "\n",
        "* Debemos cumplir con una condición, la cual es que siempre debe existir dos punteros el primero apunta al elemento anterior y el otro apunta al elemento siguiente.\n",
        "\n",
        "* Hay que tomar en cuenta al momento de realizar una función dentro de la lista como la inserción o búsqueda, ya que en este tipo de lista no se conoce el inicio ni el final.\n",
        "\n",
        "* Las listas circulares tienen 2 enlaces, el enlace anterior del primer nodo que apunta al último y el enlace del siguiente del último nodo apunta al primero.\n",
        "\n",
        "* Las listas doblemente enlazadas no necesitan de un nodo especial para acceder a ellas, se puede recorrer en ambos sentidos a partir de cualquier nodo.\n",
        "\n",
        "* Las listas doblemente circulares, permiten el recorrido en ambas direcciones y la cabeza y cola se encuentran conectadas en ambas direcciones."
      ],
      "metadata": {
        "id": "M4NLEdINK3jQ"
      }
    },
    {
      "cell_type": "markdown",
      "source": [
        "## Operaciones\n",
        "\n",
        "* Inserción en lista enlazada doblemente circular.\n",
        "* Inserción en una posición específica en una lista circular doblemente enlazada.\n",
        "* Buscar un elemento en una lista enlazada doblemente circular.\n",
        "* Eliminación en la lista enlazada doblemente circular.\n",
        "* Invertir una lista enlazada doblemente circular.\n",
        "* Convertir una matriz en una lista circular doblemente enlazada.\n",
        "* Convertir un árbol binario en una lista circular de doble enlace."
      ],
      "metadata": {
        "id": "H8Mb2IWCLFlE"
      }
    },
    {
      "cell_type": "markdown",
      "source": [
        "## Ventajas\n",
        "\n",
        "Las listas circulares doblemente enlazadas en estructuras de datos y algoritmos (DSA) tienen los siguientes beneficios:\n",
        "\n",
        "* Recorrido eficiente: los nodos de una lista circular doblemente enlazada se pueden atravesar de manera eficiente en ambas direcciones, o hacia adelante y hacia atrás.\n",
        "* Inserción y eliminación: una lista circular doblemente enlazada hace un uso eficiente de las operaciones de inserción y eliminación.\n",
        "* Los nodos de cabeza y cola están conectados porque la lista es circular, lo que facilita agregar o eliminar nodos de cualquiera de los extremos.\n",
        "* Implementación de estructuras de datos circulares: la implementación de estructuras de datos circulares, como colas circulares y buffers circulares, hace un uso extensivo de listas circulares doblemente enlazadas."
      ],
      "metadata": {
        "id": "6oFxg1oVLQIp"
      }
    },
    {
      "cell_type": "markdown",
      "source": [
        "## Desventajas\n",
        "\n",
        "Las listas circulares doblemente enlazadas tienen los siguientes inconvenientes cuando se utilizan en DSA:\n",
        "\n",
        "* Complejidad: en comparación con una lista enlazada individualmente, la lista circular doblemente enlazada tiene operaciones más complicadas, lo que puede dificultar su desarrollo y mantenimiento.\n",
        "* Costo de la circularidad: en algunas circunstancias, la circularidad de la lista puede generar gastos generales adicionales.\n",
        "* Por ejemplo, puede resultar complicado saber si el recorrido de la lista ha rodeado completamente el objeto y ha regresado a su lugar inicial.\n",
        "* Más complejo de depurar: las listas circulares doblemente enlazadas pueden ser más difíciles de depurar que las listas de enlace simple porque la naturaleza circular de la lista puede introducir bucles que son difíciles de encontrar y reparar."
      ],
      "metadata": {
        "id": "fH52JbhmKxVi"
      }
    },
    {
      "cell_type": "markdown",
      "source": [
        "## Clase Nodo"
      ],
      "metadata": {
        "id": "oozAZl8T7ULt"
      }
    },
    {
      "cell_type": "code",
      "source": [
        "# Clase Nodo\n",
        "class Noda:\n",
        "  # constructor (inicializa)\n",
        "  def __init__(self, dato):\n",
        "    # atributos propios del objeto\n",
        "    self.dato = dato\n",
        "    self.sig  = None\n",
        "    self.prev = None"
      ],
      "metadata": {
        "id": "lfxOilds5pvU"
      },
      "execution_count": 3,
      "outputs": []
    },
    {
      "cell_type": "markdown",
      "source": [
        "## Lista Circular Doblemente Ligada"
      ],
      "metadata": {
        "id": "PSK8d4rLMqXu"
      }
    },
    {
      "cell_type": "code",
      "execution_count": 14,
      "metadata": {
        "id": "wbwytGW7J_MJ"
      },
      "outputs": [],
      "source": [
        "# Clase para la lista circular doblemente ligada con métodos\n",
        "class listaCircDobleLigada:\n",
        "\n",
        "  # constructor (inicializa)\n",
        "  def __init__(self):\n",
        "    # atributo 'inicio' de la lista\n",
        "    self.inicio = None\n",
        "\n",
        "  # Verifica si la lista esta vacía\n",
        "  def esta_vacia(self):\n",
        "    \"\"\"\n",
        "    Verifica si la lista esta vacía\n",
        "    \"\"\"\n",
        "    return self.inicio is None\n",
        "\n",
        "  # Agrega un nuevo nodo al final\n",
        "  def agregaFinal(self, datote):\n",
        "    \"\"\"\n",
        "    Agrega un nuevo nodo al final de la lista\n",
        "    \"\"\"\n",
        "    nodo_nuevo = Noda(datote)\n",
        "    if self.esta_vacia():\n",
        "      # If the list is empty, set the new node as the inicio\n",
        "      self.inicio = nodo_nuevo\n",
        "    else:\n",
        "      # If the list is not empty, update the references to maintain the circular structure\n",
        "      ultimo = self.inicio.prev\n",
        "      ultimo.sig = nodo_nuevo\n",
        "      nodo_nuevo.prev = ultimo\n",
        "    nodo_nuevo.sig = self.inicio\n",
        "    self.inicio.prev = nodo_nuevo\n",
        "\n",
        "  # Agrega un nuevo nodo al inicio\n",
        "  def agregaInicio(self, datote):\n",
        "    \"\"\"\n",
        "    Agrega un nuevo nodo al incio de la lista\n",
        "    \"\"\"\n",
        "    nodo_nuevo = Noda(datote)\n",
        "    if self.esta_vacia():\n",
        "      # If the list is empty, set the new node as the inicio\n",
        "      self.inicio = nodo_nuevo\n",
        "    else:\n",
        "      # If the list is not empty, update the references to maintain the circular structure\n",
        "      ultimo = self.inicio.prev\n",
        "      nodo_nuevo.sig = self.inicio\n",
        "      nodo_nuevo.prev = ultimo\n",
        "      ultimo.sig = nodo_nuevo\n",
        "    self.inicio.prev = nodo_nuevo\n",
        "    self.inicio = nodo_nuevo\n",
        "\n",
        "  # Inserta nodo después de un indice dado\n",
        "  def agregaDespuesIdx(self, datote, despues_ind):\n",
        "    \"\"\"\n",
        "    Inserta un nuevo nodo en la lista después de un indice dado\n",
        "    \"\"\"\n",
        "    if self.esta_vacia():\n",
        "      raise Exception(\"Lista vacía.\")\n",
        "    actual = self.inicio\n",
        "    while actual.dato != despues_ind:\n",
        "      actual = actual.sig\n",
        "      if actual == self.inicio:\n",
        "        raise Exception(f\"{despues_ind} no se encuentra en la lista.\")\n",
        "    nodo_nuevo = Noda(datote)\n",
        "    nodo_nuevo.sig = actual.sig\n",
        "    nodo_nuevo.prev = actual\n",
        "    actual.sig.prev = nodo_nuevo\n",
        "    actual.sig = nodo_nuevo\n",
        "\n",
        "  # Elimina un nodo especificado\n",
        "  def elimina(self, datote):\n",
        "    \"\"\"\n",
        "    Elimina un nodo especificado de la lista\n",
        "    \"\"\"\n",
        "    if self.esta_vacia():\n",
        "      raise Exception(\"Lista vacía.\")\n",
        "    actual = self.inicio\n",
        "    while actual.dato != datote:\n",
        "      actual = actual.sig\n",
        "      if actual == self.inicio:\n",
        "        raise Exception(f\"{datote} no se encuentra en la lista\")\n",
        "    actual.prev.sig = actual.sig\n",
        "    actual.sig.prev = actual.prev\n",
        "    if actual == self.inicio:\n",
        "      self.inicio = actual.sig\n",
        "\n",
        "  # Imprime lista\n",
        "  def imprime(self):\n",
        "    \"\"\"\n",
        "    Imprime los elementos de la lista\n",
        "    \"\"\"\n",
        "    if self.esta_vacia():\n",
        "      print(\"Lista vacía.\")\n",
        "      return\n",
        "    actual = self.inicio\n",
        "    while True:\n",
        "      print(actual.dato, end=\" \")\n",
        "      actual = actual.sig\n",
        "      if actual == self.inicio:\n",
        "        break\n",
        "    print(\"\\n\")"
      ]
    },
    {
      "cell_type": "code",
      "source": [
        "# Ejemplo de uso\n",
        "LC2L = listaCircDobleLigada()\n",
        "LC2L.agregaFinal(1)\n",
        "LC2L.imprime()\n",
        "LC2L.agregaFinal(2)\n",
        "LC2L.imprime()\n",
        "LC2L.agregaFinal(3)\n",
        "LC2L.imprime()\n",
        "LC2L.agregaInicio(0)\n",
        "LC2L.imprime()\n",
        "LC2L.agregaDespuesIdx(2.5, 2)\n",
        "LC2L.imprime()\n",
        "LC2L.elimina(1)\n",
        "LC2L.imprime()"
      ],
      "metadata": {
        "colab": {
          "base_uri": "https://localhost:8080/"
        },
        "id": "Ysh-2_q5NI5t",
        "outputId": "b07cea77-30ff-4fe7-b05f-16f5154fd60f"
      },
      "execution_count": 18,
      "outputs": [
        {
          "output_type": "stream",
          "name": "stdout",
          "text": [
            "1 \n",
            "\n",
            "1 2 \n",
            "\n",
            "1 2 3 \n",
            "\n",
            "0 1 2 3 \n",
            "\n",
            "0 1 2 2.5 3 \n",
            "\n",
            "0 2 2.5 3 \n",
            "\n"
          ]
        }
      ]
    }
  ]
}