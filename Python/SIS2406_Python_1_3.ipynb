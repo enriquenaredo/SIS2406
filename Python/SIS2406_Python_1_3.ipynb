{
  "nbformat": 4,
  "nbformat_minor": 0,
  "metadata": {
    "colab": {
      "provenance": []
    },
    "kernelspec": {
      "name": "python3",
      "display_name": "Python 3"
    },
    "language_info": {
      "name": "python"
    }
  },
  "cells": [
    {
      "cell_type": "markdown",
      "source": [
        "#SIS2406 - Estructura de Datos y Algoritmos\n",
        "## Primavera 2024\n",
        "\n",
        "<div>\n",
        "<img src=\"https://drive.google.com/uc?export=view&id=1_ZAbL21argoGVFRpHidRYf5vOKgdusal\" width=\"250\"/>\n",
        "</div>\n",
        "\n",
        "### SIS2406_Python_1.3\n",
        "\n",
        "**Enrique Naredo García**\n",
        "\n",
        "<font size = 2>\n",
        "©️ Todos los derechos reservados. All rights reserved.\n",
        "\n",
        "*Nota: El presente documento es una herramienta diseñada única y exclusivamente para los estudiantes de la asignatura arriba mencionada. Se recuerda no compartir esta información fuera de los integrantes registrados en este curso. La reproducción total o parcial de este documento requiere autorización por escrito del titular del copyright.*\n",
        "</font>"
      ],
      "metadata": {
        "id": "vT9VmVRYxZD1"
      }
    },
    {
      "cell_type": "markdown",
      "source": [
        "#1.3 Apuntadores"
      ],
      "metadata": {
        "id": "xik9bnSX9kce"
      }
    },
    {
      "cell_type": "markdown",
      "source": [
        "##Dirección de memoria\n",
        "\n",
        "Cada variable que se utiliza en una aplicación ocupa una o varias posiciones de memoria. Estas posiciones de memoria se accesan por medio de una dirección de memoria.\n",
        "\n",
        "En informática, una dirección de memoria [1], es un formato de localización de bytes de memoria con la cual un programa informático o un dispositivo de hardware accede o almacena datos para su posterior utilización.\n",
        "\n",
        "* Una forma común de describir la memoria principal de un ordenador es como una colección de celdas que almacenan datos e instrucciones.\n",
        "\n",
        "* Cada celda está identificada unívocamente por un número o dirección de memoria.\n",
        "\n",
        "* Para poder acceder a una ubicación específica de la memoria, la CPU genera señales en el bus de dirección.\n",
        "\n",
        "* Habitualmente tiene una longitud de 32 bits en la mayoría de máquinas actuales.\n",
        "\n",
        "* Un bus de dirección de 32 bits permite especificar hasta {\\displaystyle 2^{32}}= 4.294.967.296 direcciones de memoria distintas.\n",
        "\n",
        "* Las direcciones de memoria se expresan a menudo en código hexadecimal.\n",
        "\n",
        "* Por ejemplo, para expresar el valor binario 111111010100000000000010101100 se escribe 0x3F5000AC en hexadecimal."
      ],
      "metadata": {
        "id": "nSbXXvxatU4D"
      }
    },
    {
      "cell_type": "markdown",
      "source": [
        "##Ausencia de punteros\n",
        "\n",
        "La ausencia de puntero en Python, se debe a que el uso explícito de punteros es una característica de lenguajes de más bajo nivel como el C.\n",
        "\n",
        "Lenguajes de alto nivel como Python lo evitan con el propósito de hacer más fácil y ágil su utilización, así como no tener que conocer detalles del modelo de datos.\n",
        "\n",
        "* Que el programador de Python no tenga que lidiar con los punteros no quiere decir que el intérprete no haga uso de ellos.\n",
        "\n",
        "* De hecho los usa profusamente de forma implícita.\n",
        "\n",
        "En Python todo es un objeto creado en la memoria dinámica (mantenida automáticamente).\n",
        "\n",
        "* Cuando llamas a una función los argumentos son pasados mediante sus punteros.\n",
        "\n",
        "* Es lo que se conoce como convención de llamada por objeto.\n",
        "\n",
        "* De igual forma si asignas a = b, a lo que guarda es el puntero del objeto de b.\n",
        "\n",
        "* Así que todas las variables son punteros a objetos, que son manejados implícitamente."
      ],
      "metadata": {
        "id": "Ekhyr_shtiSJ"
      }
    },
    {
      "cell_type": "markdown",
      "source": [
        "##Objetos inmutables y mutables\n",
        "\n",
        "Lo que sí hay que diferenciar es entre objetos inmutables y mutables.\n",
        "\n",
        "Inmutables son los números, las cadenas o las tuplas.\n",
        "* Al asignar x = 2015 creará un objeto entero y x apuntará a él pero el contenido de ese objeto no podrá ser modificado.\n",
        "* Si luego asignas x = 2016 lo que hará internamente será crear un nuevo objeto con el nuevo contenido.\n",
        "* Mutables son otros objetos como los diccionarios o las listas.\n",
        "* En este caso dichos objetos sí podrán ser modificados.\n",
        "* Si tienes v = [1] y luego llamas a v.append(2), v seguirá apuntando al mismo objeto, pero su contenido habrá cambiado."
      ],
      "metadata": {
        "id": "QfKZOJ0utpjX"
      }
    },
    {
      "cell_type": "markdown",
      "source": [
        "##Objetos en Python\n",
        "\n",
        "En Python todo es un objeto.\n",
        "\n",
        "* Cada objeto contiene al menos tres datos:\n",
        "\n",
        "  * Recuento de referencias\n",
        "  * Tipo\n",
        "  * Valor\n",
        "\n",
        "El recuento de referencias es para la gestión de la memoria.\n",
        "* Para conocer en profundidad los aspectos internos de la administración de memoria en Python.\n",
        "* El tipo se utiliza en la capa CPython para garantizar la seguridad de tipos durante el tiempo de ejecución.\n",
        "* Finalmente, está el valor, que es el valor real asociado con el objeto.\n",
        "\n",
        "Sin embargo, no todos los objetos son iguales.\n",
        "* Hay otra distinción importante que deberá comprender: objetos inmutables y mutables.\n",
        "* Comprender la diferencia entre los tipos de objetos realmente ayuda a aclarar la primera capa de la cebolla que son los punteros en Python.\n",
        "\n",
        "**Nota:**\n",
        "\n",
        "Información extraida de https://realpython.com/pointers-in-python/\n",
        "\n"
      ],
      "metadata": {
        "id": "NCN5mLbcyTn1"
      }
    },
    {
      "cell_type": "code",
      "source": [
        "## El siguiente código muestra que todo en Python es de hecho un objeto\n",
        "\n",
        "# La función isinstance toma un objeto y una clase como argumentos\n",
        "# y devuelve True si el objeto es una instancia de esa clase o una instancia\n",
        "\n",
        "# valor entero (integer)\n",
        "print(isinstance(1, object))\n",
        "\n",
        "# lista\n",
        "print(isinstance(list(), object))\n",
        "\n",
        "# Booleano\n",
        "print(isinstance(True, object))\n",
        "\n",
        "# función\n",
        "def foo():\n",
        "    pass\n",
        "print(isinstance(foo, object))"
      ],
      "metadata": {
        "colab": {
          "base_uri": "https://localhost:8080/"
        },
        "id": "AoryL75PyX85",
        "outputId": "f261af7f-6fd2-488f-cbf1-148c265ca314"
      },
      "execution_count": 4,
      "outputs": [
        {
          "output_type": "stream",
          "name": "stdout",
          "text": [
            "True\n",
            "True\n",
            "True\n",
            "True\n"
          ]
        }
      ]
    },
    {
      "cell_type": "markdown",
      "source": [
        "###Objetos inmutables vs mutables\n",
        "\n",
        "En Python, existen dos tipos de objetos:\n",
        "\n",
        "* Los objetos **inmutables** no se pueden cambiar.\n",
        "* Los objetos **mutables** se pueden cambiar.\n",
        "\n",
        "Comprender esta diferencia es la primera clave para navegar por el panorama de punteros en Python.\n",
        "\n",
        "Aquí hay un desglose de los tipos comunes y si son mutables o inmutables:\n",
        "\n",
        "\n",
        "| Tipo |\tInmutable? |\n",
        "| :--- | :---------- |\n",
        "| int | \tYes |\n",
        "| float | \tYes |\n",
        "| bool | \tYes |\n",
        "| complex | \tYes |\n",
        "| tuple | \tYes |\n",
        "| frozenset | \tYes |\n",
        "| str | \tYes |\n",
        "| list | \tNo |\n",
        "| set | \tNo |\n",
        "| dict | \tNo |"
      ],
      "metadata": {
        "id": "iPH3mLghwZ8V"
      }
    },
    {
      "cell_type": "markdown",
      "source": [
        "Como puedes ver, muchos tipos primitivos de uso común son inmutables.\n",
        "\n",
        "Puedes probarlo tú mismo escribiendo algo de Python.\n",
        "\n",
        "Necesitarás un par de herramientas de la biblioteca estándar de Python:\n",
        "\n",
        "* `id()` devuelve la dirección de memoria del objeto.\n",
        "* `is` devuelve True si y sólo si dos objetos tienen la misma dirección de memoria."
      ],
      "metadata": {
        "id": "F4Y_TsW5xzsG"
      }
    },
    {
      "cell_type": "code",
      "source": [
        "# `id()` devuelve la dirección de memoria del objeto\n",
        "x = 7\n",
        "id(x)"
      ],
      "metadata": {
        "colab": {
          "base_uri": "https://localhost:8080/"
        },
        "id": "XnYD8mvTyLe9",
        "outputId": "f6626fcf-74e2-420c-cba8-b4b789517a0e"
      },
      "execution_count": 6,
      "outputs": [
        {
          "output_type": "execute_result",
          "data": {
            "text/plain": [
              "136986040844656"
            ]
          },
          "metadata": {},
          "execution_count": 6
        }
      ]
    },
    {
      "cell_type": "markdown",
      "source": [
        "En Python la función id(), regresa un número entero (base decimal) como la dirección de memoria del objeto.\n",
        "\n",
        "En C++ la dirección de memoria usualmente viene dada en hexadecimal."
      ],
      "metadata": {
        "id": "sC2S50JrCP6C"
      }
    },
    {
      "cell_type": "code",
      "source": [
        "# conversión a hexadecimal\n",
        "print(hex(id(x)))"
      ],
      "metadata": {
        "colab": {
          "base_uri": "https://localhost:8080/"
        },
        "id": "rRBiGZurByCn",
        "outputId": "a352533e-7a25-41ca-8b34-a6357dc984f4"
      },
      "execution_count": 41,
      "outputs": [
        {
          "output_type": "stream",
          "name": "stdout",
          "text": [
            "0x7c968c4dca70\n"
          ]
        }
      ]
    },
    {
      "cell_type": "markdown",
      "source": [
        "En el código anterior, ha asignado el valor 7 a x.\n",
        "\n",
        "Si intentas modificar este valor con una suma, obtendrás un nuevo objeto.\n",
        "\n",
        "Aunque el siguiente código parece modificar el valor de x, obtendrás un nuevo objeto como respuesta."
      ],
      "metadata": {
        "id": "kPeNHnb4ypfX"
      }
    },
    {
      "cell_type": "code",
      "source": [
        "# nuevo objeto\n",
        "x += 1\n",
        "print(x)\n",
        "\n",
        "id(x)"
      ],
      "metadata": {
        "colab": {
          "base_uri": "https://localhost:8080/"
        },
        "id": "CDUI4Kcnyo7X",
        "outputId": "486b7494-f608-4d1d-8e47-43671b0f0a94"
      },
      "execution_count": 9,
      "outputs": [
        {
          "output_type": "stream",
          "name": "stdout",
          "text": [
            "8\n"
          ]
        },
        {
          "output_type": "execute_result",
          "data": {
            "text/plain": [
              "136986040844752"
            ]
          },
          "metadata": {},
          "execution_count": 9
        }
      ]
    },
    {
      "cell_type": "markdown",
      "source": [
        "Se puede crear una variable 'z' y asignar un nuevo nombre, digamos 'y'."
      ],
      "metadata": {
        "id": "YIJT-fUx36Io"
      }
    },
    {
      "cell_type": "code",
      "source": [
        "# var z\n",
        "z = 77\n",
        "print(z)\n",
        "id(z)"
      ],
      "metadata": {
        "colab": {
          "base_uri": "https://localhost:8080/"
        },
        "id": "txXqJOwK3h8s",
        "outputId": "b93f4c90-5c2f-481d-f561-446c80894c3e"
      },
      "execution_count": 30,
      "outputs": [
        {
          "output_type": "stream",
          "name": "stdout",
          "text": [
            "77\n"
          ]
        },
        {
          "output_type": "execute_result",
          "data": {
            "text/plain": [
              "136986040846960"
            ]
          },
          "metadata": {},
          "execution_count": 30
        }
      ]
    },
    {
      "cell_type": "markdown",
      "source": [
        "Se puede notar que no se ha creado un nuevo objeto en Python, sino un nuevo nombre que apunta al mismo objeto."
      ],
      "metadata": {
        "id": "1RM6jPdg5Hc3"
      }
    },
    {
      "cell_type": "code",
      "source": [
        "# mismo objeto\n",
        "y = z\n",
        "print(y)\n",
        "id(y)"
      ],
      "metadata": {
        "colab": {
          "base_uri": "https://localhost:8080/"
        },
        "id": "1MUXLgm73pcp",
        "outputId": "c669ac32-7d7e-4383-af0b-c00bf6fbe45f"
      },
      "execution_count": 31,
      "outputs": [
        {
          "output_type": "stream",
          "name": "stdout",
          "text": [
            "77\n"
          ]
        },
        {
          "output_type": "execute_result",
          "data": {
            "text/plain": [
              "136986040846960"
            ]
          },
          "metadata": {},
          "execution_count": 31
        }
      ]
    },
    {
      "cell_type": "code",
      "source": [
        "# verifica sean iguales\n",
        "y is z"
      ],
      "metadata": {
        "colab": {
          "base_uri": "https://localhost:8080/"
        },
        "id": "XN92-GhR4Yu3",
        "outputId": "5c66a285-f14b-40ac-b1ee-75c573560f48"
      },
      "execution_count": 32,
      "outputs": [
        {
          "output_type": "execute_result",
          "data": {
            "text/plain": [
              "True"
            ]
          },
          "metadata": {},
          "execution_count": 32
        }
      ]
    },
    {
      "cell_type": "markdown",
      "source": [
        "Sin embargo, al incrementar 'y' en 1, se puede notar como ahora si se crea un nuevo objeto."
      ],
      "metadata": {
        "id": "pIMfY_fR5a74"
      }
    },
    {
      "cell_type": "code",
      "source": [
        "# nuevo objeto\n",
        "y += 1\n",
        "print(y)\n",
        "id(y)"
      ],
      "metadata": {
        "colab": {
          "base_uri": "https://localhost:8080/"
        },
        "id": "JreRPSdR5bcH",
        "outputId": "e4b7ba73-19fd-4685-dcce-cf8a8c54d5f2"
      },
      "execution_count": 33,
      "outputs": [
        {
          "output_type": "stream",
          "name": "stdout",
          "text": [
            "78\n"
          ]
        },
        {
          "output_type": "execute_result",
          "data": {
            "text/plain": [
              "136986040846992"
            ]
          },
          "metadata": {},
          "execution_count": 33
        }
      ]
    },
    {
      "cell_type": "code",
      "source": [
        "# verifica sean iguales\n",
        "y is z"
      ],
      "metadata": {
        "colab": {
          "base_uri": "https://localhost:8080/"
        },
        "id": "RZ0yvUCt7RX-",
        "outputId": "314b222c-df15-498d-8213-703c1027eb5e"
      },
      "execution_count": 34,
      "outputs": [
        {
          "output_type": "execute_result",
          "data": {
            "text/plain": [
              "False"
            ]
          },
          "metadata": {},
          "execution_count": 34
        }
      ]
    },
    {
      "cell_type": "markdown",
      "source": [
        "**El tipo str también es inmutable**"
      ],
      "metadata": {
        "id": "CFpyySCtzclJ"
      }
    },
    {
      "cell_type": "code",
      "source": [
        "# tipo str\n",
        "s = \"Cancun\"\n",
        "print(s)\n",
        "id(s)"
      ],
      "metadata": {
        "colab": {
          "base_uri": "https://localhost:8080/"
        },
        "id": "WbVn2_GbzYGi",
        "outputId": "d6803ce9-39a8-45c4-b73d-29f728772448"
      },
      "execution_count": 16,
      "outputs": [
        {
          "output_type": "stream",
          "name": "stdout",
          "text": [
            "Cancun\n"
          ]
        },
        {
          "output_type": "execute_result",
          "data": {
            "text/plain": [
              "136985613288944"
            ]
          },
          "metadata": {},
          "execution_count": 16
        }
      ]
    },
    {
      "cell_type": "code",
      "source": [
        "# tipo str\n",
        "s += \"_Tulum\"\n",
        "print(s)\n",
        "id(s)"
      ],
      "metadata": {
        "colab": {
          "base_uri": "https://localhost:8080/"
        },
        "id": "W86ZktrCzuEu",
        "outputId": "d87d8cde-daf1-4670-b7c5-09f888d7ef6d"
      },
      "execution_count": 17,
      "outputs": [
        {
          "output_type": "stream",
          "name": "stdout",
          "text": [
            "Cancun_Tulum\n"
          ]
        },
        {
          "output_type": "execute_result",
          "data": {
            "text/plain": [
              "136985613292912"
            ]
          },
          "metadata": {},
          "execution_count": 17
        }
      ]
    },
    {
      "cell_type": "markdown",
      "source": [
        "El tipo list, si es un objeto mutable."
      ],
      "metadata": {
        "id": "iYECyFNF0QtI"
      }
    },
    {
      "cell_type": "code",
      "source": [
        "# tipo list\n",
        "mi_lista = [1, 2, 3]\n",
        "print(mi_lista)\n",
        "id(mi_lista)"
      ],
      "metadata": {
        "colab": {
          "base_uri": "https://localhost:8080/"
        },
        "id": "V_aqRRaT0Xyc",
        "outputId": "e2ba0962-fae8-4041-c089-558a62e4e9c1"
      },
      "execution_count": 19,
      "outputs": [
        {
          "output_type": "stream",
          "name": "stdout",
          "text": [
            "[1, 2, 3]\n"
          ]
        },
        {
          "output_type": "execute_result",
          "data": {
            "text/plain": [
              "136985628061056"
            ]
          },
          "metadata": {},
          "execution_count": 19
        }
      ]
    },
    {
      "cell_type": "markdown",
      "source": [
        "Observa como si mantiene la misma dirección de memoria."
      ],
      "metadata": {
        "id": "mF1rUEW800Co"
      }
    },
    {
      "cell_type": "code",
      "source": [
        "# tipo list\n",
        "mi_lista.append(4)\n",
        "print(mi_lista)\n",
        "id(mi_lista)"
      ],
      "metadata": {
        "colab": {
          "base_uri": "https://localhost:8080/"
        },
        "id": "UnvQ5ebF0lok",
        "outputId": "c3706225-fd17-4f26-b6f1-3e6beb1d0a52"
      },
      "execution_count": 20,
      "outputs": [
        {
          "output_type": "stream",
          "name": "stdout",
          "text": [
            "[1, 2, 3, 4]\n"
          ]
        },
        {
          "output_type": "execute_result",
          "data": {
            "text/plain": [
              "136985628061056"
            ]
          },
          "metadata": {},
          "execution_count": 20
        }
      ]
    },
    {
      "cell_type": "markdown",
      "source": [
        "Otra forma de demostrar que la lista es mutable es mediante asignación."
      ],
      "metadata": {
        "id": "9NLiUPpA1Cac"
      }
    },
    {
      "cell_type": "code",
      "source": [
        "# tipo list\n",
        "mi_lista[0] = 0\n",
        "print(mi_lista)\n",
        "id(mi_lista)"
      ],
      "metadata": {
        "colab": {
          "base_uri": "https://localhost:8080/"
        },
        "id": "hMgmSja81BBQ",
        "outputId": "3a629445-4313-4457-b9c0-19ddd6388843"
      },
      "execution_count": 21,
      "outputs": [
        {
          "output_type": "stream",
          "name": "stdout",
          "text": [
            "[0, 2, 3, 4]\n"
          ]
        },
        {
          "output_type": "execute_result",
          "data": {
            "text/plain": [
              "136985628061056"
            ]
          },
          "metadata": {},
          "execution_count": 21
        }
      ]
    },
    {
      "cell_type": "markdown",
      "source": [
        "##Simulando punteros en Python\n",
        "\n",
        "El hecho de que los punteros en Python no existan de forma nativa no significa que no pueda obtener los beneficios del uso de punteros.\n",
        "\n",
        "De hecho, existen varias formas de simular punteros en Python.\n",
        "\n",
        "Por ejemplo:\n",
        "* Usar tipos mutables como punteros\n",
        "* Usando objetos Python personalizados"
      ],
      "metadata": {
        "id": "R2TrLuot8qbn"
      }
    },
    {
      "cell_type": "code",
      "source": [
        "# Usar tipos mutables como punteros\n",
        "def suma_uno(x):\n",
        "    x[0] += 1\n",
        "\n",
        "y = [2337]\n",
        "print(y[0])\n",
        "\n",
        "suma_uno(y)\n",
        "print(y[0])"
      ],
      "metadata": {
        "colab": {
          "base_uri": "https://localhost:8080/"
        },
        "id": "JGKCYiYq93Yy",
        "outputId": "ecd7929f-17fe-49a7-f02a-7705d12517d5"
      },
      "execution_count": 38,
      "outputs": [
        {
          "output_type": "stream",
          "name": "stdout",
          "text": [
            "2337\n",
            "2338\n"
          ]
        }
      ]
    },
    {
      "cell_type": "markdown",
      "source": [
        "En resumen, Python no tiene punteros explícitos como C o C++.\n",
        "\n",
        "* Sin embargo, utiliza referencias, que son conceptos comparables.\n",
        "* Python sirve todo como un objeto y las variables sirven como punteros a esos objetos.\n",
        "* Por lo tanto, cada vez que asignas un valor a una variable, significa que estás apuntando a algo en la memoria."
      ],
      "metadata": {
        "id": "qBbG8RRaAcWR"
      }
    }
  ]
}