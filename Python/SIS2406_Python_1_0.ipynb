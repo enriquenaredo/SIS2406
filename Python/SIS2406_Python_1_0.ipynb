{
  "nbformat": 4,
  "nbformat_minor": 0,
  "metadata": {
    "colab": {
      "provenance": []
    },
    "kernelspec": {
      "name": "python3",
      "display_name": "Python 3"
    },
    "language_info": {
      "name": "python"
    }
  },
  "cells": [
    {
      "cell_type": "markdown",
      "source": [
        "#SIS2406 - Estructura de Datos y Algoritmos\n",
        "## Primavera 2024\n",
        "\n",
        "<div>\n",
        "<img src=\"https://drive.google.com/uc?export=view&id=1_ZAbL21argoGVFRpHidRYf5vOKgdusal\" width=\"250\"/>\n",
        "</div>\n",
        "\n",
        "### SIS2406_Python_1.0\n",
        "\n",
        "**Enrique Naredo García**\n",
        "\n",
        "<font size = 2>\n",
        "©️ Todos los derechos reservados. All rights reserved.\n",
        "\n",
        "*Nota: El presente documento es una herramienta diseñada única y exclusivamente para los estudiantes de la asignatura arriba mencionada. Se recuerda no compartir esta información fuera de los integrantes registrados en este curso. La reproducción total o parcial de este documento requiere autorización por escrito del titular del copyright.*\n",
        "</font>"
      ],
      "metadata": {
        "id": "7MvL575AOcrL"
      }
    },
    {
      "cell_type": "markdown",
      "source": [
        "#1.1 Introducción"
      ],
      "metadata": {
        "id": "xcKj65-wOcrN"
      }
    },
    {
      "cell_type": "markdown",
      "source": [
        "En esta práctica se introduce los tipos de datos utilizados en Python.\n",
        "\n",
        "Particularmente, en este Jupyter notebook se utiliza el proceso e instrucciones similares tal como si se estuviera utilizando un entorno de desarrollo integrado (Integrated Development Environment - IDE), como es el caso de Visual Studio Code.\n",
        "\n",
        "En cada sección se da una breve explicación y posteriormente se proporciona un ejemplo en código."
      ],
      "metadata": {
        "id": "FmE7Hwd7OcrO"
      }
    },
    {
      "cell_type": "markdown",
      "source": [
        "**Notas:**\n",
        "\n",
        "* En Python el símbolo #, se utiliza para agregar un comentario (el cual no se ejecuta).\n",
        "* Se recomienda realizar la práctica utilizando el lenguaje de programación correspondiente.\n",
        "* Se recomienda realizar modificaciones al código para verificar y comprender de manera correcta el funcionamiento del mismo."
      ],
      "metadata": {
        "id": "rYrQIHy_OcrP"
      }
    },
    {
      "cell_type": "markdown",
      "source": [
        "## Python\n",
        "\n",
        "Python es un lenguaje interpretado, lo cual quiere decir que no se compila.\n",
        "\n",
        "* Python ejecuta directamente el código línea por línea.\n",
        "* Si existen errores en el código del programa, su ejecución se detiene.\n",
        "\n"
      ],
      "metadata": {
        "id": "k6f36WymOcrQ"
      }
    },
    {
      "cell_type": "markdown",
      "source": [
        "Un programa de Python es un archivo de texto plano con la extensión .py (o .pyw).\n",
        "\n",
        "Se puede crear un programa de Python con cualquier editor de texto plano, pero se recomienda utilizar editores de programación que incluyen herramientas que facilitan la escritura de programas, como Visual Studio Code."
      ],
      "metadata": {
        "id": "s7JYIPOpOcrR"
      }
    },
    {
      "cell_type": "markdown",
      "source": [
        "Python proporciona funciones integradas para crear, escribir y leer archivos.\n",
        "\n",
        "Hay dos tipos de archivos que se pueden manejar en Python, archivos de texto normales y archivos binarios (escritos en lenguaje binario, 0 y 1).\n",
        "\n",
        "* Archivos de texto: en este tipo de archivo, cada línea de texto termina con un carácter especial llamado EOL (Fin de línea), que es el carácter de nueva línea ('\\n') en Python de forma predeterminada.\n",
        "\n",
        "* Archivos binarios: en este tipo de archivos, no hay terminador para una línea y los datos se almacenan después de convertirlos a un lenguaje binario comprensible por máquina."
      ],
      "metadata": {
        "id": "zZDBCrXpOcrR"
      }
    },
    {
      "cell_type": "markdown",
      "source": [
        "###Funciones mágicas\n",
        "\n",
        "Tanto Jupyter como IPython tienen un conjunto de funciones predefinidas llamadas mágicas que representa una de las mejoras más importantes que aporta en relación al intérprete de Python por defecto (solo en el ámbito del IPython funcionan).\n",
        "\n",
        "Hay dos tipos de funciones mágicas:\n",
        "\n",
        "* Orientadas a líneas, llevan por delante un signo: %, trabajan en una sola línea.\n",
        "\n",
        "* Orientadas a celdas, llevan por delante dos signos: %%, trabajan en varias líneas.\n"
      ],
      "metadata": {
        "id": "7PZE0dZAOcrS"
      }
    },
    {
      "cell_type": "markdown",
      "source": [
        "%%writefile le permite enviar código desarrollado en un Notebook a un módulo de Python.\n",
        "\n",
        "La biblioteca sys conecta un programa Python al sistema en el que se ejecuta."
      ],
      "metadata": {
        "id": "KRrWj3WZOcrS"
      }
    },
    {
      "cell_type": "markdown",
      "source": [
        "###Proceso\n",
        "\n",
        "1. Escribir el código en texto en un archivo con extensión: ejemplo.py\n",
        "2. Guardar el archivo ejemplo.py en un folder\n",
        "3. Ejecutarlo con la instrucción python ejemplo.py\n",
        "\n",
        "**Notas:**\n",
        "\n",
        "* En Jupyter notebook se utilizan funciones mágicas como %%writefile\n",
        "* En Jupyter notebook para ejecutar instrucciones del sistema se agrega antes el simbolo: !. Por ejemplo: ! python ejemplo.py\n",
        "* En Google Colab si el archivo se guarda en el directorio: /content, entonces al momento de cerrar la sesión este archivo desaparecera.\n",
        "* Si se requiere mantener los archivos, entonces se recomienda montar primero el Google drive y crear un directorio para tal fin.\n",
        "\n",
        "\n",
        "\n"
      ],
      "metadata": {
        "id": "pI21J8sXOcrS"
      }
    },
    {
      "cell_type": "markdown",
      "source": [
        "##Hola Mundo\n",
        "\n",
        "Se crea un primer programa en Python."
      ],
      "metadata": {
        "id": "SNWrQvfhOcrT"
      }
    },
    {
      "cell_type": "code",
      "execution_count": null,
      "metadata": {
        "colab": {
          "base_uri": "https://localhost:8080/"
        },
        "outputId": "0779d4e4-c9f8-4810-ad7f-1102079a9362",
        "id": "6QZwdrKpOcrT"
      },
      "outputs": [
        {
          "output_type": "stream",
          "name": "stdout",
          "text": [
            "Writing HolaMundo.py\n"
          ]
        }
      ],
      "source": [
        "# Escribe el programa HolaMundo.py\n",
        "%%writefile HolaMundo.py\n",
        "\n",
        "## este es el código del programa en Python\n",
        "print(\"Hola Mundo\")"
      ]
    },
    {
      "cell_type": "code",
      "source": [
        "# Ejecuta el programa HolaMundo.py\n",
        "! python HolaMundo.py"
      ],
      "metadata": {
        "colab": {
          "base_uri": "https://localhost:8080/"
        },
        "outputId": "616e28d1-8f1f-42ec-c840-b98cce79577c",
        "id": "KOSY5MSMOcrU"
      },
      "execution_count": null,
      "outputs": [
        {
          "output_type": "stream",
          "name": "stdout",
          "text": [
            "Hola Mundo\n"
          ]
        }
      ]
    },
    {
      "cell_type": "markdown",
      "source": [
        "##Ejemplo\n",
        "\n",
        "Progama un poco más extenso ejemplificando los tipos de variables que definen datos en Python."
      ],
      "metadata": {
        "id": "ZHg6Lqy3OcrV"
      }
    },
    {
      "cell_type": "code",
      "source": [
        "# Escribe un programa más largo: Introduccion.py\n",
        "%%writefile Introduccion.py\n",
        "\n",
        "# Ejemplo de entero (int)\n",
        "numero_entero = 7  # asignamos el valor 7 al entero \"numero_entero\"\n",
        "print(numero_entero)\n",
        "\n",
        "# Ejemplo de float\n",
        "numero_real = 2.5  # asignamos el valor 2.5 al float \"numero_real\"\n",
        "print(numero_real)\n",
        "\n",
        "# Ejemplo de string\n",
        "cadena = \"Hola, mundo!\"  # asignamos la cadena \"Hola, mundo!\" a la variable \"cadena\"\n",
        "\n",
        "# Ejemplo de booleano\n",
        "verdadero_falso = True  # asignamos el valor True al booleano \"verdadero_falso\"\n",
        "print(verdadero_falso)\n",
        "\n",
        "# Ejemplo de lista\n",
        "lista = [3, \"manzana\", 4.5, True]  # asignamos una lista de diferentes tipos de datos a la variable \"lista\"\n",
        "print(lista)\n",
        "\n",
        "# Ejemplo de tupla\n",
        "tupla = (1, \"perro\", 3.14)  # asignamos una tupla de diferentes tipos de datos a la variable \"tupla\"\n",
        "print(tupla)\n",
        "\n",
        "# Ejemplo de conjunto (set)\n",
        "conjunto = {1, 2, 3, 3, 3, 4, 4, 5}  # asignamos un set con valores únicos a la variable \"conjunto\"\n",
        "print(conjunto)\n",
        "\n",
        "# Ejemplo de diccionario\n",
        "diccionario = {\"nombre\": \"Juan\", \"edad\": 30, \"ciudad\": \"Cancun\"}  # asignamos un diccionario con claves y valores a la variable \"diccionario\"\n",
        "print(diccionario)\n",
        "\n"
      ],
      "metadata": {
        "colab": {
          "base_uri": "https://localhost:8080/"
        },
        "outputId": "483dd604-b395-4e9e-cb45-3de9d817a591",
        "id": "QqzDZMzBOcrV"
      },
      "execution_count": null,
      "outputs": [
        {
          "output_type": "stream",
          "name": "stdout",
          "text": [
            "Overwriting Introduccion.py\n"
          ]
        }
      ]
    },
    {
      "cell_type": "code",
      "source": [
        "# Ejecuta el programa Introduccion.py\n",
        "! python Introduccion.py"
      ],
      "metadata": {
        "colab": {
          "base_uri": "https://localhost:8080/"
        },
        "outputId": "4b4ecfe2-de69-4b7a-8fdb-43338ce19ba1",
        "id": "HXHomaWkOcrW"
      },
      "execution_count": null,
      "outputs": [
        {
          "output_type": "stream",
          "name": "stdout",
          "text": [
            "7\n",
            "2.5\n",
            "True\n",
            "[3, 'manzana', 4.5, True]\n",
            "(1, 'perro', 3.14)\n",
            "{1, 2, 3, 4, 5}\n",
            "{'nombre': 'Juan', 'edad': 30, 'ciudad': 'Cancun'}\n"
          ]
        }
      ]
    }
  ]
}
