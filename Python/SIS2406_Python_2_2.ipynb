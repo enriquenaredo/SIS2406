{
  "nbformat": 4,
  "nbformat_minor": 0,
  "metadata": {
    "colab": {
      "provenance": []
    },
    "kernelspec": {
      "name": "python3",
      "display_name": "Python 3"
    },
    "language_info": {
      "name": "python"
    }
  },
  "cells": [
    {
      "cell_type": "markdown",
      "source": [
        "#SIS2406 - Estructura de Datos y Algoritmos\n",
        "## Primavera 2024\n",
        "\n",
        "<div>\n",
        "<img src=\"https://drive.google.com/uc?export=view&id=1_ZAbL21argoGVFRpHidRYf5vOKgdusal\" width=\"250\"/>\n",
        "</div>\n",
        "\n",
        "### SIS2406_Python_2.2\n",
        "\n",
        "**Enrique Naredo García**\n",
        "\n",
        "<font size = 2>\n",
        "©️ Todos los derechos reservados. All rights reserved.\n",
        "\n",
        "*Nota: El presente documento es una herramienta diseñada única y exclusivamente para los estudiantes de la asignatura arriba mencionada. Se recuerda no compartir esta información fuera de los integrantes registrados en este curso. La reproducción total o parcial de este documento requiere autorización por escrito del titular del copyright.*\n",
        "</font>"
      ],
      "metadata": {
        "id": "ZZ6_YNpbfd4o"
      }
    },
    {
      "cell_type": "markdown",
      "source": [
        "#2.2 Listas circulares"
      ],
      "metadata": {
        "id": "1F4oAyeFgQ84"
      }
    },
    {
      "cell_type": "markdown",
      "source": [
        "<div>\n",
        "<img src=\"https://drive.google.com/uc?export=view&id=1YlzCKSj4vJUdO4ywJZw94QTgG6HVCkx4\" width=\"450\"/>\n",
        "</div>\n"
      ],
      "metadata": {
        "id": "4_tj5gjNhdq4"
      }
    },
    {
      "cell_type": "markdown",
      "source": [
        "##Introducción\n",
        "\n",
        "Una lista circular es una lista lineal en la que el último nodo apunta al primero.\n",
        "\n",
        "* Las listas circulares evitan excepciones en la operaciones que se realicen sobre ellas.\n",
        "* No existen casos especiales, cada nodo siempre tiene uno anterior y uno siguiente.\n",
        "* En algunas listas circulares se añade un nodo especial de cabecera, de ese modo se evita la única excepción posible, la de que la lista esté vacía.\n",
        "\n",
        "* En el caso de las circulares, apuntará a un nodo cualquiera de la lista.\n",
        "\n"
      ],
      "metadata": {
        "id": "5jDVEeq5hT99"
      }
    },
    {
      "cell_type": "markdown",
      "source": [
        "###Lista circular\n",
        "\n",
        "A pesar de que las listas circulares simplifiquen las operaciones sobre ellas, también introducen algunas complicaciones.\n",
        "\n",
        "* Por ejemplo, en un proceso de búsqueda, no es tan sencillo dar por terminada la búsqueda cuando el elemento buscado no existe.\n",
        "* Por ese motivo se suele resaltar un nodo en particular, que no tiene por qué ser siempre el mismo.\n",
        "\n",
        "* Cualquier nodo puede cumplir ese propósito, y puede variar durante la ejecución del programa.\n",
        "\n",
        "* Otra alternativa que se usa a menudo, y que simplifica en cierto modo el uso de listas circulares es crear un nodo especial de hará la función de nodo cabecera.\n",
        "\n",
        "* De este modo, la lista nunca estará vacía, y se eliminan casi todos los casos especiales."
      ],
      "metadata": {
        "id": "J-55uRPiok9H"
      }
    },
    {
      "cell_type": "markdown",
      "source": [
        "En términos de implementación, las listas enlazadas circulares son muy similares a las listas enlazadas individualmente.\n",
        "\n",
        "* La única diferencia es que puedes definir el punto de partida cuando recorre la lista.\n",
        "\n",
        "* Una de las ventajas de las listas enlazadas circulares es que puede recorrer toda la lista comenzando en cualquier nodo.\n",
        "\n",
        "* Dado que el último nodo apunta al encabezado de la lista, debe asegurarse de dejar de atravesar cuando llegue al punto de partida.\n",
        "\n",
        "* De lo contrario, terminarás en un bucle infinito."
      ],
      "metadata": {
        "id": "Lc0eINxZqPaS"
      }
    },
    {
      "cell_type": "markdown",
      "source": [
        "## Clase Nodo"
      ],
      "metadata": {
        "id": "oozAZl8T7ULt"
      }
    },
    {
      "cell_type": "code",
      "source": [
        "# Clase Nodo\n",
        "class Nodon:\n",
        "  # constructor (inicializa)\n",
        "  def __init__(self, dato):\n",
        "    # atributos propios del objeto\n",
        "    self.dato = dato\n",
        "    self.sucesor = None"
      ],
      "metadata": {
        "id": "lfxOilds5pvU"
      },
      "execution_count": null,
      "outputs": []
    },
    {
      "cell_type": "markdown",
      "source": [
        "## Lista Circular"
      ],
      "metadata": {
        "id": "PJ_ZjlCQ7Xix"
      }
    },
    {
      "cell_type": "code",
      "source": [
        "# Clase para la lista circular con métodos\n",
        "class listaCircular:\n",
        "\n",
        "  # constructor (inicializa)\n",
        "  def __init__(self):\n",
        "    # atributo 'inicio' de la lista\n",
        "    self.inicio = inicio = None\n",
        "\n",
        "\n",
        "  # Agrega nodos en la lista\n",
        "  def agrega(self, dato):\n",
        "    # Crea un nodo nuevo\n",
        "    nodo_nuevo = Nodon(dato)\n",
        "\n",
        "    # Si la lista esta vacia, entonces\n",
        "    # asigna el nodo nuevo como el inicio\n",
        "    if not self.inicio:\n",
        "      self.inicio = nodo_nuevo\n",
        "      self.inicio.sucesor = self.inicio\n",
        "    # en caso contrario busca el final\n",
        "    else:\n",
        "      actual = self.inicio\n",
        "      # Recorre la lista para encontrar el final\n",
        "      while actual.sucesor != self.inicio:\n",
        "        actual = actual.sucesor\n",
        "      # asigna como siguiente del último al nuevo nodo\n",
        "      actual.sucesor = nodo_nuevo\n",
        "      # asigna como siguiente del nuevo nodo el inicio\n",
        "      # haciendolo circular de esta manera\n",
        "      nodo_nuevo.sucesor = self.inicio\n",
        "\n",
        "\n",
        "\n",
        "  # Elimina nodo de la lista\n",
        "  def eliminaNodo(self, dato):\n",
        "    # si la lista no esta vacia\n",
        "    if self.inicio:\n",
        "      # verifica que el dato por eliminar SI esta en el inicio\n",
        "      if self.inicio.dato == dato:\n",
        "        # en este caso lo asigna temporalmente a otro nodo\n",
        "        nodo_actual = self.inicio\n",
        "        # y recorre la lista hasta regresar al inicio\n",
        "        while nodo_actual.sucesor != self.inicio:\n",
        "          # además asigna el siguiente al nodo actual\n",
        "          # de esta forma se ha reorganizado la lista\n",
        "          nodo_actual = nodo_actual.sucesor\n",
        "        # verifica que el inicio y el siguiente sean iguales\n",
        "        # para poder eliminarlo (seguramente solo es un nodo en la lista)\n",
        "        if self.inicio == self.inicio.sucesor:\n",
        "          # entonces, asigna al inicio None para eliminarlo\n",
        "          # es decir lo separa de la lista\n",
        "          self.inicio = None\n",
        "        # en caso de que el inicio y el siguiente NO sean iguales\n",
        "        else:\n",
        "          # entonces, al actual le asigna como siguiente el inicio\n",
        "          nodo_actual.sucesor = self.inicio.sucesor\n",
        "          self.inicio = self.inicio.sucesor\n",
        "      # en caso de que el dato por eliminar NO esta en el inicio\n",
        "      else:\n",
        "        # en este caso lo asigna temporalmente a otro nodo\n",
        "        nodo_actual = self.inicio\n",
        "        # asigna al nodo_anterior None para eliminarlo\n",
        "        nodo_anterior = None\n",
        "        # y recorre la lista hasta regresar al inicio\n",
        "        while nodo_actual.sucesor != self.inicio:\n",
        "          nodo_anterior = nodo_actual\n",
        "          nodo_actual = nodo_actual.sucesor\n",
        "          if nodo_actual.dato == dato:\n",
        "            nodo_anterior.sucesor = nodo_actual.sucesor\n",
        "            nodo_actual = nodo_actual.sucesor\n",
        "          else:\n",
        "            print(\"El nodo por eliminar no se encuentra en la lista!!!\")\n",
        "\n",
        "\n",
        "  # Imprime la lista circular\n",
        "  def imprimeLC(self):\n",
        "    # imprime mensaje inicial\n",
        "    print(\"Elementos de la lista circular:\")\n",
        "    # si la lista esta vacía\n",
        "    if not self.inicio:\n",
        "      print(\"La lista esta vacía.\")\n",
        "    else:\n",
        "      actual = self.inicio\n",
        "      # recorre e imprime cada elemento desde el inicio\n",
        "      # hasta que encuentre el inicio nuevamente\n",
        "      while True:\n",
        "        print(actual.dato, end=\" => \")\n",
        "        actual = actual.sucesor\n",
        "        # termina si encontramos el inicio de nuevo\n",
        "        if actual == self.inicio:\n",
        "          # esta impresión se pudiera eliminar\n",
        "          print(\"Inicio(\", actual.dato,\")\")\n",
        "          break\n",
        "      # agrega una línea vacía\n",
        "      print()\n",
        "\n"
      ],
      "metadata": {
        "id": "AGKG_nye7RqV"
      },
      "execution_count": 87,
      "outputs": []
    },
    {
      "cell_type": "code",
      "source": [
        "# Crea una lista circular\n",
        "LC = listaCircular()\n",
        "\n",
        "# agrega algunos nodos\n",
        "LC.agrega(10)\n",
        "LC.agrega(20)\n",
        "LC.agrega(30)\n",
        "\n",
        "# imprime la lista\n",
        "LC.imprimeLC()"
      ],
      "metadata": {
        "colab": {
          "base_uri": "https://localhost:8080/"
        },
        "id": "Knr-Sjhc7hXw",
        "outputId": "a52e5243-71eb-4381-ec49-007e0d167dcd"
      },
      "execution_count": 88,
      "outputs": [
        {
          "output_type": "stream",
          "name": "stdout",
          "text": [
            "Elementos de la lista circular:\n",
            "10 => 20 => 30 => Inicio( 10 )\n",
            "\n"
          ]
        }
      ]
    },
    {
      "cell_type": "code",
      "source": [
        "# elimina un nodo\n",
        "LC.eliminaNodo(10)\n",
        "# imprime la lista\n",
        "LC.imprimeLC()"
      ],
      "metadata": {
        "colab": {
          "base_uri": "https://localhost:8080/"
        },
        "id": "7q7fsv0VpNBE",
        "outputId": "99b8170a-e507-4fe2-a165-e543c1b10f2f"
      },
      "execution_count": 89,
      "outputs": [
        {
          "output_type": "stream",
          "name": "stdout",
          "text": [
            "Elementos de la lista circular:\n",
            "20 => 30 => Inicio( 20 )\n",
            "\n"
          ]
        }
      ]
    },
    {
      "cell_type": "code",
      "source": [
        "# elimina un nodo\n",
        "LC.eliminaNodo(40)\n",
        "# imprime la lista\n",
        "LC.imprimeLC()"
      ],
      "metadata": {
        "colab": {
          "base_uri": "https://localhost:8080/"
        },
        "id": "ZZLmzvfMIsTW",
        "outputId": "39a64f5b-88ab-4b96-bdfe-245c5cf70011"
      },
      "execution_count": 90,
      "outputs": [
        {
          "output_type": "stream",
          "name": "stdout",
          "text": [
            "El nodo por eliminar no se encuentra en la lista!!!\n",
            "Elementos de la lista circular:\n",
            "20 => 30 => Inicio( 20 )\n",
            "\n"
          ]
        }
      ]
    }
  ]
}